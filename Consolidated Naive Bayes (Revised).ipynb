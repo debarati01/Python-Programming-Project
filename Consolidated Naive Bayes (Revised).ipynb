{
 "cells": [
  {
   "cell_type": "code",
   "execution_count": 1,
   "metadata": {},
   "outputs": [],
   "source": [
    "# Import relevant libraries\n",
    "\n",
    "import pandas as pd\n",
    "import matplotlib.pyplot as plt\n",
    "import seaborn as sns\n",
    "import numpy as np\n",
    "import sklearn\n"
   ]
  },
  {
   "cell_type": "code",
   "execution_count": 2,
   "metadata": {},
   "outputs": [
    {
     "name": "stdout",
     "output_type": "stream",
     "text": [
      "   age          job  marital  education default  balance housing loan  \\\n",
      "0   30   unemployed  married    primary      no     1787      no   no   \n",
      "1   33     services  married  secondary      no     4789     yes  yes   \n",
      "2   35   management   single   tertiary      no     1350     yes   no   \n",
      "3   30   management  married   tertiary      no     1476     yes  yes   \n",
      "4   59  blue-collar  married  secondary      no        0     yes   no   \n",
      "\n",
      "    contact  day month  duration  campaign  pdays  previous poutcome   y  \n",
      "0  cellular   19   oct        79         1     -1         0  unknown  no  \n",
      "1  cellular   11   may       220         1    339         4  failure  no  \n",
      "2  cellular   16   apr       185         1    330         1  failure  no  \n",
      "3   unknown    3   jun       199         4     -1         0  unknown  no  \n",
      "4   unknown    5   may       226         1     -1         0  unknown  no  \n"
     ]
    }
   ],
   "source": [
    "# Read in the bank.csv file\n",
    "\n",
    "bank = pd.read_csv(\"bank.csv\")\n",
    "\n",
    "# Display the first 5 rows\n",
    "\n",
    "print(bank.head())\n"
   ]
  },
  {
   "cell_type": "code",
   "execution_count": 3,
   "metadata": {},
   "outputs": [
    {
     "name": "stdout",
     "output_type": "stream",
     "text": [
      "<class 'pandas.core.frame.DataFrame'>\n",
      "RangeIndex: 4521 entries, 0 to 4520\n",
      "Data columns (total 17 columns):\n",
      " #   Column     Non-Null Count  Dtype \n",
      "---  ------     --------------  ----- \n",
      " 0   age        4521 non-null   int64 \n",
      " 1   job        4521 non-null   object\n",
      " 2   marital    4521 non-null   object\n",
      " 3   education  4521 non-null   object\n",
      " 4   default    4521 non-null   object\n",
      " 5   balance    4521 non-null   int64 \n",
      " 6   housing    4521 non-null   object\n",
      " 7   loan       4521 non-null   object\n",
      " 8   contact    4521 non-null   object\n",
      " 9   day        4521 non-null   int64 \n",
      " 10  month      4521 non-null   object\n",
      " 11  duration   4521 non-null   int64 \n",
      " 12  campaign   4521 non-null   int64 \n",
      " 13  pdays      4521 non-null   int64 \n",
      " 14  previous   4521 non-null   int64 \n",
      " 15  poutcome   4521 non-null   object\n",
      " 16  y          4521 non-null   object\n",
      "dtypes: int64(7), object(10)\n",
      "memory usage: 600.6+ KB\n"
     ]
    }
   ],
   "source": [
    "# Explorating the data\n",
    "\n",
    "bank.info()\n"
   ]
  },
  {
   "cell_type": "code",
   "execution_count": 4,
   "metadata": {
    "scrolled": true
   },
   "outputs": [
    {
     "data": {
      "text/html": [
       "<div>\n",
       "<style scoped>\n",
       "    .dataframe tbody tr th:only-of-type {\n",
       "        vertical-align: middle;\n",
       "    }\n",
       "\n",
       "    .dataframe tbody tr th {\n",
       "        vertical-align: top;\n",
       "    }\n",
       "\n",
       "    .dataframe thead th {\n",
       "        text-align: right;\n",
       "    }\n",
       "</style>\n",
       "<table border=\"1\" class=\"dataframe\">\n",
       "  <thead>\n",
       "    <tr style=\"text-align: right;\">\n",
       "      <th></th>\n",
       "      <th>age</th>\n",
       "      <th>balance</th>\n",
       "      <th>day</th>\n",
       "      <th>duration</th>\n",
       "      <th>campaign</th>\n",
       "      <th>pdays</th>\n",
       "      <th>previous</th>\n",
       "    </tr>\n",
       "  </thead>\n",
       "  <tbody>\n",
       "    <tr>\n",
       "      <th>count</th>\n",
       "      <td>4521.000000</td>\n",
       "      <td>4521.000000</td>\n",
       "      <td>4521.000000</td>\n",
       "      <td>4521.000000</td>\n",
       "      <td>4521.000000</td>\n",
       "      <td>4521.000000</td>\n",
       "      <td>4521.000000</td>\n",
       "    </tr>\n",
       "    <tr>\n",
       "      <th>mean</th>\n",
       "      <td>41.170095</td>\n",
       "      <td>1422.657819</td>\n",
       "      <td>15.915284</td>\n",
       "      <td>263.961292</td>\n",
       "      <td>2.793630</td>\n",
       "      <td>39.766645</td>\n",
       "      <td>0.542579</td>\n",
       "    </tr>\n",
       "    <tr>\n",
       "      <th>std</th>\n",
       "      <td>10.576211</td>\n",
       "      <td>3009.638142</td>\n",
       "      <td>8.247667</td>\n",
       "      <td>259.856633</td>\n",
       "      <td>3.109807</td>\n",
       "      <td>100.121124</td>\n",
       "      <td>1.693562</td>\n",
       "    </tr>\n",
       "    <tr>\n",
       "      <th>min</th>\n",
       "      <td>19.000000</td>\n",
       "      <td>-3313.000000</td>\n",
       "      <td>1.000000</td>\n",
       "      <td>4.000000</td>\n",
       "      <td>1.000000</td>\n",
       "      <td>-1.000000</td>\n",
       "      <td>0.000000</td>\n",
       "    </tr>\n",
       "    <tr>\n",
       "      <th>25%</th>\n",
       "      <td>33.000000</td>\n",
       "      <td>69.000000</td>\n",
       "      <td>9.000000</td>\n",
       "      <td>104.000000</td>\n",
       "      <td>1.000000</td>\n",
       "      <td>-1.000000</td>\n",
       "      <td>0.000000</td>\n",
       "    </tr>\n",
       "    <tr>\n",
       "      <th>50%</th>\n",
       "      <td>39.000000</td>\n",
       "      <td>444.000000</td>\n",
       "      <td>16.000000</td>\n",
       "      <td>185.000000</td>\n",
       "      <td>2.000000</td>\n",
       "      <td>-1.000000</td>\n",
       "      <td>0.000000</td>\n",
       "    </tr>\n",
       "    <tr>\n",
       "      <th>75%</th>\n",
       "      <td>49.000000</td>\n",
       "      <td>1480.000000</td>\n",
       "      <td>21.000000</td>\n",
       "      <td>329.000000</td>\n",
       "      <td>3.000000</td>\n",
       "      <td>-1.000000</td>\n",
       "      <td>0.000000</td>\n",
       "    </tr>\n",
       "    <tr>\n",
       "      <th>max</th>\n",
       "      <td>87.000000</td>\n",
       "      <td>71188.000000</td>\n",
       "      <td>31.000000</td>\n",
       "      <td>3025.000000</td>\n",
       "      <td>50.000000</td>\n",
       "      <td>871.000000</td>\n",
       "      <td>25.000000</td>\n",
       "    </tr>\n",
       "  </tbody>\n",
       "</table>\n",
       "</div>"
      ],
      "text/plain": [
       "               age       balance          day     duration     campaign  \\\n",
       "count  4521.000000   4521.000000  4521.000000  4521.000000  4521.000000   \n",
       "mean     41.170095   1422.657819    15.915284   263.961292     2.793630   \n",
       "std      10.576211   3009.638142     8.247667   259.856633     3.109807   \n",
       "min      19.000000  -3313.000000     1.000000     4.000000     1.000000   \n",
       "25%      33.000000     69.000000     9.000000   104.000000     1.000000   \n",
       "50%      39.000000    444.000000    16.000000   185.000000     2.000000   \n",
       "75%      49.000000   1480.000000    21.000000   329.000000     3.000000   \n",
       "max      87.000000  71188.000000    31.000000  3025.000000    50.000000   \n",
       "\n",
       "             pdays     previous  \n",
       "count  4521.000000  4521.000000  \n",
       "mean     39.766645     0.542579  \n",
       "std     100.121124     1.693562  \n",
       "min      -1.000000     0.000000  \n",
       "25%      -1.000000     0.000000  \n",
       "50%      -1.000000     0.000000  \n",
       "75%      -1.000000     0.000000  \n",
       "max     871.000000    25.000000  "
      ]
     },
     "execution_count": 4,
     "metadata": {},
     "output_type": "execute_result"
    }
   ],
   "source": [
    "# Checking the stats distribution for numeric variables\n",
    "\n",
    "bank[['age', 'balance', 'day', 'duration', 'campaign', 'pdays', 'previous']].describe()\n"
   ]
  },
  {
   "cell_type": "code",
   "execution_count": 5,
   "metadata": {},
   "outputs": [
    {
     "data": {
      "text/html": [
       "<div>\n",
       "<style scoped>\n",
       "    .dataframe tbody tr th:only-of-type {\n",
       "        vertical-align: middle;\n",
       "    }\n",
       "\n",
       "    .dataframe tbody tr th {\n",
       "        vertical-align: top;\n",
       "    }\n",
       "\n",
       "    .dataframe thead th {\n",
       "        text-align: right;\n",
       "    }\n",
       "</style>\n",
       "<table border=\"1\" class=\"dataframe\">\n",
       "  <thead>\n",
       "    <tr style=\"text-align: right;\">\n",
       "      <th></th>\n",
       "      <th>age</th>\n",
       "      <th>job</th>\n",
       "      <th>marital</th>\n",
       "      <th>education</th>\n",
       "      <th>default</th>\n",
       "      <th>balance</th>\n",
       "      <th>housing</th>\n",
       "      <th>loan</th>\n",
       "      <th>contact</th>\n",
       "      <th>day</th>\n",
       "      <th>month</th>\n",
       "      <th>duration</th>\n",
       "      <th>campaign</th>\n",
       "      <th>pdays</th>\n",
       "      <th>previous</th>\n",
       "      <th>poutcome</th>\n",
       "      <th>y</th>\n",
       "      <th>agebin</th>\n",
       "      <th>balancebin</th>\n",
       "    </tr>\n",
       "  </thead>\n",
       "  <tbody>\n",
       "    <tr>\n",
       "      <th>0</th>\n",
       "      <td>30</td>\n",
       "      <td>unemployed</td>\n",
       "      <td>married</td>\n",
       "      <td>primary</td>\n",
       "      <td>no</td>\n",
       "      <td>1787</td>\n",
       "      <td>no</td>\n",
       "      <td>no</td>\n",
       "      <td>cellular</td>\n",
       "      <td>19</td>\n",
       "      <td>oct</td>\n",
       "      <td>79</td>\n",
       "      <td>1</td>\n",
       "      <td>-1</td>\n",
       "      <td>0</td>\n",
       "      <td>unknown</td>\n",
       "      <td>no</td>\n",
       "      <td>1. Young</td>\n",
       "      <td>4. Good</td>\n",
       "    </tr>\n",
       "    <tr>\n",
       "      <th>1</th>\n",
       "      <td>33</td>\n",
       "      <td>services</td>\n",
       "      <td>married</td>\n",
       "      <td>secondary</td>\n",
       "      <td>no</td>\n",
       "      <td>4789</td>\n",
       "      <td>yes</td>\n",
       "      <td>yes</td>\n",
       "      <td>cellular</td>\n",
       "      <td>11</td>\n",
       "      <td>may</td>\n",
       "      <td>220</td>\n",
       "      <td>1</td>\n",
       "      <td>339</td>\n",
       "      <td>4</td>\n",
       "      <td>failure</td>\n",
       "      <td>no</td>\n",
       "      <td>1. Young</td>\n",
       "      <td>4. Good</td>\n",
       "    </tr>\n",
       "    <tr>\n",
       "      <th>2</th>\n",
       "      <td>35</td>\n",
       "      <td>management</td>\n",
       "      <td>single</td>\n",
       "      <td>tertiary</td>\n",
       "      <td>no</td>\n",
       "      <td>1350</td>\n",
       "      <td>yes</td>\n",
       "      <td>no</td>\n",
       "      <td>cellular</td>\n",
       "      <td>16</td>\n",
       "      <td>apr</td>\n",
       "      <td>185</td>\n",
       "      <td>1</td>\n",
       "      <td>330</td>\n",
       "      <td>1</td>\n",
       "      <td>failure</td>\n",
       "      <td>no</td>\n",
       "      <td>2. Adult</td>\n",
       "      <td>3. Average</td>\n",
       "    </tr>\n",
       "    <tr>\n",
       "      <th>3</th>\n",
       "      <td>30</td>\n",
       "      <td>management</td>\n",
       "      <td>married</td>\n",
       "      <td>tertiary</td>\n",
       "      <td>no</td>\n",
       "      <td>1476</td>\n",
       "      <td>yes</td>\n",
       "      <td>yes</td>\n",
       "      <td>unknown</td>\n",
       "      <td>3</td>\n",
       "      <td>jun</td>\n",
       "      <td>199</td>\n",
       "      <td>4</td>\n",
       "      <td>-1</td>\n",
       "      <td>0</td>\n",
       "      <td>unknown</td>\n",
       "      <td>no</td>\n",
       "      <td>1. Young</td>\n",
       "      <td>3. Average</td>\n",
       "    </tr>\n",
       "    <tr>\n",
       "      <th>4</th>\n",
       "      <td>59</td>\n",
       "      <td>blue-collar</td>\n",
       "      <td>married</td>\n",
       "      <td>secondary</td>\n",
       "      <td>no</td>\n",
       "      <td>0</td>\n",
       "      <td>yes</td>\n",
       "      <td>no</td>\n",
       "      <td>unknown</td>\n",
       "      <td>5</td>\n",
       "      <td>may</td>\n",
       "      <td>226</td>\n",
       "      <td>1</td>\n",
       "      <td>-1</td>\n",
       "      <td>0</td>\n",
       "      <td>unknown</td>\n",
       "      <td>no</td>\n",
       "      <td>4. Old</td>\n",
       "      <td>1. Bad</td>\n",
       "    </tr>\n",
       "  </tbody>\n",
       "</table>\n",
       "</div>"
      ],
      "text/plain": [
       "   age          job  marital  education default  balance housing loan  \\\n",
       "0   30   unemployed  married    primary      no     1787      no   no   \n",
       "1   33     services  married  secondary      no     4789     yes  yes   \n",
       "2   35   management   single   tertiary      no     1350     yes   no   \n",
       "3   30   management  married   tertiary      no     1476     yes  yes   \n",
       "4   59  blue-collar  married  secondary      no        0     yes   no   \n",
       "\n",
       "    contact  day month  duration  campaign  pdays  previous poutcome   y  \\\n",
       "0  cellular   19   oct        79         1     -1         0  unknown  no   \n",
       "1  cellular   11   may       220         1    339         4  failure  no   \n",
       "2  cellular   16   apr       185         1    330         1  failure  no   \n",
       "3   unknown    3   jun       199         4     -1         0  unknown  no   \n",
       "4   unknown    5   may       226         1     -1         0  unknown  no   \n",
       "\n",
       "     agebin  balancebin  \n",
       "0  1. Young     4. Good  \n",
       "1  1. Young     4. Good  \n",
       "2  2. Adult  3. Average  \n",
       "3  1. Young  3. Average  \n",
       "4    4. Old      1. Bad  "
      ]
     },
     "execution_count": 5,
     "metadata": {},
     "output_type": "execute_result"
    }
   ],
   "source": [
    "# Performing the binning for variable \"age\"\n",
    "\n",
    "bank_new = bank\n",
    "\n",
    "bin_labels = ['1. Young', '2. Adult', '3. Middle-aged', '4. Old']\n",
    "\n",
    "bank_new['agebin'] = pd.qcut(bank_new['age'], q = 4, labels=bin_labels)\n",
    "\n",
    "# Performing binning for variable \"balance\"\n",
    "\n",
    "bin_labels = ['1. Bad', '2. Low', '3. Average', '4. Good']\n",
    "\n",
    "bank_new['balancebin'] = pd.qcut(bank_new['balance'], q = 4, labels=bin_labels)\n",
    "\n",
    "bank_new.head()"
   ]
  },
  {
   "cell_type": "code",
   "execution_count": 6,
   "metadata": {},
   "outputs": [
    {
     "data": {
      "text/plain": [
       "Index(['age', 'job', 'marital', 'education', 'default', 'balance', 'housing',\n",
       "       'loan', 'contact', 'day', 'month', 'duration', 'campaign', 'pdays',\n",
       "       'previous', 'poutcome', 'y', 'agebin', 'balancebin'],\n",
       "      dtype='object')"
      ]
     },
     "execution_count": 6,
     "metadata": {},
     "output_type": "execute_result"
    }
   ],
   "source": [
    "# Data Preparation\n",
    "# \n",
    "\n",
    "from sklearn import preprocessing\n",
    "\n",
    "# Display the column names\n",
    "\n",
    "bank.columns\n"
   ]
  },
  {
   "cell_type": "code",
   "execution_count": 7,
   "metadata": {},
   "outputs": [
    {
     "data": {
      "text/html": [
       "<div>\n",
       "<style scoped>\n",
       "    .dataframe tbody tr th:only-of-type {\n",
       "        vertical-align: middle;\n",
       "    }\n",
       "\n",
       "    .dataframe tbody tr th {\n",
       "        vertical-align: top;\n",
       "    }\n",
       "\n",
       "    .dataframe thead th {\n",
       "        text-align: right;\n",
       "    }\n",
       "</style>\n",
       "<table border=\"1\" class=\"dataframe\">\n",
       "  <thead>\n",
       "    <tr style=\"text-align: right;\">\n",
       "      <th></th>\n",
       "      <th>age</th>\n",
       "      <th>job</th>\n",
       "      <th>marital</th>\n",
       "      <th>education</th>\n",
       "      <th>default</th>\n",
       "      <th>balance</th>\n",
       "      <th>housing</th>\n",
       "      <th>loan</th>\n",
       "      <th>contact</th>\n",
       "      <th>day</th>\n",
       "      <th>month</th>\n",
       "      <th>duration</th>\n",
       "      <th>campaign</th>\n",
       "      <th>pdays</th>\n",
       "      <th>previous</th>\n",
       "      <th>poutcome</th>\n",
       "      <th>y</th>\n",
       "      <th>agebin</th>\n",
       "      <th>balancebin</th>\n",
       "    </tr>\n",
       "  </thead>\n",
       "  <tbody>\n",
       "    <tr>\n",
       "      <th>0</th>\n",
       "      <td>11</td>\n",
       "      <td>10</td>\n",
       "      <td>1</td>\n",
       "      <td>0</td>\n",
       "      <td>0</td>\n",
       "      <td>1475</td>\n",
       "      <td>0</td>\n",
       "      <td>0</td>\n",
       "      <td>0</td>\n",
       "      <td>18</td>\n",
       "      <td>10</td>\n",
       "      <td>75</td>\n",
       "      <td>0</td>\n",
       "      <td>0</td>\n",
       "      <td>0</td>\n",
       "      <td>3</td>\n",
       "      <td>0</td>\n",
       "      <td>0</td>\n",
       "      <td>3</td>\n",
       "    </tr>\n",
       "    <tr>\n",
       "      <th>1</th>\n",
       "      <td>14</td>\n",
       "      <td>7</td>\n",
       "      <td>1</td>\n",
       "      <td>1</td>\n",
       "      <td>0</td>\n",
       "      <td>2030</td>\n",
       "      <td>1</td>\n",
       "      <td>1</td>\n",
       "      <td>0</td>\n",
       "      <td>10</td>\n",
       "      <td>8</td>\n",
       "      <td>216</td>\n",
       "      <td>0</td>\n",
       "      <td>228</td>\n",
       "      <td>4</td>\n",
       "      <td>0</td>\n",
       "      <td>0</td>\n",
       "      <td>0</td>\n",
       "      <td>3</td>\n",
       "    </tr>\n",
       "    <tr>\n",
       "      <th>2</th>\n",
       "      <td>16</td>\n",
       "      <td>4</td>\n",
       "      <td>2</td>\n",
       "      <td>2</td>\n",
       "      <td>0</td>\n",
       "      <td>1303</td>\n",
       "      <td>1</td>\n",
       "      <td>0</td>\n",
       "      <td>0</td>\n",
       "      <td>15</td>\n",
       "      <td>0</td>\n",
       "      <td>181</td>\n",
       "      <td>0</td>\n",
       "      <td>219</td>\n",
       "      <td>1</td>\n",
       "      <td>0</td>\n",
       "      <td>0</td>\n",
       "      <td>1</td>\n",
       "      <td>2</td>\n",
       "    </tr>\n",
       "    <tr>\n",
       "      <th>3</th>\n",
       "      <td>11</td>\n",
       "      <td>4</td>\n",
       "      <td>1</td>\n",
       "      <td>2</td>\n",
       "      <td>0</td>\n",
       "      <td>1352</td>\n",
       "      <td>1</td>\n",
       "      <td>1</td>\n",
       "      <td>2</td>\n",
       "      <td>2</td>\n",
       "      <td>6</td>\n",
       "      <td>195</td>\n",
       "      <td>3</td>\n",
       "      <td>0</td>\n",
       "      <td>0</td>\n",
       "      <td>3</td>\n",
       "      <td>0</td>\n",
       "      <td>0</td>\n",
       "      <td>2</td>\n",
       "    </tr>\n",
       "    <tr>\n",
       "      <th>4</th>\n",
       "      <td>40</td>\n",
       "      <td>1</td>\n",
       "      <td>1</td>\n",
       "      <td>1</td>\n",
       "      <td>0</td>\n",
       "      <td>274</td>\n",
       "      <td>1</td>\n",
       "      <td>0</td>\n",
       "      <td>2</td>\n",
       "      <td>4</td>\n",
       "      <td>8</td>\n",
       "      <td>222</td>\n",
       "      <td>0</td>\n",
       "      <td>0</td>\n",
       "      <td>0</td>\n",
       "      <td>3</td>\n",
       "      <td>0</td>\n",
       "      <td>3</td>\n",
       "      <td>0</td>\n",
       "    </tr>\n",
       "  </tbody>\n",
       "</table>\n",
       "</div>"
      ],
      "text/plain": [
       "   age  job  marital  education  default  balance  housing  loan  contact  \\\n",
       "0   11   10        1          0        0     1475        0     0        0   \n",
       "1   14    7        1          1        0     2030        1     1        0   \n",
       "2   16    4        2          2        0     1303        1     0        0   \n",
       "3   11    4        1          2        0     1352        1     1        2   \n",
       "4   40    1        1          1        0      274        1     0        2   \n",
       "\n",
       "   day  month  duration  campaign  pdays  previous  poutcome  y  agebin  \\\n",
       "0   18     10        75         0      0         0         3  0       0   \n",
       "1   10      8       216         0    228         4         0  0       0   \n",
       "2   15      0       181         0    219         1         0  0       1   \n",
       "3    2      6       195         3      0         0         3  0       0   \n",
       "4    4      8       222         0      0         0         3  0       3   \n",
       "\n",
       "   balancebin  \n",
       "0           3  \n",
       "1           3  \n",
       "2           2  \n",
       "3           2  \n",
       "4           0  "
      ]
     },
     "execution_count": 7,
     "metadata": {},
     "output_type": "execute_result"
    }
   ],
   "source": [
    "# Encoding of categorical variables\n",
    "\n",
    "encoder = preprocessing.LabelEncoder()\n",
    "bank2 = bank.apply(encoder.fit_transform)\n",
    "bank2.head()\n"
   ]
  },
  {
   "cell_type": "code",
   "execution_count": 8,
   "metadata": {},
   "outputs": [
    {
     "name": "stdout",
     "output_type": "stream",
     "text": [
      "   job  marital  education  default  housing  loan\n",
      "0   10        1          0        0        0     0\n",
      "1    7        1          1        0        1     1\n",
      "2    4        2          2        0        1     0\n",
      "3    4        1          2        0        1     1\n",
      "4    1        1          1        0        1     0\n",
      "0    0\n",
      "1    0\n",
      "2    0\n",
      "3    0\n",
      "4    0\n",
      "Name: y, dtype: int32\n"
     ]
    }
   ],
   "source": [
    "# A) Exploratory work using Naive Bayes Multinomial Model\n",
    "\n",
    "# A1) Multinomial Mode - Only dealing with 6 categorical variables\n",
    "# Declaring predictor and target variables\n",
    "\n",
    "pred = bank2[[\"job\", \"marital\", \"education\", \"default\", \"housing\", \"loan\"]]\n",
    "label = bank2[\"y\"]\n",
    "\n",
    "print(pred.head())\n",
    "print(label.head())"
   ]
  },
  {
   "cell_type": "code",
   "execution_count": 9,
   "metadata": {},
   "outputs": [
    {
     "name": "stdout",
     "output_type": "stream",
     "text": [
      "Training of Naive Bayes Multinominal model with 6 categorical variables is completed.\n",
      "Predicting labels using Naive Bayes Multinominal model with 6 categorical variables is completed.\n"
     ]
    }
   ],
   "source": [
    "# Import MultinomialNB model from Scikit-Learn\n",
    "\n",
    "from sklearn.naive_bayes import MultinomialNB\n",
    "\n",
    "# Instantiate the model\n",
    "\n",
    "nb = MultinomialNB()\n",
    "\n",
    "# Partition the dataset into training and test tests\n",
    "# Import packages for train test split\n",
    "\n",
    "from sklearn.model_selection import train_test_split\n",
    "\n",
    "# Split the data into training and testing\n",
    "\n",
    "x_train, x_test, y_train, y_test = train_test_split(pred, label, test_size=0.2, random_state = 0)\n",
    "\n",
    "# Fitting the LR model\n",
    "\n",
    "nb.fit(x_train, y_train)\n",
    "print(\"Training of Naive Bayes Multinominal model with 6 categorical variables is completed.\")\n",
    "\n",
    "# Predict using the fitted Naive Bayes model\n",
    "\n",
    "y_pred = nb.predict(x_test)\n",
    "print(\"Predicting labels using Naive Bayes Multinominal model with 6 categorical variables is completed.\")\n"
   ]
  },
  {
   "cell_type": "code",
   "execution_count": 10,
   "metadata": {},
   "outputs": [
    {
     "name": "stdout",
     "output_type": "stream",
     "text": [
      "Test accuracy using Naive Bayes Multinomial Model is : 0.876243093922652 \n",
      "\n",
      "              precision    recall  f1-score   support\n",
      "\n",
      "           0       0.88      1.00      0.93       793\n",
      "           1       0.00      0.00      0.00       112\n",
      "\n",
      "    accuracy                           0.88       905\n",
      "   macro avg       0.44      0.50      0.47       905\n",
      "weighted avg       0.77      0.88      0.82       905\n",
      "\n",
      "[[793   0]\n",
      " [112   0]]\n"
     ]
    },
    {
     "name": "stderr",
     "output_type": "stream",
     "text": [
      "C:\\Users\\TG\\Anaconda3\\lib\\site-packages\\sklearn\\metrics\\_classification.py:1221: UndefinedMetricWarning: Precision and F-score are ill-defined and being set to 0.0 in labels with no predicted samples. Use `zero_division` parameter to control this behavior.\n",
      "  _warn_prf(average, modifier, msg_start, len(result))\n"
     ]
    }
   ],
   "source": [
    "# summarize the fit of the model\n",
    "\n",
    "from sklearn import metrics\n",
    "\n",
    "test_acc = metrics.accuracy_score(y_test, y_pred)\n",
    "print(\"Test accuracy using Naive Bayes Multinomial Model is :\", str(test_acc), '\\n')\n",
    "print(metrics.classification_report(y_test, y_pred))\n",
    "print(metrics.confusion_matrix(y_test, y_pred))\n",
    "\n",
    "# Comments - The confusion matrix reveals the case of Accuracy Paradox!\n"
   ]
  },
  {
   "cell_type": "code",
   "execution_count": 32,
   "metadata": {},
   "outputs": [
    {
     "name": "stdout",
     "output_type": "stream",
     "text": [
      "Naive Bayes Multinomial: ROC AUC=0.578\n"
     ]
    },
    {
     "data": {
      "image/png": "[encoded data removed]",
      "text/plain": [
       "<Figure size 432x288 with 1 Axes>"
      ]
     },
     "metadata": {
      "needs_background": "light"
     },
     "output_type": "display_data"
    }
   ],
   "source": [
    "# ROC Calculation and ROC Curve\n",
    "# Import packages for ROC curve\n",
    "\n",
    "from sklearn.metrics import roc_curve\n",
    "from sklearn.metrics import roc_auc_score\n",
    "from matplotlib import pyplot\n",
    "\n",
    "# generate reference prediction (majority class)\n",
    "ns_probs = [0 for _ in range(len(y_test))]\n",
    "# predict probabilities\n",
    "lr_probs = nb.predict_proba(x_test)\n",
    "# keep probabilities for the positive outcome only\n",
    "lr_probs = lr_probs[:, 1]\n",
    "# calculate scores\n",
    "ns_auc = roc_auc_score(y_test, ns_probs)\n",
    "lr_auc = roc_auc_score(y_test, lr_probs)\n",
    "# summarize scores\n",
    "print('Naive Bayes Multinomial: ROC AUC=%.3f' % (lr_auc))\n",
    "# calculate roc curves\n",
    "ns_fpr, ns_tpr, _ = roc_curve(y_test, ns_probs)\n",
    "lr_fpr, lr_tpr, _ = roc_curve(y_test, lr_probs)\n",
    "# plot the roc curve for the model\n",
    "pyplot.plot(ns_fpr, ns_tpr, linestyle='--')\n",
    "pyplot.plot(lr_fpr, lr_tpr, marker='.', label='Naive Bayes Multinominal')\n",
    "# axis labels\n",
    "pyplot.xlabel('False Positive Rate')\n",
    "pyplot.ylabel('True Positive Rate')\n",
    "# show the legend\n",
    "pyplot.legend(loc = \"lower right\")\n",
    "# show the plot\n",
    "pyplot.show()"
   ]
  },
  {
   "cell_type": "code",
   "execution_count": 12,
   "metadata": {},
   "outputs": [
    {
     "name": "stdout",
     "output_type": "stream",
     "text": [
      "   job  marital  education  default  housing  loan  contact  month  campaign  \\\n",
      "0   10        1          0        0        0     0        0     10         0   \n",
      "1    7        1          1        0        1     1        0      8         0   \n",
      "2    4        2          2        0        1     0        0      0         0   \n",
      "3    4        1          2        0        1     1        2      6         3   \n",
      "4    1        1          1        0        1     0        2      8         0   \n",
      "\n",
      "   previous  poutcome  \n",
      "0         0         3  \n",
      "1         4         0  \n",
      "2         1         0  \n",
      "3         0         3  \n",
      "4         0         3  \n"
     ]
    }
   ],
   "source": [
    "# A2) Multinomial Mode - All original categorical variables\n",
    "# Declaring predictor variables\n",
    "\n",
    "pred1 = bank2[[\"job\", \"marital\", \"education\", \"default\", \"housing\", \"loan\", \"contact\", \"month\", \"campaign\", \"previous\", \"poutcome\"]]\n",
    "\n",
    "print(pred1.head())\n"
   ]
  },
  {
   "cell_type": "code",
   "execution_count": 13,
   "metadata": {},
   "outputs": [
    {
     "name": "stdout",
     "output_type": "stream",
     "text": [
      "Training of Naive Bayes Multinominal model with all categorical variables is completed.\n",
      "Predicting labels using Naive Bayes Multinominal model with all original categorical variables is completed.\n"
     ]
    }
   ],
   "source": [
    "# Instantiate the model\n",
    "\n",
    "nb1 = MultinomialNB()\n",
    "\n",
    "# Split the data into training and testing\n",
    "\n",
    "x_train1, x_test1, y_train1, y_test1 = train_test_split(pred1, label, test_size=0.2, random_state = 0)\n",
    "\n",
    "# Fitting the LR model\n",
    "\n",
    "nb1.fit(x_train1, y_train1)\n",
    "print(\"Training of Naive Bayes Multinominal model with all categorical variables is completed.\")\n",
    "\n",
    "# Predict using the fitted Naive Bayes model\n",
    "\n",
    "y_pred1 = nb1.predict(x_test1)\n",
    "print(\"Predicting labels using Naive Bayes Multinominal model with all original categorical variables is completed.\")\n"
   ]
  },
  {
   "cell_type": "code",
   "execution_count": 14,
   "metadata": {},
   "outputs": [
    {
     "name": "stdout",
     "output_type": "stream",
     "text": [
      "Test accuracy using Naive Bayes Gaussian Model is : 0.8397790055248618 \n",
      "\n",
      "              precision    recall  f1-score   support\n",
      "\n",
      "           0       0.89      0.94      0.91       793\n",
      "           1       0.26      0.16      0.20       112\n",
      "\n",
      "    accuracy                           0.84       905\n",
      "   macro avg       0.57      0.55      0.55       905\n",
      "weighted avg       0.81      0.84      0.82       905\n",
      "\n",
      "[[742  51]\n",
      " [ 94  18]]\n"
     ]
    }
   ],
   "source": [
    "# summarize the fit of the model\n",
    "\n",
    "test_acc1 = metrics.accuracy_score(y_test1, y_pred1)\n",
    "print(\"Test accuracy using Naive Bayes Gaussian Model is :\", str(test_acc1), '\\n')\n",
    "print(metrics.classification_report(y_test1, y_pred1))\n",
    "print(metrics.confusion_matrix(y_test1, y_pred1))\n"
   ]
  },
  {
   "cell_type": "code",
   "execution_count": 33,
   "metadata": {},
   "outputs": [
    {
     "name": "stdout",
     "output_type": "stream",
     "text": [
      "Naive Bayes Multinomial: ROC AUC=0.643\n"
     ]
    },
    {
     "data": {
      "image/png": "[encoded data removed]",
      "text/plain": [
       "<Figure size 432x288 with 1 Axes>"
      ]
     },
     "metadata": {
      "needs_background": "light"
     },
     "output_type": "display_data"
    }
   ],
   "source": [
    "# generate a no skill prediction (majority class)\n",
    "ns_probs = [0 for _ in range(len(y_test))]\n",
    "# predict probabilities\n",
    "lr_probs = nb1.predict_proba(x_test1)\n",
    "# keep probabilities for the positive outcome only\n",
    "lr_probs = lr_probs[:, 1]\n",
    "# calculate scores\n",
    "ns_auc = roc_auc_score(y_test, ns_probs)\n",
    "lr_auc = roc_auc_score(y_test, lr_probs)\n",
    "# summarize scores\n",
    "print('Naive Bayes Multinomial: ROC AUC=%.3f' % (lr_auc))\n",
    "# calculate roc curves\n",
    "ns_fpr, ns_tpr, _ = roc_curve(y_test, ns_probs)\n",
    "lr_fpr, lr_tpr, _ = roc_curve(y_test, lr_probs)\n",
    "# plot the roc curve for the model\n",
    "pyplot.plot(ns_fpr, ns_tpr, linestyle='--')\n",
    "pyplot.plot(lr_fpr, lr_tpr, marker='.', label='Naive Bayes Multinominal')\n",
    "# axis labels\n",
    "pyplot.xlabel('False Positive Rate')\n",
    "pyplot.ylabel('True Positive Rate')\n",
    "# show the legend\n",
    "pyplot.legend(loc = \"lower right\")\n",
    "# show the plot\n",
    "pyplot.show()"
   ]
  },
  {
   "cell_type": "code",
   "execution_count": 16,
   "metadata": {},
   "outputs": [
    {
     "name": "stdout",
     "output_type": "stream",
     "text": [
      "   agebin  job  marital  education  default  balancebin  housing  loan  \\\n",
      "0       0   10        1          0        0           3        0     0   \n",
      "1       0    7        1          1        0           3        1     1   \n",
      "2       1    4        2          2        0           2        1     0   \n",
      "3       0    4        1          2        0           2        1     1   \n",
      "4       3    1        1          1        0           0        1     0   \n",
      "\n",
      "   contact  month  campaign  previous  poutcome  \n",
      "0        0     10         0         0         3  \n",
      "1        0      8         0         4         0  \n",
      "2        0      0         0         1         0  \n",
      "3        2      6         3         0         3  \n",
      "4        2      8         0         0         3  \n"
     ]
    }
   ],
   "source": [
    "# A3) Multinomial Mode - All original categorical variables plus 2 binned variables\n",
    "# Declaring predictor variables\n",
    "\n",
    "pred2 = bank2[[\"agebin\", \"job\", \"marital\", \"education\", \"default\", \"balancebin\", \"housing\", \"loan\", \"contact\", \"month\", \"campaign\", \"previous\", \"poutcome\"]]\n",
    "\n",
    "print(pred2.head())\n"
   ]
  },
  {
   "cell_type": "code",
   "execution_count": 17,
   "metadata": {},
   "outputs": [
    {
     "name": "stdout",
     "output_type": "stream",
     "text": [
      "Training of Naive Bayes Multinominal model with 2 additional binned variables is completed.\n",
      "Predicting labels using Naive Bayes Multinominal model with 2 additional binned variables is completed.\n"
     ]
    }
   ],
   "source": [
    "# Instantiate the model\n",
    "\n",
    "nb2 = MultinomialNB()\n",
    "\n",
    "# Split the data into training and testing\n",
    "\n",
    "x_train2, x_test2, y_train2, y_test2 = train_test_split(pred2, label, test_size=0.2, random_state = 0)\n",
    "\n",
    "# Fitting the LR model\n",
    "\n",
    "nb2.fit(x_train2, y_train2)\n",
    "print(\"Training of Naive Bayes Multinominal model with 2 additional binned variables is completed.\")\n",
    "\n",
    "# Predict using the fitted Naive Bayes model\n",
    "\n",
    "y_pred2 = nb2.predict(x_test2)\n",
    "print(\"Predicting labels using Naive Bayes Multinominal model with 2 additional binned variables is completed.\")\n"
   ]
  },
  {
   "cell_type": "code",
   "execution_count": 42,
   "metadata": {},
   "outputs": [
    {
     "name": "stdout",
     "output_type": "stream",
     "text": [
      "Test accuracy using Naive Bayes Gaussian Model is : 0.8386740331491712 \n",
      "\n",
      "              precision    recall  f1-score   support\n",
      "\n",
      "           0       0.89      0.93      0.91       793\n",
      "           1       0.26      0.16      0.20       112\n",
      "\n",
      "    accuracy                           0.84       905\n",
      "   macro avg       0.57      0.55      0.55       905\n",
      "weighted avg       0.81      0.84      0.82       905\n",
      "\n",
      "[[741  52]\n",
      " [ 94  18]]\n"
     ]
    }
   ],
   "source": [
    "# summarize the fit of the model\n",
    "\n",
    "test_acc2 = metrics.accuracy_score(y_test2, y_pred2)\n",
    "print(\"Test accuracy using Naive Bayes Gaussian Model is :\", str(test_acc2), '\\n')\n",
    "print(metrics.classification_report(y_test2, y_pred2))\n",
    "print(metrics.confusion_matrix(y_test2, y_pred2))\n"
   ]
  },
  {
   "cell_type": "code",
   "execution_count": 34,
   "metadata": {},
   "outputs": [
    {
     "name": "stdout",
     "output_type": "stream",
     "text": [
      "Naive Bayes Multinomial: ROC AUC=0.656\n"
     ]
    },
    {
     "data": {
      "image/png": "[encoded data removed]",
      "text/plain": [
       "<Figure size 432x288 with 1 Axes>"
      ]
     },
     "metadata": {
      "needs_background": "light"
     },
     "output_type": "display_data"
    }
   ],
   "source": [
    "# generate a no skill prediction (majority class)\n",
    "ns_probs = [0 for _ in range(len(y_test))]\n",
    "# predict probabilities\n",
    "lr_probs = nb2.predict_proba(x_test2)\n",
    "# keep probabilities for the positive outcome only\n",
    "lr_probs = lr_probs[:, 1]\n",
    "# calculate scores\n",
    "ns_auc = roc_auc_score(y_test, ns_probs)\n",
    "lr_auc = roc_auc_score(y_test, lr_probs)\n",
    "# summarize scores\n",
    "print('Naive Bayes Multinomial: ROC AUC=%.3f' % (lr_auc))\n",
    "# calculate roc curves\n",
    "ns_fpr, ns_tpr, _ = roc_curve(y_test, ns_probs)\n",
    "lr_fpr, lr_tpr, _ = roc_curve(y_test, lr_probs)\n",
    "# plot the roc curve for the model\n",
    "pyplot.plot(ns_fpr, ns_tpr, linestyle='--')\n",
    "pyplot.plot(lr_fpr, lr_tpr, marker='.', label='Naive Bayes Multinominal')\n",
    "# axis labels\n",
    "pyplot.xlabel('False Positive Rate')\n",
    "pyplot.ylabel('True Positive Rate')\n",
    "# show the legend\n",
    "pyplot.legend(loc = \"lower right\")\n",
    "# show the plot\n",
    "pyplot.show()"
   ]
  },
  {
   "cell_type": "code",
   "execution_count": null,
   "metadata": {},
   "outputs": [],
   "source": []
  },
  {
   "cell_type": "code",
   "execution_count": null,
   "metadata": {},
   "outputs": [],
   "source": []
  },
  {
   "cell_type": "code",
   "execution_count": 20,
   "metadata": {},
   "outputs": [
    {
     "name": "stdout",
     "output_type": "stream",
     "text": [
      "   age  job  marital  education  default  balance  housing  loan  contact  \\\n",
      "0   11   10        1          0        0     1475        0     0        0   \n",
      "1   14    7        1          1        0     2030        1     1        0   \n",
      "2   16    4        2          2        0     1303        1     0        0   \n",
      "3   11    4        1          2        0     1352        1     1        2   \n",
      "4   40    1        1          1        0      274        1     0        2   \n",
      "\n",
      "   day  month  duration  campaign  pdays  previous  poutcome  \n",
      "0   18     10        75         0      0         0         3  \n",
      "1   10      8       216         0    228         4         0  \n",
      "2   15      0       181         0    219         1         0  \n",
      "3    2      6       195         3      0         0         3  \n",
      "4    4      8       222         0      0         0         3  \n"
     ]
    }
   ],
   "source": [
    "# B) Exploratory work using Naive Bayes Gaussian Model\n",
    "\n",
    "# B1) Gaussuan Mode -  All variables\n",
    "# Declaring predictor variables (excluding the 2 binned variables)\n",
    "\n",
    "pred3 = bank2.drop(columns=[\"agebin\", \"balancebin\", \"y\"])\n",
    "\n",
    "print(pred3.head())\n"
   ]
  },
  {
   "cell_type": "code",
   "execution_count": 21,
   "metadata": {},
   "outputs": [
    {
     "name": "stdout",
     "output_type": "stream",
     "text": [
      "Training of Naive Bayes Gaussian model with all variables is completed.\n",
      "Predicting labels using Naive Bayes Gaussian model with all variables is completed.\n"
     ]
    }
   ],
   "source": [
    "# Import GaussianNB model from Scikit-Learn\n",
    "\n",
    "from sklearn.naive_bayes import GaussianNB\n",
    "\n",
    "# Instantiate the model\n",
    "\n",
    "nb3 = GaussianNB()\n",
    "\n",
    "# Partition the dataset into training and test tests\n",
    "# Split the data into training and testing\n",
    "\n",
    "x_train3, x_test3, y_train3, y_test3 = train_test_split(pred3, label, test_size=0.2, random_state = 0)\n",
    "\n",
    "# Fitting the LR model\n",
    "\n",
    "nb3.fit(x_train3, y_train3)\n",
    "print(\"Training of Naive Bayes Gaussian model with all variables is completed.\")\n",
    "\n",
    "# Predict using the fitted Naive Bayes Gaussian model\n",
    "\n",
    "y_pred3 = nb3.predict(x_test3)\n",
    "print(\"Predicting labels using Naive Bayes Gaussian model with all variables is completed.\")\n"
   ]
  },
  {
   "cell_type": "code",
   "execution_count": 43,
   "metadata": {},
   "outputs": [
    {
     "name": "stdout",
     "output_type": "stream",
     "text": [
      "Test accuracy using Naive Bayes Gaussian Model is : 0.8132596685082873 \n",
      "\n",
      "              precision    recall  f1-score   support\n",
      "\n",
      "           0       0.92      0.86      0.89       793\n",
      "           1       0.33      0.48      0.39       112\n",
      "\n",
      "    accuracy                           0.81       905\n",
      "   macro avg       0.62      0.67      0.64       905\n",
      "weighted avg       0.85      0.81      0.83       905\n",
      "\n",
      "[[682 111]\n",
      " [ 58  54]]\n"
     ]
    }
   ],
   "source": [
    "# summarize the fit of the model\n",
    "\n",
    "test_acc3 = metrics.accuracy_score(y_test3, y_pred3)\n",
    "print(\"Test accuracy using Naive Bayes Gaussian Model is :\", str(test_acc3), '\\n')\n",
    "\n",
    "\n",
    "print(metrics.classification_report(y_test3, y_pred3))\n",
    "print(metrics.confusion_matrix(y_test3, y_pred3))\n"
   ]
  },
  {
   "cell_type": "code",
   "execution_count": 41,
   "metadata": {},
   "outputs": [
    {
     "name": "stdout",
     "output_type": "stream",
     "text": [
      "Naive Bayes Gaussian: ROC AUC=0.815\n"
     ]
    },
    {
     "data": {
      "image/png": "[encoded data removed]",
      "text/plain": [
       "<Figure size 432x288 with 1 Axes>"
      ]
     },
     "metadata": {
      "needs_background": "light"
     },
     "output_type": "display_data"
    }
   ],
   "source": [
    "# generate a no skill prediction (majority class)\n",
    "ns_probs = [0 for _ in range(len(y_test))]\n",
    "# predict probabilities\n",
    "lr_probs = nb3.predict_proba(x_test3)\n",
    "# keep probabilities for the positive outcome only\n",
    "lr_probs = lr_probs[:, 1]\n",
    "# calculate scores\n",
    "ns_auc = roc_auc_score(y_test, ns_probs)\n",
    "lr_auc = roc_auc_score(y_test, lr_probs)\n",
    "# summarize scores\n",
    "print('Naive Bayes Gaussian: ROC AUC=%.3f' % (lr_auc))\n",
    "# calculate roc curves\n",
    "ns_fpr, ns_tpr, _ = roc_curve(y_test, ns_probs)\n",
    "lr_fpr, lr_tpr, _ = roc_curve(y_test, lr_probs)\n",
    "# plot the roc curve for the model\n",
    "pyplot.plot(ns_fpr, ns_tpr, linestyle='--')\n",
    "pyplot.plot(lr_fpr, lr_tpr, marker='.', label='Naive Bayes Gaussian')\n",
    "# axis labels\n",
    "pyplot.xlabel('False Positive Rate')\n",
    "pyplot.ylabel('True Positive Rate')\n",
    "# show the legend\n",
    "pyplot.legend(loc = \"lower right\")\n",
    "# show the plot\n",
    "pyplot.show()"
   ]
  },
  {
   "cell_type": "code",
   "execution_count": 24,
   "metadata": {},
   "outputs": [
    {
     "name": "stdout",
     "output_type": "stream",
     "text": [
      "   age  job  marital  education  default  balance  housing  loan  contact  \\\n",
      "0   11   10        1          0        0     1475        0     0        0   \n",
      "1   14    7        1          1        0     2030        1     1        0   \n",
      "2   16    4        2          2        0     1303        1     0        0   \n",
      "3   11    4        1          2        0     1352        1     1        2   \n",
      "4   40    1        1          1        0      274        1     0        2   \n",
      "\n",
      "   month  duration  campaign  pdays  previous  poutcome  \n",
      "0     10        75         0      0         0         3  \n",
      "1      8       216         0    228         4         0  \n",
      "2      0       181         0    219         1         0  \n",
      "3      6       195         3      0         0         3  \n",
      "4      8       222         0      0         0         3  \n"
     ]
    }
   ],
   "source": [
    "# B2) A reduced model with one less predictor variable \"day\"\n",
    "# Refining the model - dropping predictors variables \"day\"\n",
    "\n",
    "# Declaring predictor variables\n",
    "\n",
    "pred4 = pred3.drop(columns=[\"day\"])\n",
    "\n",
    "print(pred4.head())\n"
   ]
  },
  {
   "cell_type": "code",
   "execution_count": 25,
   "metadata": {},
   "outputs": [
    {
     "name": "stdout",
     "output_type": "stream",
     "text": [
      "Training of reduced Naive Bayes Gaussian model is completed.\n",
      "Predicting labels using reduced Naive Bayes Gaussian model is completed.\n"
     ]
    }
   ],
   "source": [
    "# Instantiate the model\n",
    "\n",
    "nb4 = GaussianNB()\n",
    "\n",
    "# Partition the dataset into training and test tests\n",
    "# Split the data into training and testing\n",
    "\n",
    "x_train4, x_test4, y_train4, y_test4 = train_test_split(pred4, label, test_size=0.2, random_state = 0)\n",
    "\n",
    "# Fitting the LR model\n",
    "\n",
    "nb4.fit(x_train4, y_train4)\n",
    "print(\"Training of reduced Naive Bayes Gaussian model is completed.\")\n",
    "\n",
    "# Predict using the fitted Naive Bayes Gaussian model\n",
    "\n",
    "y_pred4 = nb4.predict(x_test4)\n",
    "print(\"Predicting labels using reduced Naive Bayes Gaussian model is completed.\")\n"
   ]
  },
  {
   "cell_type": "code",
   "execution_count": 44,
   "metadata": {},
   "outputs": [
    {
     "name": "stdout",
     "output_type": "stream",
     "text": [
      "Test accuracy using Naive Bayes Gaussian Model is : 0.8143646408839779 \n",
      "\n",
      "              precision    recall  f1-score   support\n",
      "\n",
      "           0       0.92      0.86      0.89       793\n",
      "           1       0.33      0.49      0.40       112\n",
      "\n",
      "    accuracy                           0.81       905\n",
      "   macro avg       0.63      0.68      0.64       905\n",
      "weighted avg       0.85      0.81      0.83       905\n",
      "\n",
      "[[682 111]\n",
      " [ 57  55]]\n"
     ]
    }
   ],
   "source": [
    "# summarize the fit of the model\n",
    "\n",
    "test_acc4 = metrics.accuracy_score(y_test4, y_pred4)\n",
    "print(\"Test accuracy using Naive Bayes Gaussian Model is :\", str(test_acc4), '\\n')\n",
    "print(metrics.classification_report(y_test4, y_pred4))\n",
    "print(metrics.confusion_matrix(y_test4, y_pred4))\n"
   ]
  },
  {
   "cell_type": "code",
   "execution_count": 40,
   "metadata": {},
   "outputs": [
    {
     "name": "stdout",
     "output_type": "stream",
     "text": [
      "Naive Bayes Gaussian: ROC AUC=0.815\n"
     ]
    },
    {
     "data": {
      "image/png": "[encoded data removed]",
      "text/plain": [
       "<Figure size 432x288 with 1 Axes>"
      ]
     },
     "metadata": {
      "needs_background": "light"
     },
     "output_type": "display_data"
    }
   ],
   "source": [
    "# generate a no skill prediction (majority class)\n",
    "ns_probs = [0 for _ in range(len(y_test))]\n",
    "# predict probabilities\n",
    "lr_probs = nb4.predict_proba(x_test4)\n",
    "# keep probabilities for the positive outcome only\n",
    "lr_probs = lr_probs[:, 1]\n",
    "# calculate scores\n",
    "ns_auc = roc_auc_score(y_test, ns_probs)\n",
    "lr_auc = roc_auc_score(y_test, lr_probs)\n",
    "# summarize scores\n",
    "print('Naive Bayes Gaussian: ROC AUC=%.3f' % (lr_auc))\n",
    "# calculate roc curves\n",
    "ns_fpr, ns_tpr, _ = roc_curve(y_test, ns_probs)\n",
    "lr_fpr, lr_tpr, _ = roc_curve(y_test, lr_probs)\n",
    "# plot the roc curve for the model\n",
    "pyplot.plot(ns_fpr, ns_tpr, linestyle='--')\n",
    "pyplot.plot(lr_fpr, lr_tpr, marker='.', label='Naive Bayes Gaussian')\n",
    "# axis labels\n",
    "pyplot.xlabel('False Positive Rate')\n",
    "pyplot.ylabel('True Positive Rate')\n",
    "# show the legend\n",
    "pyplot.legend(loc = \"lower right\")\n",
    "# show the plot\n",
    "pyplot.show()"
   ]
  },
  {
   "cell_type": "code",
   "execution_count": 28,
   "metadata": {},
   "outputs": [
    {
     "name": "stdout",
     "output_type": "stream",
     "text": [
      "   age  balance  duration  pdays\n",
      "0   11     1475        75      0\n",
      "1   14     2030       216    228\n",
      "2   16     1303       181    219\n",
      "3   11     1352       195      0\n",
      "4   40      274       222      0\n"
     ]
    }
   ],
   "source": [
    "# B3) A model with only numerical variables\n",
    "# Refining the model - using predictors variables \"age\", \"balance\", \"duration\" and \"pday\"\n",
    "# Declaring predictor variables\n",
    "\n",
    "pred5 = bank2[[\"age\", \"balance\", \"duration\", \"pdays\"]]\n",
    "\n",
    "print(pred5.head())\n"
   ]
  },
  {
   "cell_type": "code",
   "execution_count": 29,
   "metadata": {},
   "outputs": [
    {
     "name": "stdout",
     "output_type": "stream",
     "text": [
      "Training of Naive Bayes Gaussian model with 4 numeric variables is completed.\n",
      "Predicting labels using Naive Bayes Multinominal model with 4 numeric variables is completed.\n"
     ]
    }
   ],
   "source": [
    "# Instantiate the model\n",
    "\n",
    "nb5 = GaussianNB()\n",
    "\n",
    "# Partition the dataset into training and test tests\n",
    "# Split the data into training and testing\n",
    "\n",
    "x_train5, x_test5, y_train5, y_test5 = train_test_split(pred5, label, test_size=0.2, random_state = 0)\n",
    "\n",
    "# Fitting the LR model\n",
    "\n",
    "nb5.fit(x_train5, y_train5)\n",
    "print(\"Training of Naive Bayes Gaussian model with 4 numeric variables is completed.\")\n",
    "\n",
    "# Predict using the reduced Naive Bayes Gaussian model\n",
    "\n",
    "y_pred5 = nb5.predict(x_test5)\n",
    "print(\"Predicting labels using Naive Bayes Multinominal model with 4 numeric variables is completed.\")\n"
   ]
  },
  {
   "cell_type": "code",
   "execution_count": 45,
   "metadata": {},
   "outputs": [
    {
     "name": "stdout",
     "output_type": "stream",
     "text": [
      "Test accuracy using Naive Bayes Gaussian Model is : 0.8784530386740331 \n",
      "\n",
      "              precision    recall  f1-score   support\n",
      "\n",
      "           0       0.92      0.94      0.93       793\n",
      "           1       0.51      0.44      0.47       112\n",
      "\n",
      "    accuracy                           0.88       905\n",
      "   macro avg       0.72      0.69      0.70       905\n",
      "weighted avg       0.87      0.88      0.87       905\n",
      "\n",
      "[[746  47]\n",
      " [ 63  49]]\n"
     ]
    }
   ],
   "source": [
    "# summarize the fit of the model\n",
    "\n",
    "test_acc5 = metrics.accuracy_score(y_test5, y_pred5)\n",
    "print(\"Test accuracy using Naive Bayes Gaussian Model is :\", str(test_acc5), '\\n')\n",
    "print(metrics.classification_report(y_test5, y_pred5))\n",
    "print(metrics.confusion_matrix(y_test5, y_pred5))\n"
   ]
  },
  {
   "cell_type": "code",
   "execution_count": 39,
   "metadata": {},
   "outputs": [
    {
     "name": "stdout",
     "output_type": "stream",
     "text": [
      "Naive Bayes Gaussian: ROC AUC=0.827\n"
     ]
    },
    {
     "data": {
      "image/png": "[encoded data removed]",
      "text/plain": [
       "<Figure size 432x288 with 1 Axes>"
      ]
     },
     "metadata": {
      "needs_background": "light"
     },
     "output_type": "display_data"
    }
   ],
   "source": [
    "# generate a no skill prediction (majority class)\n",
    "ns_probs = [0 for _ in range(len(y_test))]\n",
    "# predict probabilities\n",
    "lr_probs = nb5.predict_proba(x_test5)\n",
    "# keep probabilities for the positive outcome only\n",
    "lr_probs = lr_probs[:, 1]\n",
    "# calculate scores\n",
    "ns_auc = roc_auc_score(y_test, ns_probs)\n",
    "lr_auc = roc_auc_score(y_test, lr_probs)\n",
    "# summarize scores\n",
    "print('Naive Bayes Gaussian: ROC AUC=%.3f' % (lr_auc))\n",
    "# calculate roc curves\n",
    "ns_fpr, ns_tpr, _ = roc_curve(y_test, ns_probs)\n",
    "lr_fpr, lr_tpr, _ = roc_curve(y_test, lr_probs)\n",
    "# plot the roc curve for the model\n",
    "pyplot.plot(ns_fpr, ns_tpr, linestyle='--')\n",
    "pyplot.plot(lr_fpr, lr_tpr, marker='.', label='Naive Bayes Gaussian')\n",
    "# axis labels\n",
    "pyplot.xlabel('False Positive Rate')\n",
    "pyplot.ylabel('True Positive Rate')\n",
    "# show the legend\n",
    "pyplot.legend(loc = \"lower right\")\n",
    "# show the plot\n",
    "pyplot.show()"
   ]
  },
  {
   "cell_type": "code",
   "execution_count": null,
   "metadata": {},
   "outputs": [],
   "source": []
  },
  {
   "cell_type": "code",
   "execution_count": null,
   "metadata": {},
   "outputs": [],
   "source": []
  }
 ],
 "metadata": {
  "kernelspec": {
   "display_name": "Python 3",
   "language": "python",
   "name": "python3"
  },
  "language_info": {
   "codemirror_mode": {
    "name": "ipython",
    "version": 3
   },
   "file_extension": ".py",
   "mimetype": "text/x-python",
   "name": "python",
   "nbconvert_exporter": "python",
   "pygments_lexer": "ipython3",
   "version": "3.7.3"
  }
 },
 "nbformat": 4,
 "nbformat_minor": 4
}
