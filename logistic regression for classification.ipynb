{
 "cells": [
  {
   "cell_type": "code",
   "execution_count": 1,
   "metadata": {},
   "outputs": [],
   "source": [
    "import pandas as pd"
   ]
  },
  {
   "cell_type": "code",
   "execution_count": 2,
   "metadata": {},
   "outputs": [],
   "source": [
    "import numpy as np"
   ]
  },
  {
   "cell_type": "code",
   "execution_count": 3,
   "metadata": {},
   "outputs": [],
   "source": [
    "from sklearn.metrics import confusion_matrix"
   ]
  },
  {
   "cell_type": "code",
   "execution_count": 4,
   "metadata": {},
   "outputs": [],
   "source": [
    "from sklearn import model_selection"
   ]
  },
  {
   "cell_type": "code",
   "execution_count": 5,
   "metadata": {},
   "outputs": [],
   "source": [
    "from sklearn.tree import DecisionTreeClassifier"
   ]
  },
  {
   "cell_type": "code",
   "execution_count": 6,
   "metadata": {},
   "outputs": [],
   "source": [
    "import statsmodels.api as sm"
   ]
  },
  {
   "cell_type": "code",
   "execution_count": 7,
   "metadata": {},
   "outputs": [],
   "source": [
    "import statsmodels.formula.api as smf"
   ]
  },
  {
   "cell_type": "code",
   "execution_count": 8,
   "metadata": {},
   "outputs": [],
   "source": [
    "import warnings"
   ]
  },
  {
   "cell_type": "code",
   "execution_count": 9,
   "metadata": {},
   "outputs": [],
   "source": [
    "import copy"
   ]
  },
  {
   "cell_type": "code",
   "execution_count": 10,
   "metadata": {},
   "outputs": [],
   "source": [
    "warnings.filterwarnings('ignore')"
   ]
  },
  {
   "cell_type": "code",
   "execution_count": 11,
   "metadata": {},
   "outputs": [],
   "source": [
    "#display setting\n",
    "pd.options.display.max_columns = None\n",
    "pd.options.display.max_rows = None"
   ]
  },
  {
   "cell_type": "code",
   "execution_count": 12,
   "metadata": {},
   "outputs": [],
   "source": [
    "bank = pd.read_csv(\"D:\\\\Users\\\\zsy\\\\Desktop\\\\python PJ\\\\bank.csv\")"
   ]
  },
  {
   "cell_type": "code",
   "execution_count": 13,
   "metadata": {},
   "outputs": [
    {
     "data": {
      "text/html": [
       "<div>\n",
       "<style scoped>\n",
       "    .dataframe tbody tr th:only-of-type {\n",
       "        vertical-align: middle;\n",
       "    }\n",
       "\n",
       "    .dataframe tbody tr th {\n",
       "        vertical-align: top;\n",
       "    }\n",
       "\n",
       "    .dataframe thead th {\n",
       "        text-align: right;\n",
       "    }\n",
       "</style>\n",
       "<table border=\"1\" class=\"dataframe\">\n",
       "  <thead>\n",
       "    <tr style=\"text-align: right;\">\n",
       "      <th></th>\n",
       "      <th>age</th>\n",
       "      <th>job</th>\n",
       "      <th>marital</th>\n",
       "      <th>education</th>\n",
       "      <th>default</th>\n",
       "      <th>balance</th>\n",
       "      <th>housing</th>\n",
       "      <th>loan</th>\n",
       "      <th>contact</th>\n",
       "      <th>day</th>\n",
       "      <th>month</th>\n",
       "      <th>duration</th>\n",
       "      <th>campaign</th>\n",
       "      <th>pdays</th>\n",
       "      <th>previous</th>\n",
       "      <th>poutcome</th>\n",
       "      <th>y</th>\n",
       "    </tr>\n",
       "  </thead>\n",
       "  <tbody>\n",
       "    <tr>\n",
       "      <td>0</td>\n",
       "      <td>30</td>\n",
       "      <td>unemployed</td>\n",
       "      <td>married</td>\n",
       "      <td>primary</td>\n",
       "      <td>no</td>\n",
       "      <td>1787</td>\n",
       "      <td>no</td>\n",
       "      <td>no</td>\n",
       "      <td>cellular</td>\n",
       "      <td>19</td>\n",
       "      <td>oct</td>\n",
       "      <td>79</td>\n",
       "      <td>1</td>\n",
       "      <td>-1</td>\n",
       "      <td>0</td>\n",
       "      <td>unknown</td>\n",
       "      <td>no</td>\n",
       "    </tr>\n",
       "    <tr>\n",
       "      <td>1</td>\n",
       "      <td>33</td>\n",
       "      <td>services</td>\n",
       "      <td>married</td>\n",
       "      <td>secondary</td>\n",
       "      <td>no</td>\n",
       "      <td>4789</td>\n",
       "      <td>yes</td>\n",
       "      <td>yes</td>\n",
       "      <td>cellular</td>\n",
       "      <td>11</td>\n",
       "      <td>may</td>\n",
       "      <td>220</td>\n",
       "      <td>1</td>\n",
       "      <td>339</td>\n",
       "      <td>4</td>\n",
       "      <td>failure</td>\n",
       "      <td>no</td>\n",
       "    </tr>\n",
       "    <tr>\n",
       "      <td>2</td>\n",
       "      <td>35</td>\n",
       "      <td>management</td>\n",
       "      <td>single</td>\n",
       "      <td>tertiary</td>\n",
       "      <td>no</td>\n",
       "      <td>1350</td>\n",
       "      <td>yes</td>\n",
       "      <td>no</td>\n",
       "      <td>cellular</td>\n",
       "      <td>16</td>\n",
       "      <td>apr</td>\n",
       "      <td>185</td>\n",
       "      <td>1</td>\n",
       "      <td>330</td>\n",
       "      <td>1</td>\n",
       "      <td>failure</td>\n",
       "      <td>no</td>\n",
       "    </tr>\n",
       "    <tr>\n",
       "      <td>3</td>\n",
       "      <td>30</td>\n",
       "      <td>management</td>\n",
       "      <td>married</td>\n",
       "      <td>tertiary</td>\n",
       "      <td>no</td>\n",
       "      <td>1476</td>\n",
       "      <td>yes</td>\n",
       "      <td>yes</td>\n",
       "      <td>unknown</td>\n",
       "      <td>3</td>\n",
       "      <td>jun</td>\n",
       "      <td>199</td>\n",
       "      <td>4</td>\n",
       "      <td>-1</td>\n",
       "      <td>0</td>\n",
       "      <td>unknown</td>\n",
       "      <td>no</td>\n",
       "    </tr>\n",
       "    <tr>\n",
       "      <td>4</td>\n",
       "      <td>59</td>\n",
       "      <td>blue-collar</td>\n",
       "      <td>married</td>\n",
       "      <td>secondary</td>\n",
       "      <td>no</td>\n",
       "      <td>0</td>\n",
       "      <td>yes</td>\n",
       "      <td>no</td>\n",
       "      <td>unknown</td>\n",
       "      <td>5</td>\n",
       "      <td>may</td>\n",
       "      <td>226</td>\n",
       "      <td>1</td>\n",
       "      <td>-1</td>\n",
       "      <td>0</td>\n",
       "      <td>unknown</td>\n",
       "      <td>no</td>\n",
       "    </tr>\n",
       "  </tbody>\n",
       "</table>\n",
       "</div>"
      ],
      "text/plain": [
       "   age          job  marital  education default  balance housing loan  \\\n",
       "0   30   unemployed  married    primary      no     1787      no   no   \n",
       "1   33     services  married  secondary      no     4789     yes  yes   \n",
       "2   35   management   single   tertiary      no     1350     yes   no   \n",
       "3   30   management  married   tertiary      no     1476     yes  yes   \n",
       "4   59  blue-collar  married  secondary      no        0     yes   no   \n",
       "\n",
       "    contact  day month  duration  campaign  pdays  previous poutcome   y  \n",
       "0  cellular   19   oct        79         1     -1         0  unknown  no  \n",
       "1  cellular   11   may       220         1    339         4  failure  no  \n",
       "2  cellular   16   apr       185         1    330         1  failure  no  \n",
       "3   unknown    3   jun       199         4     -1         0  unknown  no  \n",
       "4   unknown    5   may       226         1     -1         0  unknown  no  "
      ]
     },
     "execution_count": 13,
     "metadata": {},
     "output_type": "execute_result"
    }
   ],
   "source": [
    "bank.head()"
   ]
  },
  {
   "cell_type": "markdown",
   "metadata": {},
   "source": [
    "#### Descriptive statistics"
   ]
  },
  {
   "cell_type": "code",
   "execution_count": 14,
   "metadata": {
    "scrolled": true
   },
   "outputs": [
    {
     "data": {
      "text/plain": [
       "y\n",
       "no     4000\n",
       "yes     521\n",
       "dtype: int64"
      ]
     },
     "execution_count": 14,
     "metadata": {},
     "output_type": "execute_result"
    }
   ],
   "source": [
    "bank.groupby('y').size()"
   ]
  },
  {
   "cell_type": "markdown",
   "metadata": {},
   "source": [
    "The distribution of y is imbanlanced"
   ]
  },
  {
   "cell_type": "code",
   "execution_count": 15,
   "metadata": {},
   "outputs": [
    {
     "data": {
      "text/plain": [
       "job\n",
       "admin.           478\n",
       "blue-collar      946\n",
       "entrepreneur     168\n",
       "housemaid        112\n",
       "management       969\n",
       "retired          230\n",
       "self-employed    183\n",
       "services         417\n",
       "student           84\n",
       "technician       768\n",
       "unemployed       128\n",
       "unknown           38\n",
       "dtype: int64"
      ]
     },
     "execution_count": 15,
     "metadata": {},
     "output_type": "execute_result"
    }
   ],
   "source": [
    "bank.groupby('job').size()"
   ]
  },
  {
   "cell_type": "code",
   "execution_count": 16,
   "metadata": {},
   "outputs": [
    {
     "data": {
      "text/plain": [
       "marital\n",
       "divorced     528\n",
       "married     2797\n",
       "single      1196\n",
       "dtype: int64"
      ]
     },
     "execution_count": 16,
     "metadata": {},
     "output_type": "execute_result"
    }
   ],
   "source": [
    "bank.groupby('marital').size()"
   ]
  },
  {
   "cell_type": "code",
   "execution_count": 17,
   "metadata": {},
   "outputs": [
    {
     "data": {
      "text/plain": [
       "education\n",
       "primary       678\n",
       "secondary    2306\n",
       "tertiary     1350\n",
       "unknown       187\n",
       "dtype: int64"
      ]
     },
     "execution_count": 17,
     "metadata": {},
     "output_type": "execute_result"
    }
   ],
   "source": [
    "bank.groupby('education').size()"
   ]
  },
  {
   "cell_type": "code",
   "execution_count": 18,
   "metadata": {
    "scrolled": true
   },
   "outputs": [
    {
     "data": {
      "text/plain": [
       "default\n",
       "no     4445\n",
       "yes      76\n",
       "dtype: int64"
      ]
     },
     "execution_count": 18,
     "metadata": {},
     "output_type": "execute_result"
    }
   ],
   "source": [
    "bank.groupby('default').size()"
   ]
  },
  {
   "cell_type": "code",
   "execution_count": 19,
   "metadata": {},
   "outputs": [
    {
     "data": {
      "text/plain": [
       "contact\n",
       "cellular     2896\n",
       "telephone     301\n",
       "unknown      1324\n",
       "dtype: int64"
      ]
     },
     "execution_count": 19,
     "metadata": {},
     "output_type": "execute_result"
    }
   ],
   "source": [
    "bank.groupby('contact').size()"
   ]
  },
  {
   "cell_type": "code",
   "execution_count": 20,
   "metadata": {},
   "outputs": [
    {
     "data": {
      "text/plain": [
       "poutcome\n",
       "failure     490\n",
       "other       197\n",
       "success     129\n",
       "unknown    3705\n",
       "dtype: int64"
      ]
     },
     "execution_count": 20,
     "metadata": {},
     "output_type": "execute_result"
    }
   ],
   "source": [
    "bank.groupby('poutcome').size()"
   ]
  },
  {
   "cell_type": "code",
   "execution_count": 21,
   "metadata": {},
   "outputs": [
    {
     "data": {
      "text/plain": [
       "month\n",
       "apr     293\n",
       "aug     633\n",
       "dec      20\n",
       "feb     222\n",
       "jan     148\n",
       "jul     706\n",
       "jun     531\n",
       "mar      49\n",
       "may    1398\n",
       "nov     389\n",
       "oct      80\n",
       "sep      52\n",
       "dtype: int64"
      ]
     },
     "execution_count": 21,
     "metadata": {},
     "output_type": "execute_result"
    }
   ],
   "source": [
    "#月份数据转为定性变量\n",
    "bank.groupby('month').size()"
   ]
  },
  {
   "cell_type": "code",
   "execution_count": 22,
   "metadata": {
    "scrolled": true
   },
   "outputs": [],
   "source": [
    "bank['month'][bank['month']=='apr']=4\n",
    "bank['month'][bank['month']=='aug']=8\n",
    "bank['month'][bank['month']=='dec']=12\n",
    "bank['month'][bank['month']=='feb']=2\n",
    "bank['month'][bank['month']=='jan']=1\n",
    "bank['month'][bank['month']=='jul']=7\n",
    "bank['month'][bank['month']=='jun']=6\n",
    "bank['month'][bank['month']=='mar']=3\n",
    "bank['month'][bank['month']=='may']=5\n",
    "bank['month'][bank['month']=='nov']=11\n",
    "bank['month'][bank['month']=='oct']=10\n",
    "bank['month'][bank['month']=='sep']=9\n",
    "bank['month'] = bank['month'].apply(lambda x:int(x))"
   ]
  },
  {
   "cell_type": "markdown",
   "metadata": {},
   "source": [
    "#### bench mark"
   ]
  },
  {
   "cell_type": "code",
   "execution_count": 255,
   "metadata": {},
   "outputs": [],
   "source": [
    "train, test = model_selection.train_test_split(bank,train_size=0.8,random_state = 2020)"
   ]
  },
  {
   "cell_type": "code",
   "execution_count": 257,
   "metadata": {},
   "outputs": [
    {
     "data": {
      "text/plain": [
       "y\n",
       "no     3194\n",
       "yes     422\n",
       "dtype: int64"
      ]
     },
     "execution_count": 257,
     "metadata": {},
     "output_type": "execute_result"
    }
   ],
   "source": [
    "train.groupby('y').size()"
   ]
  },
  {
   "cell_type": "code",
   "execution_count": 258,
   "metadata": {},
   "outputs": [],
   "source": [
    "benchmark = []\n",
    "for i in range(len(test)):\n",
    "    benchmark.append('no')"
   ]
  },
  {
   "cell_type": "code",
   "execution_count": 262,
   "metadata": {},
   "outputs": [
    {
     "data": {
      "text/plain": [
       "0.8906077348066298"
      ]
     },
     "execution_count": 262,
     "metadata": {},
     "output_type": "execute_result"
    }
   ],
   "source": [
    "(benchmark == test['y']).mean()"
   ]
  },
  {
   "cell_type": "markdown",
   "metadata": {},
   "source": [
    "#### logistic without categorical variables"
   ]
  },
  {
   "cell_type": "code",
   "execution_count": 102,
   "metadata": {},
   "outputs": [],
   "source": [
    "bank_con1 = bank[['age','balance','day','month','duration','campaign','pdays','previous','y']]"
   ]
  },
  {
   "cell_type": "code",
   "execution_count": 120,
   "metadata": {},
   "outputs": [],
   "source": [
    "bank_con1_train, bank_con1_test = model_selection.train_test_split(bank_con1,train_size=0.8,random_state = 2020)"
   ]
  },
  {
   "cell_type": "code",
   "execution_count": 104,
   "metadata": {},
   "outputs": [],
   "source": [
    "glm_con1_fit = smf.glm(\"y~age+balance+day+month+duration+campaign+pdays+previous\",data = bank_con1_train,family=sm.families.Binomial()).fit()"
   ]
  },
  {
   "cell_type": "code",
   "execution_count": 105,
   "metadata": {},
   "outputs": [
    {
     "name": "stdout",
     "output_type": "stream",
     "text": [
      "                  Generalized Linear Model Regression Results                  \n",
      "===============================================================================\n",
      "Dep. Variable:     ['y[no]', 'y[yes]']   No. Observations:                 3616\n",
      "Model:                             GLM   Df Residuals:                     3607\n",
      "Model Family:                 Binomial   Df Model:                            8\n",
      "Link Function:                   logit   Scale:                          1.0000\n",
      "Method:                           IRLS   Log-Likelihood:                -1055.4\n",
      "Date:                 Sun, 18 Oct 2020   Deviance:                       2110.7\n",
      "Time:                         11:52:17   Pearson chi2:                 5.25e+03\n",
      "No. Iterations:                      6                                         \n",
      "Covariance Type:             nonrobust                                         \n",
      "==============================================================================\n",
      "                 coef    std err          z      P>|z|      [0.025      0.975]\n",
      "------------------------------------------------------------------------------\n",
      "Intercept      4.2763      0.305     14.023      0.000       3.679       4.874\n",
      "age           -0.0177      0.005     -3.495      0.000      -0.028      -0.008\n",
      "balance    -2.234e-05    1.6e-05     -1.394      0.163   -5.38e-05    9.07e-06\n",
      "day           -0.0028      0.007     -0.377      0.706      -0.017       0.012\n",
      "month         -0.0354      0.023     -1.507      0.132      -0.081       0.011\n",
      "duration      -0.0036      0.000    -18.517      0.000      -0.004      -0.003\n",
      "campaign       0.0839      0.028      2.960      0.003       0.028       0.139\n",
      "pdays         -0.0018      0.001     -3.178      0.001      -0.003      -0.001\n",
      "previous      -0.1030      0.030     -3.453      0.001      -0.161      -0.045\n",
      "==============================================================================\n"
     ]
    }
   ],
   "source": [
    "print(glm_con1_fit.summary())"
   ]
  },
  {
   "cell_type": "code",
   "execution_count": 106,
   "metadata": {},
   "outputs": [
    {
     "data": {
      "text/plain": [
       "501     0.935037\n",
       "4156    0.934205\n",
       "3578    0.913581\n",
       "1795    0.985978\n",
       "1180    0.930094\n",
       "3405    0.941117\n",
       "1852    0.949043\n",
       "3346    0.888736\n",
       "3282    0.948481\n",
       "313     0.837104\n",
       "dtype: float64"
      ]
     },
     "execution_count": 106,
     "metadata": {},
     "output_type": "execute_result"
    }
   ],
   "source": [
    "glm_prob = glm_con1_fit.predict(bank_con1_test)\n",
    "glm_prob[:10]"
   ]
  },
  {
   "cell_type": "code",
   "execution_count": 107,
   "metadata": {},
   "outputs": [],
   "source": [
    "import numpy as np \n",
    "glm_pred = np.repeat('yes', len(glm_prob))\n",
    "glm_pred[glm_prob > 0.5] = 'no'\n",
    "y_true = bank_con1_test[\"y\"].values"
   ]
  },
  {
   "cell_type": "code",
   "execution_count": 108,
   "metadata": {},
   "outputs": [
    {
     "data": {
      "text/plain": [
       "array([[ 17,  82],\n",
       "       [ 12, 794]], dtype=int64)"
      ]
     },
     "execution_count": 108,
     "metadata": {},
     "output_type": "execute_result"
    }
   ],
   "source": [
    "from sklearn.metrics import confusion_matrix\n",
    "confusion_matrix(y_true, glm_pred,labels=['yes','no'])"
   ]
  },
  {
   "cell_type": "code",
   "execution_count": 42,
   "metadata": {},
   "outputs": [],
   "source": [
    "tn, fp, fn, tp = confusion_matrix(y_true, glm_pred,labels=['yes','no']).ravel()"
   ]
  },
  {
   "cell_type": "code",
   "execution_count": 43,
   "metadata": {},
   "outputs": [
    {
     "data": {
      "text/plain": [
       "(17, 82, 12, 794)"
      ]
     },
     "execution_count": 43,
     "metadata": {},
     "output_type": "execute_result"
    }
   ],
   "source": [
    "(tn, fp, fn, tp)"
   ]
  },
  {
   "cell_type": "code",
   "execution_count": 30,
   "metadata": {},
   "outputs": [
    {
     "data": {
      "text/plain": [
       "0.8961325966850828"
      ]
     },
     "execution_count": 30,
     "metadata": {},
     "output_type": "execute_result"
    }
   ],
   "source": [
    "(glm_pred == y_true).mean()"
   ]
  },
  {
   "cell_type": "code",
   "execution_count": 44,
   "metadata": {},
   "outputs": [
    {
     "name": "stdout",
     "output_type": "stream",
     "text": [
      "              precision    recall  f1-score   support\n",
      "\n",
      "          no       0.91      0.99      0.94       806\n",
      "         yes       0.59      0.17      0.27        99\n",
      "\n",
      "    accuracy                           0.90       905\n",
      "   macro avg       0.75      0.58      0.60       905\n",
      "weighted avg       0.87      0.90      0.87       905\n",
      "\n"
     ]
    }
   ],
   "source": [
    "from sklearn.metrics import classification_report\n",
    "print(classification_report(y_true,glm_pred))"
   ]
  },
  {
   "cell_type": "code",
   "execution_count": 109,
   "metadata": {},
   "outputs": [],
   "source": [
    "import matplotlib.pyplot as plt\n",
    "from sklearn.metrics import roc_curve, auc"
   ]
  },
  {
   "cell_type": "code",
   "execution_count": 122,
   "metadata": {},
   "outputs": [],
   "source": [
    "import copy\n",
    "y = copy.deepcopy(bank_con1_test[\"y\"]).values\n",
    "y[y=='yes'] = 0\n",
    "y[y=='no'] = 1"
   ]
  },
  {
   "cell_type": "code",
   "execution_count": 111,
   "metadata": {},
   "outputs": [],
   "source": [
    "y=np.array(y)\n",
    "score = np.array(glm_prob.values)"
   ]
  },
  {
   "cell_type": "code",
   "execution_count": 112,
   "metadata": {},
   "outputs": [],
   "source": [
    "y = y.astype(int)"
   ]
  },
  {
   "cell_type": "code",
   "execution_count": 113,
   "metadata": {},
   "outputs": [
    {
     "data": {
      "text/plain": [
       "<Figure size 432x288 with 0 Axes>"
      ]
     },
     "metadata": {},
     "output_type": "display_data"
    },
    {
     "data": {
      "image/png": "[encoded data removed]",
      "text/plain": [
       "<Figure size 720x720 with 1 Axes>"
      ]
     },
     "metadata": {
      "needs_background": "light"
     },
     "output_type": "display_data"
    }
   ],
   "source": [
    "# Compute ROC curve and ROC area for each class\n",
    "fpr,tpr,threshold = roc_curve(y,score) ###计算真正率和假正率\n",
    "roc_auc = auc(fpr,tpr) ###计算auc的值\n",
    "plt.figure()\n",
    "lw = 2\n",
    "plt.figure(figsize=(10,10))\n",
    "plt.plot(fpr, tpr, color='darkorange',\n",
    "         lw=lw, label='ROC curve (area = %0.2f)' % roc_auc) ###假正率为横坐标，真正率为纵坐标做曲线\n",
    "plt.plot([0, 1], [0, 1], color='navy', lw=lw, linestyle='--')\n",
    "plt.xlim([0.0, 1.0])\n",
    "plt.ylim([0.0, 1.05])\n",
    "plt.xlabel('False Positive Rate')\n",
    "plt.ylabel('True Positive Rate')\n",
    "plt.title('ROC curve of LR_1')\n",
    "plt.legend(loc=\"lower right\")\n",
    "plt.show()"
   ]
  },
  {
   "cell_type": "markdown",
   "metadata": {},
   "source": [
    "##### delete insignificant variables"
   ]
  },
  {
   "cell_type": "code",
   "execution_count": 114,
   "metadata": {},
   "outputs": [],
   "source": [
    "glm_con2_fit = smf.glm(\"y~age+duration+campaign+pdays+previous\",data = bank_con1_train,family=sm.families.Binomial()).fit()"
   ]
  },
  {
   "cell_type": "code",
   "execution_count": 88,
   "metadata": {
    "scrolled": true
   },
   "outputs": [
    {
     "name": "stdout",
     "output_type": "stream",
     "text": [
      "                  Generalized Linear Model Regression Results                  \n",
      "===============================================================================\n",
      "Dep. Variable:     ['y[no]', 'y[yes]']   No. Observations:                 3616\n",
      "Model:                             GLM   Df Residuals:                     3610\n",
      "Model Family:                 Binomial   Df Model:                            5\n",
      "Link Function:                   logit   Scale:                          1.0000\n",
      "Method:                           IRLS   Log-Likelihood:                -1057.7\n",
      "Date:                 Sun, 18 Oct 2020   Deviance:                       2115.3\n",
      "Time:                         11:48:14   Pearson chi2:                 5.64e+03\n",
      "No. Iterations:                      6                                         \n",
      "Covariance Type:             nonrobust                                         \n",
      "==============================================================================\n",
      "                 coef    std err          z      P>|z|      [0.025      0.975]\n",
      "------------------------------------------------------------------------------\n",
      "Intercept      4.0172      0.248     16.169      0.000       3.530       4.504\n",
      "age           -0.0187      0.005     -3.717      0.000      -0.029      -0.009\n",
      "duration      -0.0036      0.000    -18.516      0.000      -0.004      -0.003\n",
      "campaign       0.0820      0.028      2.914      0.004       0.027       0.137\n",
      "pdays         -0.0017      0.001     -2.974      0.003      -0.003      -0.001\n",
      "previous      -0.1054      0.030     -3.526      0.000      -0.164      -0.047\n",
      "==============================================================================\n"
     ]
    }
   ],
   "source": [
    "print(glm_con2_fit.summary())"
   ]
  },
  {
   "cell_type": "code",
   "execution_count": 115,
   "metadata": {},
   "outputs": [
    {
     "data": {
      "text/plain": [
       "501     0.934140\n",
       "4156    0.934410\n",
       "3578    0.907020\n",
       "1795    0.986174\n",
       "1180    0.923826\n",
       "3405    0.936887\n",
       "1852    0.945137\n",
       "3346    0.901886\n",
       "3282    0.949104\n",
       "313     0.842063\n",
       "dtype: float64"
      ]
     },
     "execution_count": 115,
     "metadata": {},
     "output_type": "execute_result"
    }
   ],
   "source": [
    "glm_prob = glm_con2_fit.predict(bank_con1_test)\n",
    "glm_prob[:10]"
   ]
  },
  {
   "cell_type": "code",
   "execution_count": 123,
   "metadata": {},
   "outputs": [],
   "source": [
    "import numpy as np \n",
    "glm_pred = np.repeat('yes', len(glm_prob))\n",
    "glm_pred[glm_prob > 0.5] = 'no'\n",
    "y_true = bank_con1_test[\"y\"].values"
   ]
  },
  {
   "cell_type": "code",
   "execution_count": 124,
   "metadata": {},
   "outputs": [
    {
     "data": {
      "text/plain": [
       "array(['no', 'no', 'no', 'no', 'yes', 'no', 'no', 'no', 'no', 'no', 'no',\n",
       "       'no', 'no', 'no', 'no', 'no', 'no', 'no', 'no', 'no', 'no', 'no',\n",
       "       'no', 'no', 'no', 'no', 'no', 'no', 'no', 'no', 'no', 'no', 'no',\n",
       "       'no', 'no', 'no', 'no', 'no', 'no', 'no', 'no', 'no', 'no', 'no',\n",
       "       'no', 'no', 'no', 'yes', 'no', 'no', 'no', 'no', 'no', 'no', 'no',\n",
       "       'no', 'no', 'no', 'yes', 'no', 'no', 'no', 'no', 'no', 'no', 'no',\n",
       "       'no', 'no', 'no', 'no', 'no', 'no', 'yes', 'no', 'no', 'no', 'no',\n",
       "       'no', 'no', 'no', 'no', 'no', 'no', 'no', 'yes', 'yes', 'no', 'no',\n",
       "       'no', 'no', 'no', 'yes', 'no', 'no', 'no', 'no', 'no', 'no', 'no',\n",
       "       'no', 'no', 'no', 'yes', 'no', 'no', 'yes', 'no', 'no', 'no', 'no',\n",
       "       'no', 'no', 'no', 'no', 'no', 'no', 'no', 'no', 'no', 'no', 'no',\n",
       "       'no', 'no', 'no', 'no', 'no', 'no', 'no', 'no', 'yes', 'no', 'no',\n",
       "       'yes', 'no', 'no', 'no', 'no', 'no', 'no', 'no', 'no', 'no', 'yes',\n",
       "       'no', 'no', 'no', 'no', 'yes', 'no', 'no', 'no', 'no', 'no', 'no',\n",
       "       'yes', 'no', 'no', 'no', 'yes', 'no', 'no', 'no', 'yes', 'no',\n",
       "       'no', 'no', 'no', 'no', 'no', 'no', 'yes', 'no', 'no', 'yes', 'no',\n",
       "       'no', 'no', 'no', 'no', 'no', 'no', 'yes', 'no', 'no', 'yes',\n",
       "       'yes', 'no', 'no', 'no', 'yes', 'no', 'no', 'no', 'no', 'no', 'no',\n",
       "       'no', 'no', 'no', 'no', 'no', 'no', 'no', 'no', 'no', 'no', 'no',\n",
       "       'no', 'no', 'no', 'yes', 'no', 'yes', 'no', 'no', 'no', 'no', 'no',\n",
       "       'no', 'no', 'no', 'no', 'no', 'no', 'no', 'no', 'no', 'no', 'no',\n",
       "       'no', 'no', 'no', 'no', 'no', 'no', 'no', 'no', 'no', 'no', 'no',\n",
       "       'no', 'no', 'no', 'no', 'no', 'yes', 'no', 'no', 'no', 'no', 'no',\n",
       "       'no', 'no', 'no', 'no', 'no', 'no', 'yes', 'yes', 'no', 'no', 'no',\n",
       "       'no', 'no', 'no', 'no', 'no', 'no', 'no', 'no', 'no', 'no', 'no',\n",
       "       'no', 'no', 'yes', 'no', 'no', 'no', 'no', 'yes', 'no', 'no', 'no',\n",
       "       'no', 'no', 'no', 'no', 'yes', 'no', 'no', 'yes', 'no', 'no', 'no',\n",
       "       'no', 'no', 'no', 'no', 'no', 'yes', 'no', 'no', 'no', 'no', 'no',\n",
       "       'no', 'no', 'no', 'no', 'yes', 'no', 'yes', 'no', 'yes', 'yes',\n",
       "       'no', 'no', 'no', 'no', 'no', 'no', 'no', 'yes', 'no', 'yes', 'no',\n",
       "       'no', 'no', 'no', 'no', 'no', 'yes', 'yes', 'no', 'no', 'no', 'no',\n",
       "       'no', 'no', 'no', 'no', 'no', 'no', 'no', 'no', 'no', 'no', 'yes',\n",
       "       'no', 'no', 'yes', 'no', 'no', 'no', 'no', 'no', 'no', 'no', 'no',\n",
       "       'no', 'no', 'yes', 'no', 'yes', 'yes', 'no', 'no', 'no', 'no',\n",
       "       'no', 'no', 'no', 'no', 'no', 'yes', 'no', 'no', 'no', 'no', 'no',\n",
       "       'yes', 'no', 'no', 'no', 'no', 'no', 'no', 'no', 'yes', 'no', 'no',\n",
       "       'no', 'no', 'no', 'no', 'no', 'no', 'no', 'yes', 'no', 'yes',\n",
       "       'yes', 'no', 'no', 'no', 'no', 'no', 'no', 'no', 'no', 'no', 'no',\n",
       "       'no', 'no', 'no', 'no', 'no', 'yes', 'no', 'yes', 'no', 'no', 'no',\n",
       "       'no', 'no', 'no', 'yes', 'no', 'no', 'no', 'no', 'no', 'no', 'yes',\n",
       "       'no', 'no', 'yes', 'yes', 'no', 'no', 'no', 'no', 'no', 'no', 'no',\n",
       "       'no', 'no', 'no', 'no', 'no', 'no', 'no', 'yes', 'no', 'no', 'no',\n",
       "       'no', 'no', 'no', 'no', 'no', 'yes', 'no', 'no', 'no', 'no', 'no',\n",
       "       'no', 'no', 'no', 'no', 'yes', 'no', 'no', 'no', 'no', 'no', 'no',\n",
       "       'yes', 'no', 'no', 'yes', 'no', 'no', 'no', 'no', 'no', 'yes',\n",
       "       'no', 'no', 'no', 'yes', 'yes', 'no', 'no', 'no', 'no', 'no', 'no',\n",
       "       'no', 'yes', 'no', 'no', 'no', 'no', 'no', 'no', 'no', 'no', 'no',\n",
       "       'no', 'no', 'no', 'no', 'no', 'no', 'no', 'no', 'no', 'no', 'no',\n",
       "       'no', 'no', 'no', 'no', 'no', 'no', 'no', 'no', 'no', 'no', 'no',\n",
       "       'no', 'no', 'no', 'no', 'no', 'no', 'no', 'no', 'no', 'no', 'no',\n",
       "       'no', 'no', 'no', 'no', 'no', 'no', 'yes', 'no', 'no', 'no', 'no',\n",
       "       'no', 'no', 'no', 'no', 'no', 'no', 'yes', 'no', 'no', 'yes',\n",
       "       'yes', 'no', 'no', 'no', 'no', 'no', 'no', 'no', 'no', 'no', 'no',\n",
       "       'no', 'no', 'yes', 'no', 'no', 'no', 'no', 'no', 'no', 'no', 'no',\n",
       "       'yes', 'no', 'no', 'no', 'no', 'no', 'no', 'no', 'no', 'no', 'no',\n",
       "       'no', 'no', 'no', 'no', 'no', 'no', 'no', 'no', 'yes', 'no', 'no',\n",
       "       'no', 'no', 'no', 'no', 'no', 'no', 'no', 'no', 'no', 'no', 'no',\n",
       "       'no', 'no', 'no', 'no', 'no', 'no', 'no', 'no', 'no', 'no', 'no',\n",
       "       'no', 'no', 'no', 'no', 'no', 'no', 'no', 'no', 'no', 'no', 'no',\n",
       "       'no', 'no', 'no', 'no', 'no', 'no', 'no', 'yes', 'no', 'no', 'no',\n",
       "       'no', 'no', 'no', 'no', 'no', 'no', 'no', 'no', 'no', 'no', 'no',\n",
       "       'yes', 'no', 'no', 'no', 'no', 'no', 'yes', 'no', 'no', 'no', 'no',\n",
       "       'no', 'no', 'no', 'no', 'yes', 'no', 'no', 'yes', 'no', 'no', 'no',\n",
       "       'no', 'no', 'no', 'yes', 'no', 'yes', 'no', 'no', 'no', 'no', 'no',\n",
       "       'no', 'no', 'no', 'no', 'no', 'no', 'yes', 'no', 'yes', 'no', 'no',\n",
       "       'no', 'no', 'no', 'no', 'no', 'no', 'no', 'no', 'no', 'yes', 'no',\n",
       "       'no', 'no', 'no', 'no', 'no', 'no', 'no', 'no', 'no', 'yes', 'yes',\n",
       "       'no', 'no', 'no', 'no', 'no', 'no', 'no', 'no', 'no', 'no', 'no',\n",
       "       'no', 'no', 'no', 'no', 'no', 'no', 'yes', 'no', 'no', 'no', 'yes',\n",
       "       'no', 'no', 'yes', 'no', 'no', 'no', 'no', 'no', 'no', 'no', 'no',\n",
       "       'no', 'no', 'no', 'no', 'no', 'no', 'no', 'no', 'no', 'no', 'no',\n",
       "       'no', 'no', 'no', 'no', 'no', 'no', 'no', 'yes', 'no', 'no', 'no',\n",
       "       'no', 'no', 'no', 'no', 'yes', 'no', 'no', 'no', 'no', 'no', 'no',\n",
       "       'no', 'no', 'no', 'no', 'yes', 'no', 'no', 'no', 'no', 'no', 'no',\n",
       "       'no', 'no', 'no', 'no', 'no', 'no', 'no', 'no', 'no', 'no', 'no',\n",
       "       'no', 'yes', 'no', 'no', 'no', 'no', 'no', 'no', 'no', 'no', 'no',\n",
       "       'no', 'no', 'no', 'no', 'no', 'no', 'no', 'no', 'no', 'no', 'no',\n",
       "       'no', 'yes', 'no', 'no', 'yes', 'yes', 'no', 'no', 'no', 'no',\n",
       "       'no', 'no', 'no', 'yes', 'no', 'no', 'yes', 'no', 'no', 'no', 'no',\n",
       "       'no', 'no', 'no', 'no', 'no', 'no', 'no', 'no', 'no', 'no', 'no',\n",
       "       'no', 'no', 'no', 'no', 'no', 'no', 'no', 'no', 'no', 'no', 'no',\n",
       "       'no', 'no', 'no', 'no', 'yes', 'no', 'no', 'no', 'no', 'no', 'no',\n",
       "       'no', 'no', 'no', 'no', 'no', 'no', 'no', 'yes', 'no', 'no', 'no'],\n",
       "      dtype=object)"
      ]
     },
     "execution_count": 124,
     "metadata": {},
     "output_type": "execute_result"
    }
   ],
   "source": [
    "y_true"
   ]
  },
  {
   "cell_type": "code",
   "execution_count": 125,
   "metadata": {},
   "outputs": [
    {
     "data": {
      "text/plain": [
       "array([[ 19,  80],\n",
       "       [ 12, 794]], dtype=int64)"
      ]
     },
     "execution_count": 125,
     "metadata": {},
     "output_type": "execute_result"
    }
   ],
   "source": [
    "from sklearn.metrics import confusion_matrix\n",
    "confusion_matrix(y_true, glm_pred,labels=['yes','no'])"
   ]
  },
  {
   "cell_type": "code",
   "execution_count": 126,
   "metadata": {},
   "outputs": [],
   "source": [
    "tn, fp, fn, tp = confusion_matrix(y_true, glm_pred,labels=['yes','no']).ravel()"
   ]
  },
  {
   "cell_type": "code",
   "execution_count": 127,
   "metadata": {},
   "outputs": [
    {
     "data": {
      "text/plain": [
       "(19, 80, 12, 794)"
      ]
     },
     "execution_count": 127,
     "metadata": {},
     "output_type": "execute_result"
    }
   ],
   "source": [
    "(tn, fp, fn, tp)"
   ]
  },
  {
   "cell_type": "code",
   "execution_count": 128,
   "metadata": {},
   "outputs": [
    {
     "data": {
      "text/plain": [
       "0.8983425414364641"
      ]
     },
     "execution_count": 128,
     "metadata": {},
     "output_type": "execute_result"
    }
   ],
   "source": [
    "(glm_pred == y_true).mean()"
   ]
  },
  {
   "cell_type": "code",
   "execution_count": 129,
   "metadata": {},
   "outputs": [
    {
     "name": "stdout",
     "output_type": "stream",
     "text": [
      "              precision    recall  f1-score   support\n",
      "\n",
      "          no       0.91      0.99      0.95       806\n",
      "         yes       0.61      0.19      0.29        99\n",
      "\n",
      "    accuracy                           0.90       905\n",
      "   macro avg       0.76      0.59      0.62       905\n",
      "weighted avg       0.88      0.90      0.87       905\n",
      "\n"
     ]
    }
   ],
   "source": [
    "from sklearn.metrics import classification_report\n",
    "print(classification_report(y_true,glm_pred))"
   ]
  },
  {
   "cell_type": "code",
   "execution_count": 130,
   "metadata": {},
   "outputs": [],
   "source": [
    "import matplotlib.pyplot as plt\n",
    "from sklearn.metrics import roc_curve, auc"
   ]
  },
  {
   "cell_type": "code",
   "execution_count": 131,
   "metadata": {},
   "outputs": [],
   "source": [
    "y_true = bank_con1_test[\"y\"].values\n",
    "y_true[y_true=='yes'] = 0\n",
    "y_true[y_true=='no'] = 1"
   ]
  },
  {
   "cell_type": "code",
   "execution_count": 132,
   "metadata": {},
   "outputs": [],
   "source": [
    "y=np.array(y_true)\n",
    "score = np.array(glm_prob.values)"
   ]
  },
  {
   "cell_type": "code",
   "execution_count": 133,
   "metadata": {},
   "outputs": [],
   "source": [
    "y = y.astype(int)"
   ]
  },
  {
   "cell_type": "code",
   "execution_count": 134,
   "metadata": {},
   "outputs": [
    {
     "data": {
      "text/plain": [
       "<Figure size 432x288 with 0 Axes>"
      ]
     },
     "metadata": {},
     "output_type": "display_data"
    },
    {
     "data": {
      "image/png": "[encoded data removed]",
      "text/plain": [
       "<Figure size 720x720 with 1 Axes>"
      ]
     },
     "metadata": {
      "needs_background": "light"
     },
     "output_type": "display_data"
    }
   ],
   "source": [
    "# Compute ROC curve and ROC area for each class\n",
    "fpr,tpr,threshold = roc_curve(y,score) ###计算真正率和假正率\n",
    "roc_auc = auc(fpr,tpr) ###计算auc的值\n",
    "plt.figure()\n",
    "lw = 2\n",
    "plt.figure(figsize=(10,10))\n",
    "plt.plot(fpr, tpr, color='darkorange',\n",
    "         lw=lw, label='ROC curve (area = %0.2f)' % roc_auc) ###假正率为横坐标，真正率为纵坐标做曲线\n",
    "plt.plot([0, 1], [0, 1], color='navy', lw=lw, linestyle='--')\n",
    "plt.xlim([0.0, 1.0])\n",
    "plt.ylim([0.0, 1.05])\n",
    "plt.xlabel('False Positive Rate')\n",
    "plt.ylabel('True Positive Rate')\n",
    "plt.title('ROC curve of LR_1')\n",
    "plt.legend(loc=\"lower right\")\n",
    "plt.show()"
   ]
  },
  {
   "cell_type": "markdown",
   "metadata": {},
   "source": [
    "#### categorical"
   ]
  },
  {
   "cell_type": "code",
   "execution_count": 135,
   "metadata": {
    "scrolled": true
   },
   "outputs": [],
   "source": [
    "bank_cat = copy.deepcopy(bank)"
   ]
  },
  {
   "cell_type": "code",
   "execution_count": 136,
   "metadata": {},
   "outputs": [
    {
     "data": {
      "text/html": [
       "<div>\n",
       "<style scoped>\n",
       "    .dataframe tbody tr th:only-of-type {\n",
       "        vertical-align: middle;\n",
       "    }\n",
       "\n",
       "    .dataframe tbody tr th {\n",
       "        vertical-align: top;\n",
       "    }\n",
       "\n",
       "    .dataframe thead th {\n",
       "        text-align: right;\n",
       "    }\n",
       "</style>\n",
       "<table border=\"1\" class=\"dataframe\">\n",
       "  <thead>\n",
       "    <tr style=\"text-align: right;\">\n",
       "      <th></th>\n",
       "      <th>age</th>\n",
       "      <th>job</th>\n",
       "      <th>marital</th>\n",
       "      <th>education</th>\n",
       "      <th>default</th>\n",
       "      <th>balance</th>\n",
       "      <th>housing</th>\n",
       "      <th>loan</th>\n",
       "      <th>contact</th>\n",
       "      <th>day</th>\n",
       "      <th>month</th>\n",
       "      <th>duration</th>\n",
       "      <th>campaign</th>\n",
       "      <th>pdays</th>\n",
       "      <th>previous</th>\n",
       "      <th>poutcome</th>\n",
       "      <th>y</th>\n",
       "    </tr>\n",
       "  </thead>\n",
       "  <tbody>\n",
       "    <tr>\n",
       "      <td>0</td>\n",
       "      <td>30</td>\n",
       "      <td>unemployed</td>\n",
       "      <td>married</td>\n",
       "      <td>primary</td>\n",
       "      <td>no</td>\n",
       "      <td>1787</td>\n",
       "      <td>no</td>\n",
       "      <td>no</td>\n",
       "      <td>cellular</td>\n",
       "      <td>19</td>\n",
       "      <td>10</td>\n",
       "      <td>79</td>\n",
       "      <td>1</td>\n",
       "      <td>-1</td>\n",
       "      <td>0</td>\n",
       "      <td>unknown</td>\n",
       "      <td>no</td>\n",
       "    </tr>\n",
       "    <tr>\n",
       "      <td>1</td>\n",
       "      <td>33</td>\n",
       "      <td>services</td>\n",
       "      <td>married</td>\n",
       "      <td>secondary</td>\n",
       "      <td>no</td>\n",
       "      <td>4789</td>\n",
       "      <td>yes</td>\n",
       "      <td>yes</td>\n",
       "      <td>cellular</td>\n",
       "      <td>11</td>\n",
       "      <td>5</td>\n",
       "      <td>220</td>\n",
       "      <td>1</td>\n",
       "      <td>339</td>\n",
       "      <td>4</td>\n",
       "      <td>failure</td>\n",
       "      <td>no</td>\n",
       "    </tr>\n",
       "    <tr>\n",
       "      <td>2</td>\n",
       "      <td>35</td>\n",
       "      <td>management</td>\n",
       "      <td>single</td>\n",
       "      <td>tertiary</td>\n",
       "      <td>no</td>\n",
       "      <td>1350</td>\n",
       "      <td>yes</td>\n",
       "      <td>no</td>\n",
       "      <td>cellular</td>\n",
       "      <td>16</td>\n",
       "      <td>4</td>\n",
       "      <td>185</td>\n",
       "      <td>1</td>\n",
       "      <td>330</td>\n",
       "      <td>1</td>\n",
       "      <td>failure</td>\n",
       "      <td>no</td>\n",
       "    </tr>\n",
       "    <tr>\n",
       "      <td>3</td>\n",
       "      <td>30</td>\n",
       "      <td>management</td>\n",
       "      <td>married</td>\n",
       "      <td>tertiary</td>\n",
       "      <td>no</td>\n",
       "      <td>1476</td>\n",
       "      <td>yes</td>\n",
       "      <td>yes</td>\n",
       "      <td>unknown</td>\n",
       "      <td>3</td>\n",
       "      <td>6</td>\n",
       "      <td>199</td>\n",
       "      <td>4</td>\n",
       "      <td>-1</td>\n",
       "      <td>0</td>\n",
       "      <td>unknown</td>\n",
       "      <td>no</td>\n",
       "    </tr>\n",
       "    <tr>\n",
       "      <td>4</td>\n",
       "      <td>59</td>\n",
       "      <td>blue-collar</td>\n",
       "      <td>married</td>\n",
       "      <td>secondary</td>\n",
       "      <td>no</td>\n",
       "      <td>0</td>\n",
       "      <td>yes</td>\n",
       "      <td>no</td>\n",
       "      <td>unknown</td>\n",
       "      <td>5</td>\n",
       "      <td>5</td>\n",
       "      <td>226</td>\n",
       "      <td>1</td>\n",
       "      <td>-1</td>\n",
       "      <td>0</td>\n",
       "      <td>unknown</td>\n",
       "      <td>no</td>\n",
       "    </tr>\n",
       "  </tbody>\n",
       "</table>\n",
       "</div>"
      ],
      "text/plain": [
       "   age          job  marital  education default  balance housing loan  \\\n",
       "0   30   unemployed  married    primary      no     1787      no   no   \n",
       "1   33     services  married  secondary      no     4789     yes  yes   \n",
       "2   35   management   single   tertiary      no     1350     yes   no   \n",
       "3   30   management  married   tertiary      no     1476     yes  yes   \n",
       "4   59  blue-collar  married  secondary      no        0     yes   no   \n",
       "\n",
       "    contact  day  month  duration  campaign  pdays  previous poutcome   y  \n",
       "0  cellular   19     10        79         1     -1         0  unknown  no  \n",
       "1  cellular   11      5       220         1    339         4  failure  no  \n",
       "2  cellular   16      4       185         1    330         1  failure  no  \n",
       "3   unknown    3      6       199         4     -1         0  unknown  no  \n",
       "4   unknown    5      5       226         1     -1         0  unknown  no  "
      ]
     },
     "execution_count": 136,
     "metadata": {},
     "output_type": "execute_result"
    }
   ],
   "source": [
    "bank_cat.head()"
   ]
  },
  {
   "cell_type": "markdown",
   "metadata": {},
   "source": [
    "binary(yes:0 ; no:1): default ; housing ; loan ; y\n",
    "catogorical : job(12) ; marital(3) ; education(4) ; contact(3) ; poutcome(4) "
   ]
  },
  {
   "cell_type": "code",
   "execution_count": 137,
   "metadata": {},
   "outputs": [],
   "source": [
    "bank_cat['default'] = np.where(bank_cat['default'] == 'no' , 1, 0)\n",
    "bank_cat['housing'] = np.where(bank_cat['housing'] == 'no' , 1, 0)\n",
    "bank_cat['loan'] = np.where(bank_cat['loan'] == 'no' , 1, 0)"
   ]
  },
  {
   "cell_type": "markdown",
   "metadata": {},
   "source": [
    "#### convert categorical variables into integer"
   ]
  },
  {
   "cell_type": "markdown",
   "metadata": {},
   "source": [
    "job"
   ]
  },
  {
   "cell_type": "code",
   "execution_count": 138,
   "metadata": {},
   "outputs": [],
   "source": [
    "caluse = copy.deepcopy(bank)\n",
    "caluse = pd.get_dummies(caluse, columns=['y'])"
   ]
  },
  {
   "cell_type": "code",
   "execution_count": 139,
   "metadata": {},
   "outputs": [
    {
     "data": {
      "text/plain": [
       "job\n",
       "admin.           478\n",
       "blue-collar      946\n",
       "entrepreneur     168\n",
       "housemaid        112\n",
       "management       969\n",
       "retired          230\n",
       "self-employed    183\n",
       "services         417\n",
       "student           84\n",
       "technician       768\n",
       "unemployed       128\n",
       "unknown           38\n",
       "dtype: int64"
      ]
     },
     "execution_count": 139,
     "metadata": {},
     "output_type": "execute_result"
    }
   ],
   "source": [
    "caluse.groupby('job').size()"
   ]
  },
  {
   "cell_type": "code",
   "execution_count": 140,
   "metadata": {},
   "outputs": [],
   "source": [
    "job = {}"
   ]
  },
  {
   "cell_type": "code",
   "execution_count": 141,
   "metadata": {},
   "outputs": [],
   "source": [
    "job['admin.'] = sum(caluse[caluse['job']=='admin.']['y_no'])/sum(caluse[caluse['job']=='admin.']['y_yes'])\n",
    "job['blue-collar'] = sum(caluse[caluse['job']=='blue-collar']['y_no'])/sum(caluse[caluse['job']=='blue-collar']['y_yes'])\n",
    "job['entrepreneur'] = sum(caluse[caluse['job']=='entrepreneur']['y_no'])/sum(caluse[caluse['job']=='entrepreneur']['y_yes'])\n",
    "job['housemaid'] = sum(caluse[caluse['job']=='housemaid']['y_no'])/sum(caluse[caluse['job']=='housemaid']['y_yes'])\n",
    "job['management'] = sum(caluse[caluse['job']=='management']['y_no'])/sum(caluse[caluse['job']=='management']['y_yes'])\n",
    "job['retired'] = sum(caluse[caluse['job']=='retired']['y_no'])/sum(caluse[caluse['job']=='retired']['y_yes'])\n",
    "job['self-employed'] = sum(caluse[caluse['job']=='self-employed']['y_no'])/sum(caluse[caluse['job']=='self-employed']['y_yes'])\n",
    "job['services'] = sum(caluse[caluse['job']=='services']['y_no'])/sum(caluse[caluse['job']=='services']['y_yes'])\n",
    "job['student'] = sum(caluse[caluse['job']=='student']['y_no'])/sum(caluse[caluse['job']=='student']['y_yes'])\n",
    "job['technician'] = sum(caluse[caluse['job']=='technician']['y_no'])/sum(caluse[caluse['job']=='technician']['y_yes'])\n",
    "job['unemployed'] = sum(caluse[caluse['job']=='unemployed']['y_no'])/sum(caluse[caluse['job']=='unemployed']['y_yes'])\n",
    "job['unknown'] = sum(caluse[caluse['job']=='unknown']['y_no'])/sum(caluse[caluse['job']=='unknown']['y_yes'])\n"
   ]
  },
  {
   "cell_type": "code",
   "execution_count": 142,
   "metadata": {},
   "outputs": [
    {
     "data": {
      "text/plain": [
       "{'admin.': 7.241379310344827,\n",
       " 'blue-collar': 12.710144927536232,\n",
       " 'entrepreneur': 10.2,\n",
       " 'housemaid': 7.0,\n",
       " 'management': 6.396946564885496,\n",
       " 'retired': 3.259259259259259,\n",
       " 'self-employed': 8.15,\n",
       " 'services': 9.973684210526315,\n",
       " 'student': 3.4210526315789473,\n",
       " 'technician': 8.25301204819277,\n",
       " 'unemployed': 8.846153846153847,\n",
       " 'unknown': 4.428571428571429}"
      ]
     },
     "execution_count": 142,
     "metadata": {},
     "output_type": "execute_result"
    }
   ],
   "source": [
    "job"
   ]
  },
  {
   "cell_type": "code",
   "execution_count": 143,
   "metadata": {},
   "outputs": [],
   "source": [
    "bank_cat['job'][bank_cat['job']=='admin.']=7.241379310344827\n",
    "bank_cat['job'][bank['job']=='blue-collar']=12.710144927536232\n",
    "bank_cat['job'][bank['job']=='entrepreneur']=10.2\n",
    "bank_cat['job'][bank['job']=='housemaid']=7.0\n",
    "bank_cat['job'][bank['job']=='management']=6.396946564885496\n",
    "bank_cat['job'][bank['job']=='retired']=3.25925925925925\n",
    "bank_cat['job'][bank['job']=='self-employed']=8.15\n",
    "bank_cat['job'][bank['job']=='services']=9.973684210526315\n",
    "bank_cat['job'][bank['job']=='student']=3.421\n",
    "bank_cat['job'][bank['job']=='technician']=8.25\n",
    "bank_cat['job'][bank['job']=='unemployed']=8.846\n",
    "bank_cat['job'][bank['job']=='unknown']=4.428571428571429"
   ]
  },
  {
   "cell_type": "code",
   "execution_count": 144,
   "metadata": {},
   "outputs": [],
   "source": [
    "bank_cat['job'] = bank_cat['job'].apply(float)"
   ]
  },
  {
   "cell_type": "markdown",
   "metadata": {},
   "source": [
    "#job\n",
    "job_order = list(bank_cat.groupby('job').size().sort_values().index)\n",
    "bank_cat['job'] = bank_cat['job'].astype(\"category\",  order=True,  category=job_order).cat.codes"
   ]
  },
  {
   "cell_type": "markdown",
   "metadata": {},
   "source": [
    "marital"
   ]
  },
  {
   "cell_type": "code",
   "execution_count": 145,
   "metadata": {},
   "outputs": [
    {
     "data": {
      "text/plain": [
       "marital\n",
       "divorced     528\n",
       "married     2797\n",
       "single      1196\n",
       "dtype: int64"
      ]
     },
     "execution_count": 145,
     "metadata": {},
     "output_type": "execute_result"
    }
   ],
   "source": [
    "caluse.groupby('marital').size()"
   ]
  },
  {
   "cell_type": "code",
   "execution_count": 146,
   "metadata": {},
   "outputs": [],
   "source": [
    "marital = {}\n",
    "marital['divorced'] = sum(caluse[caluse['marital']=='divorced']['y_no'])/sum(caluse[caluse['marital']=='divorced']['y_yes'])\n",
    "marital['married'] = sum(caluse[caluse['marital']=='married']['y_no'])/sum(caluse[caluse['marital']=='married']['y_yes'])\n",
    "marital['single'] = sum(caluse[caluse['marital']=='single']['y_no'])/sum(caluse[caluse['marital']=='single']['y_yes'])"
   ]
  },
  {
   "cell_type": "code",
   "execution_count": 147,
   "metadata": {},
   "outputs": [
    {
     "data": {
      "text/plain": [
       "{'divorced': 5.857142857142857,\n",
       " 'married': 9.097472924187725,\n",
       " 'single': 6.161676646706587}"
      ]
     },
     "execution_count": 147,
     "metadata": {},
     "output_type": "execute_result"
    }
   ],
   "source": [
    "marital"
   ]
  },
  {
   "cell_type": "code",
   "execution_count": 148,
   "metadata": {},
   "outputs": [],
   "source": [
    "bank_cat['marital'][bank_cat['marital']=='divorced'] = 5.857142857142857\n",
    "bank_cat['marital'][bank_cat['marital']=='married'] = 9.097472924187725\n",
    "bank_cat['marital'][bank_cat['marital']=='single'] = 6.161676646706587                    "
   ]
  },
  {
   "cell_type": "code",
   "execution_count": 149,
   "metadata": {},
   "outputs": [],
   "source": [
    "bank_cat['marital'] = bank_cat['marital'].apply(float)"
   ]
  },
  {
   "cell_type": "markdown",
   "metadata": {},
   "source": [
    "#marital\n",
    "marital_order = list(bank_cat.groupby('marital').size().sort_values().index)\n",
    "bank_cat['marital']= bank['marital'].astype(\"category\",order = True , category = marital_order).cat.codes"
   ]
  },
  {
   "cell_type": "markdown",
   "metadata": {},
   "source": [
    "education"
   ]
  },
  {
   "cell_type": "code",
   "execution_count": 150,
   "metadata": {},
   "outputs": [
    {
     "data": {
      "text/plain": [
       "education\n",
       "primary       678\n",
       "secondary    2306\n",
       "tertiary     1350\n",
       "unknown       187\n",
       "dtype: int64"
      ]
     },
     "execution_count": 150,
     "metadata": {},
     "output_type": "execute_result"
    }
   ],
   "source": [
    "caluse.groupby('education').size()"
   ]
  },
  {
   "cell_type": "code",
   "execution_count": 151,
   "metadata": {},
   "outputs": [],
   "source": [
    "education = {}\n",
    "education['primary']  =  sum(caluse[caluse['education']=='primary']['y_no'])/sum(caluse[caluse['education']=='primary']['y_yes'])\n",
    "education['secondary']  =  sum(caluse[caluse['education']=='secondary']['y_no'])/sum(caluse[caluse['education']=='secondary']['y_yes'])\n",
    "education['tertiary']  =  sum(caluse[caluse['education']=='tertiary']['y_no'])/sum(caluse[caluse['education']=='tertiary']['y_yes'])\n",
    "education['unknown']  =  sum(caluse[caluse['education']=='unknown']['y_no'])/sum(caluse[caluse['education']=='unknown']['y_yes'])\n"
   ]
  },
  {
   "cell_type": "code",
   "execution_count": 152,
   "metadata": {},
   "outputs": [
    {
     "data": {
      "text/plain": [
       "{'primary': 9.59375,\n",
       " 'secondary': 8.412244897959184,\n",
       " 'tertiary': 5.994818652849741,\n",
       " 'unknown': 8.842105263157896}"
      ]
     },
     "execution_count": 152,
     "metadata": {},
     "output_type": "execute_result"
    }
   ],
   "source": [
    "education"
   ]
  },
  {
   "cell_type": "code",
   "execution_count": 153,
   "metadata": {},
   "outputs": [],
   "source": [
    "bank_cat['education'][bank_cat['education']=='primary'] = 9.59375\n",
    "bank_cat['education'][bank_cat['education']=='secondary']=8.412244897959184\n",
    "bank_cat['education'][bank_cat['education']=='tertiary']=5.994818652849741\n",
    "bank_cat['education'][bank_cat['education']=='unknown']=8.842105263157896\n",
    "                      "
   ]
  },
  {
   "cell_type": "code",
   "execution_count": 154,
   "metadata": {},
   "outputs": [],
   "source": [
    "bank_cat['education'] = bank_cat['education'].apply(float)"
   ]
  },
  {
   "cell_type": "markdown",
   "metadata": {},
   "source": [
    "#education\n",
    "education_order = list(bank_cat.groupby('education').size().sort_values().index)\n",
    "bank_cat['education'] = ban_cat['education'].astype(\"category\",order = True, category = education_order).cat.codes"
   ]
  },
  {
   "cell_type": "markdown",
   "metadata": {},
   "source": [
    "contact"
   ]
  },
  {
   "cell_type": "code",
   "execution_count": 155,
   "metadata": {},
   "outputs": [
    {
     "data": {
      "text/plain": [
       "contact\n",
       "cellular     2896\n",
       "telephone     301\n",
       "unknown      1324\n",
       "dtype: int64"
      ]
     },
     "execution_count": 155,
     "metadata": {},
     "output_type": "execute_result"
    }
   ],
   "source": [
    "caluse.groupby('contact').size()"
   ]
  },
  {
   "cell_type": "code",
   "execution_count": 156,
   "metadata": {},
   "outputs": [
    {
     "data": {
      "text/plain": [
       "{'cellular': 5.961538461538462,\n",
       " 'telephone': 5.840909090909091,\n",
       " 'unknown': 20.704918032786885}"
      ]
     },
     "execution_count": 156,
     "metadata": {},
     "output_type": "execute_result"
    }
   ],
   "source": [
    "contact = {}\n",
    "contact['cellular']  =  sum(caluse[caluse['contact']=='cellular']['y_no'])/sum(caluse[caluse['contact']=='cellular']['y_yes'])\n",
    "contact['telephone']  =  sum(caluse[caluse['contact']=='telephone']['y_no'])/sum(caluse[caluse['contact']=='telephone']['y_yes'])\n",
    "contact['unknown']  =  sum(caluse[caluse['contact']=='unknown']['y_no'])/sum(caluse[caluse['contact']=='unknown']['y_yes'])\n",
    "contact"
   ]
  },
  {
   "cell_type": "code",
   "execution_count": 157,
   "metadata": {},
   "outputs": [],
   "source": [
    "bank_cat['contact'][bank_cat['contact']=='cellular'] =5.961538461538462\n",
    "bank_cat['contact'][bank_cat['contact']=='telephone']=5.84090909090909\n",
    "bank_cat['contact'][bank_cat['contact']=='unknown']=20.704918032786885"
   ]
  },
  {
   "cell_type": "code",
   "execution_count": 158,
   "metadata": {},
   "outputs": [],
   "source": [
    "bank_cat['contact'] = bank_cat['contact'].apply(float)"
   ]
  },
  {
   "cell_type": "markdown",
   "metadata": {},
   "source": [
    "#contact\n",
    "contact_order = list(bank_cat.groupby('contact').size().sort_values().index)\n",
    "bank_cat['contact'] = bank_cat['contact'].astype(\"category\",order = True, category = contact_order).cat.codes"
   ]
  },
  {
   "cell_type": "markdown",
   "metadata": {},
   "source": [
    "poutcome"
   ]
  },
  {
   "cell_type": "code",
   "execution_count": 159,
   "metadata": {},
   "outputs": [
    {
     "data": {
      "text/plain": [
       "poutcome\n",
       "failure     490\n",
       "other       197\n",
       "success     129\n",
       "unknown    3705\n",
       "dtype: int64"
      ]
     },
     "execution_count": 159,
     "metadata": {},
     "output_type": "execute_result"
    }
   ],
   "source": [
    "caluse.groupby('poutcome').size()"
   ]
  },
  {
   "cell_type": "code",
   "execution_count": 160,
   "metadata": {},
   "outputs": [
    {
     "data": {
      "text/plain": [
       "{'failure': 6.777777777777778,\n",
       " 'other': 4.184210526315789,\n",
       " 'success': 0.5542168674698795,\n",
       " 'unknown': 9.99406528189911}"
      ]
     },
     "execution_count": 160,
     "metadata": {},
     "output_type": "execute_result"
    }
   ],
   "source": [
    "poutcome = {}\n",
    "poutcome['failure']  =  sum(caluse[caluse['poutcome']=='failure']['y_no'])/sum(caluse[caluse['poutcome']=='failure']['y_yes'])\n",
    "poutcome['other']  =  sum(caluse[caluse['poutcome']=='other']['y_no'])/sum(caluse[caluse['poutcome']=='other']['y_yes'])\n",
    "poutcome['success']  =  sum(caluse[caluse['poutcome']=='success']['y_no'])/sum(caluse[caluse['poutcome']=='success']['y_yes'])\n",
    "poutcome['unknown']  =  sum(caluse[caluse['poutcome']=='unknown']['y_no'])/sum(caluse[caluse['poutcome']=='unknown']['y_yes'])\n",
    "poutcome"
   ]
  },
  {
   "cell_type": "code",
   "execution_count": 161,
   "metadata": {},
   "outputs": [],
   "source": [
    "bank_cat['poutcome'][bank_cat['poutcome']=='failure'] =6.777777777777778\n",
    "bank_cat['poutcome'][bank_cat['poutcome']=='other']=4.184210526315789\n",
    "bank_cat['poutcome'][bank_cat['poutcome']=='success']= 0.5542168674698795\n",
    "bank_cat['poutcome'][bank_cat['poutcome']== 'unknown']=9.99406528189911"
   ]
  },
  {
   "cell_type": "code",
   "execution_count": 162,
   "metadata": {},
   "outputs": [],
   "source": [
    "bank_cat['poutcome'] = bank_cat['poutcome'].apply(float)"
   ]
  },
  {
   "cell_type": "markdown",
   "metadata": {},
   "source": [
    "#poutcome\n",
    "poutcome_order = list(bank_cat.groupby(\"poutcome\").size().sort_values().index)\n",
    "bank_cat['poutcome'] = bank_cat['poutcome'].astype('category',order = True , category = poutcome_order).cat.codes"
   ]
  },
  {
   "cell_type": "code",
   "execution_count": 163,
   "metadata": {},
   "outputs": [
    {
     "data": {
      "text/html": [
       "<div>\n",
       "<style scoped>\n",
       "    .dataframe tbody tr th:only-of-type {\n",
       "        vertical-align: middle;\n",
       "    }\n",
       "\n",
       "    .dataframe tbody tr th {\n",
       "        vertical-align: top;\n",
       "    }\n",
       "\n",
       "    .dataframe thead th {\n",
       "        text-align: right;\n",
       "    }\n",
       "</style>\n",
       "<table border=\"1\" class=\"dataframe\">\n",
       "  <thead>\n",
       "    <tr style=\"text-align: right;\">\n",
       "      <th></th>\n",
       "      <th>age</th>\n",
       "      <th>job</th>\n",
       "      <th>marital</th>\n",
       "      <th>education</th>\n",
       "      <th>default</th>\n",
       "      <th>balance</th>\n",
       "      <th>housing</th>\n",
       "      <th>loan</th>\n",
       "      <th>contact</th>\n",
       "      <th>day</th>\n",
       "      <th>month</th>\n",
       "      <th>duration</th>\n",
       "      <th>campaign</th>\n",
       "      <th>pdays</th>\n",
       "      <th>previous</th>\n",
       "      <th>poutcome</th>\n",
       "      <th>y</th>\n",
       "    </tr>\n",
       "  </thead>\n",
       "  <tbody>\n",
       "    <tr>\n",
       "      <td>0</td>\n",
       "      <td>30</td>\n",
       "      <td>8.846000</td>\n",
       "      <td>9.097473</td>\n",
       "      <td>9.593750</td>\n",
       "      <td>1</td>\n",
       "      <td>1787</td>\n",
       "      <td>1</td>\n",
       "      <td>1</td>\n",
       "      <td>5.961538</td>\n",
       "      <td>19</td>\n",
       "      <td>10</td>\n",
       "      <td>79</td>\n",
       "      <td>1</td>\n",
       "      <td>-1</td>\n",
       "      <td>0</td>\n",
       "      <td>9.994065</td>\n",
       "      <td>no</td>\n",
       "    </tr>\n",
       "    <tr>\n",
       "      <td>1</td>\n",
       "      <td>33</td>\n",
       "      <td>9.973684</td>\n",
       "      <td>9.097473</td>\n",
       "      <td>8.412245</td>\n",
       "      <td>1</td>\n",
       "      <td>4789</td>\n",
       "      <td>0</td>\n",
       "      <td>0</td>\n",
       "      <td>5.961538</td>\n",
       "      <td>11</td>\n",
       "      <td>5</td>\n",
       "      <td>220</td>\n",
       "      <td>1</td>\n",
       "      <td>339</td>\n",
       "      <td>4</td>\n",
       "      <td>6.777778</td>\n",
       "      <td>no</td>\n",
       "    </tr>\n",
       "    <tr>\n",
       "      <td>2</td>\n",
       "      <td>35</td>\n",
       "      <td>6.396947</td>\n",
       "      <td>6.161677</td>\n",
       "      <td>5.994819</td>\n",
       "      <td>1</td>\n",
       "      <td>1350</td>\n",
       "      <td>0</td>\n",
       "      <td>1</td>\n",
       "      <td>5.961538</td>\n",
       "      <td>16</td>\n",
       "      <td>4</td>\n",
       "      <td>185</td>\n",
       "      <td>1</td>\n",
       "      <td>330</td>\n",
       "      <td>1</td>\n",
       "      <td>6.777778</td>\n",
       "      <td>no</td>\n",
       "    </tr>\n",
       "    <tr>\n",
       "      <td>3</td>\n",
       "      <td>30</td>\n",
       "      <td>6.396947</td>\n",
       "      <td>9.097473</td>\n",
       "      <td>5.994819</td>\n",
       "      <td>1</td>\n",
       "      <td>1476</td>\n",
       "      <td>0</td>\n",
       "      <td>0</td>\n",
       "      <td>20.704918</td>\n",
       "      <td>3</td>\n",
       "      <td>6</td>\n",
       "      <td>199</td>\n",
       "      <td>4</td>\n",
       "      <td>-1</td>\n",
       "      <td>0</td>\n",
       "      <td>9.994065</td>\n",
       "      <td>no</td>\n",
       "    </tr>\n",
       "    <tr>\n",
       "      <td>4</td>\n",
       "      <td>59</td>\n",
       "      <td>12.710145</td>\n",
       "      <td>9.097473</td>\n",
       "      <td>8.412245</td>\n",
       "      <td>1</td>\n",
       "      <td>0</td>\n",
       "      <td>0</td>\n",
       "      <td>1</td>\n",
       "      <td>20.704918</td>\n",
       "      <td>5</td>\n",
       "      <td>5</td>\n",
       "      <td>226</td>\n",
       "      <td>1</td>\n",
       "      <td>-1</td>\n",
       "      <td>0</td>\n",
       "      <td>9.994065</td>\n",
       "      <td>no</td>\n",
       "    </tr>\n",
       "  </tbody>\n",
       "</table>\n",
       "</div>"
      ],
      "text/plain": [
       "   age        job   marital  education  default  balance  housing  loan  \\\n",
       "0   30   8.846000  9.097473   9.593750        1     1787        1     1   \n",
       "1   33   9.973684  9.097473   8.412245        1     4789        0     0   \n",
       "2   35   6.396947  6.161677   5.994819        1     1350        0     1   \n",
       "3   30   6.396947  9.097473   5.994819        1     1476        0     0   \n",
       "4   59  12.710145  9.097473   8.412245        1        0        0     1   \n",
       "\n",
       "     contact  day  month  duration  campaign  pdays  previous  poutcome   y  \n",
       "0   5.961538   19     10        79         1     -1         0  9.994065  no  \n",
       "1   5.961538   11      5       220         1    339         4  6.777778  no  \n",
       "2   5.961538   16      4       185         1    330         1  6.777778  no  \n",
       "3  20.704918    3      6       199         4     -1         0  9.994065  no  \n",
       "4  20.704918    5      5       226         1     -1         0  9.994065  no  "
      ]
     },
     "execution_count": 163,
     "metadata": {},
     "output_type": "execute_result"
    }
   ],
   "source": [
    "bank_cat.head()"
   ]
  },
  {
   "cell_type": "code",
   "execution_count": 164,
   "metadata": {},
   "outputs": [],
   "source": [
    "#split into train and test set\n",
    "bank_cat_train,bank_cat_test = model_selection.train_test_split(bank_cat,train_size=0.8,random_state = 2020)"
   ]
  },
  {
   "cell_type": "code",
   "execution_count": 165,
   "metadata": {},
   "outputs": [],
   "source": [
    "glm_cat_fit = smf.glm(\"y~age+job+marital+education+default+balance+housing+loan+contact+day+month+duration+campaign+pdays+previous+poutcome\",data=bank_cat_train,family = sm.families.Binomial()).fit()"
   ]
  },
  {
   "cell_type": "code",
   "execution_count": 166,
   "metadata": {
    "scrolled": true
   },
   "outputs": [
    {
     "name": "stdout",
     "output_type": "stream",
     "text": [
      "                  Generalized Linear Model Regression Results                  \n",
      "===============================================================================\n",
      "Dep. Variable:     ['y[no]', 'y[yes]']   No. Observations:                 3616\n",
      "Model:                             GLM   Df Residuals:                     3599\n",
      "Model Family:                 Binomial   Df Model:                           16\n",
      "Link Function:                   logit   Scale:                          1.0000\n",
      "Method:                           IRLS   Log-Likelihood:                -933.99\n",
      "Date:                 Sun, 18 Oct 2020   Deviance:                       1868.0\n",
      "Time:                         15:12:16   Pearson chi2:                 9.30e+03\n",
      "No. Iterations:                      7                                         \n",
      "Covariance Type:             nonrobust                                         \n",
      "==============================================================================\n",
      "                 coef    std err          z      P>|z|      [0.025      0.975]\n",
      "------------------------------------------------------------------------------\n",
      "Intercept     -2.0386      0.794     -2.568      0.010      -3.594      -0.483\n",
      "age           -0.0075      0.006     -1.277      0.201      -0.019       0.004\n",
      "job            0.1031      0.027      3.885      0.000       0.051       0.155\n",
      "marital        0.1203      0.043      2.800      0.005       0.036       0.205\n",
      "education      0.0635      0.050      1.279      0.201      -0.034       0.161\n",
      "default        0.6357      0.440      1.445      0.149      -0.227       1.498\n",
      "balance    -7.662e-06   1.85e-05     -0.414      0.679   -4.39e-05    2.86e-05\n",
      "housing       -0.3506      0.135     -2.589      0.010      -0.616      -0.085\n",
      "loan          -0.6459      0.211     -3.058      0.002      -1.060      -0.232\n",
      "contact        0.0767      0.013      5.733      0.000       0.050       0.103\n",
      "day            0.0019      0.008      0.252      0.801      -0.013       0.017\n",
      "month          0.0178      0.023      0.766      0.444      -0.028       0.063\n",
      "duration      -0.0040      0.000    -18.599      0.000      -0.004      -0.004\n",
      "campaign       0.0630      0.029      2.167      0.030       0.006       0.120\n",
      "pdays          0.0021      0.001      2.664      0.008       0.001       0.004\n",
      "previous       0.0494      0.040      1.234      0.217      -0.029       0.128\n",
      "poutcome       0.2911      0.032      9.200      0.000       0.229       0.353\n",
      "==============================================================================\n"
     ]
    }
   ],
   "source": [
    "print(glm_cat_fit.summary())"
   ]
  },
  {
   "cell_type": "code",
   "execution_count": 167,
   "metadata": {},
   "outputs": [
    {
     "data": {
      "text/plain": [
       "501     0.970819\n",
       "4156    0.896639\n",
       "3578    0.977730\n",
       "1795    0.990503\n",
       "1180    0.912551\n",
       "3405    0.984340\n",
       "1852    0.987475\n",
       "3346    0.932899\n",
       "3282    0.961415\n",
       "313     0.863266\n",
       "dtype: float64"
      ]
     },
     "execution_count": 167,
     "metadata": {},
     "output_type": "execute_result"
    }
   ],
   "source": [
    "glm_prob = glm_cat_fit.predict(bank_cat_test)\n",
    "glm_prob[:10]"
   ]
  },
  {
   "cell_type": "code",
   "execution_count": 168,
   "metadata": {},
   "outputs": [],
   "source": [
    "glm_pred = np.repeat('yes', len(glm_prob))\n",
    "glm_pred[glm_prob > 0.5] = 'no'\n",
    "y_true = bank_cat_test[\"y\"].values"
   ]
  },
  {
   "cell_type": "code",
   "execution_count": 169,
   "metadata": {},
   "outputs": [
    {
     "data": {
      "text/plain": [
       "array([[790,  71],\n",
       "       [ 16,  28]], dtype=int64)"
      ]
     },
     "execution_count": 169,
     "metadata": {},
     "output_type": "execute_result"
    }
   ],
   "source": [
    "confusion_matrix(y_true, glm_pred).T"
   ]
  },
  {
   "cell_type": "code",
   "execution_count": 170,
   "metadata": {},
   "outputs": [
    {
     "data": {
      "text/plain": [
       "0.9038674033149171"
      ]
     },
     "execution_count": 170,
     "metadata": {},
     "output_type": "execute_result"
    }
   ],
   "source": [
    "(glm_pred == y_true).mean()"
   ]
  },
  {
   "cell_type": "code",
   "execution_count": 171,
   "metadata": {},
   "outputs": [
    {
     "name": "stdout",
     "output_type": "stream",
     "text": [
      "              precision    recall  f1-score   support\n",
      "\n",
      "          no       0.92      0.98      0.95       806\n",
      "         yes       0.64      0.28      0.39        99\n",
      "\n",
      "    accuracy                           0.90       905\n",
      "   macro avg       0.78      0.63      0.67       905\n",
      "weighted avg       0.89      0.90      0.89       905\n",
      "\n"
     ]
    }
   ],
   "source": [
    "from sklearn.metrics import classification_report\n",
    "print(classification_report(y_true,glm_pred))"
   ]
  },
  {
   "cell_type": "code",
   "execution_count": 172,
   "metadata": {},
   "outputs": [],
   "source": [
    "import matplotlib.pyplot as plt\n",
    "from sklearn.metrics import roc_curve, auc"
   ]
  },
  {
   "cell_type": "code",
   "execution_count": 173,
   "metadata": {},
   "outputs": [],
   "source": [
    "y_true = bank_cat_test[\"y\"].values\n",
    "y_true[y_true=='yes'] = 0\n",
    "y_true[y_true=='no'] = 1"
   ]
  },
  {
   "cell_type": "code",
   "execution_count": 174,
   "metadata": {},
   "outputs": [],
   "source": [
    "y=np.array(y_true)\n",
    "score = np.array(glm_prob.values)"
   ]
  },
  {
   "cell_type": "code",
   "execution_count": 175,
   "metadata": {},
   "outputs": [],
   "source": [
    "y = y.astype(int)"
   ]
  },
  {
   "cell_type": "code",
   "execution_count": 176,
   "metadata": {},
   "outputs": [
    {
     "data": {
      "text/plain": [
       "<Figure size 432x288 with 0 Axes>"
      ]
     },
     "metadata": {},
     "output_type": "display_data"
    },
    {
     "data": {
      "image/png": "[encoded data removed]",
      "text/plain": [
       "<Figure size 720x720 with 1 Axes>"
      ]
     },
     "metadata": {
      "needs_background": "light"
     },
     "output_type": "display_data"
    }
   ],
   "source": [
    "# Compute ROC curve and ROC area for each class\n",
    "fpr,tpr,threshold = roc_curve(y,score) ###计算真正率和假正率\n",
    "roc_auc = auc(fpr,tpr) ###计算auc的值\n",
    "plt.figure()\n",
    "lw = 2\n",
    "plt.figure(figsize=(10,10))\n",
    "plt.plot(fpr, tpr, color='darkorange',\n",
    "         lw=lw, label='ROC curve (area = %0.2f)' % roc_auc) ###假正率为横坐标，真正率为纵坐标做曲线\n",
    "plt.plot([0, 1], [0, 1], color='navy', lw=lw, linestyle='--')\n",
    "plt.xlim([0.0, 1.0])\n",
    "plt.ylim([0.0, 1.05])\n",
    "plt.xlabel('False Positive Rate')\n",
    "plt.ylabel('True Positive Rate')\n",
    "plt.title('ROC curve of LR_1')\n",
    "plt.legend(loc=\"lower right\")\n",
    "plt.show()"
   ]
  },
  {
   "cell_type": "markdown",
   "metadata": {},
   "source": [
    "#### target encoder"
   ]
  },
  {
   "cell_type": "code",
   "execution_count": 179,
   "metadata": {},
   "outputs": [],
   "source": [
    "import category_encoders as ce"
   ]
  },
  {
   "cell_type": "code",
   "execution_count": 177,
   "metadata": {},
   "outputs": [],
   "source": [
    "bank_tar = copy.deepcopy(bank)"
   ]
  },
  {
   "cell_type": "code",
   "execution_count": 178,
   "metadata": {},
   "outputs": [
    {
     "data": {
      "text/html": [
       "<div>\n",
       "<style scoped>\n",
       "    .dataframe tbody tr th:only-of-type {\n",
       "        vertical-align: middle;\n",
       "    }\n",
       "\n",
       "    .dataframe tbody tr th {\n",
       "        vertical-align: top;\n",
       "    }\n",
       "\n",
       "    .dataframe thead th {\n",
       "        text-align: right;\n",
       "    }\n",
       "</style>\n",
       "<table border=\"1\" class=\"dataframe\">\n",
       "  <thead>\n",
       "    <tr style=\"text-align: right;\">\n",
       "      <th></th>\n",
       "      <th>age</th>\n",
       "      <th>job</th>\n",
       "      <th>marital</th>\n",
       "      <th>education</th>\n",
       "      <th>default</th>\n",
       "      <th>balance</th>\n",
       "      <th>housing</th>\n",
       "      <th>loan</th>\n",
       "      <th>contact</th>\n",
       "      <th>day</th>\n",
       "      <th>month</th>\n",
       "      <th>duration</th>\n",
       "      <th>campaign</th>\n",
       "      <th>pdays</th>\n",
       "      <th>previous</th>\n",
       "      <th>poutcome</th>\n",
       "      <th>y</th>\n",
       "    </tr>\n",
       "  </thead>\n",
       "  <tbody>\n",
       "    <tr>\n",
       "      <td>0</td>\n",
       "      <td>30</td>\n",
       "      <td>unemployed</td>\n",
       "      <td>married</td>\n",
       "      <td>primary</td>\n",
       "      <td>no</td>\n",
       "      <td>1787</td>\n",
       "      <td>no</td>\n",
       "      <td>no</td>\n",
       "      <td>cellular</td>\n",
       "      <td>19</td>\n",
       "      <td>10</td>\n",
       "      <td>79</td>\n",
       "      <td>1</td>\n",
       "      <td>-1</td>\n",
       "      <td>0</td>\n",
       "      <td>unknown</td>\n",
       "      <td>no</td>\n",
       "    </tr>\n",
       "    <tr>\n",
       "      <td>1</td>\n",
       "      <td>33</td>\n",
       "      <td>services</td>\n",
       "      <td>married</td>\n",
       "      <td>secondary</td>\n",
       "      <td>no</td>\n",
       "      <td>4789</td>\n",
       "      <td>yes</td>\n",
       "      <td>yes</td>\n",
       "      <td>cellular</td>\n",
       "      <td>11</td>\n",
       "      <td>5</td>\n",
       "      <td>220</td>\n",
       "      <td>1</td>\n",
       "      <td>339</td>\n",
       "      <td>4</td>\n",
       "      <td>failure</td>\n",
       "      <td>no</td>\n",
       "    </tr>\n",
       "    <tr>\n",
       "      <td>2</td>\n",
       "      <td>35</td>\n",
       "      <td>management</td>\n",
       "      <td>single</td>\n",
       "      <td>tertiary</td>\n",
       "      <td>no</td>\n",
       "      <td>1350</td>\n",
       "      <td>yes</td>\n",
       "      <td>no</td>\n",
       "      <td>cellular</td>\n",
       "      <td>16</td>\n",
       "      <td>4</td>\n",
       "      <td>185</td>\n",
       "      <td>1</td>\n",
       "      <td>330</td>\n",
       "      <td>1</td>\n",
       "      <td>failure</td>\n",
       "      <td>no</td>\n",
       "    </tr>\n",
       "    <tr>\n",
       "      <td>3</td>\n",
       "      <td>30</td>\n",
       "      <td>management</td>\n",
       "      <td>married</td>\n",
       "      <td>tertiary</td>\n",
       "      <td>no</td>\n",
       "      <td>1476</td>\n",
       "      <td>yes</td>\n",
       "      <td>yes</td>\n",
       "      <td>unknown</td>\n",
       "      <td>3</td>\n",
       "      <td>6</td>\n",
       "      <td>199</td>\n",
       "      <td>4</td>\n",
       "      <td>-1</td>\n",
       "      <td>0</td>\n",
       "      <td>unknown</td>\n",
       "      <td>no</td>\n",
       "    </tr>\n",
       "    <tr>\n",
       "      <td>4</td>\n",
       "      <td>59</td>\n",
       "      <td>blue-collar</td>\n",
       "      <td>married</td>\n",
       "      <td>secondary</td>\n",
       "      <td>no</td>\n",
       "      <td>0</td>\n",
       "      <td>yes</td>\n",
       "      <td>no</td>\n",
       "      <td>unknown</td>\n",
       "      <td>5</td>\n",
       "      <td>5</td>\n",
       "      <td>226</td>\n",
       "      <td>1</td>\n",
       "      <td>-1</td>\n",
       "      <td>0</td>\n",
       "      <td>unknown</td>\n",
       "      <td>no</td>\n",
       "    </tr>\n",
       "  </tbody>\n",
       "</table>\n",
       "</div>"
      ],
      "text/plain": [
       "   age          job  marital  education default  balance housing loan  \\\n",
       "0   30   unemployed  married    primary      no     1787      no   no   \n",
       "1   33     services  married  secondary      no     4789     yes  yes   \n",
       "2   35   management   single   tertiary      no     1350     yes   no   \n",
       "3   30   management  married   tertiary      no     1476     yes  yes   \n",
       "4   59  blue-collar  married  secondary      no        0     yes   no   \n",
       "\n",
       "    contact  day  month  duration  campaign  pdays  previous poutcome   y  \n",
       "0  cellular   19     10        79         1     -1         0  unknown  no  \n",
       "1  cellular   11      5       220         1    339         4  failure  no  \n",
       "2  cellular   16      4       185         1    330         1  failure  no  \n",
       "3   unknown    3      6       199         4     -1         0  unknown  no  \n",
       "4   unknown    5      5       226         1     -1         0  unknown  no  "
      ]
     },
     "execution_count": 178,
     "metadata": {},
     "output_type": "execute_result"
    }
   ],
   "source": [
    "bank_tar.head()"
   ]
  },
  {
   "cell_type": "code",
   "execution_count": 180,
   "metadata": {},
   "outputs": [],
   "source": [
    "tar = ['job','marital','education','default','housing','loan','contact','poutcome']"
   ]
  },
  {
   "cell_type": "code",
   "execution_count": 186,
   "metadata": {},
   "outputs": [],
   "source": [
    "bank_tar['y_f']=bank_tar['y']\n",
    "bank_tar['y_f'][bank_tar['y']=='no'] = 1\n",
    "bank_tar['y_f'][bank_tar['y']=='yes'] = 0"
   ]
  },
  {
   "cell_type": "code",
   "execution_count": 189,
   "metadata": {},
   "outputs": [],
   "source": [
    "bank_tar['y_f'] = bank_tar['y_f'].apply(lambda x :int(x))"
   ]
  },
  {
   "cell_type": "code",
   "execution_count": 190,
   "metadata": {},
   "outputs": [],
   "source": [
    "encoder_1 = ce.TargetEncoder(cols=tar).fit(bank_tar,bank_tar['y_f'])\n",
    "bank_tar = encoder_1.transform(bank_tar)"
   ]
  },
  {
   "cell_type": "code",
   "execution_count": 191,
   "metadata": {},
   "outputs": [
    {
     "data": {
      "text/html": [
       "<div>\n",
       "<style scoped>\n",
       "    .dataframe tbody tr th:only-of-type {\n",
       "        vertical-align: middle;\n",
       "    }\n",
       "\n",
       "    .dataframe tbody tr th {\n",
       "        vertical-align: top;\n",
       "    }\n",
       "\n",
       "    .dataframe thead th {\n",
       "        text-align: right;\n",
       "    }\n",
       "</style>\n",
       "<table border=\"1\" class=\"dataframe\">\n",
       "  <thead>\n",
       "    <tr style=\"text-align: right;\">\n",
       "      <th></th>\n",
       "      <th>age</th>\n",
       "      <th>job</th>\n",
       "      <th>marital</th>\n",
       "      <th>education</th>\n",
       "      <th>default</th>\n",
       "      <th>balance</th>\n",
       "      <th>housing</th>\n",
       "      <th>loan</th>\n",
       "      <th>contact</th>\n",
       "      <th>day</th>\n",
       "      <th>month</th>\n",
       "      <th>duration</th>\n",
       "      <th>campaign</th>\n",
       "      <th>pdays</th>\n",
       "      <th>previous</th>\n",
       "      <th>poutcome</th>\n",
       "      <th>y</th>\n",
       "      <th>y_f</th>\n",
       "    </tr>\n",
       "  </thead>\n",
       "  <tbody>\n",
       "    <tr>\n",
       "      <td>0</td>\n",
       "      <td>30</td>\n",
       "      <td>0.898438</td>\n",
       "      <td>0.900965</td>\n",
       "      <td>0.905605</td>\n",
       "      <td>0.884814</td>\n",
       "      <td>1787</td>\n",
       "      <td>0.846585</td>\n",
       "      <td>0.875196</td>\n",
       "      <td>0.856354</td>\n",
       "      <td>19</td>\n",
       "      <td>10</td>\n",
       "      <td>79</td>\n",
       "      <td>1</td>\n",
       "      <td>-1</td>\n",
       "      <td>0</td>\n",
       "      <td>0.909042</td>\n",
       "      <td>no</td>\n",
       "      <td>1</td>\n",
       "    </tr>\n",
       "    <tr>\n",
       "      <td>1</td>\n",
       "      <td>33</td>\n",
       "      <td>0.908873</td>\n",
       "      <td>0.900965</td>\n",
       "      <td>0.893755</td>\n",
       "      <td>0.884814</td>\n",
       "      <td>4789</td>\n",
       "      <td>0.914029</td>\n",
       "      <td>0.937771</td>\n",
       "      <td>0.856354</td>\n",
       "      <td>11</td>\n",
       "      <td>5</td>\n",
       "      <td>220</td>\n",
       "      <td>1</td>\n",
       "      <td>339</td>\n",
       "      <td>4</td>\n",
       "      <td>0.871429</td>\n",
       "      <td>no</td>\n",
       "      <td>1</td>\n",
       "    </tr>\n",
       "    <tr>\n",
       "      <td>2</td>\n",
       "      <td>35</td>\n",
       "      <td>0.864809</td>\n",
       "      <td>0.860368</td>\n",
       "      <td>0.857037</td>\n",
       "      <td>0.884814</td>\n",
       "      <td>1350</td>\n",
       "      <td>0.914029</td>\n",
       "      <td>0.875196</td>\n",
       "      <td>0.856354</td>\n",
       "      <td>16</td>\n",
       "      <td>4</td>\n",
       "      <td>185</td>\n",
       "      <td>1</td>\n",
       "      <td>330</td>\n",
       "      <td>1</td>\n",
       "      <td>0.871429</td>\n",
       "      <td>no</td>\n",
       "      <td>1</td>\n",
       "    </tr>\n",
       "    <tr>\n",
       "      <td>3</td>\n",
       "      <td>30</td>\n",
       "      <td>0.864809</td>\n",
       "      <td>0.900965</td>\n",
       "      <td>0.857037</td>\n",
       "      <td>0.884814</td>\n",
       "      <td>1476</td>\n",
       "      <td>0.914029</td>\n",
       "      <td>0.937771</td>\n",
       "      <td>0.953927</td>\n",
       "      <td>3</td>\n",
       "      <td>6</td>\n",
       "      <td>199</td>\n",
       "      <td>4</td>\n",
       "      <td>-1</td>\n",
       "      <td>0</td>\n",
       "      <td>0.909042</td>\n",
       "      <td>no</td>\n",
       "      <td>1</td>\n",
       "    </tr>\n",
       "    <tr>\n",
       "      <td>4</td>\n",
       "      <td>59</td>\n",
       "      <td>0.927061</td>\n",
       "      <td>0.900965</td>\n",
       "      <td>0.893755</td>\n",
       "      <td>0.884814</td>\n",
       "      <td>0</td>\n",
       "      <td>0.914029</td>\n",
       "      <td>0.875196</td>\n",
       "      <td>0.953927</td>\n",
       "      <td>5</td>\n",
       "      <td>5</td>\n",
       "      <td>226</td>\n",
       "      <td>1</td>\n",
       "      <td>-1</td>\n",
       "      <td>0</td>\n",
       "      <td>0.909042</td>\n",
       "      <td>no</td>\n",
       "      <td>1</td>\n",
       "    </tr>\n",
       "  </tbody>\n",
       "</table>\n",
       "</div>"
      ],
      "text/plain": [
       "   age       job   marital  education   default  balance   housing      loan  \\\n",
       "0   30  0.898438  0.900965   0.905605  0.884814     1787  0.846585  0.875196   \n",
       "1   33  0.908873  0.900965   0.893755  0.884814     4789  0.914029  0.937771   \n",
       "2   35  0.864809  0.860368   0.857037  0.884814     1350  0.914029  0.875196   \n",
       "3   30  0.864809  0.900965   0.857037  0.884814     1476  0.914029  0.937771   \n",
       "4   59  0.927061  0.900965   0.893755  0.884814        0  0.914029  0.875196   \n",
       "\n",
       "    contact  day  month  duration  campaign  pdays  previous  poutcome   y  \\\n",
       "0  0.856354   19     10        79         1     -1         0  0.909042  no   \n",
       "1  0.856354   11      5       220         1    339         4  0.871429  no   \n",
       "2  0.856354   16      4       185         1    330         1  0.871429  no   \n",
       "3  0.953927    3      6       199         4     -1         0  0.909042  no   \n",
       "4  0.953927    5      5       226         1     -1         0  0.909042  no   \n",
       "\n",
       "   y_f  \n",
       "0    1  \n",
       "1    1  \n",
       "2    1  \n",
       "3    1  \n",
       "4    1  "
      ]
     },
     "execution_count": 191,
     "metadata": {},
     "output_type": "execute_result"
    }
   ],
   "source": [
    "bank_tar.head()"
   ]
  },
  {
   "cell_type": "code",
   "execution_count": 192,
   "metadata": {},
   "outputs": [],
   "source": [
    "del bank_tar['y_f']"
   ]
  },
  {
   "cell_type": "code",
   "execution_count": 193,
   "metadata": {},
   "outputs": [],
   "source": [
    "#split into train and  test set\n",
    "bank_tar_train,bank_tar_test = model_selection.train_test_split(bank_tar,train_size=0.8,random_state=2020)"
   ]
  },
  {
   "cell_type": "code",
   "execution_count": 195,
   "metadata": {},
   "outputs": [
    {
     "data": {
      "text/plain": [
       "Index(['age', 'job', 'marital', 'education', 'default', 'balance', 'housing',\n",
       "       'loan', 'contact', 'day', 'month', 'duration', 'campaign', 'pdays',\n",
       "       'previous', 'poutcome', 'y'],\n",
       "      dtype='object')"
      ]
     },
     "execution_count": 195,
     "metadata": {},
     "output_type": "execute_result"
    }
   ],
   "source": [
    "bank_tar_train.columns"
   ]
  },
  {
   "cell_type": "code",
   "execution_count": 196,
   "metadata": {},
   "outputs": [],
   "source": [
    "glm_tar_fit = smf.glm('y~age+balance+day+month+duration+campaign+pdays+previous+default+housing+loan+job+marital+education+contact+poutcome',data= bank_tar_train,family = sm.families.Binomial()).fit()"
   ]
  },
  {
   "cell_type": "code",
   "execution_count": 197,
   "metadata": {
    "scrolled": true
   },
   "outputs": [
    {
     "name": "stdout",
     "output_type": "stream",
     "text": [
      "                  Generalized Linear Model Regression Results                  \n",
      "===============================================================================\n",
      "Dep. Variable:     ['y[no]', 'y[yes]']   No. Observations:                 3616\n",
      "Model:                             GLM   Df Residuals:                     3599\n",
      "Model Family:                 Binomial   Df Model:                           16\n",
      "Link Function:                   logit   Scale:                          1.0000\n",
      "Method:                           IRLS   Log-Likelihood:                -930.58\n",
      "Date:                 Sun, 18 Oct 2020   Deviance:                       1861.2\n",
      "Time:                         15:26:11   Pearson chi2:                 8.40e+03\n",
      "No. Iterations:                      7                                         \n",
      "Covariance Type:             nonrobust                                         \n",
      "==============================================================================\n",
      "                 coef    std err          z      P>|z|      [0.025      0.975]\n",
      "------------------------------------------------------------------------------\n",
      "Intercept   -214.9910    119.002     -1.807      0.071    -448.230      18.248\n",
      "age           -0.0049      0.006     -0.822      0.411      -0.017       0.007\n",
      "balance    -8.928e-06   1.82e-05     -0.492      0.623   -4.45e-05    2.67e-05\n",
      "day           -0.0001      0.008     -0.014      0.989      -0.015       0.015\n",
      "month          0.0169      0.024      0.715      0.475      -0.029       0.063\n",
      "duration      -0.0040      0.000    -18.546      0.000      -0.004      -0.004\n",
      "campaign       0.0643      0.029      2.225      0.026       0.008       0.121\n",
      "pdays       -3.47e-07      0.001     -0.001      1.000      -0.001       0.001\n",
      "previous      -0.0044      0.038     -0.117      0.907      -0.078       0.069\n",
      "default      193.8875    134.207      1.445      0.149     -69.153     456.928\n",
      "housing        4.9399      2.020      2.446      0.014       0.981       8.899\n",
      "loan          10.0921      3.384      2.982      0.003       3.460      16.724\n",
      "job            6.3458      1.506      4.215      0.000       3.395       9.297\n",
      "marital        8.5196      3.063      2.782      0.005       2.517      14.522\n",
      "education      6.8123      3.314      2.056      0.040       0.317      13.308\n",
      "contact       11.9972      2.008      5.974      0.000       8.061      15.933\n",
      "poutcome       4.5673      0.478      9.559      0.000       3.631       5.504\n",
      "==============================================================================\n"
     ]
    }
   ],
   "source": [
    "print(glm_tar_fit.summary())"
   ]
  },
  {
   "cell_type": "code",
   "execution_count": 198,
   "metadata": {},
   "outputs": [
    {
     "data": {
      "text/plain": [
       "501     0.972594\n",
       "4156    0.893862\n",
       "3578    0.980164\n",
       "1795    0.991468\n",
       "1180    0.908719\n",
       "3405    0.986341\n",
       "1852    0.988979\n",
       "3346    0.955376\n",
       "3282    0.963340\n",
       "313     0.860005\n",
       "dtype: float64"
      ]
     },
     "execution_count": 198,
     "metadata": {},
     "output_type": "execute_result"
    }
   ],
   "source": [
    "glm_prob = glm_tar_fit.predict(bank_tar_test)\n",
    "glm_prob[:10]"
   ]
  },
  {
   "cell_type": "code",
   "execution_count": 199,
   "metadata": {},
   "outputs": [],
   "source": [
    "glm_pred = np.repeat('yes', len(glm_prob))\n",
    "glm_pred[glm_prob > 0.5] = 'no'\n",
    "y_true = bank_tar_test[\"y\"].values"
   ]
  },
  {
   "cell_type": "code",
   "execution_count": 200,
   "metadata": {},
   "outputs": [
    {
     "data": {
      "text/plain": [
       "array([[794,  66],\n",
       "       [ 12,  33]], dtype=int64)"
      ]
     },
     "execution_count": 200,
     "metadata": {},
     "output_type": "execute_result"
    }
   ],
   "source": [
    "confusion_matrix(y_true, glm_pred).T"
   ]
  },
  {
   "cell_type": "code",
   "execution_count": 201,
   "metadata": {
    "scrolled": true
   },
   "outputs": [
    {
     "data": {
      "text/plain": [
       "0.9138121546961326"
      ]
     },
     "execution_count": 201,
     "metadata": {},
     "output_type": "execute_result"
    }
   ],
   "source": [
    "(glm_pred == y_true).mean()"
   ]
  },
  {
   "cell_type": "code",
   "execution_count": 202,
   "metadata": {},
   "outputs": [
    {
     "name": "stdout",
     "output_type": "stream",
     "text": [
      "              precision    recall  f1-score   support\n",
      "\n",
      "          no       0.92      0.99      0.95       806\n",
      "         yes       0.73      0.33      0.46        99\n",
      "\n",
      "    accuracy                           0.91       905\n",
      "   macro avg       0.83      0.66      0.71       905\n",
      "weighted avg       0.90      0.91      0.90       905\n",
      "\n"
     ]
    }
   ],
   "source": [
    "from sklearn.metrics import classification_report\n",
    "print(classification_report(y_true,glm_pred))"
   ]
  },
  {
   "cell_type": "code",
   "execution_count": 203,
   "metadata": {},
   "outputs": [],
   "source": [
    "import matplotlib.pyplot as plt\n",
    "from sklearn.metrics import roc_curve, auc"
   ]
  },
  {
   "cell_type": "code",
   "execution_count": 205,
   "metadata": {},
   "outputs": [],
   "source": [
    "y_true = bank_tar_test[\"y\"].values\n",
    "y_true[y_true=='yes'] = 0\n",
    "y_true[y_true=='no'] = 1"
   ]
  },
  {
   "cell_type": "code",
   "execution_count": 206,
   "metadata": {},
   "outputs": [],
   "source": [
    "y=np.array(y_true)\n",
    "score = np.array(glm_prob.values)"
   ]
  },
  {
   "cell_type": "code",
   "execution_count": 207,
   "metadata": {},
   "outputs": [],
   "source": [
    "y = y.astype(int)"
   ]
  },
  {
   "cell_type": "code",
   "execution_count": 208,
   "metadata": {},
   "outputs": [
    {
     "data": {
      "text/plain": [
       "<Figure size 432x288 with 0 Axes>"
      ]
     },
     "metadata": {},
     "output_type": "display_data"
    },
    {
     "data": {
      "image/png": "[encoded data removed]",
      "text/plain": [
       "<Figure size 720x720 with 1 Axes>"
      ]
     },
     "metadata": {
      "needs_background": "light"
     },
     "output_type": "display_data"
    }
   ],
   "source": [
    "# Compute ROC curve and ROC area for each class\n",
    "fpr,tpr,threshold = roc_curve(y,score) ###计算真正率和假正率\n",
    "roc_auc = auc(fpr,tpr) ###计算auc的值\n",
    "plt.figure()\n",
    "lw = 2\n",
    "plt.figure(figsize=(10,10))\n",
    "plt.plot(fpr, tpr, color='darkorange',\n",
    "         lw=lw, label='ROC curve (area = %0.2f)' % roc_auc) ###假正率为横坐标，真正率为纵坐标做曲线\n",
    "plt.plot([0, 1], [0, 1], color='navy', lw=lw, linestyle='--')\n",
    "plt.xlim([0.0, 1.0])\n",
    "plt.ylim([0.0, 1.05])\n",
    "plt.xlabel('False Positive Rate')\n",
    "plt.ylabel('True Positive Rate')\n",
    "plt.title('ROC curve of LR_1')\n",
    "plt.legend(loc=\"lower right\")\n",
    "plt.show()"
   ]
  },
  {
   "cell_type": "markdown",
   "metadata": {},
   "source": [
    "#### get dummies"
   ]
  },
  {
   "cell_type": "code",
   "execution_count": 209,
   "metadata": {},
   "outputs": [],
   "source": [
    "bank_bin = copy.deepcopy(bank)"
   ]
  },
  {
   "cell_type": "markdown",
   "metadata": {},
   "source": [
    "binary: default ; housing ; loan ; y\n",
    "catogorical : job(12) ; marital(3) ; education(4) ; contact(3) ; poutcome(4) "
   ]
  },
  {
   "cell_type": "code",
   "execution_count": 210,
   "metadata": {},
   "outputs": [],
   "source": [
    "category = ['default','housing','loan','job','marital','education','contact','poutcome']"
   ]
  },
  {
   "cell_type": "code",
   "execution_count": 211,
   "metadata": {},
   "outputs": [],
   "source": [
    "bank_bin = pd.get_dummies(bank_bin, columns=category)"
   ]
  },
  {
   "cell_type": "code",
   "execution_count": 234,
   "metadata": {},
   "outputs": [],
   "source": [
    "bank_bin['job_admin'] = bank_bin['job_admin.'].rename(columns={'job_admin'},inplace = True)"
   ]
  },
  {
   "cell_type": "code",
   "execution_count": 235,
   "metadata": {},
   "outputs": [],
   "source": [
    "bank_bin['job_self'] = bank_bin['job_self-employed'].rename(columns={'job_self'},inplace = True)"
   ]
  },
  {
   "cell_type": "code",
   "execution_count": 237,
   "metadata": {},
   "outputs": [],
   "source": [
    "bank_bin['job_blue'] = bank_bin['job_blue-collar'].rename(columns={'job_blue'},inplace = True)"
   ]
  },
  {
   "cell_type": "code",
   "execution_count": 236,
   "metadata": {},
   "outputs": [
    {
     "data": {
      "text/html": [
       "<div>\n",
       "<style scoped>\n",
       "    .dataframe tbody tr th:only-of-type {\n",
       "        vertical-align: middle;\n",
       "    }\n",
       "\n",
       "    .dataframe tbody tr th {\n",
       "        vertical-align: top;\n",
       "    }\n",
       "\n",
       "    .dataframe thead th {\n",
       "        text-align: right;\n",
       "    }\n",
       "</style>\n",
       "<table border=\"1\" class=\"dataframe\">\n",
       "  <thead>\n",
       "    <tr style=\"text-align: right;\">\n",
       "      <th></th>\n",
       "      <th>age</th>\n",
       "      <th>balance</th>\n",
       "      <th>day</th>\n",
       "      <th>month</th>\n",
       "      <th>duration</th>\n",
       "      <th>campaign</th>\n",
       "      <th>pdays</th>\n",
       "      <th>previous</th>\n",
       "      <th>y</th>\n",
       "      <th>default_no</th>\n",
       "      <th>default_yes</th>\n",
       "      <th>housing_no</th>\n",
       "      <th>housing_yes</th>\n",
       "      <th>loan_no</th>\n",
       "      <th>loan_yes</th>\n",
       "      <th>job_admin.</th>\n",
       "      <th>job_blue-collar</th>\n",
       "      <th>job_entrepreneur</th>\n",
       "      <th>job_housemaid</th>\n",
       "      <th>job_management</th>\n",
       "      <th>job_retired</th>\n",
       "      <th>job_self-employed</th>\n",
       "      <th>job_services</th>\n",
       "      <th>job_student</th>\n",
       "      <th>job_technician</th>\n",
       "      <th>job_unemployed</th>\n",
       "      <th>job_unknown</th>\n",
       "      <th>marital_divorced</th>\n",
       "      <th>marital_married</th>\n",
       "      <th>marital_single</th>\n",
       "      <th>education_primary</th>\n",
       "      <th>education_secondary</th>\n",
       "      <th>education_tertiary</th>\n",
       "      <th>education_unknown</th>\n",
       "      <th>contact_cellular</th>\n",
       "      <th>contact_telephone</th>\n",
       "      <th>contact_unknown</th>\n",
       "      <th>poutcome_failure</th>\n",
       "      <th>poutcome_other</th>\n",
       "      <th>poutcome_success</th>\n",
       "      <th>poutcome_unknown</th>\n",
       "      <th>job_admin</th>\n",
       "      <th>job_self</th>\n",
       "    </tr>\n",
       "  </thead>\n",
       "  <tbody>\n",
       "    <tr>\n",
       "      <td>0</td>\n",
       "      <td>30</td>\n",
       "      <td>1787</td>\n",
       "      <td>19</td>\n",
       "      <td>10</td>\n",
       "      <td>79</td>\n",
       "      <td>1</td>\n",
       "      <td>-1</td>\n",
       "      <td>0</td>\n",
       "      <td>no</td>\n",
       "      <td>1</td>\n",
       "      <td>0</td>\n",
       "      <td>1</td>\n",
       "      <td>0</td>\n",
       "      <td>1</td>\n",
       "      <td>0</td>\n",
       "      <td>0</td>\n",
       "      <td>0</td>\n",
       "      <td>0</td>\n",
       "      <td>0</td>\n",
       "      <td>0</td>\n",
       "      <td>0</td>\n",
       "      <td>0</td>\n",
       "      <td>0</td>\n",
       "      <td>0</td>\n",
       "      <td>0</td>\n",
       "      <td>1</td>\n",
       "      <td>0</td>\n",
       "      <td>0</td>\n",
       "      <td>1</td>\n",
       "      <td>0</td>\n",
       "      <td>1</td>\n",
       "      <td>0</td>\n",
       "      <td>0</td>\n",
       "      <td>0</td>\n",
       "      <td>1</td>\n",
       "      <td>0</td>\n",
       "      <td>0</td>\n",
       "      <td>0</td>\n",
       "      <td>0</td>\n",
       "      <td>0</td>\n",
       "      <td>1</td>\n",
       "      <td>0</td>\n",
       "      <td>0</td>\n",
       "    </tr>\n",
       "    <tr>\n",
       "      <td>1</td>\n",
       "      <td>33</td>\n",
       "      <td>4789</td>\n",
       "      <td>11</td>\n",
       "      <td>5</td>\n",
       "      <td>220</td>\n",
       "      <td>1</td>\n",
       "      <td>339</td>\n",
       "      <td>4</td>\n",
       "      <td>no</td>\n",
       "      <td>1</td>\n",
       "      <td>0</td>\n",
       "      <td>0</td>\n",
       "      <td>1</td>\n",
       "      <td>0</td>\n",
       "      <td>1</td>\n",
       "      <td>0</td>\n",
       "      <td>0</td>\n",
       "      <td>0</td>\n",
       "      <td>0</td>\n",
       "      <td>0</td>\n",
       "      <td>0</td>\n",
       "      <td>0</td>\n",
       "      <td>1</td>\n",
       "      <td>0</td>\n",
       "      <td>0</td>\n",
       "      <td>0</td>\n",
       "      <td>0</td>\n",
       "      <td>0</td>\n",
       "      <td>1</td>\n",
       "      <td>0</td>\n",
       "      <td>0</td>\n",
       "      <td>1</td>\n",
       "      <td>0</td>\n",
       "      <td>0</td>\n",
       "      <td>1</td>\n",
       "      <td>0</td>\n",
       "      <td>0</td>\n",
       "      <td>1</td>\n",
       "      <td>0</td>\n",
       "      <td>0</td>\n",
       "      <td>0</td>\n",
       "      <td>0</td>\n",
       "      <td>0</td>\n",
       "    </tr>\n",
       "    <tr>\n",
       "      <td>2</td>\n",
       "      <td>35</td>\n",
       "      <td>1350</td>\n",
       "      <td>16</td>\n",
       "      <td>4</td>\n",
       "      <td>185</td>\n",
       "      <td>1</td>\n",
       "      <td>330</td>\n",
       "      <td>1</td>\n",
       "      <td>no</td>\n",
       "      <td>1</td>\n",
       "      <td>0</td>\n",
       "      <td>0</td>\n",
       "      <td>1</td>\n",
       "      <td>1</td>\n",
       "      <td>0</td>\n",
       "      <td>0</td>\n",
       "      <td>0</td>\n",
       "      <td>0</td>\n",
       "      <td>0</td>\n",
       "      <td>1</td>\n",
       "      <td>0</td>\n",
       "      <td>0</td>\n",
       "      <td>0</td>\n",
       "      <td>0</td>\n",
       "      <td>0</td>\n",
       "      <td>0</td>\n",
       "      <td>0</td>\n",
       "      <td>0</td>\n",
       "      <td>0</td>\n",
       "      <td>1</td>\n",
       "      <td>0</td>\n",
       "      <td>0</td>\n",
       "      <td>1</td>\n",
       "      <td>0</td>\n",
       "      <td>1</td>\n",
       "      <td>0</td>\n",
       "      <td>0</td>\n",
       "      <td>1</td>\n",
       "      <td>0</td>\n",
       "      <td>0</td>\n",
       "      <td>0</td>\n",
       "      <td>0</td>\n",
       "      <td>0</td>\n",
       "    </tr>\n",
       "    <tr>\n",
       "      <td>3</td>\n",
       "      <td>30</td>\n",
       "      <td>1476</td>\n",
       "      <td>3</td>\n",
       "      <td>6</td>\n",
       "      <td>199</td>\n",
       "      <td>4</td>\n",
       "      <td>-1</td>\n",
       "      <td>0</td>\n",
       "      <td>no</td>\n",
       "      <td>1</td>\n",
       "      <td>0</td>\n",
       "      <td>0</td>\n",
       "      <td>1</td>\n",
       "      <td>0</td>\n",
       "      <td>1</td>\n",
       "      <td>0</td>\n",
       "      <td>0</td>\n",
       "      <td>0</td>\n",
       "      <td>0</td>\n",
       "      <td>1</td>\n",
       "      <td>0</td>\n",
       "      <td>0</td>\n",
       "      <td>0</td>\n",
       "      <td>0</td>\n",
       "      <td>0</td>\n",
       "      <td>0</td>\n",
       "      <td>0</td>\n",
       "      <td>0</td>\n",
       "      <td>1</td>\n",
       "      <td>0</td>\n",
       "      <td>0</td>\n",
       "      <td>0</td>\n",
       "      <td>1</td>\n",
       "      <td>0</td>\n",
       "      <td>0</td>\n",
       "      <td>0</td>\n",
       "      <td>1</td>\n",
       "      <td>0</td>\n",
       "      <td>0</td>\n",
       "      <td>0</td>\n",
       "      <td>1</td>\n",
       "      <td>0</td>\n",
       "      <td>0</td>\n",
       "    </tr>\n",
       "    <tr>\n",
       "      <td>4</td>\n",
       "      <td>59</td>\n",
       "      <td>0</td>\n",
       "      <td>5</td>\n",
       "      <td>5</td>\n",
       "      <td>226</td>\n",
       "      <td>1</td>\n",
       "      <td>-1</td>\n",
       "      <td>0</td>\n",
       "      <td>no</td>\n",
       "      <td>1</td>\n",
       "      <td>0</td>\n",
       "      <td>0</td>\n",
       "      <td>1</td>\n",
       "      <td>1</td>\n",
       "      <td>0</td>\n",
       "      <td>0</td>\n",
       "      <td>1</td>\n",
       "      <td>0</td>\n",
       "      <td>0</td>\n",
       "      <td>0</td>\n",
       "      <td>0</td>\n",
       "      <td>0</td>\n",
       "      <td>0</td>\n",
       "      <td>0</td>\n",
       "      <td>0</td>\n",
       "      <td>0</td>\n",
       "      <td>0</td>\n",
       "      <td>0</td>\n",
       "      <td>1</td>\n",
       "      <td>0</td>\n",
       "      <td>0</td>\n",
       "      <td>1</td>\n",
       "      <td>0</td>\n",
       "      <td>0</td>\n",
       "      <td>0</td>\n",
       "      <td>0</td>\n",
       "      <td>1</td>\n",
       "      <td>0</td>\n",
       "      <td>0</td>\n",
       "      <td>0</td>\n",
       "      <td>1</td>\n",
       "      <td>0</td>\n",
       "      <td>0</td>\n",
       "    </tr>\n",
       "  </tbody>\n",
       "</table>\n",
       "</div>"
      ],
      "text/plain": [
       "   age  balance  day  month  duration  campaign  pdays  previous   y  \\\n",
       "0   30     1787   19     10        79         1     -1         0  no   \n",
       "1   33     4789   11      5       220         1    339         4  no   \n",
       "2   35     1350   16      4       185         1    330         1  no   \n",
       "3   30     1476    3      6       199         4     -1         0  no   \n",
       "4   59        0    5      5       226         1     -1         0  no   \n",
       "\n",
       "   default_no  default_yes  housing_no  housing_yes  loan_no  loan_yes  \\\n",
       "0           1            0           1            0        1         0   \n",
       "1           1            0           0            1        0         1   \n",
       "2           1            0           0            1        1         0   \n",
       "3           1            0           0            1        0         1   \n",
       "4           1            0           0            1        1         0   \n",
       "\n",
       "   job_admin.  job_blue-collar  job_entrepreneur  job_housemaid  \\\n",
       "0           0                0                 0              0   \n",
       "1           0                0                 0              0   \n",
       "2           0                0                 0              0   \n",
       "3           0                0                 0              0   \n",
       "4           0                1                 0              0   \n",
       "\n",
       "   job_management  job_retired  job_self-employed  job_services  job_student  \\\n",
       "0               0            0                  0             0            0   \n",
       "1               0            0                  0             1            0   \n",
       "2               1            0                  0             0            0   \n",
       "3               1            0                  0             0            0   \n",
       "4               0            0                  0             0            0   \n",
       "\n",
       "   job_technician  job_unemployed  job_unknown  marital_divorced  \\\n",
       "0               0               1            0                 0   \n",
       "1               0               0            0                 0   \n",
       "2               0               0            0                 0   \n",
       "3               0               0            0                 0   \n",
       "4               0               0            0                 0   \n",
       "\n",
       "   marital_married  marital_single  education_primary  education_secondary  \\\n",
       "0                1               0                  1                    0   \n",
       "1                1               0                  0                    1   \n",
       "2                0               1                  0                    0   \n",
       "3                1               0                  0                    0   \n",
       "4                1               0                  0                    1   \n",
       "\n",
       "   education_tertiary  education_unknown  contact_cellular  contact_telephone  \\\n",
       "0                   0                  0                 1                  0   \n",
       "1                   0                  0                 1                  0   \n",
       "2                   1                  0                 1                  0   \n",
       "3                   1                  0                 0                  0   \n",
       "4                   0                  0                 0                  0   \n",
       "\n",
       "   contact_unknown  poutcome_failure  poutcome_other  poutcome_success  \\\n",
       "0                0                 0               0                 0   \n",
       "1                0                 1               0                 0   \n",
       "2                0                 1               0                 0   \n",
       "3                1                 0               0                 0   \n",
       "4                1                 0               0                 0   \n",
       "\n",
       "   poutcome_unknown  job_admin  job_self  \n",
       "0                 1          0         0  \n",
       "1                 0          0         0  \n",
       "2                 0          0         0  \n",
       "3                 1          0         0  \n",
       "4                 1          0         0  "
      ]
     },
     "execution_count": 236,
     "metadata": {},
     "output_type": "execute_result"
    }
   ],
   "source": [
    "bank_bin.head()"
   ]
  },
  {
   "cell_type": "code",
   "execution_count": 227,
   "metadata": {
    "scrolled": true
   },
   "outputs": [
    {
     "data": {
      "text/html": [
       "<div>\n",
       "<style scoped>\n",
       "    .dataframe tbody tr th:only-of-type {\n",
       "        vertical-align: middle;\n",
       "    }\n",
       "\n",
       "    .dataframe tbody tr th {\n",
       "        vertical-align: top;\n",
       "    }\n",
       "\n",
       "    .dataframe thead th {\n",
       "        text-align: right;\n",
       "    }\n",
       "</style>\n",
       "<table border=\"1\" class=\"dataframe\">\n",
       "  <thead>\n",
       "    <tr style=\"text-align: right;\">\n",
       "      <th></th>\n",
       "      <th>age</th>\n",
       "      <th>balance</th>\n",
       "      <th>day</th>\n",
       "      <th>month</th>\n",
       "      <th>duration</th>\n",
       "      <th>campaign</th>\n",
       "      <th>pdays</th>\n",
       "      <th>previous</th>\n",
       "      <th>y</th>\n",
       "      <th>default_no</th>\n",
       "      <th>default_yes</th>\n",
       "      <th>housing_no</th>\n",
       "      <th>housing_yes</th>\n",
       "      <th>loan_no</th>\n",
       "      <th>loan_yes</th>\n",
       "      <th>job_admin.</th>\n",
       "      <th>job_blue-collar</th>\n",
       "      <th>job_entrepreneur</th>\n",
       "      <th>job_housemaid</th>\n",
       "      <th>job_management</th>\n",
       "      <th>job_retired</th>\n",
       "      <th>job_self-employed</th>\n",
       "      <th>job_services</th>\n",
       "      <th>job_student</th>\n",
       "      <th>job_technician</th>\n",
       "      <th>job_unemployed</th>\n",
       "      <th>job_unknown</th>\n",
       "      <th>marital_divorced</th>\n",
       "      <th>marital_married</th>\n",
       "      <th>marital_single</th>\n",
       "      <th>education_primary</th>\n",
       "      <th>education_secondary</th>\n",
       "      <th>education_tertiary</th>\n",
       "      <th>education_unknown</th>\n",
       "      <th>contact_cellular</th>\n",
       "      <th>contact_telephone</th>\n",
       "      <th>contact_unknown</th>\n",
       "      <th>poutcome_failure</th>\n",
       "      <th>poutcome_other</th>\n",
       "      <th>poutcome_success</th>\n",
       "      <th>poutcome_unknown</th>\n",
       "    </tr>\n",
       "  </thead>\n",
       "  <tbody>\n",
       "    <tr>\n",
       "      <td>0</td>\n",
       "      <td>30</td>\n",
       "      <td>1787</td>\n",
       "      <td>19</td>\n",
       "      <td>10</td>\n",
       "      <td>79</td>\n",
       "      <td>1</td>\n",
       "      <td>-1</td>\n",
       "      <td>0</td>\n",
       "      <td>no</td>\n",
       "      <td>1</td>\n",
       "      <td>0</td>\n",
       "      <td>1</td>\n",
       "      <td>0</td>\n",
       "      <td>1</td>\n",
       "      <td>0</td>\n",
       "      <td>0</td>\n",
       "      <td>0</td>\n",
       "      <td>0</td>\n",
       "      <td>0</td>\n",
       "      <td>0</td>\n",
       "      <td>0</td>\n",
       "      <td>0</td>\n",
       "      <td>0</td>\n",
       "      <td>0</td>\n",
       "      <td>0</td>\n",
       "      <td>1</td>\n",
       "      <td>0</td>\n",
       "      <td>0</td>\n",
       "      <td>1</td>\n",
       "      <td>0</td>\n",
       "      <td>1</td>\n",
       "      <td>0</td>\n",
       "      <td>0</td>\n",
       "      <td>0</td>\n",
       "      <td>1</td>\n",
       "      <td>0</td>\n",
       "      <td>0</td>\n",
       "      <td>0</td>\n",
       "      <td>0</td>\n",
       "      <td>0</td>\n",
       "      <td>1</td>\n",
       "    </tr>\n",
       "    <tr>\n",
       "      <td>1</td>\n",
       "      <td>33</td>\n",
       "      <td>4789</td>\n",
       "      <td>11</td>\n",
       "      <td>5</td>\n",
       "      <td>220</td>\n",
       "      <td>1</td>\n",
       "      <td>339</td>\n",
       "      <td>4</td>\n",
       "      <td>no</td>\n",
       "      <td>1</td>\n",
       "      <td>0</td>\n",
       "      <td>0</td>\n",
       "      <td>1</td>\n",
       "      <td>0</td>\n",
       "      <td>1</td>\n",
       "      <td>0</td>\n",
       "      <td>0</td>\n",
       "      <td>0</td>\n",
       "      <td>0</td>\n",
       "      <td>0</td>\n",
       "      <td>0</td>\n",
       "      <td>0</td>\n",
       "      <td>1</td>\n",
       "      <td>0</td>\n",
       "      <td>0</td>\n",
       "      <td>0</td>\n",
       "      <td>0</td>\n",
       "      <td>0</td>\n",
       "      <td>1</td>\n",
       "      <td>0</td>\n",
       "      <td>0</td>\n",
       "      <td>1</td>\n",
       "      <td>0</td>\n",
       "      <td>0</td>\n",
       "      <td>1</td>\n",
       "      <td>0</td>\n",
       "      <td>0</td>\n",
       "      <td>1</td>\n",
       "      <td>0</td>\n",
       "      <td>0</td>\n",
       "      <td>0</td>\n",
       "    </tr>\n",
       "    <tr>\n",
       "      <td>2</td>\n",
       "      <td>35</td>\n",
       "      <td>1350</td>\n",
       "      <td>16</td>\n",
       "      <td>4</td>\n",
       "      <td>185</td>\n",
       "      <td>1</td>\n",
       "      <td>330</td>\n",
       "      <td>1</td>\n",
       "      <td>no</td>\n",
       "      <td>1</td>\n",
       "      <td>0</td>\n",
       "      <td>0</td>\n",
       "      <td>1</td>\n",
       "      <td>1</td>\n",
       "      <td>0</td>\n",
       "      <td>0</td>\n",
       "      <td>0</td>\n",
       "      <td>0</td>\n",
       "      <td>0</td>\n",
       "      <td>1</td>\n",
       "      <td>0</td>\n",
       "      <td>0</td>\n",
       "      <td>0</td>\n",
       "      <td>0</td>\n",
       "      <td>0</td>\n",
       "      <td>0</td>\n",
       "      <td>0</td>\n",
       "      <td>0</td>\n",
       "      <td>0</td>\n",
       "      <td>1</td>\n",
       "      <td>0</td>\n",
       "      <td>0</td>\n",
       "      <td>1</td>\n",
       "      <td>0</td>\n",
       "      <td>1</td>\n",
       "      <td>0</td>\n",
       "      <td>0</td>\n",
       "      <td>1</td>\n",
       "      <td>0</td>\n",
       "      <td>0</td>\n",
       "      <td>0</td>\n",
       "    </tr>\n",
       "    <tr>\n",
       "      <td>3</td>\n",
       "      <td>30</td>\n",
       "      <td>1476</td>\n",
       "      <td>3</td>\n",
       "      <td>6</td>\n",
       "      <td>199</td>\n",
       "      <td>4</td>\n",
       "      <td>-1</td>\n",
       "      <td>0</td>\n",
       "      <td>no</td>\n",
       "      <td>1</td>\n",
       "      <td>0</td>\n",
       "      <td>0</td>\n",
       "      <td>1</td>\n",
       "      <td>0</td>\n",
       "      <td>1</td>\n",
       "      <td>0</td>\n",
       "      <td>0</td>\n",
       "      <td>0</td>\n",
       "      <td>0</td>\n",
       "      <td>1</td>\n",
       "      <td>0</td>\n",
       "      <td>0</td>\n",
       "      <td>0</td>\n",
       "      <td>0</td>\n",
       "      <td>0</td>\n",
       "      <td>0</td>\n",
       "      <td>0</td>\n",
       "      <td>0</td>\n",
       "      <td>1</td>\n",
       "      <td>0</td>\n",
       "      <td>0</td>\n",
       "      <td>0</td>\n",
       "      <td>1</td>\n",
       "      <td>0</td>\n",
       "      <td>0</td>\n",
       "      <td>0</td>\n",
       "      <td>1</td>\n",
       "      <td>0</td>\n",
       "      <td>0</td>\n",
       "      <td>0</td>\n",
       "      <td>1</td>\n",
       "    </tr>\n",
       "    <tr>\n",
       "      <td>4</td>\n",
       "      <td>59</td>\n",
       "      <td>0</td>\n",
       "      <td>5</td>\n",
       "      <td>5</td>\n",
       "      <td>226</td>\n",
       "      <td>1</td>\n",
       "      <td>-1</td>\n",
       "      <td>0</td>\n",
       "      <td>no</td>\n",
       "      <td>1</td>\n",
       "      <td>0</td>\n",
       "      <td>0</td>\n",
       "      <td>1</td>\n",
       "      <td>1</td>\n",
       "      <td>0</td>\n",
       "      <td>0</td>\n",
       "      <td>1</td>\n",
       "      <td>0</td>\n",
       "      <td>0</td>\n",
       "      <td>0</td>\n",
       "      <td>0</td>\n",
       "      <td>0</td>\n",
       "      <td>0</td>\n",
       "      <td>0</td>\n",
       "      <td>0</td>\n",
       "      <td>0</td>\n",
       "      <td>0</td>\n",
       "      <td>0</td>\n",
       "      <td>1</td>\n",
       "      <td>0</td>\n",
       "      <td>0</td>\n",
       "      <td>1</td>\n",
       "      <td>0</td>\n",
       "      <td>0</td>\n",
       "      <td>0</td>\n",
       "      <td>0</td>\n",
       "      <td>1</td>\n",
       "      <td>0</td>\n",
       "      <td>0</td>\n",
       "      <td>0</td>\n",
       "      <td>1</td>\n",
       "    </tr>\n",
       "  </tbody>\n",
       "</table>\n",
       "</div>"
      ],
      "text/plain": [
       "   age  balance  day  month  duration  campaign  pdays  previous   y  \\\n",
       "0   30     1787   19     10        79         1     -1         0  no   \n",
       "1   33     4789   11      5       220         1    339         4  no   \n",
       "2   35     1350   16      4       185         1    330         1  no   \n",
       "3   30     1476    3      6       199         4     -1         0  no   \n",
       "4   59        0    5      5       226         1     -1         0  no   \n",
       "\n",
       "   default_no  default_yes  housing_no  housing_yes  loan_no  loan_yes  \\\n",
       "0           1            0           1            0        1         0   \n",
       "1           1            0           0            1        0         1   \n",
       "2           1            0           0            1        1         0   \n",
       "3           1            0           0            1        0         1   \n",
       "4           1            0           0            1        1         0   \n",
       "\n",
       "   job_admin.  job_blue-collar  job_entrepreneur  job_housemaid  \\\n",
       "0           0                0                 0              0   \n",
       "1           0                0                 0              0   \n",
       "2           0                0                 0              0   \n",
       "3           0                0                 0              0   \n",
       "4           0                1                 0              0   \n",
       "\n",
       "   job_management  job_retired  job_self-employed  job_services  job_student  \\\n",
       "0               0            0                  0             0            0   \n",
       "1               0            0                  0             1            0   \n",
       "2               1            0                  0             0            0   \n",
       "3               1            0                  0             0            0   \n",
       "4               0            0                  0             0            0   \n",
       "\n",
       "   job_technician  job_unemployed  job_unknown  marital_divorced  \\\n",
       "0               0               1            0                 0   \n",
       "1               0               0            0                 0   \n",
       "2               0               0            0                 0   \n",
       "3               0               0            0                 0   \n",
       "4               0               0            0                 0   \n",
       "\n",
       "   marital_married  marital_single  education_primary  education_secondary  \\\n",
       "0                1               0                  1                    0   \n",
       "1                1               0                  0                    1   \n",
       "2                0               1                  0                    0   \n",
       "3                1               0                  0                    0   \n",
       "4                1               0                  0                    1   \n",
       "\n",
       "   education_tertiary  education_unknown  contact_cellular  contact_telephone  \\\n",
       "0                   0                  0                 1                  0   \n",
       "1                   0                  0                 1                  0   \n",
       "2                   1                  0                 1                  0   \n",
       "3                   1                  0                 0                  0   \n",
       "4                   0                  0                 0                  0   \n",
       "\n",
       "   contact_unknown  poutcome_failure  poutcome_other  poutcome_success  \\\n",
       "0                0                 0               0                 0   \n",
       "1                0                 1               0                 0   \n",
       "2                0                 1               0                 0   \n",
       "3                1                 0               0                 0   \n",
       "4                1                 0               0                 0   \n",
       "\n",
       "   poutcome_unknown  \n",
       "0                 1  \n",
       "1                 0  \n",
       "2                 0  \n",
       "3                 1  \n",
       "4                 1  "
      ]
     },
     "execution_count": 227,
     "metadata": {},
     "output_type": "execute_result"
    }
   ],
   "source": [
    "bank_bin.head()"
   ]
  },
  {
   "cell_type": "code",
   "execution_count": 238,
   "metadata": {},
   "outputs": [],
   "source": [
    "#split into train and  test set\n",
    "bank_bin_train,bank_bin_test = model_selection.train_test_split(bank_bin,train_size=0.8,random_state=2020)"
   ]
  },
  {
   "cell_type": "code",
   "execution_count": 239,
   "metadata": {},
   "outputs": [],
   "source": [
    "glm_bin_fit = smf.glm('y~age+balance+day+month+duration+campaign+pdays+previous+default_no+default_yes+housing_no+housing_yes+loan_no+loan_yes+job_admin +job_blue+job_entrepreneur+job_housemaid+job_management+job_retired+job_self+job_services+job_student+job_technician+job_unemployed+job_unknown+marital_divorced+marital_married+marital_single+education_primary+education_secondary+education_tertiary+education_unknown+contact_cellular+contact_telephone+contact_unknown+poutcome_failure+poutcome_other+poutcome_success+poutcome_unknown',data= bank_bin_train,family = sm.families.Binomial()).fit()"
   ]
  },
  {
   "cell_type": "code",
   "execution_count": 240,
   "metadata": {
    "scrolled": true
   },
   "outputs": [
    {
     "name": "stdout",
     "output_type": "stream",
     "text": [
      "                  Generalized Linear Model Regression Results                  \n",
      "===============================================================================\n",
      "Dep. Variable:     ['y[no]', 'y[yes]']   No. Observations:                 3616\n",
      "Model:                             GLM   Df Residuals:                     3583\n",
      "Model Family:                 Binomial   Df Model:                           32\n",
      "Link Function:                   logit   Scale:                          1.0000\n",
      "Method:                           IRLS   Log-Likelihood:                -926.67\n",
      "Date:                 Sun, 18 Oct 2020   Deviance:                       1853.3\n",
      "Time:                         15:38:38   Pearson chi2:                 6.20e+03\n",
      "No. Iterations:                      7                                         \n",
      "Covariance Type:             nonrobust                                         \n",
      "=======================================================================================\n",
      "                          coef    std err          z      P>|z|      [0.025      0.975]\n",
      "---------------------------------------------------------------------------------------\n",
      "Intercept               0.6841      0.139      4.919      0.000       0.412       0.957\n",
      "age                    -0.0031      0.008     -0.415      0.678      -0.018       0.012\n",
      "balance             -1.024e-05   1.83e-05     -0.558      0.577   -4.62e-05    2.57e-05\n",
      "day                     0.0005      0.008      0.064      0.949      -0.015       0.016\n",
      "month                   0.0185      0.024      0.773      0.440      -0.028       0.065\n",
      "duration               -0.0040      0.000    -18.458      0.000      -0.004      -0.004\n",
      "campaign                0.0622      0.029      2.125      0.034       0.005       0.120\n",
      "pdays                   0.0007      0.001      0.613      0.540      -0.001       0.003\n",
      "previous                0.0109      0.043      0.254      0.799      -0.073       0.095\n",
      "default_no              0.6614      0.201      3.283      0.001       0.267       1.056\n",
      "default_yes             0.0227      0.255      0.089      0.929      -0.478       0.523\n",
      "housing_no              0.1639      0.100      1.640      0.101      -0.032       0.360\n",
      "housing_yes             0.5202      0.096      5.406      0.000       0.332       0.709\n",
      "loan_no                 0.0080      0.119      0.067      0.946      -0.225       0.241\n",
      "loan_yes                0.6761      0.136      4.964      0.000       0.409       0.943\n",
      "job_admin              -0.1848      0.199     -0.929      0.353      -0.575       0.205\n",
      "job_blue                0.4294      0.189      2.275      0.023       0.060       0.799\n",
      "job_entrepreneur        0.5882      0.362      1.627      0.104      -0.120       1.297\n",
      "job_housemaid          -0.0233      0.355     -0.066      0.948      -0.719       0.672\n",
      "job_management          0.1148      0.170      0.677      0.498      -0.218       0.447\n",
      "job_retired            -0.6191      0.257     -2.408      0.016      -1.123      -0.115\n",
      "job_self                0.2497      0.300      0.833      0.405      -0.338       0.837\n",
      "job_services            0.2085      0.235      0.886      0.375      -0.253       0.670\n",
      "job_student            -0.4314      0.343     -1.257      0.209      -1.104       0.241\n",
      "job_technician          0.1942      0.170      1.142      0.254      -0.139       0.528\n",
      "job_unemployed          0.7776      0.409      1.903      0.057      -0.023       1.579\n",
      "job_unknown            -0.6197      0.514     -1.206      0.228      -1.627       0.387\n",
      "marital_divorced       -0.0180      0.141     -0.127      0.899      -0.295       0.259\n",
      "marital_married         0.4772      0.104      4.609      0.000       0.274       0.680\n",
      "marital_single          0.2249      0.110      2.042      0.041       0.009       0.441\n",
      "education_primary       0.3458      0.179      1.933      0.053      -0.005       0.696\n",
      "education_secondary     0.1777      0.124      1.436      0.151      -0.065       0.420\n",
      "education_tertiary     -0.1290      0.143     -0.901      0.368      -0.410       0.152\n",
      "education_unknown       0.2896      0.243      1.191      0.233      -0.187       0.766\n",
      "contact_cellular       -0.1613      0.109     -1.486      0.137      -0.374       0.051\n",
      "contact_telephone      -0.1683      0.181     -0.929      0.353      -0.523       0.187\n",
      "contact_unknown         1.0138      0.154      6.572      0.000       0.711       1.316\n",
      "poutcome_failure        0.7612      0.187      4.066      0.000       0.394       1.128\n",
      "poutcome_other          0.2813      0.214      1.317      0.188      -0.137       0.700\n",
      "poutcome_success       -1.4899      0.197     -7.559      0.000      -1.876      -1.104\n",
      "poutcome_unknown        1.1316      0.211      5.373      0.000       0.719       1.544\n",
      "=======================================================================================\n"
     ]
    }
   ],
   "source": [
    "print(glm_bin_fit.summary())"
   ]
  },
  {
   "cell_type": "code",
   "execution_count": 241,
   "metadata": {},
   "outputs": [
    {
     "data": {
      "text/plain": [
       "501     0.966481\n",
       "4156    0.920503\n",
       "3578    0.980765\n",
       "1795    0.989228\n",
       "1180    0.901284\n",
       "3405    0.982409\n",
       "1852    0.989273\n",
       "3346    0.939444\n",
       "3282    0.952686\n",
       "313     0.866459\n",
       "dtype: float64"
      ]
     },
     "execution_count": 241,
     "metadata": {},
     "output_type": "execute_result"
    }
   ],
   "source": [
    "glm_prob = glm_bin_fit.predict(bank_bin_test)\n",
    "glm_prob[:10]"
   ]
  },
  {
   "cell_type": "code",
   "execution_count": 242,
   "metadata": {},
   "outputs": [],
   "source": [
    "glm_pred = np.repeat('yes', len(glm_prob))\n",
    "glm_pred[glm_prob > 0.5] = 'no'\n",
    "y_true = bank_bin_test[\"y\"].values"
   ]
  },
  {
   "cell_type": "code",
   "execution_count": 252,
   "metadata": {},
   "outputs": [
    {
     "data": {
      "text/plain": [
       "501     0.966481\n",
       "4156    0.920503\n",
       "3578    0.980765\n",
       "1795    0.989228\n",
       "1180    0.901284\n",
       "3405    0.982409\n",
       "1852    0.989273\n",
       "3346    0.939444\n",
       "3282    0.952686\n",
       "313     0.866459\n",
       "3709    0.942446\n",
       "830     0.916851\n",
       "1037    0.972891\n",
       "250     0.943242\n",
       "3312    0.804610\n",
       "2133    0.928654\n",
       "3276    0.973569\n",
       "3034    0.986062\n",
       "3948    0.909528\n",
       "3099    0.952151\n",
       "3336    0.991300\n",
       "3591    0.977784\n",
       "1456    0.991701\n",
       "1677    0.938169\n",
       "3011    0.924487\n",
       "3950    0.987181\n",
       "4461    0.960336\n",
       "2001    0.998217\n",
       "1240    0.963659\n",
       "4502    0.984824\n",
       "4020    0.867764\n",
       "2318    0.873550\n",
       "3461    0.936361\n",
       "2134    0.962054\n",
       "4171    0.772042\n",
       "1526    0.863953\n",
       "731     0.982570\n",
       "264     0.640956\n",
       "3140    0.976036\n",
       "1657    0.964420\n",
       "3362    0.773639\n",
       "238     0.985707\n",
       "2687    0.958146\n",
       "3537    0.958321\n",
       "3550    0.987656\n",
       "1490    0.931646\n",
       "1522    0.989382\n",
       "36      0.859330\n",
       "714     0.899908\n",
       "4097    0.976563\n",
       "2487    0.688762\n",
       "2905    0.937732\n",
       "2557    0.962469\n",
       "438     0.973740\n",
       "1713    0.974165\n",
       "981     0.978392\n",
       "850     0.786768\n",
       "305     0.910240\n",
       "3843    0.234902\n",
       "958     0.979493\n",
       "3582    0.982300\n",
       "4290    0.868758\n",
       "3763    0.978001\n",
       "3971    0.989966\n",
       "1353    0.918371\n",
       "3057    0.988144\n",
       "4519    0.928445\n",
       "148     0.892383\n",
       "600     0.685745\n",
       "3430    0.729230\n",
       "836     0.985441\n",
       "2432    0.917179\n",
       "3073    0.777929\n",
       "4083    0.761357\n",
       "1601    0.942868\n",
       "3756    0.941213\n",
       "1462    0.870443\n",
       "3186    0.965747\n",
       "3290    0.911351\n",
       "1038    0.993356\n",
       "3729    0.975144\n",
       "4385    0.972579\n",
       "2147    0.889730\n",
       "2634    0.871862\n",
       "3896    0.514552\n",
       "1485    0.350643\n",
       "4516    0.939385\n",
       "2588    0.886211\n",
       "1990    0.982858\n",
       "3172    0.892267\n",
       "2141    0.993622\n",
       "2685    0.820818\n",
       "112     0.970352\n",
       "226     0.911203\n",
       "2039    0.949903\n",
       "1224    0.983526\n",
       "3325    0.959560\n",
       "1701    0.965573\n",
       "2446    0.942791\n",
       "163     0.995059\n",
       "1159    0.908255\n",
       "1120    0.982275\n",
       "3123    0.537857\n",
       "764     0.916306\n",
       "42      0.920431\n",
       "823     0.207043\n",
       "3926    0.977013\n",
       "4077    0.533342\n",
       "4327    0.727667\n",
       "3429    0.954555\n",
       "3823    0.946410\n",
       "1758    0.974476\n",
       "1866    0.739929\n",
       "2900    0.886265\n",
       "623     0.746627\n",
       "1603    0.191322\n",
       "3116    0.976978\n",
       "27      0.866582\n",
       "3692    0.989316\n",
       "1518    0.954136\n",
       "2990    0.956156\n",
       "2765    0.889170\n",
       "2920    0.987824\n",
       "1845    0.976908\n",
       "3183    0.986574\n",
       "4180    0.991850\n",
       "3269    0.984896\n",
       "4428    0.921837\n",
       "1323    0.979678\n",
       "3250    0.480025\n",
       "1814    0.875474\n",
       "4418    0.937530\n",
       "3771    0.920201\n",
       "3399    0.984240\n",
       "3854    0.908854\n",
       "3423    0.968223\n",
       "3996    0.941497\n",
       "1499    0.989244\n",
       "2214    0.966908\n",
       "1200    0.990650\n",
       "3218    0.968088\n",
       "4378    0.926147\n",
       "3995    0.955347\n",
       "2365    0.649484\n",
       "231     0.979100\n",
       "2933    0.987031\n",
       "3518    0.970954\n",
       "1181    0.585577\n",
       "1893    0.936648\n",
       "2645    0.759944\n",
       "3244    0.911122\n",
       "802     0.960774\n",
       "2117    0.929284\n",
       "2577    0.990517\n",
       "1111    0.819010\n",
       "1090    0.993152\n",
       "2516    0.934460\n",
       "3517    0.941460\n",
       "409     0.875587\n",
       "2814    0.913087\n",
       "1857    0.963463\n",
       "1438    0.963913\n",
       "4061    0.976861\n",
       "2390    0.965104\n",
       "549     0.814271\n",
       "1722    0.614229\n",
       "35      0.967769\n",
       "1274    0.821831\n",
       "2727    0.977423\n",
       "1922    0.956637\n",
       "4009    0.343156\n",
       "2709    0.978258\n",
       "1751    0.981248\n",
       "4123    0.006706\n",
       "3215    0.941100\n",
       "1969    0.919704\n",
       "2921    0.981694\n",
       "4341    0.923704\n",
       "15      0.953393\n",
       "2916    0.930526\n",
       "3309    0.914949\n",
       "643     0.920913\n",
       "1314    0.991105\n",
       "807     0.980860\n",
       "4176    0.917352\n",
       "743     0.586582\n",
       "3727    0.859320\n",
       "4444    0.836054\n",
       "1341    0.990808\n",
       "306     0.725145\n",
       "4355    0.940139\n",
       "278     0.976461\n",
       "2065    0.962636\n",
       "4149    0.974886\n",
       "4189    0.929492\n",
       "1546    0.974590\n",
       "4334    0.960696\n",
       "2820    0.968570\n",
       "1324    0.947002\n",
       "4121    0.945511\n",
       "2072    0.980193\n",
       "1051    0.970461\n",
       "248     0.945339\n",
       "292     0.968132\n",
       "2165    0.965377\n",
       "3167    0.981698\n",
       "1960    0.991773\n",
       "4338    0.961858\n",
       "525     0.968309\n",
       "2879    0.522424\n",
       "2444    0.925237\n",
       "1740    0.946297\n",
       "1991    0.178613\n",
       "1665    0.931061\n",
       "3693    0.892359\n",
       "2067    0.850419\n",
       "3120    0.987661\n",
       "1366    0.953843\n",
       "1061    0.943893\n",
       "2397    0.989295\n",
       "1867    0.966860\n",
       "3947    0.987548\n",
       "3436    0.956948\n",
       "14      0.982547\n",
       "522     0.642747\n",
       "1228    0.952266\n",
       "4483    0.897436\n",
       "41      0.919171\n",
       "2652    0.943504\n",
       "312     0.709986\n",
       "1919    0.970277\n",
       "4373    0.918613\n",
       "2970    0.945853\n",
       "1785    0.950992\n",
       "590     0.982078\n",
       "2188    0.473882\n",
       "307     0.996180\n",
       "780     0.981926\n",
       "1378    0.985189\n",
       "1945    0.700724\n",
       "407     0.934554\n",
       "2757    0.915869\n",
       "4486    0.962527\n",
       "127     0.978247\n",
       "1150    0.942979\n",
       "1534    0.355039\n",
       "3335    0.987035\n",
       "3954    0.939507\n",
       "1265    0.929617\n",
       "3042    0.955637\n",
       "4420    0.954280\n",
       "2935    0.985389\n",
       "720     0.955960\n",
       "994     0.974460\n",
       "3164    0.941832\n",
       "1018    0.939119\n",
       "1941    0.970416\n",
       "1680    0.731817\n",
       "3817    0.882320\n",
       "3051    0.980004\n",
       "1196    0.962044\n",
       "2404    0.970776\n",
       "2880    0.910981\n",
       "4182    0.970246\n",
       "4188    0.958935\n",
       "1545    0.945275\n",
       "3496    0.960110\n",
       "3632    0.898663\n",
       "2385    0.982074\n",
       "63      0.948013\n",
       "2420    0.894040\n",
       "3115    0.959889\n",
       "353     0.868286\n",
       "2301    0.860808\n",
       "1471    0.817586\n",
       "1077    0.855952\n",
       "3378    0.974404\n",
       "2330    0.946253\n",
       "3242    0.968156\n",
       "3871    0.986627\n",
       "1395    0.709444\n",
       "1616    0.911869\n",
       "3828    0.972075\n",
       "4170    0.973218\n",
       "631     0.918755\n",
       "507     0.981616\n",
       "194     0.654357\n",
       "2518    0.938565\n",
       "603     0.849572\n",
       "1460    0.886809\n",
       "912     0.966345\n",
       "3589    0.415992\n",
       "3555    0.983641\n",
       "1622    0.898145\n",
       "2763    0.869048\n",
       "2884    0.909696\n",
       "2440    0.911274\n",
       "4507    0.925251\n",
       "3022    0.918385\n",
       "76      0.803283\n",
       "3271    0.965038\n",
       "2409    0.880643\n",
       "3683    0.975452\n",
       "342     0.941258\n",
       "1152    0.945486\n",
       "1711    0.827854\n",
       "4369    0.967842\n",
       "1148    0.890341\n",
       "1508    0.945037\n",
       "2075    0.807146\n",
       "831     0.853267\n",
       "3608    0.981457\n",
       "975     0.885773\n",
       "3620    0.909793\n",
       "3064    0.887417\n",
       "4503    0.781796\n",
       "518     0.893292\n",
       "1993    0.916687\n",
       "1169    0.811731\n",
       "3332    0.963254\n",
       "3860    0.971798\n",
       "3927    0.985293\n",
       "356     0.989497\n",
       "809     0.876762\n",
       "814     0.939345\n",
       "3224    0.445533\n",
       "3768    0.978018\n",
       "340     0.961222\n",
       "2490    0.936923\n",
       "2716    0.886253\n",
       "3986    0.871645\n",
       "2155    0.981413\n",
       "1449    0.160326\n",
       "37      0.972026\n",
       "4386    0.869835\n",
       "3706    0.995785\n",
       "2615    0.949862\n",
       "3883    0.879897\n",
       "2084    0.994222\n",
       "21      0.896596\n",
       "2156    0.949524\n",
       "1987    0.944423\n",
       "135     0.919114\n",
       "1979    0.991027\n",
       "829     0.980622\n",
       "3832    0.985984\n",
       "3520    0.893386\n",
       "4094    0.921936\n",
       "2274    0.232152\n",
       "1006    0.937030\n",
       "1354    0.978805\n",
       "1767    0.811347\n",
       "1310    0.973444\n",
       "2329    0.931228\n",
       "3154    0.928382\n",
       "2850    0.966342\n",
       "4454    0.943424\n",
       "1052    0.939836\n",
       "1110    0.941661\n",
       "3070    0.986865\n",
       "1292    0.962454\n",
       "2119    0.960875\n",
       "110     0.343406\n",
       "627     0.931889\n",
       "1974    0.475110\n",
       "4402    0.905427\n",
       "2060    0.977074\n",
       "209     0.964343\n",
       "1516    0.968981\n",
       "3767    0.900209\n",
       "688     0.945967\n",
       "430     0.935268\n",
       "1583    0.993629\n",
       "1951    0.957315\n",
       "2088    0.809440\n",
       "3256    0.447081\n",
       "4252    0.991498\n",
       "4285    0.932807\n",
       "1291    0.973013\n",
       "527     0.937897\n",
       "3379    0.212113\n",
       "1940    0.728016\n",
       "2959    0.906101\n",
       "3524    0.986036\n",
       "1223    0.977345\n",
       "2391    0.942487\n",
       "4150    0.869720\n",
       "3209    0.980419\n",
       "1683    0.969056\n",
       "2202    0.200899\n",
       "3122    0.988921\n",
       "2196    0.889516\n",
       "4080    0.978738\n",
       "1503    0.765870\n",
       "1405    0.970783\n",
       "556     0.975998\n",
       "2035    0.933012\n",
       "2010    0.915422\n",
       "2909    0.906344\n",
       "4215    0.475646\n",
       "2249    0.945376\n",
       "4433    0.416463\n",
       "2015    0.880768\n",
       "545     0.984310\n",
       "3356    0.982172\n",
       "1083    0.461016\n",
       "3016    0.982555\n",
       "969     0.941319\n",
       "265     0.983988\n",
       "4032    0.781558\n",
       "3698    0.985018\n",
       "4387    0.970920\n",
       "488     0.986546\n",
       "533     0.895061\n",
       "2603    0.782585\n",
       "776     0.966114\n",
       "896     0.714603\n",
       "3895    0.964921\n",
       "1509    0.210441\n",
       "3150    0.949449\n",
       "2821    0.926206\n",
       "2283    0.972539\n",
       "2981    0.964097\n",
       "4311    0.974381\n",
       "4272    0.967635\n",
       "4254    0.871170\n",
       "4481    0.709312\n",
       "1946    0.369373\n",
       "752     0.995688\n",
       "4359    0.903815\n",
       "4464    0.953585\n",
       "2476    0.982040\n",
       "2177    0.941871\n",
       "2562    0.655911\n",
       "3853    0.016099\n",
       "28      0.971972\n",
       "3106    0.770840\n",
       "2963    0.760777\n",
       "3321    0.811636\n",
       "3322    0.897376\n",
       "1011    0.985130\n",
       "3579    0.904352\n",
       "3447    0.971372\n",
       "3173    0.938650\n",
       "3295    0.776493\n",
       "751     0.958223\n",
       "3203    0.986420\n",
       "2666    0.827251\n",
       "4396    0.802299\n",
       "1195    0.912998\n",
       "616     0.834439\n",
       "1678    0.962926\n",
       "242     0.960058\n",
       "1698    0.789123\n",
       "3594    0.986764\n",
       "118     0.972235\n",
       "3746    0.937879\n",
       "570     0.983930\n",
       "542     0.977606\n",
       "3802    0.921623\n",
       "924     0.767902\n",
       "1807    0.870933\n",
       "2827    0.011685\n",
       "4166    0.993537\n",
       "3878    0.988351\n",
       "47      0.974612\n",
       "3935    0.869731\n",
       "2574    0.993000\n",
       "1912    0.099102\n",
       "247     0.964536\n",
       "1364    0.961942\n",
       "217     0.947827\n",
       "1755    0.878686\n",
       "4265    0.349005\n",
       "766     0.985263\n",
       "3669    0.922208\n",
       "1885    0.913581\n",
       "472     0.954297\n",
       "193     0.988378\n",
       "328     0.023417\n",
       "1703    0.956543\n",
       "1570    0.952668\n",
       "3586    0.513111\n",
       "2834    0.947834\n",
       "761     0.992921\n",
       "2149    0.937314\n",
       "1813    0.909644\n",
       "1280    0.972971\n",
       "613     0.860095\n",
       "4115    0.943003\n",
       "1531    0.946032\n",
       "39      0.995547\n",
       "1917    0.958489\n",
       "290     0.886976\n",
       "2062    0.907581\n",
       "23      0.965981\n",
       "719     0.985805\n",
       "2983    0.910289\n",
       "918     0.926333\n",
       "4178    0.975349\n",
       "854     0.971455\n",
       "1344    0.934867\n",
       "1950    0.949420\n",
       "2912    0.970519\n",
       "3246    0.994286\n",
       "1668    0.959311\n",
       "4271    0.843014\n",
       "2742    0.953234\n",
       "2292    0.971560\n",
       "4197    0.993059\n",
       "43      0.939540\n",
       "4485    0.957439\n",
       "885     0.974636\n",
       "1401    0.983409\n",
       "537     0.952985\n",
       "561     0.875707\n",
       "1724    0.952162\n",
       "1005    0.889384\n",
       "2217    0.540080\n",
       "4175    0.818178\n",
       "3987    0.872781\n",
       "4315    0.890936\n",
       "1184    0.952896\n",
       "2492    0.972457\n",
       "1275    0.892336\n",
       "3397    0.597950\n",
       "2170    0.974251\n",
       "3976    0.906494\n",
       "967     0.977311\n",
       "4316    0.780263\n",
       "1346    0.920715\n",
       "3189    0.990305\n",
       "4475    0.975494\n",
       "4436    0.827721\n",
       "1840    0.938637\n",
       "1528    0.865609\n",
       "2211    0.558729\n",
       "3801    0.955525\n",
       "3852    0.756089\n",
       "3937    0.944787\n",
       "236     0.942647\n",
       "3415    0.941769\n",
       "3047    0.953817\n",
       "866     0.971377\n",
       "4493    0.979838\n",
       "1596    0.931825\n",
       "3630    0.948349\n",
       "208     0.953207\n",
       "1999    0.993453\n",
       "3296    0.992368\n",
       "2436    0.697362\n",
       "1026    0.987544\n",
       "3398    0.842189\n",
       "1388    0.952924\n",
       "2621    0.995072\n",
       "2434    0.727606\n",
       "444     0.924023\n",
       "395     0.985182\n",
       "345     0.962084\n",
       "3329    0.941799\n",
       "22      0.980877\n",
       "334     0.849842\n",
       "1514    0.986339\n",
       "2971    0.903227\n",
       "3013    0.942531\n",
       "1854    0.894429\n",
       "1856    0.873921\n",
       "2736    0.898153\n",
       "1415    0.669774\n",
       "1143    0.984717\n",
       "828     0.968827\n",
       "3024    0.940458\n",
       "244     0.921353\n",
       "1235    0.990081\n",
       "2740    0.943548\n",
       "2406    0.334576\n",
       "1385    0.970550\n",
       "1225    0.962778\n",
       "1754    0.265073\n",
       "2991    0.908436\n",
       "3901    0.954239\n",
       "1216    0.326276\n",
       "320     0.992197\n",
       "3716    0.803563\n",
       "610     0.977469\n",
       "1315    0.805818\n",
       "1140    0.987978\n",
       "1501    0.792231\n",
       "3882    0.953549\n",
       "3915    0.934213\n",
       "2277    0.896010\n",
       "4474    0.979293\n",
       "2785    0.991204\n",
       "3279    0.984143\n",
       "825     0.944256\n",
       "2031    0.924601\n",
       "2483    0.963248\n",
       "3067    0.978255\n",
       "4440    0.991084\n",
       "1770    0.990049\n",
       "3509    0.967982\n",
       "3241    0.989928\n",
       "4202    0.951564\n",
       "1973    0.985695\n",
       "2255    0.933079\n",
       "1114    0.934307\n",
       "323     0.427079\n",
       "3794    0.751201\n",
       "2082    0.924356\n",
       "3557    0.975427\n",
       "425     0.990763\n",
       "4074    0.990461\n",
       "1645    0.972706\n",
       "4169    0.926523\n",
       "1192    0.659605\n",
       "4280    0.976771\n",
       "2142    0.957068\n",
       "2290    0.965709\n",
       "4218    0.971857\n",
       "1100    0.887417\n",
       "1605    0.978883\n",
       "2012    0.950742\n",
       "2825    0.983890\n",
       "239     0.970877\n",
       "1766    0.923521\n",
       "2860    0.875479\n",
       "3618    0.902347\n",
       "867     0.969566\n",
       "4128    0.874888\n",
       "1316    0.946953\n",
       "4062    0.988285\n",
       "1478    0.919555\n",
       "296     0.757315\n",
       "1221    0.965453\n",
       "1408    0.975672\n",
       "1088    0.942199\n",
       "1329    0.913798\n",
       "2888    0.964360\n",
       "2267    0.991059\n",
       "196     0.960601\n",
       "4313    0.987536\n",
       "2402    0.936863\n",
       "3345    0.979360\n",
       "3613    0.983664\n",
       "4495    0.083843\n",
       "1903    0.048221\n",
       "4499    0.871655\n",
       "437     0.937286\n",
       "1590    0.681861\n",
       "980     0.013230\n",
       "1317    0.938945\n",
       "3284    0.935427\n",
       "2591    0.435345\n",
       "3053    0.992666\n",
       "2656    0.939174\n",
       "3101    0.989434\n",
       "4365    0.925614\n",
       "856     0.991540\n",
       "4142    0.910971\n",
       "2048    0.979488\n",
       "1247    0.957394\n",
       "863     0.992963\n",
       "4450    0.985491\n",
       "3257    0.985810\n",
       "3658    0.836051\n",
       "3546    0.922787\n",
       "2030    0.987424\n",
       "3326    0.992868\n",
       "4144    0.972723\n",
       "1254    0.959881\n",
       "99      0.706780\n",
       "1382    0.917110\n",
       "4201    0.986092\n",
       "1985    0.906620\n",
       "3234    0.915845\n",
       "2699    0.629419\n",
       "1138    0.971881\n",
       "288     0.914748\n",
       "2297    0.852704\n",
       "50      0.618181\n",
       "1676    0.896383\n",
       "2526    0.943351\n",
       "3914    0.479552\n",
       "3752    0.939586\n",
       "2664    0.833353\n",
       "2504    0.999434\n",
       "3264    0.924759\n",
       "455     0.989422\n",
       "485     0.995160\n",
       "1019    0.806157\n",
       "396     0.954957\n",
       "3835    0.409278\n",
       "943     0.986069\n",
       "847     0.924018\n",
       "1246    0.907533\n",
       "258     0.809595\n",
       "439     0.915210\n",
       "1384    0.986247\n",
       "4367    0.931221\n",
       "3866    0.967111\n",
       "878     0.963466\n",
       "246     0.979946\n",
       "3689    0.940185\n",
       "2988    0.930587\n",
       "3924    0.981993\n",
       "2568    0.843941\n",
       "3079    0.968627\n",
       "172     0.886758\n",
       "1809    0.988808\n",
       "2116    0.983832\n",
       "133     0.945482\n",
       "3207    0.930571\n",
       "4081    0.948323\n",
       "4087    0.942015\n",
       "2754    0.995048\n",
       "1578    0.985670\n",
       "2154    0.995384\n",
       "3394    0.839645\n",
       "1095    0.968329\n",
       "555     0.139008\n",
       "3466    0.901916\n",
       "2997    0.993247\n",
       "2791    0.990504\n",
       "2682    0.978382\n",
       "1527    0.967007\n",
       "1513    0.975085\n",
       "1943    0.947182\n",
       "1069    0.979012\n",
       "1085    0.532671\n",
       "4484    0.644709\n",
       "1141    0.988395\n",
       "3911    0.987818\n",
       "2325    0.897806\n",
       "1731    0.916430\n",
       "1686    0.990685\n",
       "496     0.930579\n",
       "1942    0.856079\n",
       "3682    0.910231\n",
       "923     0.987597\n",
       "386     0.972724\n",
       "3599    0.990830\n",
       "1847    0.961640\n",
       "2199    0.917969\n",
       "4026    0.966196\n",
       "3841    0.963565\n",
       "4278    0.947888\n",
       "1304    0.981094\n",
       "517     0.632131\n",
       "2184    0.942748\n",
       "3479    0.978056\n",
       "671     0.934384\n",
       "2212    0.783074\n",
       "3742    0.925192\n",
       "3478    0.986820\n",
       "3889    0.238638\n",
       "3728    0.972853\n",
       "2356    0.989319\n",
       "4352    0.930777\n",
       "1170    0.965844\n",
       "3214    0.997040\n",
       "2611    0.914384\n",
       "3357    0.986848\n",
       "1434    0.527176\n",
       "1133    0.982463\n",
       "806     0.890724\n",
       "2254    0.945489\n",
       "1690    0.979958\n",
       "1644    0.803018\n",
       "2770    0.863894\n",
       "1500    0.957380\n",
       "2417    0.943739\n",
       "3462    0.975180\n",
       "185     0.965592\n",
       "4322    0.985896\n",
       "2331    0.909964\n",
       "1981    0.949710\n",
       "4241    0.905091\n",
       "1046    0.922961\n",
       "851     0.970259\n",
       "2578    0.977765\n",
       "956     0.929539\n",
       "3491    0.901299\n",
       "3010    0.982366\n",
       "1375    0.979778\n",
       "715     0.860238\n",
       "87      0.954586\n",
       "3319    0.982025\n",
       "1101    0.942271\n",
       "710     0.992741\n",
       "634     0.718158\n",
       "1655    0.890569\n",
       "4383    0.905070\n",
       "4453    0.920182\n",
       "3247    0.973473\n",
       "2280    0.991148\n",
       "3944    0.966548\n",
       "3299    0.948150\n",
       "2108    0.989212\n",
       "3604    0.931453\n",
       "3560    0.978383\n",
       "13      0.816587\n",
       "2976    0.990650\n",
       "601     0.984292\n",
       "3041    0.926823\n",
       "746     0.970662\n",
       "4133    0.683121\n",
       "10      0.976606\n",
       "2497    0.963227\n",
       "2439    0.990596\n",
       "1691    0.986600\n",
       "3046    0.985957\n",
       "2914    0.969780\n",
       "4487    0.935132\n",
       "3138    0.958818\n",
       "1801    0.971287\n",
       "2146    0.969484\n",
       "1481    0.992665\n",
       "690     0.986995\n",
       "4520    0.904563\n",
       "1915    0.765196\n",
       "1855    0.233294\n",
       "3131    0.896515\n",
       "2312    0.985943\n",
       "1227    0.988158\n",
       "2412    0.983024\n",
       "736     0.917821\n",
       "4509    0.917213\n",
       "594     0.938476\n",
       "2662    0.962684\n",
       "1829    0.982568\n",
       "266     0.957880\n",
       "773     0.978991\n",
       "2531    0.910490\n",
       "3679    0.833183\n",
       "1447    0.972930\n",
       "2890    0.990205\n",
       "2092    0.852247\n",
       "4234    0.973484\n",
       "2025    0.862213\n",
       "478     0.984116\n",
       "3237    0.973455\n",
       "3874    0.331337\n",
       "2986    0.629254\n",
       "1553    0.859963\n",
       "2985    0.313942\n",
       "3184    0.884659\n",
       "1961    0.985900\n",
       "516     0.993360\n",
       "3962    0.965498\n",
       "1687    0.983708\n",
       "390     0.599678\n",
       "1716    0.992511\n",
       "2209    0.849753\n",
       "333     0.550189\n",
       "641     0.879457\n",
       "1650    0.861874\n",
       "3005    0.465460\n",
       "1066    0.924636\n",
       "3265    0.896504\n",
       "3747    0.935150\n",
       "3953    0.920342\n",
       "2346    0.987568\n",
       "1879    0.981226\n",
       "2345    0.966805\n",
       "2327    0.991851\n",
       "2308    0.994863\n",
       "2094    0.939827\n",
       "2349    0.993458\n",
       "1392    0.967702\n",
       "971     0.955692\n",
       "31      0.963016\n",
       "1049    0.935108\n",
       "3528    0.802982\n",
       "1041    0.927798\n",
       "3539    0.951078\n",
       "3925    0.984604\n",
       "388     0.940351\n",
       "2605    0.993634\n",
       "1289    0.986239\n",
       "4429    0.972798\n",
       "3929    0.913150\n",
       "2904    0.673270\n",
       "3884    0.938179\n",
       "4109    0.884802\n",
       "2389    0.983763\n",
       "3851    0.828450\n",
       "1667    0.997113\n",
       "2980    0.455366\n",
       "1191    0.956254\n",
       "1831    0.972458\n",
       "942     0.862685\n",
       "2752    0.980244\n",
       "2462    0.971069\n",
       "1694    0.985645\n",
       "3862    0.967804\n",
       "3590    0.977590\n",
       "2424    0.911496\n",
       "4072    0.947014\n",
       "1521    0.954402\n",
       "1925    0.982998\n",
       "2194    0.950890\n",
       "2780    0.854696\n",
       "465     0.466533\n",
       "3075    0.945319\n",
       "2966    0.974997\n",
       "dtype: float64"
      ]
     },
     "execution_count": 252,
     "metadata": {},
     "output_type": "execute_result"
    }
   ],
   "source": [
    "glm_prob"
   ]
  },
  {
   "cell_type": "code",
   "execution_count": 244,
   "metadata": {},
   "outputs": [
    {
     "data": {
      "text/plain": [
       "array([[792,  14],\n",
       "       [ 66,  33]], dtype=int64)"
      ]
     },
     "execution_count": 244,
     "metadata": {},
     "output_type": "execute_result"
    }
   ],
   "source": [
    "confusion_matrix(y_true, glm_pred)"
   ]
  },
  {
   "cell_type": "code",
   "execution_count": 245,
   "metadata": {
    "scrolled": true
   },
   "outputs": [
    {
     "data": {
      "text/plain": [
       "0.9116022099447514"
      ]
     },
     "execution_count": 245,
     "metadata": {},
     "output_type": "execute_result"
    }
   ],
   "source": [
    "(glm_pred == y_true).mean()"
   ]
  },
  {
   "cell_type": "code",
   "execution_count": 246,
   "metadata": {},
   "outputs": [
    {
     "name": "stdout",
     "output_type": "stream",
     "text": [
      "              precision    recall  f1-score   support\n",
      "\n",
      "          no       0.92      0.98      0.95       806\n",
      "         yes       0.70      0.33      0.45        99\n",
      "\n",
      "    accuracy                           0.91       905\n",
      "   macro avg       0.81      0.66      0.70       905\n",
      "weighted avg       0.90      0.91      0.90       905\n",
      "\n"
     ]
    }
   ],
   "source": [
    "from sklearn.metrics import classification_report\n",
    "print(classification_report(y_true,glm_pred))"
   ]
  },
  {
   "cell_type": "code",
   "execution_count": 247,
   "metadata": {},
   "outputs": [],
   "source": [
    "import matplotlib.pyplot as plt\n",
    "from sklearn.metrics import roc_curve, auc"
   ]
  },
  {
   "cell_type": "code",
   "execution_count": 248,
   "metadata": {},
   "outputs": [],
   "source": [
    "y_true = bank_bin_test[\"y\"].values\n",
    "y_true[y_true=='yes'] = 0\n",
    "y_true[y_true=='no'] = 1"
   ]
  },
  {
   "cell_type": "code",
   "execution_count": 249,
   "metadata": {},
   "outputs": [],
   "source": [
    "y=np.array(y_true)\n",
    "score = np.array(glm_prob.values)"
   ]
  },
  {
   "cell_type": "code",
   "execution_count": 250,
   "metadata": {},
   "outputs": [],
   "source": [
    "y = y.astype(int)"
   ]
  },
  {
   "cell_type": "code",
   "execution_count": 251,
   "metadata": {},
   "outputs": [
    {
     "data": {
      "text/plain": [
       "<Figure size 432x288 with 0 Axes>"
      ]
     },
     "metadata": {},
     "output_type": "display_data"
    },
    {
     "data": {
      "image/png": "[encoded data removed]",
      "text/plain": [
       "<Figure size 720x720 with 1 Axes>"
      ]
     },
     "metadata": {
      "needs_background": "light"
     },
     "output_type": "display_data"
    }
   ],
   "source": [
    "# Compute ROC curve and ROC area for each class\n",
    "fpr,tpr,threshold = roc_curve(y,score) ###计算真正率和假正率\n",
    "roc_auc = auc(fpr,tpr) ###计算auc的值\n",
    "plt.figure()\n",
    "lw = 2\n",
    "plt.figure(figsize=(10,10))\n",
    "plt.plot(fpr, tpr, color='darkorange',\n",
    "         lw=lw, label='ROC curve (area = %0.2f)' % roc_auc) ###假正率为横坐标，真正率为纵坐标做曲线\n",
    "plt.plot([0, 1], [0, 1], color='navy', lw=lw, linestyle='--')\n",
    "plt.xlim([0.0, 1.0])\n",
    "plt.ylim([0.0, 1.05])\n",
    "plt.xlabel('False Positive Rate')\n",
    "plt.ylabel('True Positive Rate')\n",
    "plt.title('ROC curve of LR_1')\n",
    "plt.legend(loc=\"lower right\")\n",
    "plt.show()"
   ]
  },
  {
   "cell_type": "code",
   "execution_count": null,
   "metadata": {},
   "outputs": [],
   "source": []
  }
 ],
 "metadata": {
  "kernelspec": {
   "display_name": "Python 3",
   "language": "python",
   "name": "python3"
  },
  "language_info": {
   "codemirror_mode": {
    "name": "ipython",
    "version": 3
   },
   "file_extension": ".py",
   "mimetype": "text/x-python",
   "name": "python",
   "nbconvert_exporter": "python",
   "pygments_lexer": "ipython3",
   "version": "3.8.5"
  }
 },
 "nbformat": 4,
 "nbformat_minor": 4
}
