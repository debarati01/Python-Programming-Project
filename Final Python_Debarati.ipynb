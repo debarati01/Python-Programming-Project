{
 "cells": [
  {
   "cell_type": "markdown",
   "metadata": {},
   "source": [
    "# Portugese Bank Marketing"
   ]
  },
  {
   "cell_type": "markdown",
   "metadata": {},
   "source": [
    "## Import Packages"
   ]
  },
  {
   "cell_type": "code",
   "execution_count": 390,
   "metadata": {},
   "outputs": [],
   "source": [
    "# Import Packages\n",
    "import pandas as pd\n",
    "import matplotlib.pyplot as plt\n",
    "import seaborn as sns\n",
    "import os\n",
    "import sys\n",
    "%matplotlib inline\n",
    "import warnings\n",
    "warnings.filterwarnings('ignore')\n",
    "import numpy as np\n",
    "import pandas as pd\n",
    "import seaborn as sns\n",
    "sns.set_style(style='white')\n",
    "import matplotlib.pyplot as plt\n",
    "from sklearn.model_selection import train_test_split\n",
    "from sklearn.model_selection import KFold\n",
    "from sklearn.tree import DecisionTreeClassifier\n",
    "from sklearn.naive_bayes import GaussianNB\n",
    "from sklearn.ensemble import RandomForestClassifier, AdaBoostClassifier\n",
    "from sklearn.linear_model import LogisticRegression\n",
    "from sklearn.neighbors import KNeighborsClassifier\n",
    "from sklearn.metrics import f1_score,roc_auc_score,accuracy_score,roc_curve,precision_score,recall_score,confusion_matrix,precision_recall_curve\n",
    "import itertools\n",
    "from sklearn.model_selection import GridSearchCV\n",
    "from sklearn.preprocessing import MinMaxScaler,RobustScaler\n",
    "import statsmodels.api as sm\n",
    "import statsmodels.formula.api as smf\n",
    "from sklearn.metrics import classification_report\n",
    "from sklearn.model_selection import RandomizedSearchCV  # Randomized search on hyper parameters.\n",
    "from sklearn.model_selection import cross_val_score\n",
    "from sklearn.utils import resample\n",
    "from sklearn.preprocessing import StandardScaler\n",
    "from sklearn.metrics import roc_curve\n",
    "from sklearn.metrics import roc_auc_score"
   ]
  },
  {
   "cell_type": "markdown",
   "metadata": {},
   "source": [
    "# Import Data"
   ]
  },
  {
   "cell_type": "code",
   "execution_count": 391,
   "metadata": {},
   "outputs": [],
   "source": [
    "#Load dataset\n",
    "data = pd.read_csv(\"/Users/disorder/Desktop/CLASS Notes/Python for Data Analysis/group/bank_data/bank.csv\", sep = ';', decimal=',')"
   ]
  },
  {
   "cell_type": "code",
   "execution_count": 392,
   "metadata": {},
   "outputs": [
    {
     "data": {
      "text/html": [
       "<div>\n",
       "<style scoped>\n",
       "    .dataframe tbody tr th:only-of-type {\n",
       "        vertical-align: middle;\n",
       "    }\n",
       "\n",
       "    .dataframe tbody tr th {\n",
       "        vertical-align: top;\n",
       "    }\n",
       "\n",
       "    .dataframe thead th {\n",
       "        text-align: right;\n",
       "    }\n",
       "</style>\n",
       "<table border=\"1\" class=\"dataframe\">\n",
       "  <thead>\n",
       "    <tr style=\"text-align: right;\">\n",
       "      <th></th>\n",
       "      <th>age</th>\n",
       "      <th>job</th>\n",
       "      <th>marital</th>\n",
       "      <th>education</th>\n",
       "      <th>default</th>\n",
       "      <th>balance</th>\n",
       "      <th>housing</th>\n",
       "      <th>loan</th>\n",
       "      <th>contact</th>\n",
       "      <th>day</th>\n",
       "      <th>month</th>\n",
       "      <th>duration</th>\n",
       "      <th>campaign</th>\n",
       "      <th>pdays</th>\n",
       "      <th>previous</th>\n",
       "      <th>poutcome</th>\n",
       "      <th>y</th>\n",
       "    </tr>\n",
       "  </thead>\n",
       "  <tbody>\n",
       "    <tr>\n",
       "      <th>0</th>\n",
       "      <td>30</td>\n",
       "      <td>unemployed</td>\n",
       "      <td>married</td>\n",
       "      <td>primary</td>\n",
       "      <td>no</td>\n",
       "      <td>1787</td>\n",
       "      <td>no</td>\n",
       "      <td>no</td>\n",
       "      <td>cellular</td>\n",
       "      <td>19</td>\n",
       "      <td>oct</td>\n",
       "      <td>79</td>\n",
       "      <td>1</td>\n",
       "      <td>-1</td>\n",
       "      <td>0</td>\n",
       "      <td>unknown</td>\n",
       "      <td>no</td>\n",
       "    </tr>\n",
       "    <tr>\n",
       "      <th>1</th>\n",
       "      <td>33</td>\n",
       "      <td>services</td>\n",
       "      <td>married</td>\n",
       "      <td>secondary</td>\n",
       "      <td>no</td>\n",
       "      <td>4789</td>\n",
       "      <td>yes</td>\n",
       "      <td>yes</td>\n",
       "      <td>cellular</td>\n",
       "      <td>11</td>\n",
       "      <td>may</td>\n",
       "      <td>220</td>\n",
       "      <td>1</td>\n",
       "      <td>339</td>\n",
       "      <td>4</td>\n",
       "      <td>failure</td>\n",
       "      <td>no</td>\n",
       "    </tr>\n",
       "    <tr>\n",
       "      <th>2</th>\n",
       "      <td>35</td>\n",
       "      <td>management</td>\n",
       "      <td>single</td>\n",
       "      <td>tertiary</td>\n",
       "      <td>no</td>\n",
       "      <td>1350</td>\n",
       "      <td>yes</td>\n",
       "      <td>no</td>\n",
       "      <td>cellular</td>\n",
       "      <td>16</td>\n",
       "      <td>apr</td>\n",
       "      <td>185</td>\n",
       "      <td>1</td>\n",
       "      <td>330</td>\n",
       "      <td>1</td>\n",
       "      <td>failure</td>\n",
       "      <td>no</td>\n",
       "    </tr>\n",
       "    <tr>\n",
       "      <th>3</th>\n",
       "      <td>30</td>\n",
       "      <td>management</td>\n",
       "      <td>married</td>\n",
       "      <td>tertiary</td>\n",
       "      <td>no</td>\n",
       "      <td>1476</td>\n",
       "      <td>yes</td>\n",
       "      <td>yes</td>\n",
       "      <td>unknown</td>\n",
       "      <td>3</td>\n",
       "      <td>jun</td>\n",
       "      <td>199</td>\n",
       "      <td>4</td>\n",
       "      <td>-1</td>\n",
       "      <td>0</td>\n",
       "      <td>unknown</td>\n",
       "      <td>no</td>\n",
       "    </tr>\n",
       "    <tr>\n",
       "      <th>4</th>\n",
       "      <td>59</td>\n",
       "      <td>blue-collar</td>\n",
       "      <td>married</td>\n",
       "      <td>secondary</td>\n",
       "      <td>no</td>\n",
       "      <td>0</td>\n",
       "      <td>yes</td>\n",
       "      <td>no</td>\n",
       "      <td>unknown</td>\n",
       "      <td>5</td>\n",
       "      <td>may</td>\n",
       "      <td>226</td>\n",
       "      <td>1</td>\n",
       "      <td>-1</td>\n",
       "      <td>0</td>\n",
       "      <td>unknown</td>\n",
       "      <td>no</td>\n",
       "    </tr>\n",
       "  </tbody>\n",
       "</table>\n",
       "</div>"
      ],
      "text/plain": [
       "   age          job  marital  education default  balance housing loan  \\\n",
       "0   30   unemployed  married    primary      no     1787      no   no   \n",
       "1   33     services  married  secondary      no     4789     yes  yes   \n",
       "2   35   management   single   tertiary      no     1350     yes   no   \n",
       "3   30   management  married   tertiary      no     1476     yes  yes   \n",
       "4   59  blue-collar  married  secondary      no        0     yes   no   \n",
       "\n",
       "    contact  day month  duration  campaign  pdays  previous poutcome   y  \n",
       "0  cellular   19   oct        79         1     -1         0  unknown  no  \n",
       "1  cellular   11   may       220         1    339         4  failure  no  \n",
       "2  cellular   16   apr       185         1    330         1  failure  no  \n",
       "3   unknown    3   jun       199         4     -1         0  unknown  no  \n",
       "4   unknown    5   may       226         1     -1         0  unknown  no  "
      ]
     },
     "execution_count": 392,
     "metadata": {},
     "output_type": "execute_result"
    }
   ],
   "source": [
    "data.head()"
   ]
  },
  {
   "cell_type": "markdown",
   "metadata": {},
   "source": [
    "## Data Exploration"
   ]
  },
  {
   "cell_type": "code",
   "execution_count": 393,
   "metadata": {},
   "outputs": [
    {
     "name": "stdout",
     "output_type": "stream",
     "text": [
      "<class 'pandas.core.frame.DataFrame'>\n",
      "RangeIndex: 4521 entries, 0 to 4520\n",
      "Data columns (total 17 columns):\n",
      " #   Column     Non-Null Count  Dtype \n",
      "---  ------     --------------  ----- \n",
      " 0   age        4521 non-null   int64 \n",
      " 1   job        4521 non-null   object\n",
      " 2   marital    4521 non-null   object\n",
      " 3   education  4521 non-null   object\n",
      " 4   default    4521 non-null   object\n",
      " 5   balance    4521 non-null   int64 \n",
      " 6   housing    4521 non-null   object\n",
      " 7   loan       4521 non-null   object\n",
      " 8   contact    4521 non-null   object\n",
      " 9   day        4521 non-null   int64 \n",
      " 10  month      4521 non-null   object\n",
      " 11  duration   4521 non-null   int64 \n",
      " 12  campaign   4521 non-null   int64 \n",
      " 13  pdays      4521 non-null   int64 \n",
      " 14  previous   4521 non-null   int64 \n",
      " 15  poutcome   4521 non-null   object\n",
      " 16  y          4521 non-null   object\n",
      "dtypes: int64(7), object(10)\n",
      "memory usage: 600.6+ KB\n"
     ]
    }
   ],
   "source": [
    "data.info()"
   ]
  },
  {
   "cell_type": "code",
   "execution_count": 394,
   "metadata": {},
   "outputs": [
    {
     "data": {
      "text/html": [
       "<div>\n",
       "<style scoped>\n",
       "    .dataframe tbody tr th:only-of-type {\n",
       "        vertical-align: middle;\n",
       "    }\n",
       "\n",
       "    .dataframe tbody tr th {\n",
       "        vertical-align: top;\n",
       "    }\n",
       "\n",
       "    .dataframe thead th {\n",
       "        text-align: right;\n",
       "    }\n",
       "</style>\n",
       "<table border=\"1\" class=\"dataframe\">\n",
       "  <thead>\n",
       "    <tr style=\"text-align: right;\">\n",
       "      <th></th>\n",
       "      <th>count</th>\n",
       "      <th>mean</th>\n",
       "      <th>std</th>\n",
       "      <th>min</th>\n",
       "      <th>25%</th>\n",
       "      <th>50%</th>\n",
       "      <th>75%</th>\n",
       "      <th>max</th>\n",
       "    </tr>\n",
       "  </thead>\n",
       "  <tbody>\n",
       "    <tr>\n",
       "      <th>age</th>\n",
       "      <td>4521.0</td>\n",
       "      <td>41.170095</td>\n",
       "      <td>10.576211</td>\n",
       "      <td>19.0</td>\n",
       "      <td>33.0</td>\n",
       "      <td>39.0</td>\n",
       "      <td>49.0</td>\n",
       "      <td>87.0</td>\n",
       "    </tr>\n",
       "    <tr>\n",
       "      <th>balance</th>\n",
       "      <td>4521.0</td>\n",
       "      <td>1422.657819</td>\n",
       "      <td>3009.638142</td>\n",
       "      <td>-3313.0</td>\n",
       "      <td>69.0</td>\n",
       "      <td>444.0</td>\n",
       "      <td>1480.0</td>\n",
       "      <td>71188.0</td>\n",
       "    </tr>\n",
       "    <tr>\n",
       "      <th>day</th>\n",
       "      <td>4521.0</td>\n",
       "      <td>15.915284</td>\n",
       "      <td>8.247667</td>\n",
       "      <td>1.0</td>\n",
       "      <td>9.0</td>\n",
       "      <td>16.0</td>\n",
       "      <td>21.0</td>\n",
       "      <td>31.0</td>\n",
       "    </tr>\n",
       "    <tr>\n",
       "      <th>duration</th>\n",
       "      <td>4521.0</td>\n",
       "      <td>263.961292</td>\n",
       "      <td>259.856633</td>\n",
       "      <td>4.0</td>\n",
       "      <td>104.0</td>\n",
       "      <td>185.0</td>\n",
       "      <td>329.0</td>\n",
       "      <td>3025.0</td>\n",
       "    </tr>\n",
       "    <tr>\n",
       "      <th>campaign</th>\n",
       "      <td>4521.0</td>\n",
       "      <td>2.793630</td>\n",
       "      <td>3.109807</td>\n",
       "      <td>1.0</td>\n",
       "      <td>1.0</td>\n",
       "      <td>2.0</td>\n",
       "      <td>3.0</td>\n",
       "      <td>50.0</td>\n",
       "    </tr>\n",
       "    <tr>\n",
       "      <th>pdays</th>\n",
       "      <td>4521.0</td>\n",
       "      <td>39.766645</td>\n",
       "      <td>100.121124</td>\n",
       "      <td>-1.0</td>\n",
       "      <td>-1.0</td>\n",
       "      <td>-1.0</td>\n",
       "      <td>-1.0</td>\n",
       "      <td>871.0</td>\n",
       "    </tr>\n",
       "    <tr>\n",
       "      <th>previous</th>\n",
       "      <td>4521.0</td>\n",
       "      <td>0.542579</td>\n",
       "      <td>1.693562</td>\n",
       "      <td>0.0</td>\n",
       "      <td>0.0</td>\n",
       "      <td>0.0</td>\n",
       "      <td>0.0</td>\n",
       "      <td>25.0</td>\n",
       "    </tr>\n",
       "  </tbody>\n",
       "</table>\n",
       "</div>"
      ],
      "text/plain": [
       "           count         mean          std     min    25%    50%     75%  \\\n",
       "age       4521.0    41.170095    10.576211    19.0   33.0   39.0    49.0   \n",
       "balance   4521.0  1422.657819  3009.638142 -3313.0   69.0  444.0  1480.0   \n",
       "day       4521.0    15.915284     8.247667     1.0    9.0   16.0    21.0   \n",
       "duration  4521.0   263.961292   259.856633     4.0  104.0  185.0   329.0   \n",
       "campaign  4521.0     2.793630     3.109807     1.0    1.0    2.0     3.0   \n",
       "pdays     4521.0    39.766645   100.121124    -1.0   -1.0   -1.0    -1.0   \n",
       "previous  4521.0     0.542579     1.693562     0.0    0.0    0.0     0.0   \n",
       "\n",
       "              max  \n",
       "age          87.0  \n",
       "balance   71188.0  \n",
       "day          31.0  \n",
       "duration   3025.0  \n",
       "campaign     50.0  \n",
       "pdays       871.0  \n",
       "previous     25.0  "
      ]
     },
     "execution_count": 394,
     "metadata": {},
     "output_type": "execute_result"
    }
   ],
   "source": [
    "data.describe().T"
   ]
  },
  {
   "cell_type": "code",
   "execution_count": 395,
   "metadata": {},
   "outputs": [
    {
     "data": {
      "text/plain": [
       "age          0\n",
       "job          0\n",
       "marital      0\n",
       "education    0\n",
       "default      0\n",
       "balance      0\n",
       "housing      0\n",
       "loan         0\n",
       "contact      0\n",
       "day          0\n",
       "month        0\n",
       "duration     0\n",
       "campaign     0\n",
       "pdays        0\n",
       "previous     0\n",
       "poutcome     0\n",
       "y            0\n",
       "dtype: int64"
      ]
     },
     "execution_count": 395,
     "metadata": {},
     "output_type": "execute_result"
    }
   ],
   "source": [
    "# Check for missing values\n",
    "data.isnull().sum()"
   ]
  },
  {
   "cell_type": "markdown",
   "metadata": {},
   "source": [
    "**Explanantion of upper cell**\n",
    "\n",
    "Our dataset does not contain any null values."
   ]
  },
  {
   "cell_type": "code",
   "execution_count": 396,
   "metadata": {},
   "outputs": [
    {
     "name": "stdout",
     "output_type": "stream",
     "text": [
      "Shape of our data (4521, 17)\n"
     ]
    }
   ],
   "source": [
    "print('Shape of our data {}'.format(data.shape))"
   ]
  },
  {
   "cell_type": "markdown",
   "metadata": {},
   "source": [
    "**Explanantion of upper cell**\n",
    "\n",
    "Our data set has 4521 rows and 17 columns."
   ]
  },
  {
   "cell_type": "code",
   "execution_count": 397,
   "metadata": {},
   "outputs": [
    {
     "name": "stdout",
     "output_type": "stream",
     "text": [
      "          marital\n",
      "divorced      528\n",
      "married      2797\n",
      "single       1196\n",
      "               job\n",
      "admin.         478\n",
      "blue-collar    946\n",
      "entrepreneur   168\n",
      "housemaid      112\n",
      "management     969\n",
      "retired        230\n",
      "self-employed  183\n",
      "services       417\n",
      "student         84\n",
      "technician     768\n",
      "unemployed     128\n",
      "unknown         38\n",
      "           education\n",
      "primary          678\n",
      "secondary       2306\n",
      "tertiary        1350\n",
      "unknown          187\n"
     ]
    }
   ],
   "source": [
    "# Count of Job, EDUCATION and MARRIAGE\n",
    "for x in [\"marital\",\"job\",\"education\"]:\n",
    "    y=pd.DataFrame(data[x].value_counts().sort_index())\n",
    "    print(y)"
   ]
  },
  {
   "cell_type": "markdown",
   "metadata": {},
   "source": [
    "**Explanantion of upper cell**\n",
    "\n",
    "- Many levels in job\n",
    "- 4 levels of Education\n",
    "- 3 levels of Martial status"
   ]
  },
  {
   "cell_type": "code",
   "execution_count": 106,
   "metadata": {},
   "outputs": [
    {
     "data": {
      "text/plain": [
       "y\n",
       "no     4000\n",
       "yes     521\n",
       "dtype: int64"
      ]
     },
     "execution_count": 106,
     "metadata": {},
     "output_type": "execute_result"
    }
   ],
   "source": [
    "# Count of y\n",
    "data.groupby('y').size()"
   ]
  },
  {
   "cell_type": "markdown",
   "metadata": {},
   "source": [
    "**Explanantion of upper cell**\n",
    "\n",
    "- 4000 no and 521 clients subscribed to a term deposit"
   ]
  },
  {
   "cell_type": "markdown",
   "metadata": {},
   "source": [
    "## Data Visualization"
   ]
  },
  {
   "cell_type": "markdown",
   "metadata": {},
   "source": [
    "### Taget Variable"
   ]
  },
  {
   "cell_type": "code",
   "execution_count": 398,
   "metadata": {},
   "outputs": [
    {
     "data": {
      "image/png": "[encoded data removed]",
      "text/plain": [
       "<Figure size 2160x720 with 3 Axes>"
      ]
     },
     "metadata": {},
     "output_type": "display_data"
    }
   ],
   "source": [
    "# Count plot: Education, Martial Status, job with target\n",
    "sns.set_style(\"white\")\n",
    "subset = data[['education', 'marital', 'job', 'y']]\n",
    "f, axes = plt.subplots(1, 3, figsize=(30, 10), facecolor='white')\n",
    "f.suptitle('FREQUENCY OF DEMOGRAPHIC VARIABLES (BY Y)')\n",
    "ax1 = sns.countplot(x=\"education\", hue=\"y\", data=subset, palette=\"Set1\", ax=axes[0])\n",
    "ax2 = sns.countplot(x=\"marital\", hue=\"y\", data=subset, palette=\"Set2\",ax=axes[1])\n",
    "ax3 = sns.countplot(x=\"job\", hue=\"y\", data=subset, palette=\"Set2\",ax=axes[2])\n",
    "plt.show()"
   ]
  },
  {
   "cell_type": "markdown",
   "metadata": {},
   "source": [
    "**Explanantion of upper cell**\n",
    "\n",
    "Observe: \n",
    "- **EDUCATION**: More data available for secondary and tertiary education.\n",
    "- **MARITAL**: More data for married and single.\n",
    "- **JOB**: Not clear"
   ]
  },
  {
   "cell_type": "markdown",
   "metadata": {},
   "source": [
    "### Feature Correlation"
   ]
  },
  {
   "cell_type": "code",
   "execution_count": 399,
   "metadata": {},
   "outputs": [
    {
     "data": {
      "text/html": [
       "<div>\n",
       "<style scoped>\n",
       "    .dataframe tbody tr th:only-of-type {\n",
       "        vertical-align: middle;\n",
       "    }\n",
       "\n",
       "    .dataframe tbody tr th {\n",
       "        vertical-align: top;\n",
       "    }\n",
       "\n",
       "    .dataframe thead th {\n",
       "        text-align: right;\n",
       "    }\n",
       "</style>\n",
       "<table border=\"1\" class=\"dataframe\">\n",
       "  <thead>\n",
       "    <tr style=\"text-align: right;\">\n",
       "      <th></th>\n",
       "      <th>age</th>\n",
       "      <th>balance</th>\n",
       "      <th>day</th>\n",
       "      <th>duration</th>\n",
       "      <th>campaign</th>\n",
       "      <th>pdays</th>\n",
       "      <th>previous</th>\n",
       "    </tr>\n",
       "  </thead>\n",
       "  <tbody>\n",
       "    <tr>\n",
       "      <th>age</th>\n",
       "      <td>1.000000</td>\n",
       "      <td>0.083820</td>\n",
       "      <td>-0.017853</td>\n",
       "      <td>-0.002367</td>\n",
       "      <td>-0.005148</td>\n",
       "      <td>-0.008894</td>\n",
       "      <td>-0.003511</td>\n",
       "    </tr>\n",
       "    <tr>\n",
       "      <th>balance</th>\n",
       "      <td>0.083820</td>\n",
       "      <td>1.000000</td>\n",
       "      <td>-0.008677</td>\n",
       "      <td>-0.015950</td>\n",
       "      <td>-0.009976</td>\n",
       "      <td>0.009437</td>\n",
       "      <td>0.026196</td>\n",
       "    </tr>\n",
       "    <tr>\n",
       "      <th>day</th>\n",
       "      <td>-0.017853</td>\n",
       "      <td>-0.008677</td>\n",
       "      <td>1.000000</td>\n",
       "      <td>-0.024629</td>\n",
       "      <td>0.160706</td>\n",
       "      <td>-0.094352</td>\n",
       "      <td>-0.059114</td>\n",
       "    </tr>\n",
       "    <tr>\n",
       "      <th>duration</th>\n",
       "      <td>-0.002367</td>\n",
       "      <td>-0.015950</td>\n",
       "      <td>-0.024629</td>\n",
       "      <td>1.000000</td>\n",
       "      <td>-0.068382</td>\n",
       "      <td>0.010380</td>\n",
       "      <td>0.018080</td>\n",
       "    </tr>\n",
       "    <tr>\n",
       "      <th>campaign</th>\n",
       "      <td>-0.005148</td>\n",
       "      <td>-0.009976</td>\n",
       "      <td>0.160706</td>\n",
       "      <td>-0.068382</td>\n",
       "      <td>1.000000</td>\n",
       "      <td>-0.093137</td>\n",
       "      <td>-0.067833</td>\n",
       "    </tr>\n",
       "    <tr>\n",
       "      <th>pdays</th>\n",
       "      <td>-0.008894</td>\n",
       "      <td>0.009437</td>\n",
       "      <td>-0.094352</td>\n",
       "      <td>0.010380</td>\n",
       "      <td>-0.093137</td>\n",
       "      <td>1.000000</td>\n",
       "      <td>0.577562</td>\n",
       "    </tr>\n",
       "    <tr>\n",
       "      <th>previous</th>\n",
       "      <td>-0.003511</td>\n",
       "      <td>0.026196</td>\n",
       "      <td>-0.059114</td>\n",
       "      <td>0.018080</td>\n",
       "      <td>-0.067833</td>\n",
       "      <td>0.577562</td>\n",
       "      <td>1.000000</td>\n",
       "    </tr>\n",
       "  </tbody>\n",
       "</table>\n",
       "</div>"
      ],
      "text/plain": [
       "               age   balance       day  duration  campaign     pdays  previous\n",
       "age       1.000000  0.083820 -0.017853 -0.002367 -0.005148 -0.008894 -0.003511\n",
       "balance   0.083820  1.000000 -0.008677 -0.015950 -0.009976  0.009437  0.026196\n",
       "day      -0.017853 -0.008677  1.000000 -0.024629  0.160706 -0.094352 -0.059114\n",
       "duration -0.002367 -0.015950 -0.024629  1.000000 -0.068382  0.010380  0.018080\n",
       "campaign -0.005148 -0.009976  0.160706 -0.068382  1.000000 -0.093137 -0.067833\n",
       "pdays    -0.008894  0.009437 -0.094352  0.010380 -0.093137  1.000000  0.577562\n",
       "previous -0.003511  0.026196 -0.059114  0.018080 -0.067833  0.577562  1.000000"
      ]
     },
     "execution_count": 399,
     "metadata": {},
     "output_type": "execute_result"
    }
   ],
   "source": [
    "pd.DataFrame.corr(data)"
   ]
  },
  {
   "cell_type": "code",
   "execution_count": 400,
   "metadata": {},
   "outputs": [
    {
     "data": {
      "image/png": "[encoded data removed]",
      "text/plain": [
       "<Figure size 576x504 with 2 Axes>"
      ]
     },
     "metadata": {},
     "output_type": "display_data"
    }
   ],
   "source": [
    "sns.set_style(\"white\")\n",
    "# By colours\n",
    "#  Correlations matrix, defined via Pearson function  \n",
    "corr = data.corr() \n",
    "f,ax = plt.subplots(figsize=(8, 7))\n",
    "sns.heatmap(corr, cbar = True,  square = True, annot = False, fmt= '.1f', \n",
    "            xticklabels= True, yticklabels= True\n",
    "            ,cmap=\"coolwarm\", linewidths=.5, ax=ax)\n",
    "plt.title('CORRELATION MATRIX - HEATMAP', size=18);"
   ]
  },
  {
   "cell_type": "code",
   "execution_count": 401,
   "metadata": {},
   "outputs": [
    {
     "data": {
      "text/plain": [
       "Text(0.5, 1.05, 'Pearson correlation of Features')"
      ]
     },
     "execution_count": 401,
     "metadata": {},
     "output_type": "execute_result"
    },
    {
     "data": {
      "image/png": "[encoded data removed]",
      "text/plain": [
       "<Figure size 864x864 with 2 Axes>"
      ]
     },
     "metadata": {},
     "output_type": "display_data"
    }
   ],
   "source": [
    "# Correlation Heatmap with annotation\n",
    "corr = data.corr()\n",
    "\n",
    "f, ax = plt.subplots(figsize=(12,12))\n",
    "\n",
    "sns.heatmap(corr, ax=ax, annot=True, annot_kws={\"size\": 7}, cmap=\"coolwarm\")\n",
    "\n",
    "plt.title(\"Pearson correlation of Features\", y=1.05, size=15)"
   ]
  },
  {
   "cell_type": "markdown",
   "metadata": {},
   "source": [
    "### Check Variation of features variables"
   ]
  },
  {
   "cell_type": "code",
   "execution_count": 402,
   "metadata": {},
   "outputs": [
    {
     "data": {
      "image/png": "[encoded data removed]",
      "text/plain": [
       "<Figure size 1080x216 with 1 Axes>"
      ]
     },
     "metadata": {},
     "output_type": "display_data"
    }
   ],
   "source": [
    "## data are distributed in a wide range (below), need to be normalizded.\n",
    "\n",
    "features = data.drop(['y'], axis = 1, inplace = False)\n",
    "plt.figure(figsize=(15,3))\n",
    "ax= data.drop(['y'], axis=1).boxplot(data.columns.name, rot=90)\n",
    "outliers = dict(markerfacecolor='b', marker='p')\n",
    "ax= features.boxplot(features.columns.name, rot=90, flierprops=outliers)\n",
    "plt.xticks(size=12)\n",
    "ax.set_ylim([-5000,100000])\n",
    "plt.grid(False)\n",
    "plt.box(False);"
   ]
  },
  {
   "cell_type": "markdown",
   "metadata": {},
   "source": [
    "We observe that the feature variables variate alot of one another. Standardization is needed for most model."
   ]
  },
  {
   "cell_type": "markdown",
   "metadata": {},
   "source": [
    "## Data Cleaning"
   ]
  },
  {
   "cell_type": "code",
   "execution_count": 403,
   "metadata": {},
   "outputs": [],
   "source": [
    "#changing the y from No/Yes into 0 and 1\n",
    "data.y = data.y.map({'no':0, 'yes':1}).astype('uint8')\n",
    "\n",
    "#changing the data type of the features whose type is object\n",
    "data['y']=data.y.astype('category')\n",
    "data['job']=data.job.astype('category')\n",
    "data['marital']=data.marital.astype('category')\n",
    "data['education']=data.education.astype('category')\n",
    "data['default']=data.default.astype('category')\n",
    "data['housing']=data.housing.astype('category')\n",
    "data['loan']=data.loan.astype('category')\n",
    "data['contact']=data.contact.astype('category')\n",
    "data['month']=data.month.astype('category')\n",
    "data['poutcome']=data.poutcome.astype('category')"
   ]
  },
  {
   "cell_type": "code",
   "execution_count": 404,
   "metadata": {},
   "outputs": [],
   "source": [
    "#importing the Encoding library and encoded the categorical data\n",
    "from sklearn.preprocessing import LabelEncoder\n",
    "bank_data = data.copy()\n",
    "labelencoder_X=LabelEncoder()\n",
    "bank_data['job']=labelencoder_X.fit_transform(bank_data['job'])\n",
    "bank_data['marital']=labelencoder_X.fit_transform(bank_data['marital'])\n",
    "bank_data['education']=labelencoder_X.fit_transform(bank_data['education'])\n",
    "bank_data['default']=labelencoder_X.fit_transform(bank_data['default'])\n",
    "bank_data['housing']=labelencoder_X.fit_transform(bank_data['housing'])\n",
    "bank_data['loan']=labelencoder_X.fit_transform(bank_data['loan'])\n",
    "bank_data['contact']= labelencoder_X.fit_transform(bank_data['contact']) \n",
    "bank_data['month']= labelencoder_X.fit_transform(bank_data['month']) \n",
    "bank_data['poutcome'] = labelencoder_X.fit_transform(bank_data['poutcome'])"
   ]
  },
  {
   "cell_type": "code",
   "execution_count": 405,
   "metadata": {},
   "outputs": [
    {
     "name": "stdout",
     "output_type": "stream",
     "text": [
      "<class 'pandas.core.frame.DataFrame'>\n",
      "RangeIndex: 4521 entries, 0 to 4520\n",
      "Data columns (total 17 columns):\n",
      " #   Column     Non-Null Count  Dtype   \n",
      "---  ------     --------------  -----   \n",
      " 0   age        4521 non-null   int64   \n",
      " 1   job        4521 non-null   int64   \n",
      " 2   marital    4521 non-null   int64   \n",
      " 3   education  4521 non-null   int64   \n",
      " 4   default    4521 non-null   int64   \n",
      " 5   balance    4521 non-null   int64   \n",
      " 6   housing    4521 non-null   int64   \n",
      " 7   loan       4521 non-null   int64   \n",
      " 8   contact    4521 non-null   int64   \n",
      " 9   day        4521 non-null   int64   \n",
      " 10  month      4521 non-null   int64   \n",
      " 11  duration   4521 non-null   int64   \n",
      " 12  campaign   4521 non-null   int64   \n",
      " 13  pdays      4521 non-null   int64   \n",
      " 14  previous   4521 non-null   int64   \n",
      " 15  poutcome   4521 non-null   int64   \n",
      " 16  y          4521 non-null   category\n",
      "dtypes: category(1), int64(16)\n",
      "memory usage: 569.8 KB\n"
     ]
    }
   ],
   "source": [
    "bank_data.info()"
   ]
  },
  {
   "cell_type": "code",
   "execution_count": 406,
   "metadata": {},
   "outputs": [
    {
     "data": {
      "text/html": [
       "<div>\n",
       "<style scoped>\n",
       "    .dataframe tbody tr th:only-of-type {\n",
       "        vertical-align: middle;\n",
       "    }\n",
       "\n",
       "    .dataframe tbody tr th {\n",
       "        vertical-align: top;\n",
       "    }\n",
       "\n",
       "    .dataframe thead th {\n",
       "        text-align: right;\n",
       "    }\n",
       "</style>\n",
       "<table border=\"1\" class=\"dataframe\">\n",
       "  <thead>\n",
       "    <tr style=\"text-align: right;\">\n",
       "      <th></th>\n",
       "      <th>age</th>\n",
       "      <th>job</th>\n",
       "      <th>marital</th>\n",
       "      <th>education</th>\n",
       "      <th>default</th>\n",
       "      <th>balance</th>\n",
       "      <th>housing</th>\n",
       "      <th>loan</th>\n",
       "      <th>contact</th>\n",
       "      <th>day</th>\n",
       "      <th>month</th>\n",
       "      <th>duration</th>\n",
       "      <th>campaign</th>\n",
       "      <th>pdays</th>\n",
       "      <th>previous</th>\n",
       "      <th>poutcome</th>\n",
       "    </tr>\n",
       "  </thead>\n",
       "  <tbody>\n",
       "    <tr>\n",
       "      <th>count</th>\n",
       "      <td>4521.000000</td>\n",
       "      <td>4521.000000</td>\n",
       "      <td>4521.000000</td>\n",
       "      <td>4521.000000</td>\n",
       "      <td>4521.000000</td>\n",
       "      <td>4521.000000</td>\n",
       "      <td>4521.000000</td>\n",
       "      <td>4521.000000</td>\n",
       "      <td>4521.000000</td>\n",
       "      <td>4521.000000</td>\n",
       "      <td>4521.000000</td>\n",
       "      <td>4521.000000</td>\n",
       "      <td>4521.000000</td>\n",
       "      <td>4521.000000</td>\n",
       "      <td>4521.000000</td>\n",
       "      <td>4521.000000</td>\n",
       "    </tr>\n",
       "    <tr>\n",
       "      <th>mean</th>\n",
       "      <td>41.170095</td>\n",
       "      <td>4.411192</td>\n",
       "      <td>1.147755</td>\n",
       "      <td>1.231365</td>\n",
       "      <td>0.016810</td>\n",
       "      <td>1422.657819</td>\n",
       "      <td>0.566025</td>\n",
       "      <td>0.152842</td>\n",
       "      <td>0.652289</td>\n",
       "      <td>15.915284</td>\n",
       "      <td>5.540146</td>\n",
       "      <td>263.961292</td>\n",
       "      <td>2.793630</td>\n",
       "      <td>39.766645</td>\n",
       "      <td>0.542579</td>\n",
       "      <td>2.559168</td>\n",
       "    </tr>\n",
       "    <tr>\n",
       "      <th>std</th>\n",
       "      <td>10.576211</td>\n",
       "      <td>3.255716</td>\n",
       "      <td>0.599650</td>\n",
       "      <td>0.748744</td>\n",
       "      <td>0.128575</td>\n",
       "      <td>3009.638142</td>\n",
       "      <td>0.495676</td>\n",
       "      <td>0.359875</td>\n",
       "      <td>0.901498</td>\n",
       "      <td>8.247667</td>\n",
       "      <td>3.002763</td>\n",
       "      <td>259.856633</td>\n",
       "      <td>3.109807</td>\n",
       "      <td>100.121124</td>\n",
       "      <td>1.693562</td>\n",
       "      <td>0.992051</td>\n",
       "    </tr>\n",
       "    <tr>\n",
       "      <th>min</th>\n",
       "      <td>19.000000</td>\n",
       "      <td>0.000000</td>\n",
       "      <td>0.000000</td>\n",
       "      <td>0.000000</td>\n",
       "      <td>0.000000</td>\n",
       "      <td>-3313.000000</td>\n",
       "      <td>0.000000</td>\n",
       "      <td>0.000000</td>\n",
       "      <td>0.000000</td>\n",
       "      <td>1.000000</td>\n",
       "      <td>0.000000</td>\n",
       "      <td>4.000000</td>\n",
       "      <td>1.000000</td>\n",
       "      <td>-1.000000</td>\n",
       "      <td>0.000000</td>\n",
       "      <td>0.000000</td>\n",
       "    </tr>\n",
       "    <tr>\n",
       "      <th>25%</th>\n",
       "      <td>33.000000</td>\n",
       "      <td>1.000000</td>\n",
       "      <td>1.000000</td>\n",
       "      <td>1.000000</td>\n",
       "      <td>0.000000</td>\n",
       "      <td>69.000000</td>\n",
       "      <td>0.000000</td>\n",
       "      <td>0.000000</td>\n",
       "      <td>0.000000</td>\n",
       "      <td>9.000000</td>\n",
       "      <td>3.000000</td>\n",
       "      <td>104.000000</td>\n",
       "      <td>1.000000</td>\n",
       "      <td>-1.000000</td>\n",
       "      <td>0.000000</td>\n",
       "      <td>3.000000</td>\n",
       "    </tr>\n",
       "    <tr>\n",
       "      <th>50%</th>\n",
       "      <td>39.000000</td>\n",
       "      <td>4.000000</td>\n",
       "      <td>1.000000</td>\n",
       "      <td>1.000000</td>\n",
       "      <td>0.000000</td>\n",
       "      <td>444.000000</td>\n",
       "      <td>1.000000</td>\n",
       "      <td>0.000000</td>\n",
       "      <td>0.000000</td>\n",
       "      <td>16.000000</td>\n",
       "      <td>6.000000</td>\n",
       "      <td>185.000000</td>\n",
       "      <td>2.000000</td>\n",
       "      <td>-1.000000</td>\n",
       "      <td>0.000000</td>\n",
       "      <td>3.000000</td>\n",
       "    </tr>\n",
       "    <tr>\n",
       "      <th>75%</th>\n",
       "      <td>49.000000</td>\n",
       "      <td>7.000000</td>\n",
       "      <td>2.000000</td>\n",
       "      <td>2.000000</td>\n",
       "      <td>0.000000</td>\n",
       "      <td>1480.000000</td>\n",
       "      <td>1.000000</td>\n",
       "      <td>0.000000</td>\n",
       "      <td>2.000000</td>\n",
       "      <td>21.000000</td>\n",
       "      <td>8.000000</td>\n",
       "      <td>329.000000</td>\n",
       "      <td>3.000000</td>\n",
       "      <td>-1.000000</td>\n",
       "      <td>0.000000</td>\n",
       "      <td>3.000000</td>\n",
       "    </tr>\n",
       "    <tr>\n",
       "      <th>max</th>\n",
       "      <td>87.000000</td>\n",
       "      <td>11.000000</td>\n",
       "      <td>2.000000</td>\n",
       "      <td>3.000000</td>\n",
       "      <td>1.000000</td>\n",
       "      <td>71188.000000</td>\n",
       "      <td>1.000000</td>\n",
       "      <td>1.000000</td>\n",
       "      <td>2.000000</td>\n",
       "      <td>31.000000</td>\n",
       "      <td>11.000000</td>\n",
       "      <td>3025.000000</td>\n",
       "      <td>50.000000</td>\n",
       "      <td>871.000000</td>\n",
       "      <td>25.000000</td>\n",
       "      <td>3.000000</td>\n",
       "    </tr>\n",
       "  </tbody>\n",
       "</table>\n",
       "</div>"
      ],
      "text/plain": [
       "               age          job      marital    education      default  \\\n",
       "count  4521.000000  4521.000000  4521.000000  4521.000000  4521.000000   \n",
       "mean     41.170095     4.411192     1.147755     1.231365     0.016810   \n",
       "std      10.576211     3.255716     0.599650     0.748744     0.128575   \n",
       "min      19.000000     0.000000     0.000000     0.000000     0.000000   \n",
       "25%      33.000000     1.000000     1.000000     1.000000     0.000000   \n",
       "50%      39.000000     4.000000     1.000000     1.000000     0.000000   \n",
       "75%      49.000000     7.000000     2.000000     2.000000     0.000000   \n",
       "max      87.000000    11.000000     2.000000     3.000000     1.000000   \n",
       "\n",
       "            balance      housing         loan      contact          day  \\\n",
       "count   4521.000000  4521.000000  4521.000000  4521.000000  4521.000000   \n",
       "mean    1422.657819     0.566025     0.152842     0.652289    15.915284   \n",
       "std     3009.638142     0.495676     0.359875     0.901498     8.247667   \n",
       "min    -3313.000000     0.000000     0.000000     0.000000     1.000000   \n",
       "25%       69.000000     0.000000     0.000000     0.000000     9.000000   \n",
       "50%      444.000000     1.000000     0.000000     0.000000    16.000000   \n",
       "75%     1480.000000     1.000000     0.000000     2.000000    21.000000   \n",
       "max    71188.000000     1.000000     1.000000     2.000000    31.000000   \n",
       "\n",
       "             month     duration     campaign        pdays     previous  \\\n",
       "count  4521.000000  4521.000000  4521.000000  4521.000000  4521.000000   \n",
       "mean      5.540146   263.961292     2.793630    39.766645     0.542579   \n",
       "std       3.002763   259.856633     3.109807   100.121124     1.693562   \n",
       "min       0.000000     4.000000     1.000000    -1.000000     0.000000   \n",
       "25%       3.000000   104.000000     1.000000    -1.000000     0.000000   \n",
       "50%       6.000000   185.000000     2.000000    -1.000000     0.000000   \n",
       "75%       8.000000   329.000000     3.000000    -1.000000     0.000000   \n",
       "max      11.000000  3025.000000    50.000000   871.000000    25.000000   \n",
       "\n",
       "          poutcome  \n",
       "count  4521.000000  \n",
       "mean      2.559168  \n",
       "std       0.992051  \n",
       "min       0.000000  \n",
       "25%       3.000000  \n",
       "50%       3.000000  \n",
       "75%       3.000000  \n",
       "max       3.000000  "
      ]
     },
     "execution_count": 406,
     "metadata": {},
     "output_type": "execute_result"
    }
   ],
   "source": [
    "bank_data.describe()"
   ]
  },
  {
   "cell_type": "markdown",
   "metadata": {},
   "source": [
    "## Model Building"
   ]
  },
  {
   "cell_type": "markdown",
   "metadata": {},
   "source": [
    "Preparation for evaluting data:\n",
    "\n",
    "- Define a function to print confusion matrix called CMatrix\n",
    "- Storing of performance into a dataframe for each model called metrics"
   ]
  },
  {
   "cell_type": "code",
   "execution_count": 407,
   "metadata": {},
   "outputs": [],
   "source": [
    "#Function to print a confusion matrix\n",
    "def CMatrix(CM, labels = ['0', '1']):\n",
    "    df = pd.DataFrame(data = CM, index = labels, columns = labels)\n",
    "    df.index.name = 'TRUE'\n",
    "    df.columns.name = 'PREDICTION'\n",
    "    df.loc['Total'] = df.sum()\n",
    "    df['Total'] = df. sum(axis = 1)\n",
    "    return df"
   ]
  },
  {
   "cell_type": "code",
   "execution_count": 408,
   "metadata": {},
   "outputs": [],
   "source": [
    "# Dataframe of confusion matrix\n",
    "metrics = pd.DataFrame (index = ['accuracy','precision','recall'], \n",
    "                        columns = ['SVM without scaling(general)', \n",
    "                                   'SVM with radial kernel (unscaled) with CV',\n",
    "                                   'SVM with polynomial kernel (unscaled) with CV',\n",
    "                                   'SVM with linear kernel (scaled) with CV',\n",
    "                                   'SVM with polynomial kernel (scaled) with CV',\n",
    "                                   'SVM with radial kernel (scaled) with CV',\n",
    "                                   'KNN (scaled) with CV',\n",
    "                                   'KNN (unscaled) with CV'])"
   ]
  },
  {
   "cell_type": "code",
   "execution_count": 409,
   "metadata": {},
   "outputs": [],
   "source": [
    "def plot_roc_curve(fpr, tpr):\n",
    "    plt.plot(fpr, tpr, color='orange', label='ROC')\n",
    "    plt.plot([0, 1], [0, 1], color='darkblue', linestyle='--')\n",
    "    plt.xlabel('False Positive Rate')\n",
    "    plt.ylabel('True Positive Rate')\n",
    "    plt.title('Receiver Operating Characteristic (ROC) Curve')\n",
    "    plt.legend()\n",
    "    plt.show()"
   ]
  },
  {
   "cell_type": "markdown",
   "metadata": {},
   "source": [
    "### A. SVM without scaling"
   ]
  },
  {
   "cell_type": "markdown",
   "metadata": {},
   "source": [
    "**SVM Advantages**\n",
    "\n",
    "- SVM’s are very good when we have no idea on the data.\n",
    "- Works well with even unstructured and semi structured data like text, Images and trees.\n",
    "- The kernel trick is real strength of SVM. With an appropriate kernel function, we can solve any complex problem.\n",
    "- Unlike in neural networks, SVM is not solved for local optima.\n",
    "- It scales relatively well to high dimensional data.\n",
    "- SVM models have generalization in practice, the risk of over-fitting is less in SVM.\n",
    "- SVM is always compared with ANN. When compared to ANN models, SVMs give better results.\n",
    "\n",
    "**SVM Disadvantages**\n",
    "\n",
    "- Choosing a “good” kernel function is not easy.\n",
    "- Long training time for large datasets.\n",
    "- Difficult to understand and interpret the final model, variable weights and individual impact.\n",
    "- Since the final model is not so easy to see, we can not do small calibrations to the model hence its tough to incorporate our business logic.\n",
    "- The SVM hyper parameters are Cost -C and gamma. It is not that easy to fine-tune these hyper-parameters. It is hard to visualize their impact"
   ]
  },
  {
   "cell_type": "markdown",
   "metadata": {},
   "source": [
    "### 1. SVM without tuning"
   ]
  },
  {
   "cell_type": "markdown",
   "metadata": {},
   "source": [
    "For SVM, we will do the following Datapreprocessing: \n",
    "\n",
    "- Spliting the data into train and test data with 80% and 20% Respectively. \n",
    "- Further divide the the train and test data to feature variables and target variable\n",
    "- Scale the numeric data of the train data using StandardScaler()\n",
    "- Use the mean and standard deviation of the scaling of numeric train date to scale the test data\n",
    "- Do oversampling using SMOTE"
   ]
  },
  {
   "cell_type": "code",
   "execution_count": 410,
   "metadata": {},
   "outputs": [
    {
     "data": {
      "text/plain": [
       "SVC(gamma='auto', probability=True)"
      ]
     },
     "execution_count": 410,
     "metadata": {},
     "output_type": "execute_result"
    }
   ],
   "source": [
    "from sklearn.svm import SVC\n",
    "#Processing the data first\n",
    "\n",
    "svmdata = bank_data.copy(deep=True)\n",
    "\n",
    "#Splitting the data into Train and test\n",
    "seed = 1\n",
    "svm_train, svm_test = train_test_split(svmdata, train_size = 0.8, random_state = seed)\n",
    "svm_train.reset_index(inplace = True, drop = True)\n",
    "svm_test.reset_index(inplace = True, drop = True)\n",
    "\n",
    "#Further dividing it into xtrain and ytrain\n",
    "y_svm_train = svm_train[\"y\"]\n",
    "x_svm_train = svm_train.loc[:,svm_train.columns!='y']\n",
    "\n",
    "y_svm_test = svm_test[\"y\"]\n",
    "x_svm_test = svm_test.loc[:,svm_test.columns!='y']\n",
    "\n",
    "columns=x_svm_train.columns\n",
    "\n",
    "#Balancing the data - import the library for handling the imbalance dataset\n",
    "from imblearn.over_sampling import SMOTE\n",
    "Ov_sampling=SMOTE(random_state=100)\n",
    "svm_X_us,svm_y_us=Ov_sampling.fit_sample(x_svm_train,y_svm_train)\n",
    "svm_X_us=pd.DataFrame(data=svm_X,columns=columns)\n",
    "svm_y_us=pd.DataFrame(svm_y,columns=['y'])\n",
    "\n",
    "#Fit the model\n",
    "SVM_Model = SVC(gamma='auto', probability=True)\n",
    "SVM_Model.fit(svm_X_us,svm_y_us)"
   ]
  },
  {
   "cell_type": "code",
   "execution_count": 411,
   "metadata": {},
   "outputs": [
    {
     "data": {
      "text/html": [
       "<div>\n",
       "<style scoped>\n",
       "    .dataframe tbody tr th:only-of-type {\n",
       "        vertical-align: middle;\n",
       "    }\n",
       "\n",
       "    .dataframe tbody tr th {\n",
       "        vertical-align: top;\n",
       "    }\n",
       "\n",
       "    .dataframe thead th {\n",
       "        text-align: right;\n",
       "    }\n",
       "</style>\n",
       "<table border=\"1\" class=\"dataframe\">\n",
       "  <thead>\n",
       "    <tr style=\"text-align: right;\">\n",
       "      <th>PREDICTION</th>\n",
       "      <th>0</th>\n",
       "      <th>1</th>\n",
       "      <th>Total</th>\n",
       "    </tr>\n",
       "    <tr>\n",
       "      <th>TRUE</th>\n",
       "      <th></th>\n",
       "      <th></th>\n",
       "      <th></th>\n",
       "    </tr>\n",
       "  </thead>\n",
       "  <tbody>\n",
       "    <tr>\n",
       "      <th>0</th>\n",
       "      <td>789</td>\n",
       "      <td>1</td>\n",
       "      <td>790</td>\n",
       "    </tr>\n",
       "    <tr>\n",
       "      <th>1</th>\n",
       "      <td>115</td>\n",
       "      <td>0</td>\n",
       "      <td>115</td>\n",
       "    </tr>\n",
       "    <tr>\n",
       "      <th>Total</th>\n",
       "      <td>904</td>\n",
       "      <td>1</td>\n",
       "      <td>905</td>\n",
       "    </tr>\n",
       "  </tbody>\n",
       "</table>\n",
       "</div>"
      ],
      "text/plain": [
       "PREDICTION    0  1  Total\n",
       "TRUE                     \n",
       "0           789  1    790\n",
       "1           115  0    115\n",
       "Total       904  1    905"
      ]
     },
     "execution_count": 411,
     "metadata": {},
     "output_type": "execute_result"
    }
   ],
   "source": [
    "#Evaluate the model\n",
    "y_pred_svm = SVM_Model.predict(x_svm_test)\n",
    "metrics.loc['accuracy','SVM without scaling(general)'] = accuracy_score(y_pred = y_pred_svm, y_true = y_svm_test)\n",
    "metrics.loc['precision','SVM without scaling(general)'] = precision_score(y_pred = y_pred_svm, y_true = y_svm_test)\n",
    "metrics.loc['recall','SVM without scaling(general)'] = recall_score(y_pred = y_pred_svm, y_true = y_svm_test)\n",
    "\n",
    "#Confusion Matrix\n",
    "CM = confusion_matrix(y_pred = y_pred_svm, y_true = y_svm_test)\n",
    "CMatrix(CM)"
   ]
  },
  {
   "cell_type": "code",
   "execution_count": 412,
   "metadata": {
    "scrolled": true
   },
   "outputs": [
    {
     "name": "stdout",
     "output_type": "stream",
     "text": [
      "              precision    recall  f1-score   support\n",
      "\n",
      "           0       0.87      1.00      0.93       790\n",
      "           1       0.00      0.00      0.00       115\n",
      "\n",
      "    accuracy                           0.87       905\n",
      "   macro avg       0.44      0.50      0.47       905\n",
      "weighted avg       0.76      0.87      0.81       905\n",
      "\n"
     ]
    }
   ],
   "source": [
    "print(classification_report(y_svm_test, y_pred_svm))"
   ]
  },
  {
   "cell_type": "code",
   "execution_count": 413,
   "metadata": {},
   "outputs": [
    {
     "name": "stdout",
     "output_type": "stream",
     "text": [
      "Accuracy Rate: 0.8718232044198895\n",
      "Misclassification Rate: 0.12817679558011053\n",
      "Precision Score: 0.0\n",
      "Recall Score: 0.0\n"
     ]
    },
    {
     "data": {
      "image/png": "[encoded data removed]",
      "text/plain": [
       "<Figure size 288x216 with 2 Axes>"
      ]
     },
     "metadata": {},
     "output_type": "display_data"
    }
   ],
   "source": [
    "plt.figure(figsize=(4,3))\n",
    "ConfMatrix = confusion_matrix(y_pred = y_pred_svm, y_true = y_svm_test)\n",
    "sns.heatmap(ConfMatrix,annot=True, cmap=\"Blues\", fmt=\"d\", \n",
    "            xticklabels = ['0', '1'], \n",
    "            yticklabels = ['0', '1'])\n",
    "plt.ylabel('True label')\n",
    "plt.xlabel('Predicted label')\n",
    "plt.title(\"Confusion Matrix - SVM without scaling(general)\");\n",
    "\n",
    "print('Accuracy Rate:', accuracy_score(y_pred = y_pred_svm, y_true = y_svm_test))\n",
    "print('Misclassification Rate:', 1-accuracy_score(y_pred = y_pred_svm, y_true = y_svm_test))\n",
    "print('Precision Score:', precision_score(y_pred = y_pred_svm, y_true = y_svm_test))\n",
    "print('Recall Score:', recall_score(y_pred = y_pred_svm, y_true = y_svm_test))"
   ]
  },
  {
   "cell_type": "code",
   "execution_count": 416,
   "metadata": {},
   "outputs": [
    {
     "name": "stdout",
     "output_type": "stream",
     "text": [
      "AUC: 0.634\n"
     ]
    },
    {
     "data": {
      "image/png": "[encoded data removed]",
      "text/plain": [
       "<Figure size 432x288 with 1 Axes>"
      ]
     },
     "metadata": {},
     "output_type": "display_data"
    }
   ],
   "source": [
    "# ROC-AUC\n",
    "\n",
    "decision_scores = SVM_Model.decision_function(x_svm_test)\n",
    "fpr, tpr, thres = roc_curve(y_svm_test, decision_scores)\n",
    "print('AUC: {:.3f}'.format(roc_auc_score(y_svm_test, decision_scores)))\n",
    "\n",
    "# roc curve\n",
    "plt.plot(fpr, tpr, \"b\", label='SVM without scaling(general)')\n",
    "plt.plot([0,1],[0,1], \"k--\", label='Random Guess')\n",
    "plt.xlabel(\"false positive rate\")\n",
    "plt.ylabel(\"true positive rate\")\n",
    "plt.legend(loc=\"best\")\n",
    "plt.title(\"ROC curve\")\n",
    "plt.show()"
   ]
  },
  {
   "cell_type": "code",
   "execution_count": 417,
   "metadata": {},
   "outputs": [
    {
     "name": "stdout",
     "output_type": "stream",
     "text": [
      "length of oversampled data is    6420\n"
     ]
    }
   ],
   "source": [
    "print('length of oversampled data is   ',len(svm_y))"
   ]
  },
  {
   "cell_type": "markdown",
   "metadata": {},
   "source": [
    "**Result**\n",
    "\n",
    "According to our accuracy of 87%, our model is quite good. But recall and precision is very low. So, we would not prefer this model.\n",
    "\n",
    "Precision: \n",
    "- Out of all the predicted yes, 0% of them are correctly identified as yes(1).\n",
    "\n",
    "Recall:\n",
    "- Out of True yes, o% of them are correctly identified as yes."
   ]
  },
  {
   "cell_type": "markdown",
   "metadata": {},
   "source": [
    "### 2. Tuned SVM with 5-Fold CV - Radial Kernel"
   ]
  },
  {
   "cell_type": "code",
   "execution_count": 418,
   "metadata": {},
   "outputs": [
    {
     "name": "stdout",
     "output_type": "stream",
     "text": [
      "# Tuning hyper-parameters for accuracy\n",
      "0.584 (+/-0.103) for {'C': 0.001, 'gamma': 0.01}\n",
      "0.508 (+/-0.012) for {'C': 0.001, 'gamma': 0.1}\n",
      "0.506 (+/-0.004) for {'C': 0.001, 'gamma': 1}\n",
      "0.506 (+/-0.004) for {'C': 0.001, 'gamma': 10}\n",
      "0.584 (+/-0.103) for {'C': 0.01, 'gamma': 0.01}\n",
      "0.508 (+/-0.012) for {'C': 0.01, 'gamma': 0.1}\n",
      "0.506 (+/-0.004) for {'C': 0.01, 'gamma': 1}\n",
      "0.506 (+/-0.004) for {'C': 0.01, 'gamma': 10}\n",
      "0.584 (+/-0.103) for {'C': 0.1, 'gamma': 0.01}\n",
      "0.508 (+/-0.012) for {'C': 0.1, 'gamma': 0.1}\n",
      "0.506 (+/-0.004) for {'C': 0.1, 'gamma': 1}\n",
      "0.506 (+/-0.004) for {'C': 0.1, 'gamma': 10}\n",
      "0.756 (+/-0.045) for {'C': 1, 'gamma': 0.01}\n",
      "0.621 (+/-0.037) for {'C': 1, 'gamma': 0.1}\n",
      "0.534 (+/-0.009) for {'C': 1, 'gamma': 1}\n",
      "0.506 (+/-0.004) for {'C': 1, 'gamma': 10}\n",
      "\n",
      "Detailed classification report\n",
      "              precision    recall  f1-score   support\n",
      "\n",
      "           0       0.88      0.98      0.92       790\n",
      "           1       0.22      0.04      0.07       115\n",
      "\n",
      "    accuracy                           0.86       905\n",
      "   macro avg       0.55      0.51      0.50       905\n",
      "weighted avg       0.79      0.86      0.82       905\n",
      "\n"
     ]
    },
    {
     "data": {
      "text/html": [
       "<div>\n",
       "<style scoped>\n",
       "    .dataframe tbody tr th:only-of-type {\n",
       "        vertical-align: middle;\n",
       "    }\n",
       "\n",
       "    .dataframe tbody tr th {\n",
       "        vertical-align: top;\n",
       "    }\n",
       "\n",
       "    .dataframe thead th {\n",
       "        text-align: right;\n",
       "    }\n",
       "</style>\n",
       "<table border=\"1\" class=\"dataframe\">\n",
       "  <thead>\n",
       "    <tr style=\"text-align: right;\">\n",
       "      <th>PREDICTION</th>\n",
       "      <th>0</th>\n",
       "      <th>1</th>\n",
       "      <th>Total</th>\n",
       "    </tr>\n",
       "    <tr>\n",
       "      <th>TRUE</th>\n",
       "      <th></th>\n",
       "      <th></th>\n",
       "      <th></th>\n",
       "    </tr>\n",
       "  </thead>\n",
       "  <tbody>\n",
       "    <tr>\n",
       "      <th>0</th>\n",
       "      <td>772</td>\n",
       "      <td>18</td>\n",
       "      <td>790</td>\n",
       "    </tr>\n",
       "    <tr>\n",
       "      <th>1</th>\n",
       "      <td>110</td>\n",
       "      <td>5</td>\n",
       "      <td>115</td>\n",
       "    </tr>\n",
       "    <tr>\n",
       "      <th>Total</th>\n",
       "      <td>882</td>\n",
       "      <td>23</td>\n",
       "      <td>905</td>\n",
       "    </tr>\n",
       "  </tbody>\n",
       "</table>\n",
       "</div>"
      ],
      "text/plain": [
       "PREDICTION    0   1  Total\n",
       "TRUE                      \n",
       "0           772  18    790\n",
       "1           110   5    115\n",
       "Total       882  23    905"
      ]
     },
     "execution_count": 418,
     "metadata": {},
     "output_type": "execute_result"
    }
   ],
   "source": [
    "# Set the parameters by cross-validation\n",
    "svm_model_rbf = SVC(kernel = \"rbf\", probability=True)\n",
    "tuned_parameters_rbf = {'C': [0.001,0.01,0.1,1], \"gamma\": [0.01,0.1,1,10]}\n",
    "score_rbf = \"accuracy\"\n",
    "\n",
    "print(\"# Tuning hyper-parameters for accuracy\" )\n",
    "clf_rbf = GridSearchCV(svm_model_rbf, param_grid = tuned_parameters_rbf, scoring=score_rbf , cv = 5)\n",
    "clf_rbf.fit(svm_X_us,svm_y_us)\n",
    "\n",
    "means_rbf = clf_rbf.cv_results_['mean_test_score']\n",
    "stds_rbf = clf_rbf.cv_results_['std_test_score']\n",
    "for mean, std, params in zip(means_rbf, stds_rbf, clf_rbf.cv_results_['params']):\n",
    "    print(\"%0.3f (+/-%0.03f) for %r\" %(mean, std * 2, params))\n",
    "print()\n",
    "print(\"Detailed classification report\")\n",
    "y_true, y_pred_svm_rbf_us = y_svm_test, clf_rbf.predict(x_svm_test)\n",
    "print(classification_report(y_true, y_pred_rbf_us))\n",
    "\n",
    "#Evaluate the model\n",
    "y_pred_svm_rbf_us = clf_rbf.predict(x_svm_test)\n",
    "metrics.loc['accuracy','SVM with radial kernel (unscaled) with CV'] = accuracy_score(y_pred = y_pred_svm_rbf_us, y_true = y_svm_test)\n",
    "metrics.loc['precision','SVM with radial kernel (unscaled) with CV'] = precision_score(y_pred = y_pred_svm_rbf_us, y_true = y_svm_test)\n",
    "metrics.loc['recall','SVM with radial kernel (unscaled) with CV'] = recall_score(y_pred = y_pred_svm_rbf_us, y_true = y_svm_test)\n",
    "\n",
    "#Confusion Matrix\n",
    "CM = confusion_matrix(y_pred = y_pred_svm_rbf_us, y_true = y_svm_test)\n",
    "CMatrix(CM)"
   ]
  },
  {
   "cell_type": "code",
   "execution_count": 419,
   "metadata": {},
   "outputs": [
    {
     "name": "stdout",
     "output_type": "stream",
     "text": [
      "Accuracy Rate: 0.8585635359116022\n",
      "Misclassification Rate: 0.14143646408839783\n",
      "Precision Score: 0.21739130434782608\n",
      "Recall Score: 0.043478260869565216\n"
     ]
    },
    {
     "data": {
      "image/png": "[encoded data removed]",
      "text/plain": [
       "<Figure size 288x216 with 2 Axes>"
      ]
     },
     "metadata": {},
     "output_type": "display_data"
    }
   ],
   "source": [
    "plt.figure(figsize=(4,3))\n",
    "ConfMatrix = confusion_matrix(y_pred = y_pred_svm_rbf_us, y_true = y_svm_test)\n",
    "sns.heatmap(ConfMatrix,annot=True, cmap=\"Blues\", fmt=\"d\", \n",
    "            xticklabels = ['0', '1'], \n",
    "            yticklabels = ['0', '1'])\n",
    "plt.ylabel('True label')\n",
    "plt.xlabel('Predicted label')\n",
    "plt.title(\"Confusion Matrix - SVM with radial kernel (unscaled) with CV\");\n",
    "\n",
    "y_pred_svm = SVM_Model.predict(x_svm_test)\n",
    "metrics.loc['accuracy','SVM with radial kernel (unscaled) with CV'] = accuracy_score(y_pred = y_pred_svm_rbf_us, y_true = y_svm_test)\n",
    "metrics.loc['precision','SVM with radial kernel (unscaled) with CV'] = precision_score(y_pred = y_pred_svm_rbf_us, y_true = y_svm_test)\n",
    "metrics.loc['recall','SVM with radial kernel (unscaled) with CV'] = recall_score(y_pred = y_pred_svm_rbf_us, y_true = y_svm_test)\n",
    "\n",
    "print('Accuracy Rate:', accuracy_score(y_pred = y_pred_svm_rbf_us, y_true = y_svm_test))\n",
    "print('Misclassification Rate:', 1-accuracy_score(y_pred = y_pred_svm_rbf_us, y_true = y_svm_test))\n",
    "print('Precision Score:', precision_score(y_pred = y_pred_svm_rbf_us, y_true = y_svm_test))\n",
    "print('Recall Score:', recall_score(y_pred = y_pred_svm_rbf_us, y_true = y_svm_test))"
   ]
  },
  {
   "cell_type": "code",
   "execution_count": 420,
   "metadata": {},
   "outputs": [
    {
     "name": "stdout",
     "output_type": "stream",
     "text": [
      "AUC: 0.692\n"
     ]
    },
    {
     "data": {
      "image/png": "[encoded data removed]",
      "text/plain": [
       "<Figure size 432x288 with 1 Axes>"
      ]
     },
     "metadata": {},
     "output_type": "display_data"
    }
   ],
   "source": [
    "# ROC-AUC\n",
    "\n",
    "decision_scores = clf_rbf.decision_function(x_svm_test)\n",
    "fpr, tpr, thres = roc_curve(y_svm_test, decision_scores)\n",
    "print('AUC: {:.3f}'.format(roc_auc_score(y_svm_test, decision_scores)))\n",
    "\n",
    "# roc curve\n",
    "plt.plot(fpr, tpr, \"b\", label='SVM with radial kernel (unscaled) with CV')\n",
    "plt.plot([0,1],[0,1], \"k--\", label='Random Guess')\n",
    "plt.xlabel(\"false positive rate\")\n",
    "plt.ylabel(\"true positive rate\")\n",
    "plt.legend(loc=\"best\")\n",
    "plt.title(\"ROC curve\")\n",
    "plt.show()"
   ]
  },
  {
   "cell_type": "markdown",
   "metadata": {},
   "source": [
    "**Result**\n",
    "\n",
    "According to our accuracy of 86%, we are doing well in terms of accuracy rate.\n",
    "Although we have a high precision score of 22%, we have a very low recall score of 4% respectively. The AUC score of 69.2% is also not good.\n",
    "\n",
    "Precision: \n",
    "- Out of all the predicted 1(yes), 22% of them are correctly identified as 1(yes).\n",
    "\n",
    "Recall:\n",
    "- Out of True 1, 4% of them are correctly identified as 1."
   ]
  },
  {
   "cell_type": "markdown",
   "metadata": {},
   "source": [
    "# 3. Tuned SVM with 5-Fold CV - Polynomial Kernel"
   ]
  },
  {
   "cell_type": "code",
   "execution_count": 421,
   "metadata": {},
   "outputs": [
    {
     "name": "stdout",
     "output_type": "stream",
     "text": [
      "# Tuning hyper-parameters for accuracy\n",
      "0.503 (+/-0.002) for {'C': 0.001, 'degree': 2}\n",
      "0.506 (+/-0.005) for {'C': 0.001, 'degree': 3}\n",
      "0.541 (+/-0.058) for {'C': 0.001, 'degree': 4}\n",
      "0.521 (+/-0.024) for {'C': 0.001, 'degree': 5}\n",
      "0.583 (+/-0.049) for {'C': 0.01, 'degree': 2}\n",
      "0.523 (+/-0.003) for {'C': 0.01, 'degree': 3}\n",
      "0.520 (+/-0.004) for {'C': 0.01, 'degree': 4}\n",
      "0.516 (+/-0.002) for {'C': 0.01, 'degree': 5}\n",
      "0.612 (+/-0.014) for {'C': 0.1, 'degree': 2}\n",
      "0.557 (+/-0.010) for {'C': 0.1, 'degree': 3}\n",
      "0.525 (+/-0.006) for {'C': 0.1, 'degree': 4}\n",
      "0.523 (+/-0.004) for {'C': 0.1, 'degree': 5}\n",
      "0.693 (+/-0.024) for {'C': 1, 'degree': 2}\n",
      "0.602 (+/-0.016) for {'C': 1, 'degree': 3}\n",
      "0.554 (+/-0.012) for {'C': 1, 'degree': 4}\n",
      "0.524 (+/-0.005) for {'C': 1, 'degree': 5}\n",
      "\n",
      "Detailed classification report\n",
      "              precision    recall  f1-score   support\n",
      "\n",
      "           0       0.92      0.89      0.91       790\n",
      "           1       0.38      0.45      0.41       115\n",
      "\n",
      "    accuracy                           0.84       905\n",
      "   macro avg       0.65      0.67      0.66       905\n",
      "weighted avg       0.85      0.84      0.84       905\n",
      "\n"
     ]
    },
    {
     "data": {
      "text/html": [
       "<div>\n",
       "<style scoped>\n",
       "    .dataframe tbody tr th:only-of-type {\n",
       "        vertical-align: middle;\n",
       "    }\n",
       "\n",
       "    .dataframe tbody tr th {\n",
       "        vertical-align: top;\n",
       "    }\n",
       "\n",
       "    .dataframe thead th {\n",
       "        text-align: right;\n",
       "    }\n",
       "</style>\n",
       "<table border=\"1\" class=\"dataframe\">\n",
       "  <thead>\n",
       "    <tr style=\"text-align: right;\">\n",
       "      <th>PREDICTION</th>\n",
       "      <th>0</th>\n",
       "      <th>1</th>\n",
       "      <th>Total</th>\n",
       "    </tr>\n",
       "    <tr>\n",
       "      <th>TRUE</th>\n",
       "      <th></th>\n",
       "      <th></th>\n",
       "      <th></th>\n",
       "    </tr>\n",
       "  </thead>\n",
       "  <tbody>\n",
       "    <tr>\n",
       "      <th>0</th>\n",
       "      <td>705</td>\n",
       "      <td>85</td>\n",
       "      <td>790</td>\n",
       "    </tr>\n",
       "    <tr>\n",
       "      <th>1</th>\n",
       "      <td>63</td>\n",
       "      <td>52</td>\n",
       "      <td>115</td>\n",
       "    </tr>\n",
       "    <tr>\n",
       "      <th>Total</th>\n",
       "      <td>768</td>\n",
       "      <td>137</td>\n",
       "      <td>905</td>\n",
       "    </tr>\n",
       "  </tbody>\n",
       "</table>\n",
       "</div>"
      ],
      "text/plain": [
       "PREDICTION    0    1  Total\n",
       "TRUE                       \n",
       "0           705   85    790\n",
       "1            63   52    115\n",
       "Total       768  137    905"
      ]
     },
     "execution_count": 421,
     "metadata": {},
     "output_type": "execute_result"
    }
   ],
   "source": [
    "# Set the parameters by cross-validation\n",
    "svm_model_poly = SVC(kernel = \"poly\",probability=True)\n",
    "tuned_parameters_poly = {'C': [0.001,0.01,0.1,1], \"degree\": [2,3,4,5]}\n",
    "score_poly = \"accuracy\"\n",
    "\n",
    "print(\"# Tuning hyper-parameters for accuracy\" )\n",
    "clf_poly_us = GridSearchCV(svm_model_poly,param_grid = tuned_parameters_poly, scoring=score_poly , cv = 5)\n",
    "clf_poly_us.fit(svm_X_us,svm_y_us)\n",
    "\n",
    "means_poly_us = clf_poly_us.cv_results_['mean_test_score']\n",
    "stds_poly_us = clf_poly_us.cv_results_['std_test_score']\n",
    "for mean, std, params in zip(means_poly_us, stds_poly_us, clf_poly_us.cv_results_['params']):\n",
    "    print(\"%0.3f (+/-%0.03f) for %r\" %(mean, std * 2, params))\n",
    "print()\n",
    "print(\"Detailed classification report\")\n",
    "y_true_poly, y_pred_svm_poly_us = y_svm_test, clf_poly_us.predict(x_svm_test)\n",
    "print(classification_report(y_true_poly, y_pred_svm_poly_us))\n",
    "\n",
    "#Evaluate the model\n",
    "y_pred_svm_poly_us = clf_poly_us.predict(x_svm_test)\n",
    "metrics.loc['accuracy','SVM with polynomial kernel (unscaled) with CV'] = accuracy_score(y_pred = y_pred_svm_poly_us, y_true = y_svm_test)\n",
    "metrics.loc['precision','SVM with polynomial kernel (unscaled) with CV'] = precision_score(y_pred = y_pred_svm_poly_us, y_true = y_svm_test)\n",
    "metrics.loc['recall','SVM with polynomial kernel (unscaled) with CV'] = recall_score(y_pred = y_pred_svm_poly_us, y_true = y_svm_test)\n",
    "\n",
    "#Confusion Matrix\n",
    "CM = confusion_matrix(y_pred = y_pred_svm_poly_us, y_true = y_svm_test)\n",
    "CMatrix(CM)"
   ]
  },
  {
   "cell_type": "code",
   "execution_count": 422,
   "metadata": {},
   "outputs": [
    {
     "name": "stdout",
     "output_type": "stream",
     "text": [
      "Accuracy Rate: 0.8364640883977901\n",
      "Misclassification Rate: 0.16353591160220993\n",
      "Precision Score: 0.3795620437956204\n",
      "Recall Score: 0.45217391304347826\n"
     ]
    },
    {
     "data": {
      "image/png": "[encoded data removed]",
      "text/plain": [
       "<Figure size 288x216 with 2 Axes>"
      ]
     },
     "metadata": {},
     "output_type": "display_data"
    }
   ],
   "source": [
    "plt.figure(figsize=(4,3))\n",
    "ConfMatrix = confusion_matrix(y_pred = y_pred_svm_poly_us, y_true = y_svm_test)\n",
    "sns.heatmap(ConfMatrix,annot=True, cmap=\"Blues\", fmt=\"d\", \n",
    "            xticklabels = ['0', '1'], \n",
    "            yticklabels = ['0', '1'])\n",
    "plt.ylabel('True label')\n",
    "plt.xlabel('Predicted label')\n",
    "plt.title(\"Confusion Matrix - SVM with polynomial kernel (unscaled) with CV\");\n",
    "\n",
    "print('Accuracy Rate:', accuracy_score(y_pred = y_pred_svm_poly_us, y_true = y_svm_test))\n",
    "print('Misclassification Rate:', 1-accuracy_score(y_pred = y_pred_svm_poly_us, y_true = y_svm_test))\n",
    "print('Precision Score:', precision_score(y_pred = y_pred_svm_poly_us, y_true = y_svm_test))\n",
    "print('Recall Score:', recall_score(y_pred = y_pred_svm_poly_us, y_true = y_svm_test))"
   ]
  },
  {
   "cell_type": "code",
   "execution_count": 423,
   "metadata": {},
   "outputs": [
    {
     "name": "stdout",
     "output_type": "stream",
     "text": [
      "AUC: 0.792\n"
     ]
    },
    {
     "data": {
      "image/png": "[encoded data removed]",
      "text/plain": [
       "<Figure size 432x288 with 1 Axes>"
      ]
     },
     "metadata": {},
     "output_type": "display_data"
    }
   ],
   "source": [
    "# ROC-AUC\n",
    "\n",
    "decision_scores = clf_poly_us.decision_function(x_svm_test)\n",
    "fpr, tpr, thres = roc_curve(y_svm_test, decision_scores)\n",
    "print('AUC: {:.3f}'.format(roc_auc_score(y_svm_test, decision_scores)))\n",
    "\n",
    "# roc curve\n",
    "plt.plot(fpr, tpr, \"b\", label='SVM with polynomial kernel (unscaled) with CV')\n",
    "plt.plot([0,1],[0,1], \"k--\", label='Random Guess')\n",
    "plt.xlabel(\"false positive rate\")\n",
    "plt.ylabel(\"true positive rate\")\n",
    "plt.legend(loc=\"best\")\n",
    "plt.title(\"ROC curve\")\n",
    "plt.show()"
   ]
  },
  {
   "cell_type": "markdown",
   "metadata": {},
   "source": [
    "Result\n",
    "\n",
    "According to our accuracy of 84%, we are doing well in terms of accuracy rate. We have a low precision and recall score of 38% and 45% respectively. The AUC score of 79.2% is good compared to the previous models.\n",
    "\n",
    "Precision:\n",
    "\n",
    "Out of all the predicted 1(yes), 38% of them are correctly identified as 1(yes).\n",
    "\n",
    "Recall:\n",
    "\n",
    "Out of True 1, 45% of them are correctly identified as 1."
   ]
  },
  {
   "cell_type": "markdown",
   "metadata": {},
   "source": [
    "# B. SVM with scaling"
   ]
  },
  {
   "cell_type": "code",
   "execution_count": 424,
   "metadata": {},
   "outputs": [
    {
     "name": "stdout",
     "output_type": "stream",
     "text": [
      "<class 'pandas.core.frame.DataFrame'>\n",
      "RangeIndex: 4521 entries, 0 to 4520\n",
      "Data columns (total 17 columns):\n",
      " #   Column     Non-Null Count  Dtype   \n",
      "---  ------     --------------  -----   \n",
      " 0   age        4521 non-null   int64   \n",
      " 1   job        4521 non-null   int64   \n",
      " 2   marital    4521 non-null   int64   \n",
      " 3   education  4521 non-null   int64   \n",
      " 4   default    4521 non-null   int64   \n",
      " 5   balance    4521 non-null   int64   \n",
      " 6   housing    4521 non-null   int64   \n",
      " 7   loan       4521 non-null   int64   \n",
      " 8   contact    4521 non-null   int64   \n",
      " 9   day        4521 non-null   int64   \n",
      " 10  month      4521 non-null   int64   \n",
      " 11  duration   4521 non-null   int64   \n",
      " 12  campaign   4521 non-null   int64   \n",
      " 13  pdays      4521 non-null   int64   \n",
      " 14  previous   4521 non-null   int64   \n",
      " 15  poutcome   4521 non-null   int64   \n",
      " 16  y          4521 non-null   category\n",
      "dtypes: category(1), int64(16)\n",
      "memory usage: 569.8 KB\n"
     ]
    }
   ],
   "source": [
    "bank_data.info()\n",
    "numcol = [\"age\", \"balance\",\"previous\",\"day\",\"duration\",\"campaign\",\"pdays\",\"previous\"]"
   ]
  },
  {
   "cell_type": "markdown",
   "metadata": {},
   "source": [
    "# 1. Linear Kernel - SVM(Scaled)"
   ]
  },
  {
   "cell_type": "code",
   "execution_count": 425,
   "metadata": {},
   "outputs": [
    {
     "name": "stdout",
     "output_type": "stream",
     "text": [
      "# Tuning hyper-parameters for accuracy\n",
      "0.815 (+/-0.023) for {'C': 0.001}\n",
      "0.844 (+/-0.037) for {'C': 0.01}\n",
      "0.844 (+/-0.043) for {'C': 0.1}\n",
      "0.842 (+/-0.046) for {'C': 1}\n",
      "0.843 (+/-0.046) for {'C': 5}\n",
      "0.843 (+/-0.046) for {'C': 10}\n",
      "0.842 (+/-0.047) for {'C': 100}\n",
      "\n",
      "Detailed classification report\n",
      "              precision    recall  f1-score   support\n",
      "\n",
      "           0       0.95      0.80      0.87       790\n",
      "           1       0.35      0.72      0.47       115\n",
      "\n",
      "    accuracy                           0.79       905\n",
      "   macro avg       0.65      0.76      0.67       905\n",
      "weighted avg       0.88      0.79      0.82       905\n",
      "\n"
     ]
    }
   ],
   "source": [
    "#Processing the data first\n",
    "\n",
    "svmdatascaled = bank_data.copy(deep=True)\n",
    "\n",
    "#Splitting the data into Train and test\n",
    "seed = 1\n",
    "svm_train_s, svm_test_s = train_test_split(svmdatascaled, train_size = 0.8, random_state = seed)\n",
    "svm_train_s.reset_index(inplace = True, drop = True)\n",
    "svm_test_s.reset_index(inplace = True, drop = True)\n",
    "\n",
    "#Further dividing it into xtrain and ytrain\n",
    "y_svm_train_s = svm_train_s[\"y\"]\n",
    "x_svm_train_s = svm_train_s.loc[:,svm_train_s.columns!='y']\n",
    "\n",
    "y_svm_test_s = svm_test_s[\"y\"]\n",
    "x_svm_test_s = svm_test_s.loc[:,svm_test_s.columns!='y']\n",
    "\n",
    "# Scaling the data\n",
    "sc = StandardScaler().fit(x_svm_train_s[numcol])\n",
    "x_svm_train_s[numcol] = sc.fit_transform(x_svm_train_s[numcol])\n",
    "x_svm_test_s[numcol] = sc.transform(x_svm_test_s[numcol])\n",
    "\n",
    "columns=x_svm_train_s.columns\n",
    "\n",
    "#Balancing the data - import the library for handling the imbalance dataset\n",
    "from imblearn.over_sampling import SMOTE\n",
    "Ov_sampling=SMOTE(random_state=100)\n",
    "svm_X_s,svm_y_s=Ov_sampling.fit_sample(x_svm_train_s,y_svm_train_s)\n",
    "svm_X_s=pd.DataFrame(data=svm_X_s,columns=columns)\n",
    "svm_y_s=pd.DataFrame(svm_y_s,columns=['y'])\n",
    "\n",
    "# Set the parameters by cross-validation\n",
    "svm_model_linear = SVC(kernel = \"linear\",probability=True)\n",
    "tuned_parameters_linear = {'C': [0.001, 0.01, 0.1, 1,5,10,100]}\n",
    "score_linear = \"accuracy\"\n",
    "\n",
    "print(\"# Tuning hyper-parameters for accuracy\" )\n",
    "clf_linear = GridSearchCV(svm_model_linear, param_grid = tuned_parameters_linear, scoring=score_linear , cv = 5)\n",
    "clf_linear.fit(svm_X_s, svm_y_s)\n",
    "\n",
    "means_linear = clf_linear.cv_results_['mean_test_score']\n",
    "stds_linear = clf_linear.cv_results_['std_test_score']\n",
    "for mean, std, params in zip(means_linear, stds_linear, clf_linear.cv_results_['params']):\n",
    "    print(\"%0.3f (+/-%0.03f) for %r\" %(mean, std * 2, params))\n",
    "print()\n",
    "print(\"Detailed classification report\")\n",
    "y_true_s, y_pred_s = y_svm_test_s, clf_linear.predict(x_svm_test_s)\n",
    "print(classification_report(y_pred = y_pred_s,  y_true = y_true_s))"
   ]
  },
  {
   "cell_type": "code",
   "execution_count": 426,
   "metadata": {},
   "outputs": [
    {
     "data": {
      "text/html": [
       "<div>\n",
       "<style scoped>\n",
       "    .dataframe tbody tr th:only-of-type {\n",
       "        vertical-align: middle;\n",
       "    }\n",
       "\n",
       "    .dataframe tbody tr th {\n",
       "        vertical-align: top;\n",
       "    }\n",
       "\n",
       "    .dataframe thead th {\n",
       "        text-align: right;\n",
       "    }\n",
       "</style>\n",
       "<table border=\"1\" class=\"dataframe\">\n",
       "  <thead>\n",
       "    <tr style=\"text-align: right;\">\n",
       "      <th>PREDICTION</th>\n",
       "      <th>0</th>\n",
       "      <th>1</th>\n",
       "      <th>Total</th>\n",
       "    </tr>\n",
       "    <tr>\n",
       "      <th>TRUE</th>\n",
       "      <th></th>\n",
       "      <th></th>\n",
       "      <th></th>\n",
       "    </tr>\n",
       "  </thead>\n",
       "  <tbody>\n",
       "    <tr>\n",
       "      <th>0</th>\n",
       "      <td>635</td>\n",
       "      <td>155</td>\n",
       "      <td>790</td>\n",
       "    </tr>\n",
       "    <tr>\n",
       "      <th>1</th>\n",
       "      <td>32</td>\n",
       "      <td>83</td>\n",
       "      <td>115</td>\n",
       "    </tr>\n",
       "    <tr>\n",
       "      <th>Total</th>\n",
       "      <td>667</td>\n",
       "      <td>238</td>\n",
       "      <td>905</td>\n",
       "    </tr>\n",
       "  </tbody>\n",
       "</table>\n",
       "</div>"
      ],
      "text/plain": [
       "PREDICTION    0    1  Total\n",
       "TRUE                       \n",
       "0           635  155    790\n",
       "1            32   83    115\n",
       "Total       667  238    905"
      ]
     },
     "execution_count": 426,
     "metadata": {},
     "output_type": "execute_result"
    }
   ],
   "source": [
    "#Evaluate the model\n",
    "metrics.loc['accuracy','SVM with linear kernel (scaled) with CV'] = accuracy_score(y_pred = y_pred_s,  y_true = y_true_s)\n",
    "metrics.loc['precision','SVM with linear kernel (scaled) with CV'] = precision_score(y_pred = y_pred_s,  y_true = y_true_s)\n",
    "metrics.loc['recall','SVM with linear kernel (scaled) with CV'] = recall_score(y_pred = y_pred_s,  y_true = y_true_s)\n",
    "\n",
    "#Confusion Matrix\n",
    "CM = confusion_matrix(y_pred = y_pred_s,  y_true = y_true_s)\n",
    "CMatrix(CM)"
   ]
  },
  {
   "cell_type": "code",
   "execution_count": 427,
   "metadata": {},
   "outputs": [
    {
     "name": "stdout",
     "output_type": "stream",
     "text": [
      "Accuracy Rate: 0.7933701657458564\n",
      "Misclassification Rate: 0.2066298342541436\n",
      "Precision Score: 0.3487394957983193\n",
      "Recall Score: 0.7217391304347827\n"
     ]
    },
    {
     "data": {
      "image/png": "[encoded data removed]",
      "text/plain": [
       "<Figure size 288x216 with 2 Axes>"
      ]
     },
     "metadata": {},
     "output_type": "display_data"
    }
   ],
   "source": [
    "plt.figure(figsize=(4,3))\n",
    "ConfMatrix = confusion_matrix(y_pred = y_pred_s,  y_true = y_true_s)\n",
    "sns.heatmap(ConfMatrix,annot=True, cmap=\"Blues\", fmt=\"d\", \n",
    "            xticklabels = ['0', '1'], \n",
    "            yticklabels = ['0', '1'])\n",
    "plt.ylabel('True label')\n",
    "plt.xlabel('Predicted label')\n",
    "plt.title(\"Confusion Matrix - SVM with linear kernel (scaled) with CV\");\n",
    "\n",
    "print('Accuracy Rate:', accuracy_score(y_pred = y_pred_s,  y_true = y_true_s))\n",
    "print('Misclassification Rate:', 1-accuracy_score(y_pred = y_pred_s,  y_true = y_true_s))\n",
    "print('Precision Score:', precision_score(y_pred = y_pred_s,  y_true = y_true_s))\n",
    "print('Recall Score:', recall_score(y_pred = y_pred_s,  y_true = y_true_s))"
   ]
  },
  {
   "cell_type": "code",
   "execution_count": 428,
   "metadata": {},
   "outputs": [
    {
     "name": "stdout",
     "output_type": "stream",
     "text": [
      "AUC: 0.834\n"
     ]
    },
    {
     "data": {
      "image/png": "[encoded data removed]",
      "text/plain": [
       "<Figure size 432x288 with 1 Axes>"
      ]
     },
     "metadata": {},
     "output_type": "display_data"
    }
   ],
   "source": [
    "# ROC-AUC\n",
    "\n",
    "decision_scores = clf_linear.decision_function(x_svm_test_s)\n",
    "fpr, tpr, thres = roc_curve(y_svm_test_s, decision_scores)\n",
    "print('AUC: {:.3f}'.format(roc_auc_score(y_svm_test_s, decision_scores)))\n",
    "\n",
    "# roc curve\n",
    "plt.plot(fpr, tpr, \"b\", label='SVM with linear kernel (scaled) with CV')\n",
    "plt.plot([0,1],[0,1], \"k--\", label='Random Guess')\n",
    "plt.xlabel(\"false positive rate\")\n",
    "plt.ylabel(\"true positive rate\")\n",
    "plt.legend(loc=\"best\")\n",
    "plt.title(\"ROC curve\")\n",
    "plt.show()"
   ]
  },
  {
   "cell_type": "markdown",
   "metadata": {},
   "source": [
    "Result\n",
    "\n",
    "According to our accuracy of 79%, we are doing not well in terms of accuracy rate. We have a low precision score of 35% but we have a high recall score of 72% which is the highest amongst SVM. The AUC score of 83.4% is also very good and the highest amongst various variation of SVM.\n",
    "\n",
    "Precision:\n",
    "\n",
    "Out of all the predicted 1(yes), 35% of them are correctly identified as 1(yes).\n",
    "\n",
    "Recall:\n",
    "\n",
    "Out of True 1, 72% of them are correctly identified as 1."
   ]
  },
  {
   "cell_type": "markdown",
   "metadata": {},
   "source": [
    "# 2. Polynomial Kernel - SVM(Scaled)"
   ]
  },
  {
   "cell_type": "code",
   "execution_count": 429,
   "metadata": {},
   "outputs": [
    {
     "name": "stdout",
     "output_type": "stream",
     "text": [
      "# Tuning hyper-parameters for accuracy\n",
      "0.669 (+/-0.043) for {'C': 0.001, 'degree': 2}\n",
      "0.621 (+/-0.068) for {'C': 0.001, 'degree': 3}\n",
      "0.601 (+/-0.042) for {'C': 0.001, 'degree': 4}\n",
      "0.631 (+/-0.047) for {'C': 0.001, 'degree': 5}\n",
      "0.759 (+/-0.029) for {'C': 0.01, 'degree': 2}\n",
      "0.747 (+/-0.028) for {'C': 0.01, 'degree': 3}\n",
      "0.743 (+/-0.020) for {'C': 0.01, 'degree': 4}\n",
      "0.730 (+/-0.021) for {'C': 0.01, 'degree': 5}\n",
      "0.823 (+/-0.024) for {'C': 0.1, 'degree': 2}\n",
      "0.803 (+/-0.028) for {'C': 0.1, 'degree': 3}\n",
      "0.790 (+/-0.024) for {'C': 0.1, 'degree': 4}\n",
      "0.779 (+/-0.021) for {'C': 0.1, 'degree': 5}\n",
      "0.849 (+/-0.033) for {'C': 1, 'degree': 2}\n",
      "0.845 (+/-0.023) for {'C': 1, 'degree': 3}\n",
      "0.829 (+/-0.028) for {'C': 1, 'degree': 4}\n",
      "0.815 (+/-0.032) for {'C': 1, 'degree': 5}\n",
      "\n",
      "Detailed classification report\n",
      "              precision    recall  f1-score   support\n",
      "\n",
      "           0       0.95      0.81      0.88       790\n",
      "           1       0.36      0.72      0.48       115\n",
      "\n",
      "    accuracy                           0.80       905\n",
      "   macro avg       0.66      0.77      0.68       905\n",
      "weighted avg       0.88      0.80      0.83       905\n",
      "\n"
     ]
    }
   ],
   "source": [
    "# Set the parameters by cross-validation\n",
    "svm_model_poly_s = SVC(kernel = \"poly\", probability=True)\n",
    "tuned_parameters_poly_s = {'C': [0.001,0.01,0.1,1], \"degree\": [2,3,4,5]}\n",
    "score_poly_s = \"accuracy\"\n",
    "\n",
    "#Tuning the parameters\n",
    "print(\"# Tuning hyper-parameters for accuracy\" )\n",
    "clf_poly_s = GridSearchCV(svm_model_poly_s, param_grid = tuned_parameters_poly_s, scoring=score_poly_s , cv = 5)\n",
    "clf_poly_s.fit(svm_X_s, svm_y_s)\n",
    "\n",
    "means_poly_s = clf_poly_s.cv_results_['mean_test_score']\n",
    "stds_poly_s = clf_poly_s.cv_results_['std_test_score']\n",
    "for mean, std, params in zip(means_poly_s, stds_poly_s, clf_poly_s.cv_results_['params']):\n",
    "    print(\"%0.3f (+/-%0.03f) for %r\" %(mean, std * 2, params))\n",
    "print()\n",
    "print(\"Detailed classification report\")\n",
    "y_true_poly_s, y_pred_poly_s = y_svm_test_s, clf_poly_s.predict(x_svm_test_s)\n",
    "print(classification_report(y_true_poly_s, y_pred_poly_s))"
   ]
  },
  {
   "cell_type": "code",
   "execution_count": 430,
   "metadata": {},
   "outputs": [
    {
     "data": {
      "text/html": [
       "<div>\n",
       "<style scoped>\n",
       "    .dataframe tbody tr th:only-of-type {\n",
       "        vertical-align: middle;\n",
       "    }\n",
       "\n",
       "    .dataframe tbody tr th {\n",
       "        vertical-align: top;\n",
       "    }\n",
       "\n",
       "    .dataframe thead th {\n",
       "        text-align: right;\n",
       "    }\n",
       "</style>\n",
       "<table border=\"1\" class=\"dataframe\">\n",
       "  <thead>\n",
       "    <tr style=\"text-align: right;\">\n",
       "      <th>PREDICTION</th>\n",
       "      <th>0</th>\n",
       "      <th>1</th>\n",
       "      <th>Total</th>\n",
       "    </tr>\n",
       "    <tr>\n",
       "      <th>TRUE</th>\n",
       "      <th></th>\n",
       "      <th></th>\n",
       "      <th></th>\n",
       "    </tr>\n",
       "  </thead>\n",
       "  <tbody>\n",
       "    <tr>\n",
       "      <th>0</th>\n",
       "      <td>641</td>\n",
       "      <td>149</td>\n",
       "      <td>790</td>\n",
       "    </tr>\n",
       "    <tr>\n",
       "      <th>1</th>\n",
       "      <td>32</td>\n",
       "      <td>83</td>\n",
       "      <td>115</td>\n",
       "    </tr>\n",
       "    <tr>\n",
       "      <th>Total</th>\n",
       "      <td>673</td>\n",
       "      <td>232</td>\n",
       "      <td>905</td>\n",
       "    </tr>\n",
       "  </tbody>\n",
       "</table>\n",
       "</div>"
      ],
      "text/plain": [
       "PREDICTION    0    1  Total\n",
       "TRUE                       \n",
       "0           641  149    790\n",
       "1            32   83    115\n",
       "Total       673  232    905"
      ]
     },
     "execution_count": 430,
     "metadata": {},
     "output_type": "execute_result"
    }
   ],
   "source": [
    "#Evaluate the model\n",
    "metrics.loc['accuracy','SVM with polynomial kernel (scaled) with CV'] = accuracy_score(y_pred = y_pred_poly_s, y_true = y_true_poly_s)\n",
    "metrics.loc['precision','SVM with polynomial kernel (scaled) with CV'] = precision_score(y_pred = y_pred_poly_s, y_true = y_true_poly_s)\n",
    "metrics.loc['recall','SVM with polynomial kernel (scaled) with CV'] = recall_score(y_pred = y_pred_poly_s, y_true = y_true_poly_s)\n",
    "\n",
    "#Confusion Matrix\n",
    "CM = confusion_matrix(y_pred = y_pred_poly_s, y_true = y_true_poly_s)\n",
    "CMatrix(CM)"
   ]
  },
  {
   "cell_type": "code",
   "execution_count": 431,
   "metadata": {},
   "outputs": [
    {
     "name": "stdout",
     "output_type": "stream",
     "text": [
      "Accuracy Rate: 0.8\n",
      "Misclassification Rate: 0.19999999999999996\n",
      "Precision Score: 0.3577586206896552\n",
      "Recall Score: 0.7217391304347827\n"
     ]
    },
    {
     "data": {
      "image/png": "[encoded data removed]",
      "text/plain": [
       "<Figure size 288x216 with 2 Axes>"
      ]
     },
     "metadata": {},
     "output_type": "display_data"
    }
   ],
   "source": [
    "plt.figure(figsize=(4,3))\n",
    "ConfMatrix = confusion_matrix(y_pred = y_pred_poly_s, y_true = y_true_poly_s)\n",
    "sns.heatmap(ConfMatrix,annot=True, cmap=\"Blues\", fmt=\"d\", \n",
    "            xticklabels = ['0', '1'], \n",
    "            yticklabels = ['0', '1'])\n",
    "plt.ylabel('True label')\n",
    "plt.xlabel('Predicted label')\n",
    "plt.title(\"Confusion Matrix - SVM with polynomial (scaled) with CV\");\n",
    "\n",
    "print('Accuracy Rate:', accuracy_score(y_pred = y_pred_poly_s, y_true = y_true_poly_s))\n",
    "print('Misclassification Rate:', 1-accuracy_score(y_pred = y_pred_poly_s, y_true = y_true_poly_s))\n",
    "print('Precision Score:', precision_score(y_pred = y_pred_poly_s, y_true = y_true_poly_s))\n",
    "print('Recall Score:', recall_score(y_pred = y_pred_poly_s, y_true = y_true_poly_s))"
   ]
  },
  {
   "cell_type": "code",
   "execution_count": 432,
   "metadata": {},
   "outputs": [
    {
     "name": "stdout",
     "output_type": "stream",
     "text": [
      "AUC: 0.833\n"
     ]
    },
    {
     "data": {
      "image/png": "[encoded data removed]",
      "text/plain": [
       "<Figure size 432x288 with 1 Axes>"
      ]
     },
     "metadata": {},
     "output_type": "display_data"
    }
   ],
   "source": [
    "# ROC-AUC\n",
    "\n",
    "decision_scores = clf_poly_s.decision_function(x_svm_test_s)\n",
    "fpr, tpr, thres = roc_curve(y_svm_test_s, decision_scores)\n",
    "print('AUC: {:.3f}'.format(roc_auc_score(y_svm_test_s, decision_scores)))\n",
    "\n",
    "# roc curve\n",
    "plt.plot(fpr, tpr, \"b\", label='SVM with polynomial (scaled) with CV')\n",
    "plt.plot([0,1],[0,1], \"k--\", label='Random Guess')\n",
    "plt.xlabel(\"false positive rate\")\n",
    "plt.ylabel(\"true positive rate\")\n",
    "plt.legend(loc=\"best\")\n",
    "plt.title(\"ROC curve\")\n",
    "plt.show()"
   ]
  },
  {
   "cell_type": "markdown",
   "metadata": {},
   "source": [
    "Result\n",
    "\n",
    "According to our accuracy of 80%, we are doing well in terms of accuracy rate. We have a low precision score of 35% but we have a high recall score of 72% which is the highest amongst SVM and is very similar to the linear kernel. The AUC score of 83.3% is also very good and one of the highest amongst various variation of SVM.\n",
    "\n",
    "Precision:\n",
    "\n",
    "Out of all the predicted 1(yes), 35% of them are correctly identified as 1(yes).\n",
    "\n",
    "Recall:\n",
    "\n",
    "Out of True 1, 72% of them are correctly identified as 1."
   ]
  },
  {
   "cell_type": "markdown",
   "metadata": {},
   "source": [
    "# 3. Radial Kernel - SVM(Scaled)"
   ]
  },
  {
   "cell_type": "code",
   "execution_count": 433,
   "metadata": {},
   "outputs": [
    {
     "name": "stdout",
     "output_type": "stream",
     "text": [
      "# Tuning hyper-parameters for accuracy\n",
      "0.670 (+/-0.039) for {'C': 0.001, 'gamma': 0.01}\n",
      "0.698 (+/-0.025) for {'C': 0.001, 'gamma': 0.1}\n",
      "0.777 (+/-0.267) for {'C': 0.001, 'gamma': 1}\n",
      "0.581 (+/-0.026) for {'C': 0.001, 'gamma': 10}\n",
      "0.720 (+/-0.042) for {'C': 0.01, 'gamma': 0.01}\n",
      "0.724 (+/-0.018) for {'C': 0.01, 'gamma': 0.1}\n",
      "0.777 (+/-0.267) for {'C': 0.01, 'gamma': 1}\n",
      "0.581 (+/-0.026) for {'C': 0.01, 'gamma': 10}\n",
      "0.827 (+/-0.025) for {'C': 0.1, 'gamma': 0.01}\n",
      "0.867 (+/-0.013) for {'C': 0.1, 'gamma': 0.1}\n",
      "0.816 (+/-0.136) for {'C': 0.1, 'gamma': 1}\n",
      "0.581 (+/-0.026) for {'C': 0.1, 'gamma': 10}\n",
      "0.864 (+/-0.031) for {'C': 1, 'gamma': 0.01}\n",
      "0.932 (+/-0.020) for {'C': 1, 'gamma': 0.1}\n",
      "0.942 (+/-0.037) for {'C': 1, 'gamma': 1}\n",
      "0.769 (+/-0.054) for {'C': 1, 'gamma': 10}\n",
      "\n",
      "Detailed classification report\n",
      "              precision    recall  f1-score   support\n",
      "\n",
      "           0       0.88      0.98      0.93       790\n",
      "           1       0.32      0.05      0.09       115\n",
      "\n",
      "    accuracy                           0.87       905\n",
      "   macro avg       0.60      0.52      0.51       905\n",
      "weighted avg       0.81      0.87      0.82       905\n",
      "\n"
     ]
    }
   ],
   "source": [
    "# Set the parameters by cross-validation\n",
    "svm_model_rbf_s = SVC(kernel = \"rbf\", probability=True)\n",
    "tuned_parameters_rbf_s = {'C': [0.001,0.01,0.1,1], \"gamma\": [0.01,0.1,1,10]}\n",
    "score_rbf_s = \"accuracy\"\n",
    "\n",
    "print(\"# Tuning hyper-parameters for accuracy\" )\n",
    "clf_rbf_s = GridSearchCV(svm_model_rbf_s, param_grid = tuned_parameters_rbf_s, scoring=score_rbf_s , cv = 5)\n",
    "clf_rbf_s.fit(svm_X_s, svm_y_s)\n",
    "\n",
    "means_rbf_s = clf_rbf_s.cv_results_['mean_test_score']\n",
    "stds_rbf_s = clf_rbf_s.cv_results_['std_test_score']\n",
    "for mean, std, params in zip(means_rbf_s, stds_rbf_s, clf_rbf_s.cv_results_['params']):\n",
    "    print(\"%0.3f (+/-%0.03f) for %r\" %(mean, std * 2, params))\n",
    "print()\n",
    "print(\"Detailed classification report\")\n",
    "y_true_rbf_s, y_pred_rbf_s = y_svm_test_s, clf_rbf_s.predict(x_svm_test_s)\n",
    "print(classification_report(y_true_rbf_s, y_pred_rbf_s))"
   ]
  },
  {
   "cell_type": "code",
   "execution_count": 434,
   "metadata": {},
   "outputs": [
    {
     "data": {
      "text/html": [
       "<div>\n",
       "<style scoped>\n",
       "    .dataframe tbody tr th:only-of-type {\n",
       "        vertical-align: middle;\n",
       "    }\n",
       "\n",
       "    .dataframe tbody tr th {\n",
       "        vertical-align: top;\n",
       "    }\n",
       "\n",
       "    .dataframe thead th {\n",
       "        text-align: right;\n",
       "    }\n",
       "</style>\n",
       "<table border=\"1\" class=\"dataframe\">\n",
       "  <thead>\n",
       "    <tr style=\"text-align: right;\">\n",
       "      <th>PREDICTION</th>\n",
       "      <th>0</th>\n",
       "      <th>1</th>\n",
       "      <th>Total</th>\n",
       "    </tr>\n",
       "    <tr>\n",
       "      <th>TRUE</th>\n",
       "      <th></th>\n",
       "      <th></th>\n",
       "      <th></th>\n",
       "    </tr>\n",
       "  </thead>\n",
       "  <tbody>\n",
       "    <tr>\n",
       "      <th>0</th>\n",
       "      <td>777</td>\n",
       "      <td>13</td>\n",
       "      <td>790</td>\n",
       "    </tr>\n",
       "    <tr>\n",
       "      <th>1</th>\n",
       "      <td>109</td>\n",
       "      <td>6</td>\n",
       "      <td>115</td>\n",
       "    </tr>\n",
       "    <tr>\n",
       "      <th>Total</th>\n",
       "      <td>886</td>\n",
       "      <td>19</td>\n",
       "      <td>905</td>\n",
       "    </tr>\n",
       "  </tbody>\n",
       "</table>\n",
       "</div>"
      ],
      "text/plain": [
       "PREDICTION    0   1  Total\n",
       "TRUE                      \n",
       "0           777  13    790\n",
       "1           109   6    115\n",
       "Total       886  19    905"
      ]
     },
     "execution_count": 434,
     "metadata": {},
     "output_type": "execute_result"
    }
   ],
   "source": [
    "#Evaluate the model\n",
    "metrics.loc['accuracy','SVM with radial kernel (scaled) with CV'] = accuracy_score(y_pred = y_pred_rbf_s, y_true = y_true_rbf_s)\n",
    "metrics.loc['precision','SVM with radial kernel (scaled) with CV'] = precision_score(y_pred = y_pred_rbf_s, y_true = y_true_rbf_s)\n",
    "metrics.loc['recall','SVM with radial kernel (scaled) with CV'] = recall_score(y_pred = y_pred_rbf_s, y_true = y_true_rbf_s)\n",
    "\n",
    "#Confusion Matrix\n",
    "CM = confusion_matrix(y_pred = y_pred_rbf_s, y_true = y_true_rbf_s)\n",
    "CMatrix(CM)"
   ]
  },
  {
   "cell_type": "code",
   "execution_count": 435,
   "metadata": {},
   "outputs": [
    {
     "name": "stdout",
     "output_type": "stream",
     "text": [
      "Accuracy Rate: 0.8651933701657458\n",
      "Misclassification Rate: 0.13480662983425418\n",
      "Precision Score: 0.3157894736842105\n",
      "Recall Score: 0.05217391304347826\n"
     ]
    },
    {
     "data": {
      "image/png": "[encoded data removed]",
      "text/plain": [
       "<Figure size 288x216 with 2 Axes>"
      ]
     },
     "metadata": {},
     "output_type": "display_data"
    }
   ],
   "source": [
    "plt.figure(figsize=(4,3))\n",
    "ConfMatrix = confusion_matrix(y_pred = y_pred_rbf_s, y_true = y_true_rbf_s)\n",
    "sns.heatmap(ConfMatrix,annot=True, cmap=\"Blues\", fmt=\"d\", \n",
    "            xticklabels = ['0', '1'], \n",
    "            yticklabels = ['0', '1'])\n",
    "plt.ylabel('True label')\n",
    "plt.xlabel('Predicted label')\n",
    "plt.title(\"Confusion Matrix - SVM with radial (scaled) with CV\");\n",
    "\n",
    "print('Accuracy Rate:', accuracy_score(y_pred = y_pred_rbf_s, y_true = y_true_rbf_s))\n",
    "print('Misclassification Rate:', 1-accuracy_score(y_pred = y_pred_rbf_s, y_true = y_true_rbf_s))\n",
    "print('Precision Score:', precision_score(y_pred = y_pred_rbf_s, y_true = y_true_rbf_s))\n",
    "print('Recall Score:', recall_score(y_pred = y_pred_rbf_s, y_true = y_true_rbf_s))"
   ]
  },
  {
   "cell_type": "code",
   "execution_count": 436,
   "metadata": {},
   "outputs": [
    {
     "name": "stdout",
     "output_type": "stream",
     "text": [
      "AUC: 0.805\n"
     ]
    },
    {
     "data": {
      "image/png": "[encoded data removed]",
      "text/plain": [
       "<Figure size 432x288 with 1 Axes>"
      ]
     },
     "metadata": {},
     "output_type": "display_data"
    }
   ],
   "source": [
    "# ROC-AUC\n",
    "\n",
    "decision_scores = clf_rbf_s.decision_function(x_svm_test_s)\n",
    "fpr, tpr, thres = roc_curve(y_svm_test_s, decision_scores)\n",
    "print('AUC: {:.3f}'.format(roc_auc_score(y_svm_test_s, decision_scores)))\n",
    "\n",
    "# roc curve\n",
    "plt.plot(fpr, tpr, \"b\", label='SVM with radial (scaled) with CV')\n",
    "plt.plot([0,1],[0,1], \"k--\", label='Random Guess')\n",
    "plt.xlabel(\"false positive rate\")\n",
    "plt.ylabel(\"true positive rate\")\n",
    "plt.legend(loc=\"best\")\n",
    "plt.title(\"ROC curve\")\n",
    "plt.show()"
   ]
  },
  {
   "cell_type": "markdown",
   "metadata": {},
   "source": [
    "Result\n",
    "\n",
    "According to our accuracy of 86.5%, we are doing well in terms of accuracy rate. We have a low precision score of 31.6% and a very low recall score of 5% which is very low. The AUC score of 80.5% is good but not the best.\n",
    "\n",
    "Precision:\n",
    "\n",
    "Out of all the predicted 1(yes), 31.6% of them are correctly identified as 1(yes).\n",
    "\n",
    "Recall:\n",
    "\n",
    "Out of True 1, 5% of them are correctly identified as 1."
   ]
  },
  {
   "cell_type": "markdown",
   "metadata": {},
   "source": [
    "# C. KNN"
   ]
  },
  {
   "cell_type": "markdown",
   "metadata": {},
   "source": [
    "# 1. KNN after scaling"
   ]
  },
  {
   "cell_type": "code",
   "execution_count": 437,
   "metadata": {},
   "outputs": [
    {
     "data": {
      "text/plain": [
       "Text(0, 0.5, 'ErrTe')"
      ]
     },
     "execution_count": 437,
     "metadata": {},
     "output_type": "execute_result"
    },
    {
     "data": {
      "image/png": "[encoded data removed]",
      "text/plain": [
       "<Figure size 432x288 with 1 Axes>"
      ]
     },
     "metadata": {},
     "output_type": "display_data"
    }
   ],
   "source": [
    "# Find the optimal K\n",
    "\n",
    "KNNdata = bank_data.copy(deep=True)\n",
    "\n",
    "#Splitting the data into Train and test\n",
    "seed = 1\n",
    "knn_train, knn_test = train_test_split(KNNdata, train_size = 0.8, random_state = seed)\n",
    "knn_train.reset_index(inplace = True, drop = True)\n",
    "knn_test.reset_index(inplace = True, drop = True)\n",
    "\n",
    "#Further dividing it into xtrain and ytrain\n",
    "y_knn_train = knn_train[\"y\"]\n",
    "x_knn_train = knn_train.loc[:,knn_train.columns!='y']\n",
    "\n",
    "y_knn_test = knn_test[\"y\"]\n",
    "x_knn_test = knn_test.loc[:,knn_test.columns!='y']\n",
    "\n",
    "columns=x_knn_train.columns\n",
    "\n",
    "\n",
    "from sklearn.model_selection import KFold\n",
    "kf = KFold(10, random_state = 1, shuffle = True)\n",
    "kf.get_n_splits(x_knn_train)\n",
    "\n",
    "import numpy as np\n",
    "import random\n",
    "random.seed(1)\n",
    "from sklearn import preprocessing\n",
    "from imblearn.over_sampling import SMOTE\n",
    "\n",
    "direction = y_knn_train\n",
    "# Cross validation\n",
    "Kmax = 50\n",
    "ErrCV = np.zeros((50, 10))\n",
    "f = 0\n",
    "for train_idx, test_idx in kf.split(x_knn_train):\n",
    "    \n",
    "    #Split into pseudo training/test data\n",
    "    X_train_knn, y_train_knn = x_knn_train.loc[train_idx, :], direction[train_idx]\n",
    "    X_test_knn, y_test_knn = x_knn_train.loc[test_idx, :], direction[test_idx]\n",
    "    \n",
    "    #scale the pseudo train and test data\n",
    "    sc = StandardScaler()\n",
    "    X_train_knn[numcol] = sc.fit_transform(X_train_knn[numcol])\n",
    "    X_test_knn[numcol] = sc.transform(X_test_knn[numcol])\n",
    "    \n",
    "    #balance the scaled pseudo and training data\n",
    "    Ov_sampling_knn = SMOTE(random_state=100)\n",
    "    ov_data_X_knn , ov_data_y_knn = Ov_sampling_knn.fit_sample(X_train_knn , y_train_knn)\n",
    "    ov_data_X_knn=pd.DataFrame(data=ov_data_X_knn ,columns=columns)\n",
    "    ov_data_y_knn =pd.DataFrame(ov_data_y_knn ,columns=['y'])\n",
    "    \n",
    "    \n",
    "    for kk in range(1, Kmax+1):\n",
    "        kNN_s = KNeighborsClassifier(n_neighbors=kk)\n",
    "        kNN_s.fit(ov_data_X_knn,ov_data_y_knn)\n",
    "        y_pred_knn = kNN_s.predict(X_test_knn)\n",
    "        ErrCV[kk-1, f] = (y_pred_knn != y_test_knn).mean()\n",
    "        \n",
    "    f += 1\n",
    "\n",
    "# Plot average CV error\n",
    "sns.lineplot(x = np.arange(1, Kmax+1), y = ErrCV.mean(axis = 1))\n",
    "plt.xlabel(\"No of neighbours\")\n",
    "plt.ylabel(\"ErrTe\")"
   ]
  },
  {
   "cell_type": "code",
   "execution_count": 438,
   "metadata": {},
   "outputs": [
    {
     "name": "stdout",
     "output_type": "stream",
     "text": [
      "No of neighbours: 2\n"
     ]
    }
   ],
   "source": [
    "print(\"No of neighbours:\", np.argmin(ErrCV.mean(axis = 1))+1)"
   ]
  },
  {
   "cell_type": "code",
   "execution_count": 439,
   "metadata": {},
   "outputs": [
    {
     "data": {
      "text/plain": [
       "array([[720,  70],\n",
       "       [ 71,  44]])"
      ]
     },
     "execution_count": 439,
     "metadata": {},
     "output_type": "execute_result"
    }
   ],
   "source": [
    "# dividing it into xtrain and ytrain\n",
    "y_knn_train_s = knn_train[\"y\"]\n",
    "x_knn_train_s = knn_train.loc[:,knn_train.columns!='y']\n",
    "\n",
    "y_knn_test_s = knn_test[\"y\"]\n",
    "x_knn_test_s = knn_test.loc[:,knn_test.columns!='y']\n",
    "\n",
    "columns=x_knn_train.columns\n",
    "# Scaling the data\n",
    "sc = StandardScaler().fit(x_knn_train_s[numcol])\n",
    "x_knn_train_s[numcol] = sc.fit_transform(x_knn_train_s[numcol])\n",
    "x_knn_test_s[numcol] = sc.transform(x_knn_test_s[numcol])\n",
    "\n",
    "columns=x_knn_train_s.columns\n",
    "\n",
    "#Balancing the data - import the library for handling the imbalance dataset\n",
    "from imblearn.over_sampling import SMOTE\n",
    "Ov_sampling=SMOTE(random_state=100)\n",
    "knn_X_s,knn_y_s=Ov_sampling.fit_sample(x_knn_train_s,y_knn_train_s)\n",
    "knn_X_s=pd.DataFrame(data=knn_X_s,columns=columns)\n",
    "knn_y_s=pd.DataFrame(knn_y_s,columns=['y'])\n",
    "\n",
    "#fit the model to the whole dataset\n",
    "seed = 1\n",
    "kNN_sc = KNeighborsClassifier(n_neighbors=2)\n",
    "kNN_sc.fit(knn_X_s, knn_y_s)\n",
    "y_true_knn_s, y_pred_knn_s = y_knn_test_s, kNN_sc.predict(x_knn_test_s)\n",
    "confusion_matrix(y_true_knn_s, y_pred_knn_s)"
   ]
  },
  {
   "cell_type": "code",
   "execution_count": 440,
   "metadata": {},
   "outputs": [
    {
     "name": "stdout",
     "output_type": "stream",
     "text": [
      "Detailed classification report\n",
      "              precision    recall  f1-score   support\n",
      "\n",
      "           0       0.91      0.91      0.91       790\n",
      "           1       0.39      0.38      0.38       115\n",
      "\n",
      "    accuracy                           0.84       905\n",
      "   macro avg       0.65      0.65      0.65       905\n",
      "weighted avg       0.84      0.84      0.84       905\n",
      "\n"
     ]
    }
   ],
   "source": [
    "print(\"Detailed classification report\")\n",
    "y_true_knn_s, y_pred_knn_s = y_knn_test_s, kNN_sc.predict(x_knn_test_s)\n",
    "print(classification_report(y_true_knn_s, y_pred_knn_s))"
   ]
  },
  {
   "cell_type": "code",
   "execution_count": 441,
   "metadata": {},
   "outputs": [
    {
     "data": {
      "text/html": [
       "<div>\n",
       "<style scoped>\n",
       "    .dataframe tbody tr th:only-of-type {\n",
       "        vertical-align: middle;\n",
       "    }\n",
       "\n",
       "    .dataframe tbody tr th {\n",
       "        vertical-align: top;\n",
       "    }\n",
       "\n",
       "    .dataframe thead th {\n",
       "        text-align: right;\n",
       "    }\n",
       "</style>\n",
       "<table border=\"1\" class=\"dataframe\">\n",
       "  <thead>\n",
       "    <tr style=\"text-align: right;\">\n",
       "      <th>PREDICTION</th>\n",
       "      <th>0</th>\n",
       "      <th>1</th>\n",
       "      <th>Total</th>\n",
       "    </tr>\n",
       "    <tr>\n",
       "      <th>TRUE</th>\n",
       "      <th></th>\n",
       "      <th></th>\n",
       "      <th></th>\n",
       "    </tr>\n",
       "  </thead>\n",
       "  <tbody>\n",
       "    <tr>\n",
       "      <th>0</th>\n",
       "      <td>720</td>\n",
       "      <td>70</td>\n",
       "      <td>790</td>\n",
       "    </tr>\n",
       "    <tr>\n",
       "      <th>1</th>\n",
       "      <td>71</td>\n",
       "      <td>44</td>\n",
       "      <td>115</td>\n",
       "    </tr>\n",
       "    <tr>\n",
       "      <th>Total</th>\n",
       "      <td>791</td>\n",
       "      <td>114</td>\n",
       "      <td>905</td>\n",
       "    </tr>\n",
       "  </tbody>\n",
       "</table>\n",
       "</div>"
      ],
      "text/plain": [
       "PREDICTION    0    1  Total\n",
       "TRUE                       \n",
       "0           720   70    790\n",
       "1            71   44    115\n",
       "Total       791  114    905"
      ]
     },
     "execution_count": 441,
     "metadata": {},
     "output_type": "execute_result"
    }
   ],
   "source": [
    "#Evaluate the model\n",
    "metrics.loc['accuracy','KNN (scaled) with CV'] = accuracy_score(y_pred = y_pred_knn_s, y_true = y_true_knn_s)\n",
    "metrics.loc['precision','KNN (scaled) with CV'] = precision_score(y_pred = y_pred_knn_s, y_true = y_true_knn_s)\n",
    "metrics.loc['recall','KNN (scaled) with CV'] = recall_score(y_pred = y_pred_knn_s, y_true = y_true_knn_s)\n",
    "\n",
    "#Confusion Matrix\n",
    "CM = confusion_matrix(y_pred = y_pred_knn_s, y_true = y_true_knn_s)\n",
    "CMatrix(CM)"
   ]
  },
  {
   "cell_type": "code",
   "execution_count": 442,
   "metadata": {},
   "outputs": [
    {
     "name": "stdout",
     "output_type": "stream",
     "text": [
      "Accuracy Rate: 0.8441988950276244\n",
      "Misclassification Rate: 0.15580110497237565\n",
      "Precision Score: 0.38596491228070173\n",
      "Recall Score: 0.3826086956521739\n"
     ]
    },
    {
     "data": {
      "image/png": "[encoded data removed]",
      "text/plain": [
       "<Figure size 288x216 with 2 Axes>"
      ]
     },
     "metadata": {},
     "output_type": "display_data"
    }
   ],
   "source": [
    "plt.figure(figsize=(4,3))\n",
    "ConfMatrix = confusion_matrix(y_pred = y_pred_knn_s, y_true = y_true_knn_s)\n",
    "sns.heatmap(ConfMatrix,annot=True, cmap=\"Blues\", fmt=\"d\", \n",
    "            xticklabels = ['0', '1'], \n",
    "            yticklabels = ['0', '1'])\n",
    "plt.ylabel('True label')\n",
    "plt.xlabel('Predicted label')\n",
    "plt.title(\"Confusion Matrix - KNN (scaled) with CV\");\n",
    "\n",
    "print('Accuracy Rate:', accuracy_score(y_pred = y_pred_knn_s, y_true = y_true_knn_s))\n",
    "print('Misclassification Rate:', 1-accuracy_score(y_pred = y_pred_knn_s, y_true = y_true_knn_s))\n",
    "print('Precision Score:', precision_score(y_pred = y_pred_knn_s, y_true = y_true_knn_s))\n",
    "print('Recall Score:', recall_score(y_pred = y_pred_knn_s, y_true = y_true_knn_s))"
   ]
  },
  {
   "cell_type": "code",
   "execution_count": 443,
   "metadata": {},
   "outputs": [
    {
     "data": {
      "image/png": "[encoded data removed]",
      "text/plain": [
       "<Figure size 432x288 with 1 Axes>"
      ]
     },
     "metadata": {},
     "output_type": "display_data"
    },
    {
     "data": {
      "text/plain": [
       "0.7385250412768298"
      ]
     },
     "execution_count": 443,
     "metadata": {},
     "output_type": "execute_result"
    }
   ],
   "source": [
    "y_pred_proba = kNN_sc.predict_proba(x_knn_test_s)[:,1]\n",
    "fpr, tpr, thresholds = roc_curve(y_true_knn_s, y_pred_proba)\n",
    "\n",
    "plt.plot([0,1],[0,1],'k--')\n",
    "plt.plot(fpr,tpr, label='Knn after scaling')\n",
    "plt.xlabel('fpr')\n",
    "plt.ylabel('tpr')\n",
    "plt.title('Knn after scaling(n_neighbors=2) ROC curve')\n",
    "plt.show()\n",
    "\n",
    "#Area under ROC curve\n",
    "from sklearn.metrics import roc_auc_score\n",
    "roc_auc_score(y_true_knn_s,y_pred_proba)"
   ]
  },
  {
   "cell_type": "markdown",
   "metadata": {},
   "source": [
    "Result\n",
    "\n",
    "According to our accuracy of 84.4%, we are doing well in terms of accuracy rate. We have a low precision score of 38.5% but it is the highest between SVM and KNN and a very low recall score of 38.2% which is also very low. The AUC score of 73.85% is moderately good.\n",
    "\n",
    "Precision:\n",
    "\n",
    "Out of all the predicted 1(yes), 38.5% of them are correctly identified as 1(yes).\n",
    "\n",
    "Recall:\n",
    "\n",
    "Out of True 1, 38.2% of them are correctly identified as 1."
   ]
  },
  {
   "cell_type": "markdown",
   "metadata": {},
   "source": [
    "# 2. KNN before scaling"
   ]
  },
  {
   "cell_type": "code",
   "execution_count": 444,
   "metadata": {},
   "outputs": [
    {
     "data": {
      "text/plain": [
       "Text(0, 0.5, 'ErrTe')"
      ]
     },
     "execution_count": 444,
     "metadata": {},
     "output_type": "execute_result"
    },
    {
     "data": {
      "image/png": "[encoded data removed]",
      "text/plain": [
       "<Figure size 432x288 with 1 Axes>"
      ]
     },
     "metadata": {},
     "output_type": "display_data"
    }
   ],
   "source": [
    "# Find the optimal K\n",
    "\n",
    "KNNdata = bank_data.copy(deep=True)\n",
    "\n",
    "#Splitting the data into Train and test\n",
    "seed = 1\n",
    "knn_train, knn_test = train_test_split(KNNdata, train_size = 0.8, random_state = seed)\n",
    "knn_train.reset_index(inplace = True, drop = True)\n",
    "knn_test.reset_index(inplace = True, drop = True)\n",
    "\n",
    "#Further dividing it into xtrain and ytrain\n",
    "y_knn_train = knn_train[\"y\"]\n",
    "x_knn_train = knn_train.loc[:,knn_train.columns!='y']\n",
    "\n",
    "y_knn_test = knn_test[\"y\"]\n",
    "x_knn_test = knn_test.loc[:,knn_test.columns!='y']\n",
    "\n",
    "columns=x_knn_train.columns\n",
    "\n",
    "\n",
    "from sklearn.model_selection import KFold\n",
    "kf = KFold(10, random_state = 1, shuffle = True)\n",
    "kf.get_n_splits(x_knn_train)\n",
    "\n",
    "import numpy as np\n",
    "import random\n",
    "random.seed(1)\n",
    "from sklearn import preprocessing\n",
    "from imblearn.over_sampling import SMOTE\n",
    "\n",
    "direction = y_knn_train\n",
    "# Cross validation\n",
    "Kmax = 50\n",
    "ErrCV = np.zeros((50, 10))\n",
    "f = 0\n",
    "for train_idx, test_idx in kf.split(x_knn_train):\n",
    "    \n",
    "    #Split into pseudo training/test data\n",
    "    X_train_knn, y_train_knn = x_knn_train.loc[train_idx, :], direction[train_idx]\n",
    "    X_test_knn, y_test_knn = x_knn_train.loc[test_idx, :], direction[test_idx]\n",
    "    \n",
    "    #balance the scaled pseudo and training data\n",
    "    Ov_sampling_knn = SMOTE(random_state=100)\n",
    "    ov_data_X_knn , ov_data_y_knn = Ov_sampling_knn.fit_sample(X_train_knn , y_train_knn)\n",
    "    ov_data_X_knn=pd.DataFrame(data=ov_data_X_knn ,columns=columns)\n",
    "    ov_data_y_knn =pd.DataFrame(ov_data_y_knn ,columns=['y'])\n",
    "    \n",
    "    \n",
    "    for kk in range(1, Kmax+1):\n",
    "        kNN_usc = KNeighborsClassifier(n_neighbors=kk)\n",
    "        kNN_usc.fit(ov_data_X_knn,ov_data_y_knn)\n",
    "        y_pred_knn = kNN_usc.predict(X_test_knn)\n",
    "        ErrCV[kk-1, f] = (y_pred_knn != y_test_knn).mean()\n",
    "        \n",
    "    f += 1\n",
    "\n",
    "# Plot average CV error\n",
    "sns.lineplot(x = np.arange(1, Kmax+1), y = ErrCV.mean(axis = 1))\n",
    "plt.xlabel(\"No of neighbours\")\n",
    "plt.ylabel(\"ErrTe\")"
   ]
  },
  {
   "cell_type": "code",
   "execution_count": 445,
   "metadata": {},
   "outputs": [
    {
     "name": "stdout",
     "output_type": "stream",
     "text": [
      "No of neighbours: 2\n"
     ]
    }
   ],
   "source": [
    "print(\"No of neighbours:\", np.argmin(ErrCV.mean(axis = 1))+1)"
   ]
  },
  {
   "cell_type": "code",
   "execution_count": 446,
   "metadata": {},
   "outputs": [
    {
     "data": {
      "text/plain": [
       "array([[690, 100],\n",
       "       [ 72,  43]])"
      ]
     },
     "execution_count": 446,
     "metadata": {},
     "output_type": "execute_result"
    }
   ],
   "source": [
    "# dividing it into xtrain and ytrain\n",
    "y_knn_train_us = knn_train[\"y\"]\n",
    "x_knn_train_us = knn_train.loc[:,knn_train.columns!='y']\n",
    "\n",
    "y_knn_test_us = knn_test[\"y\"]\n",
    "x_knn_test_us = knn_test.loc[:,knn_test.columns!='y']\n",
    "\n",
    "columns=x_knn_train_us.columns\n",
    "\n",
    "#Balancing the data - import the library for handling the imbalance dataset\n",
    "from imblearn.over_sampling import SMOTE\n",
    "Ov_sampling=SMOTE(random_state=100)\n",
    "knn_X_us,knn_y_us=Ov_sampling.fit_sample(x_knn_train_us,y_knn_train_us)\n",
    "knn_X_us=pd.DataFrame(data=knn_X_us,columns=columns)\n",
    "knn_y_us=pd.DataFrame(knn_y_us,columns=['y'])\n",
    "\n",
    "#fit the model to the whole dataset\n",
    "seed = 1\n",
    "kNN_s_f = KNeighborsClassifier(n_neighbors=2)\n",
    "kNN_s_f.fit(knn_X_us, knn_y_us)\n",
    "y_true_knn_us, y_pred_knn_us = y_knn_test_us, kNN_s_f.predict(x_knn_test_us)\n",
    "confusion_matrix(y_true_knn_us, y_pred_knn_us)"
   ]
  },
  {
   "cell_type": "code",
   "execution_count": 447,
   "metadata": {},
   "outputs": [
    {
     "name": "stdout",
     "output_type": "stream",
     "text": [
      "Detailed classification report\n",
      "              precision    recall  f1-score   support\n",
      "\n",
      "           0       0.91      0.87      0.89       790\n",
      "           1       0.30      0.37      0.33       115\n",
      "\n",
      "    accuracy                           0.81       905\n",
      "   macro avg       0.60      0.62      0.61       905\n",
      "weighted avg       0.83      0.81      0.82       905\n",
      "\n"
     ]
    }
   ],
   "source": [
    "print(\"Detailed classification report\")\n",
    "y_true_knn_us, y_pred_knn_us = y_knn_test_us, kNN_s_f.predict(x_knn_test_us)\n",
    "print(classification_report(y_true_knn_us, y_pred_knn_us))"
   ]
  },
  {
   "cell_type": "code",
   "execution_count": 448,
   "metadata": {},
   "outputs": [
    {
     "data": {
      "text/html": [
       "<div>\n",
       "<style scoped>\n",
       "    .dataframe tbody tr th:only-of-type {\n",
       "        vertical-align: middle;\n",
       "    }\n",
       "\n",
       "    .dataframe tbody tr th {\n",
       "        vertical-align: top;\n",
       "    }\n",
       "\n",
       "    .dataframe thead th {\n",
       "        text-align: right;\n",
       "    }\n",
       "</style>\n",
       "<table border=\"1\" class=\"dataframe\">\n",
       "  <thead>\n",
       "    <tr style=\"text-align: right;\">\n",
       "      <th>PREDICTION</th>\n",
       "      <th>0</th>\n",
       "      <th>1</th>\n",
       "      <th>Total</th>\n",
       "    </tr>\n",
       "    <tr>\n",
       "      <th>TRUE</th>\n",
       "      <th></th>\n",
       "      <th></th>\n",
       "      <th></th>\n",
       "    </tr>\n",
       "  </thead>\n",
       "  <tbody>\n",
       "    <tr>\n",
       "      <th>0</th>\n",
       "      <td>690</td>\n",
       "      <td>100</td>\n",
       "      <td>790</td>\n",
       "    </tr>\n",
       "    <tr>\n",
       "      <th>1</th>\n",
       "      <td>72</td>\n",
       "      <td>43</td>\n",
       "      <td>115</td>\n",
       "    </tr>\n",
       "    <tr>\n",
       "      <th>Total</th>\n",
       "      <td>762</td>\n",
       "      <td>143</td>\n",
       "      <td>905</td>\n",
       "    </tr>\n",
       "  </tbody>\n",
       "</table>\n",
       "</div>"
      ],
      "text/plain": [
       "PREDICTION    0    1  Total\n",
       "TRUE                       \n",
       "0           690  100    790\n",
       "1            72   43    115\n",
       "Total       762  143    905"
      ]
     },
     "execution_count": 448,
     "metadata": {},
     "output_type": "execute_result"
    }
   ],
   "source": [
    "#Evaluate the model\n",
    "metrics.loc['accuracy','KNN (unscaled) with CV'] = accuracy_score(y_pred = y_pred_knn_us, y_true = y_true_knn_us)\n",
    "metrics.loc['precision','KNN (unscaled) with CV'] = precision_score(y_pred = y_pred_knn_us, y_true = y_true_knn_us)\n",
    "metrics.loc['recall','KNN (unscaled) with CV'] = recall_score(y_pred = y_pred_knn_us, y_true = y_true_knn_us)\n",
    "\n",
    "#Confusion Matrix\n",
    "CM = confusion_matrix(y_pred = y_pred_knn_us, y_true = y_true_knn_us)\n",
    "CMatrix(CM)"
   ]
  },
  {
   "cell_type": "code",
   "execution_count": 449,
   "metadata": {},
   "outputs": [
    {
     "name": "stdout",
     "output_type": "stream",
     "text": [
      "Accuracy Rate: 0.8099447513812155\n",
      "Misclassification Rate: 0.19005524861878453\n",
      "Precision Score: 0.3006993006993007\n",
      "Recall Score: 0.3739130434782609\n"
     ]
    },
    {
     "data": {
      "image/png": "[encoded data removed]",
      "text/plain": [
       "<Figure size 288x216 with 2 Axes>"
      ]
     },
     "metadata": {},
     "output_type": "display_data"
    }
   ],
   "source": [
    "plt.figure(figsize=(4,3))\n",
    "ConfMatrix = confusion_matrix(y_pred = y_pred_knn_us, y_true = y_true_knn_us)\n",
    "sns.heatmap(ConfMatrix,annot=True, cmap=\"Blues\", fmt=\"d\", \n",
    "            xticklabels = ['0', '1'], \n",
    "            yticklabels = ['0', '1'])\n",
    "plt.ylabel('True label')\n",
    "plt.xlabel('Predicted label')\n",
    "plt.title(\"Confusion Matrix - KNN(unscaled) with CV\");\n",
    "\n",
    "print('Accuracy Rate:', accuracy_score(y_pred = y_pred_knn_us, y_true = y_true_knn_us))\n",
    "print('Misclassification Rate:', 1-accuracy_score(y_pred = y_pred_knn_us, y_true = y_true_knn_us))\n",
    "print('Precision Score:', precision_score(y_pred = y_pred_knn_us, y_true = y_true_knn_us))\n",
    "print('Recall Score:', recall_score(y_pred = y_pred_knn_us, y_true = y_true_knn_us))"
   ]
  },
  {
   "cell_type": "code",
   "execution_count": 450,
   "metadata": {},
   "outputs": [
    {
     "data": {
      "image/png": "[encoded data removed]",
      "text/plain": [
       "<Figure size 432x288 with 1 Axes>"
      ]
     },
     "metadata": {},
     "output_type": "display_data"
    },
    {
     "data": {
      "text/plain": [
       "0.6742872867363787"
      ]
     },
     "execution_count": 450,
     "metadata": {},
     "output_type": "execute_result"
    }
   ],
   "source": [
    "y_pred_proba = kNN_s_f.predict_proba(x_knn_test_us)[:,1]\n",
    "fpr, tpr, thresholds = roc_curve(y_true_knn_us, y_pred_proba)\n",
    "\n",
    "plt.plot([0,1],[0,1],'k--')\n",
    "plt.plot(fpr,tpr, label='Knn before scaling')\n",
    "plt.xlabel('fpr')\n",
    "plt.ylabel('tpr')\n",
    "plt.title('Knn before scaling(n_neighbors=2) ROC curve')\n",
    "plt.show()\n",
    "\n",
    "#Area under ROC curve\n",
    "from sklearn.metrics import roc_auc_score\n",
    "roc_auc_score(y_true_knn_us,y_pred_proba)"
   ]
  },
  {
   "cell_type": "markdown",
   "metadata": {},
   "source": [
    "Result\n",
    "\n",
    "According to our accuracy of 81%, we are doing well in terms of accuracy rate. We have a low precision score of 30.06% and a very low recall score of 37.39%. The AUC score of 67.42% is one of the lowest.\n",
    "\n",
    "Precision:\n",
    "\n",
    "Out of all the predicted 1(yes), 30.06% of them are correctly identified as 1(yes).\n",
    "\n",
    "Recall:\n",
    "\n",
    "Out of True 1, 37.9% of them are correctly identified as 1."
   ]
  },
  {
   "cell_type": "markdown",
   "metadata": {},
   "source": [
    "# Evaluating models"
   ]
  },
  {
   "cell_type": "code",
   "execution_count": 451,
   "metadata": {},
   "outputs": [
    {
     "data": {
      "text/html": [
       "<div>\n",
       "<style scoped>\n",
       "    .dataframe tbody tr th:only-of-type {\n",
       "        vertical-align: middle;\n",
       "    }\n",
       "\n",
       "    .dataframe tbody tr th {\n",
       "        vertical-align: top;\n",
       "    }\n",
       "\n",
       "    .dataframe thead th {\n",
       "        text-align: right;\n",
       "    }\n",
       "</style>\n",
       "<table border=\"1\" class=\"dataframe\">\n",
       "  <thead>\n",
       "    <tr style=\"text-align: right;\">\n",
       "      <th></th>\n",
       "      <th>SVM without scaling(general)</th>\n",
       "      <th>SVM with radial kernel (unscaled) with CV</th>\n",
       "      <th>SVM with polynomial kernel (unscaled) with CV</th>\n",
       "      <th>SVM with linear kernel (scaled) with CV</th>\n",
       "      <th>SVM with polynomial kernel (scaled) with CV</th>\n",
       "      <th>SVM with radial kernel (scaled) with CV</th>\n",
       "      <th>KNN (scaled) with CV</th>\n",
       "      <th>KNN (unscaled) with CV</th>\n",
       "    </tr>\n",
       "  </thead>\n",
       "  <tbody>\n",
       "    <tr>\n",
       "      <th>accuracy</th>\n",
       "      <td>87.1823</td>\n",
       "      <td>85.8564</td>\n",
       "      <td>83.6464</td>\n",
       "      <td>79.337</td>\n",
       "      <td>80</td>\n",
       "      <td>86.5193</td>\n",
       "      <td>84.4199</td>\n",
       "      <td>80.9945</td>\n",
       "    </tr>\n",
       "    <tr>\n",
       "      <th>precision</th>\n",
       "      <td>0</td>\n",
       "      <td>21.7391</td>\n",
       "      <td>37.9562</td>\n",
       "      <td>34.8739</td>\n",
       "      <td>35.7759</td>\n",
       "      <td>31.5789</td>\n",
       "      <td>38.5965</td>\n",
       "      <td>30.0699</td>\n",
       "    </tr>\n",
       "    <tr>\n",
       "      <th>recall</th>\n",
       "      <td>0</td>\n",
       "      <td>4.34783</td>\n",
       "      <td>45.2174</td>\n",
       "      <td>72.1739</td>\n",
       "      <td>72.1739</td>\n",
       "      <td>5.21739</td>\n",
       "      <td>38.2609</td>\n",
       "      <td>37.3913</td>\n",
       "    </tr>\n",
       "  </tbody>\n",
       "</table>\n",
       "</div>"
      ],
      "text/plain": [
       "          SVM without scaling(general)  \\\n",
       "accuracy                       87.1823   \n",
       "precision                            0   \n",
       "recall                               0   \n",
       "\n",
       "          SVM with radial kernel (unscaled) with CV  \\\n",
       "accuracy                                    85.8564   \n",
       "precision                                   21.7391   \n",
       "recall                                      4.34783   \n",
       "\n",
       "          SVM with polynomial kernel (unscaled) with CV  \\\n",
       "accuracy                                        83.6464   \n",
       "precision                                       37.9562   \n",
       "recall                                          45.2174   \n",
       "\n",
       "          SVM with linear kernel (scaled) with CV  \\\n",
       "accuracy                                   79.337   \n",
       "precision                                 34.8739   \n",
       "recall                                    72.1739   \n",
       "\n",
       "          SVM with polynomial kernel (scaled) with CV  \\\n",
       "accuracy                                           80   \n",
       "precision                                     35.7759   \n",
       "recall                                        72.1739   \n",
       "\n",
       "          SVM with radial kernel (scaled) with CV KNN (scaled) with CV  \\\n",
       "accuracy                                  86.5193              84.4199   \n",
       "precision                                 31.5789              38.5965   \n",
       "recall                                    5.21739              38.2609   \n",
       "\n",
       "          KNN (unscaled) with CV  \n",
       "accuracy                 80.9945  \n",
       "precision                30.0699  \n",
       "recall                   37.3913  "
      ]
     },
     "execution_count": 451,
     "metadata": {},
     "output_type": "execute_result"
    }
   ],
   "source": [
    "100*metrics"
   ]
  },
  {
   "cell_type": "code",
   "execution_count": 452,
   "metadata": {},
   "outputs": [
    {
     "data": {
      "image/png": "[encoded data removed]",
      "text/plain": [
       "<Figure size 864x432 with 1 Axes>"
      ]
     },
     "metadata": {},
     "output_type": "display_data"
    }
   ],
   "source": [
    "fig, ax = plt.subplots(figsize = (12,6))\n",
    "metrics.plot(kind = 'barh', ax = ax)\n",
    "ax.grid()"
   ]
  },
  {
   "cell_type": "code",
   "execution_count": 453,
   "metadata": {},
   "outputs": [
    {
     "data": {
      "text/html": [
       "<div>\n",
       "<style scoped>\n",
       "    .dataframe tbody tr th:only-of-type {\n",
       "        vertical-align: middle;\n",
       "    }\n",
       "\n",
       "    .dataframe tbody tr th {\n",
       "        vertical-align: top;\n",
       "    }\n",
       "\n",
       "    .dataframe thead th {\n",
       "        text-align: right;\n",
       "    }\n",
       "</style>\n",
       "<table border=\"1\" class=\"dataframe\">\n",
       "  <thead>\n",
       "    <tr style=\"text-align: right;\">\n",
       "      <th></th>\n",
       "      <th>SVM without scaling(general)</th>\n",
       "      <th>SVM with radial kernel (unscaled) with CV</th>\n",
       "      <th>SVM with polynomial kernel (unscaled) with CV</th>\n",
       "      <th>SVM with linear kernel (scaled) with CV</th>\n",
       "      <th>SVM with polynomial kernel (scaled) with CV</th>\n",
       "      <th>SVM with radial kernel (scaled) with CV</th>\n",
       "      <th>KNN (scaled) with CV</th>\n",
       "      <th>KNN (unscaled) with CV</th>\n",
       "    </tr>\n",
       "  </thead>\n",
       "  <tbody>\n",
       "    <tr>\n",
       "      <th>accuracy</th>\n",
       "      <td>0.871823</td>\n",
       "      <td>0.858564</td>\n",
       "      <td>0.836464</td>\n",
       "      <td>0.79337</td>\n",
       "      <td>0.8</td>\n",
       "      <td>0.865193</td>\n",
       "      <td>0.844199</td>\n",
       "      <td>0.809945</td>\n",
       "    </tr>\n",
       "    <tr>\n",
       "      <th>precision</th>\n",
       "      <td>0</td>\n",
       "      <td>0.217391</td>\n",
       "      <td>0.379562</td>\n",
       "      <td>0.348739</td>\n",
       "      <td>0.357759</td>\n",
       "      <td>0.315789</td>\n",
       "      <td>0.385965</td>\n",
       "      <td>0.300699</td>\n",
       "    </tr>\n",
       "    <tr>\n",
       "      <th>recall</th>\n",
       "      <td>0</td>\n",
       "      <td>0.0434783</td>\n",
       "      <td>0.452174</td>\n",
       "      <td>0.721739</td>\n",
       "      <td>0.721739</td>\n",
       "      <td>0.0521739</td>\n",
       "      <td>0.382609</td>\n",
       "      <td>0.373913</td>\n",
       "    </tr>\n",
       "  </tbody>\n",
       "</table>\n",
       "</div>"
      ],
      "text/plain": [
       "          SVM without scaling(general)  \\\n",
       "accuracy                      0.871823   \n",
       "precision                            0   \n",
       "recall                               0   \n",
       "\n",
       "          SVM with radial kernel (unscaled) with CV  \\\n",
       "accuracy                                   0.858564   \n",
       "precision                                  0.217391   \n",
       "recall                                    0.0434783   \n",
       "\n",
       "          SVM with polynomial kernel (unscaled) with CV  \\\n",
       "accuracy                                       0.836464   \n",
       "precision                                      0.379562   \n",
       "recall                                         0.452174   \n",
       "\n",
       "          SVM with linear kernel (scaled) with CV  \\\n",
       "accuracy                                  0.79337   \n",
       "precision                                0.348739   \n",
       "recall                                   0.721739   \n",
       "\n",
       "          SVM with polynomial kernel (scaled) with CV  \\\n",
       "accuracy                                          0.8   \n",
       "precision                                    0.357759   \n",
       "recall                                       0.721739   \n",
       "\n",
       "          SVM with radial kernel (scaled) with CV KNN (scaled) with CV  \\\n",
       "accuracy                                 0.865193             0.844199   \n",
       "precision                                0.315789             0.385965   \n",
       "recall                                  0.0521739             0.382609   \n",
       "\n",
       "          KNN (unscaled) with CV  \n",
       "accuracy                0.809945  \n",
       "precision               0.300699  \n",
       "recall                  0.373913  "
      ]
     },
     "execution_count": 453,
     "metadata": {},
     "output_type": "execute_result"
    }
   ],
   "source": [
    "metrics"
   ]
  },
  {
   "cell_type": "markdown",
   "metadata": {},
   "source": [
    "If we consider accuracy then SVM without scaling is the best. If we consider recall then SVM with linear/polynomial kernel(scaled) with CV is a good model. But if we consider precision, then KNN(scaled) with CV is the highest amongst SVM and KNN."
   ]
  },
  {
   "cell_type": "markdown",
   "metadata": {},
   "source": [
    "Categorical datas can also be handled by using \"get dummies\" in python. "
   ]
  },
  {
   "cell_type": "markdown",
   "metadata": {},
   "source": [
    "# With Dummies"
   ]
  },
  {
   "cell_type": "code",
   "execution_count": 454,
   "metadata": {},
   "outputs": [
    {
     "data": {
      "text/html": [
       "<div>\n",
       "<style scoped>\n",
       "    .dataframe tbody tr th:only-of-type {\n",
       "        vertical-align: middle;\n",
       "    }\n",
       "\n",
       "    .dataframe tbody tr th {\n",
       "        vertical-align: top;\n",
       "    }\n",
       "\n",
       "    .dataframe thead th {\n",
       "        text-align: right;\n",
       "    }\n",
       "</style>\n",
       "<table border=\"1\" class=\"dataframe\">\n",
       "  <thead>\n",
       "    <tr style=\"text-align: right;\">\n",
       "      <th></th>\n",
       "      <th>age</th>\n",
       "      <th>balance</th>\n",
       "      <th>previous</th>\n",
       "      <th>day</th>\n",
       "      <th>duration</th>\n",
       "      <th>campaign</th>\n",
       "      <th>pdays</th>\n",
       "      <th>previous</th>\n",
       "      <th>job_admin.</th>\n",
       "      <th>job_blue-collar</th>\n",
       "      <th>...</th>\n",
       "      <th>month_mar</th>\n",
       "      <th>month_may</th>\n",
       "      <th>month_nov</th>\n",
       "      <th>month_oct</th>\n",
       "      <th>month_sep</th>\n",
       "      <th>poutcome_failure</th>\n",
       "      <th>poutcome_other</th>\n",
       "      <th>poutcome_success</th>\n",
       "      <th>poutcome_unknown</th>\n",
       "      <th>y</th>\n",
       "    </tr>\n",
       "  </thead>\n",
       "  <tbody>\n",
       "    <tr>\n",
       "      <th>0</th>\n",
       "      <td>30</td>\n",
       "      <td>1787</td>\n",
       "      <td>0</td>\n",
       "      <td>19</td>\n",
       "      <td>79</td>\n",
       "      <td>1</td>\n",
       "      <td>-1</td>\n",
       "      <td>0</td>\n",
       "      <td>0</td>\n",
       "      <td>0</td>\n",
       "      <td>...</td>\n",
       "      <td>0</td>\n",
       "      <td>0</td>\n",
       "      <td>0</td>\n",
       "      <td>1</td>\n",
       "      <td>0</td>\n",
       "      <td>0</td>\n",
       "      <td>0</td>\n",
       "      <td>0</td>\n",
       "      <td>1</td>\n",
       "      <td>0</td>\n",
       "    </tr>\n",
       "    <tr>\n",
       "      <th>1</th>\n",
       "      <td>33</td>\n",
       "      <td>4789</td>\n",
       "      <td>4</td>\n",
       "      <td>11</td>\n",
       "      <td>220</td>\n",
       "      <td>1</td>\n",
       "      <td>339</td>\n",
       "      <td>4</td>\n",
       "      <td>0</td>\n",
       "      <td>0</td>\n",
       "      <td>...</td>\n",
       "      <td>0</td>\n",
       "      <td>1</td>\n",
       "      <td>0</td>\n",
       "      <td>0</td>\n",
       "      <td>0</td>\n",
       "      <td>1</td>\n",
       "      <td>0</td>\n",
       "      <td>0</td>\n",
       "      <td>0</td>\n",
       "      <td>0</td>\n",
       "    </tr>\n",
       "    <tr>\n",
       "      <th>2</th>\n",
       "      <td>35</td>\n",
       "      <td>1350</td>\n",
       "      <td>1</td>\n",
       "      <td>16</td>\n",
       "      <td>185</td>\n",
       "      <td>1</td>\n",
       "      <td>330</td>\n",
       "      <td>1</td>\n",
       "      <td>0</td>\n",
       "      <td>0</td>\n",
       "      <td>...</td>\n",
       "      <td>0</td>\n",
       "      <td>0</td>\n",
       "      <td>0</td>\n",
       "      <td>0</td>\n",
       "      <td>0</td>\n",
       "      <td>1</td>\n",
       "      <td>0</td>\n",
       "      <td>0</td>\n",
       "      <td>0</td>\n",
       "      <td>0</td>\n",
       "    </tr>\n",
       "    <tr>\n",
       "      <th>3</th>\n",
       "      <td>30</td>\n",
       "      <td>1476</td>\n",
       "      <td>0</td>\n",
       "      <td>3</td>\n",
       "      <td>199</td>\n",
       "      <td>4</td>\n",
       "      <td>-1</td>\n",
       "      <td>0</td>\n",
       "      <td>0</td>\n",
       "      <td>0</td>\n",
       "      <td>...</td>\n",
       "      <td>0</td>\n",
       "      <td>0</td>\n",
       "      <td>0</td>\n",
       "      <td>0</td>\n",
       "      <td>0</td>\n",
       "      <td>0</td>\n",
       "      <td>0</td>\n",
       "      <td>0</td>\n",
       "      <td>1</td>\n",
       "      <td>0</td>\n",
       "    </tr>\n",
       "    <tr>\n",
       "      <th>4</th>\n",
       "      <td>59</td>\n",
       "      <td>0</td>\n",
       "      <td>0</td>\n",
       "      <td>5</td>\n",
       "      <td>226</td>\n",
       "      <td>1</td>\n",
       "      <td>-1</td>\n",
       "      <td>0</td>\n",
       "      <td>0</td>\n",
       "      <td>1</td>\n",
       "      <td>...</td>\n",
       "      <td>0</td>\n",
       "      <td>1</td>\n",
       "      <td>0</td>\n",
       "      <td>0</td>\n",
       "      <td>0</td>\n",
       "      <td>0</td>\n",
       "      <td>0</td>\n",
       "      <td>0</td>\n",
       "      <td>1</td>\n",
       "      <td>0</td>\n",
       "    </tr>\n",
       "  </tbody>\n",
       "</table>\n",
       "<p>5 rows × 53 columns</p>\n",
       "</div>"
      ],
      "text/plain": [
       "   age  balance  previous  day  duration  campaign  pdays  previous  \\\n",
       "0   30     1787         0   19        79         1     -1         0   \n",
       "1   33     4789         4   11       220         1    339         4   \n",
       "2   35     1350         1   16       185         1    330         1   \n",
       "3   30     1476         0    3       199         4     -1         0   \n",
       "4   59        0         0    5       226         1     -1         0   \n",
       "\n",
       "   job_admin.  job_blue-collar  ...  month_mar  month_may  month_nov  \\\n",
       "0           0                0  ...          0          0          0   \n",
       "1           0                0  ...          0          1          0   \n",
       "2           0                0  ...          0          0          0   \n",
       "3           0                0  ...          0          0          0   \n",
       "4           0                1  ...          0          1          0   \n",
       "\n",
       "   month_oct  month_sep  poutcome_failure  poutcome_other  poutcome_success  \\\n",
       "0          1          0                 0               0                 0   \n",
       "1          0          0                 1               0                 0   \n",
       "2          0          0                 1               0                 0   \n",
       "3          0          0                 0               0                 0   \n",
       "4          0          0                 0               0                 0   \n",
       "\n",
       "   poutcome_unknown  y  \n",
       "0                 1  0  \n",
       "1                 0  0  \n",
       "2                 0  0  \n",
       "3                 1  0  \n",
       "4                 1  0  \n",
       "\n",
       "[5 rows x 53 columns]"
      ]
     },
     "execution_count": 454,
     "metadata": {},
     "output_type": "execute_result"
    }
   ],
   "source": [
    "# Creating dummy variables for categorical types\n",
    "import pandas as pd\n",
    "cat_cols = [\"job\",'marital','education','default','housing','loan','contact','month','poutcome']\n",
    "num_cols = [\"age\", \"balance\",\"previous\",\"day\",\"duration\",\"campaign\",\"pdays\",\"previous\"]\n",
    "dummies = pd.get_dummies(data[cat_cols])\n",
    "dummies.head(5)\n",
    "\n",
    "# Combining dummy variables and numeric varianbles\n",
    "dataset1 = data[num_cols]\n",
    "\n",
    "dataset2 = pd.concat([dataset1, dummies, data[\"y\"]], axis=1)\n",
    "dataset = dataset2.copy(deep=True)\n",
    "\n",
    "dataset.shape\n",
    "dataset.head(5)"
   ]
  },
  {
   "cell_type": "code",
   "execution_count": 455,
   "metadata": {},
   "outputs": [],
   "source": [
    "metrics1 = pd.DataFrame (index = ['accuracy','precision','recall'], \n",
    "                        columns = ['SVM with polynomial kernel (with dummy) with CV'])"
   ]
  },
  {
   "cell_type": "code",
   "execution_count": 456,
   "metadata": {},
   "outputs": [],
   "source": [
    "#Processing the data first\n",
    "\n",
    "svmdatadummy = dataset.copy(deep=True)\n",
    "\n",
    "#Splitting the data into Train and test\n",
    "seed = 1\n",
    "svm_train_ds, svm_test_ds = train_test_split(svmdatadummy, train_size = 0.8, random_state = seed)\n",
    "svm_train_ds.reset_index(inplace = True, drop = True)\n",
    "svm_test_ds.reset_index(inplace = True, drop = True)\n",
    "\n",
    "#Further dividing it into xtrain and ytrain\n",
    "y_svm_train_ds = svm_train_ds[\"y\"]\n",
    "x_svm_train_ds = svm_train_ds.loc[:,svm_train_ds.columns!='y']\n",
    "\n",
    "y_svm_test_ds = svm_test_ds[\"y\"]\n",
    "x_svm_test_ds = svm_test_ds.loc[:,svm_test_ds.columns!='y']\n",
    "\n",
    "# Scaling the data\n",
    "sc = StandardScaler().fit(x_svm_train_ds[num_cols])\n",
    "x_svm_train_ds[num_cols] = sc.fit_transform(x_svm_train_ds[num_cols])\n",
    "x_svm_test_ds[num_cols] = sc.transform(x_svm_test_ds[num_cols])"
   ]
  },
  {
   "cell_type": "code",
   "execution_count": 457,
   "metadata": {},
   "outputs": [
    {
     "name": "stdout",
     "output_type": "stream",
     "text": [
      "# Tuning hyper-parameters for accuracy\n",
      "0.888 (+/-0.001) for {'C': 0.001, 'degree': 2}\n",
      "0.888 (+/-0.001) for {'C': 0.001, 'degree': 3}\n",
      "0.887 (+/-0.002) for {'C': 0.001, 'degree': 4}\n",
      "0.887 (+/-0.004) for {'C': 0.001, 'degree': 5}\n",
      "0.888 (+/-0.001) for {'C': 0.01, 'degree': 2}\n",
      "0.887 (+/-0.003) for {'C': 0.01, 'degree': 3}\n",
      "0.887 (+/-0.005) for {'C': 0.01, 'degree': 4}\n",
      "0.886 (+/-0.010) for {'C': 0.01, 'degree': 5}\n",
      "0.889 (+/-0.005) for {'C': 0.1, 'degree': 2}\n",
      "0.889 (+/-0.006) for {'C': 0.1, 'degree': 3}\n",
      "0.890 (+/-0.005) for {'C': 0.1, 'degree': 4}\n",
      "0.890 (+/-0.005) for {'C': 0.1, 'degree': 5}\n",
      "0.902 (+/-0.010) for {'C': 1, 'degree': 2}\n",
      "0.899 (+/-0.007) for {'C': 1, 'degree': 3}\n",
      "0.899 (+/-0.011) for {'C': 1, 'degree': 4}\n",
      "0.896 (+/-0.010) for {'C': 1, 'degree': 5}\n",
      "\n",
      "Detailed classification report\n",
      "              precision    recall  f1-score   support\n",
      "\n",
      "           0       0.89      0.98      0.94       790\n",
      "           1       0.60      0.21      0.31       115\n",
      "\n",
      "    accuracy                           0.88       905\n",
      "   macro avg       0.75      0.59      0.62       905\n",
      "weighted avg       0.86      0.88      0.86       905\n",
      "\n"
     ]
    }
   ],
   "source": [
    "# Set the parameters by cross-validation\n",
    "svm_model_poly_ds = SVC(kernel = \"poly\",probability=True)\n",
    "tuned_parameters_poly_ds = {'C': [0.001,0.01,0.1,1], \"degree\": [2,3,4,5]}\n",
    "score_poly_ds = \"accuracy\"\n",
    "\n",
    "columns_ds = x_svm_train_ds.columns\n",
    "\n",
    "#Tuning the parameters\n",
    "print(\"# Tuning hyper-parameters for accuracy\" )\n",
    "clf_poly_ds = GridSearchCV(svm_model_poly_ds, param_grid = tuned_parameters_poly_ds, scoring=score_poly_ds , cv = 5)\n",
    "clf_poly_ds.fit(x_svm_train_ds, y_svm_train_ds)\n",
    "\n",
    "means_poly_ds = clf_poly_ds.cv_results_['mean_test_score']\n",
    "stds_poly_ds = clf_poly_ds.cv_results_['std_test_score']\n",
    "for mean, std, params in zip(means_poly_ds, stds_poly_ds, clf_poly_ds.cv_results_['params']):\n",
    "    print(\"%0.3f (+/-%0.03f) for %r\" %(mean, std * 2, params))\n",
    "print()\n",
    "print(\"Detailed classification report\")\n",
    "y_true_poly_ds, y_pred_poly_ds = y_svm_test_ds, clf_poly_ds.predict(x_svm_test_ds)\n",
    "print(classification_report(y_true_poly_ds, y_pred_poly_ds))"
   ]
  },
  {
   "cell_type": "code",
   "execution_count": 458,
   "metadata": {},
   "outputs": [
    {
     "data": {
      "text/html": [
       "<div>\n",
       "<style scoped>\n",
       "    .dataframe tbody tr th:only-of-type {\n",
       "        vertical-align: middle;\n",
       "    }\n",
       "\n",
       "    .dataframe tbody tr th {\n",
       "        vertical-align: top;\n",
       "    }\n",
       "\n",
       "    .dataframe thead th {\n",
       "        text-align: right;\n",
       "    }\n",
       "</style>\n",
       "<table border=\"1\" class=\"dataframe\">\n",
       "  <thead>\n",
       "    <tr style=\"text-align: right;\">\n",
       "      <th>PREDICTION</th>\n",
       "      <th>0</th>\n",
       "      <th>1</th>\n",
       "      <th>Total</th>\n",
       "    </tr>\n",
       "    <tr>\n",
       "      <th>TRUE</th>\n",
       "      <th></th>\n",
       "      <th></th>\n",
       "      <th></th>\n",
       "    </tr>\n",
       "  </thead>\n",
       "  <tbody>\n",
       "    <tr>\n",
       "      <th>0</th>\n",
       "      <td>774</td>\n",
       "      <td>16</td>\n",
       "      <td>790</td>\n",
       "    </tr>\n",
       "    <tr>\n",
       "      <th>1</th>\n",
       "      <td>91</td>\n",
       "      <td>24</td>\n",
       "      <td>115</td>\n",
       "    </tr>\n",
       "    <tr>\n",
       "      <th>Total</th>\n",
       "      <td>865</td>\n",
       "      <td>40</td>\n",
       "      <td>905</td>\n",
       "    </tr>\n",
       "  </tbody>\n",
       "</table>\n",
       "</div>"
      ],
      "text/plain": [
       "PREDICTION    0   1  Total\n",
       "TRUE                      \n",
       "0           774  16    790\n",
       "1            91  24    115\n",
       "Total       865  40    905"
      ]
     },
     "execution_count": 458,
     "metadata": {},
     "output_type": "execute_result"
    }
   ],
   "source": [
    "#Evaluate the model\n",
    "metrics1.loc['accuracy','SVM with polynomial kernel (with dummy) with CV'] = accuracy_score(y_pred = y_pred_poly_ds, y_true = y_true_poly_ds)\n",
    "metrics1.loc['precision','SVM with polynomial kernel (with dummy) with CV'] = precision_score(y_pred = y_pred_poly_ds, y_true = y_true_poly_ds)\n",
    "metrics1.loc['recall','SVM with polynomial kernel (with dummy) with CV'] = recall_score(y_pred = y_pred_poly_ds, y_true = y_true_poly_ds)\n",
    "\n",
    "#Confusion Matrix\n",
    "CM = confusion_matrix(y_pred =  y_pred_poly_ds, y_true = y_true_poly_ds)\n",
    "CMatrix(CM)"
   ]
  },
  {
   "cell_type": "code",
   "execution_count": 459,
   "metadata": {},
   "outputs": [
    {
     "name": "stdout",
     "output_type": "stream",
     "text": [
      "Accuracy Rate: 0.881767955801105\n",
      "Misclassification Rate: 0.11823204419889499\n",
      "Precision Score: 0.6\n",
      "Recall Score: 0.20869565217391303\n"
     ]
    },
    {
     "data": {
      "image/png": "[encoded data removed]",
      "text/plain": [
       "<Figure size 288x216 with 2 Axes>"
      ]
     },
     "metadata": {},
     "output_type": "display_data"
    }
   ],
   "source": [
    "plt.figure(figsize=(4,3))\n",
    "ConfMatrix = confusion_matrix(y_pred = y_pred_poly_ds, y_true = y_true_poly_ds)\n",
    "sns.heatmap(ConfMatrix,annot=True, cmap=\"Blues\", fmt=\"d\", \n",
    "            xticklabels = ['0', '1'], \n",
    "            yticklabels = ['0', '1'])\n",
    "plt.ylabel('True label')\n",
    "plt.xlabel('Predicted label')\n",
    "plt.title(\"Confusion Matrix - SVM with polynomial kernel (with dummy) with CV \");\n",
    "\n",
    "print('Accuracy Rate:', accuracy_score(y_pred = y_pred_poly_ds, y_true = y_true_poly_ds))\n",
    "print('Misclassification Rate:', 1-accuracy_score(y_pred = y_pred_poly_ds, y_true = y_true_poly_ds))\n",
    "print('Precision Score:', precision_score(y_pred = y_pred_poly_ds, y_true = y_true_poly_ds))\n",
    "print('Recall Score:', recall_score(y_pred = y_pred_poly_ds, y_true = y_true_poly_ds))"
   ]
  },
  {
   "cell_type": "code",
   "execution_count": 460,
   "metadata": {},
   "outputs": [
    {
     "name": "stdout",
     "output_type": "stream",
     "text": [
      "AUC: 0.865\n"
     ]
    },
    {
     "data": {
      "image/png": "[encoded data removed]",
      "text/plain": [
       "<Figure size 432x288 with 1 Axes>"
      ]
     },
     "metadata": {},
     "output_type": "display_data"
    }
   ],
   "source": [
    "# ROC-AUC\n",
    "\n",
    "\n",
    "decision_scores = clf_poly_ds.decision_function(x_svm_test_ds)\n",
    "fpr, tpr, thres = roc_curve(y_svm_test_ds, decision_scores)\n",
    "print('AUC: {:.3f}'.format(roc_auc_score(y_svm_test_ds, decision_scores)))\n",
    "\n",
    "# roc curve\n",
    "plt.plot(fpr, tpr, \"b\", label='SVM with polynomial (scaled) with CV and dummies')\n",
    "plt.plot([0,1],[0,1], \"k--\", label='Random Guess')\n",
    "plt.xlabel(\"false positive rate\")\n",
    "plt.ylabel(\"true positive rate\")\n",
    "plt.legend(loc=\"best\")\n",
    "plt.title(\"ROC curve\")\n",
    "plt.show()"
   ]
  },
  {
   "cell_type": "markdown",
   "metadata": {},
   "source": [
    "The AUC is highest at 86.5%. The accuracy rate is also highest at 88%. The precision is also high at 60% but a very low recall score at 21%."
   ]
  },
  {
   "cell_type": "markdown",
   "metadata": {},
   "source": [
    "# KNN with dummies"
   ]
  },
  {
   "cell_type": "code",
   "execution_count": 462,
   "metadata": {},
   "outputs": [
    {
     "data": {
      "text/plain": [
       "Text(0, 0.5, 'ErrTe')"
      ]
     },
     "execution_count": 462,
     "metadata": {},
     "output_type": "execute_result"
    },
    {
     "data": {
      "image/png": "[encoded data removed]",
      "text/plain": [
       "<Figure size 432x288 with 1 Axes>"
      ]
     },
     "metadata": {},
     "output_type": "display_data"
    }
   ],
   "source": [
    "# Find the optimal K\n",
    "\n",
    "KNNdata_ds = dataset.copy(deep=True)\n",
    "\n",
    "#Splitting the data into Train and test\n",
    "seed = 1\n",
    "knn_train_ds, knn_test_ds = train_test_split(KNNdata_ds, train_size = 0.8, random_state = seed)\n",
    "knn_train_ds.reset_index(inplace = True, drop = True)\n",
    "knn_test_ds.reset_index(inplace = True, drop = True)\n",
    "\n",
    "#Further dividing it into xtrain and ytrain\n",
    "y_knn_train_ds = knn_train_ds[\"y\"]\n",
    "x_knn_train_ds = knn_train_ds.loc[:,knn_train_ds.columns!='y']\n",
    "\n",
    "y_knn_test_ds = knn_test_ds[\"y\"]\n",
    "x_knn_test_ds = knn_test_ds.loc[:,knn_test_ds.columns!='y']\n",
    "\n",
    "columns=x_knn_train_ds.columns\n",
    "\n",
    "\n",
    "from sklearn.model_selection import KFold\n",
    "kf = KFold(10, random_state = 1, shuffle = True)\n",
    "kf.get_n_splits(x_knn_train_ds)\n",
    "\n",
    "import numpy as np\n",
    "import random\n",
    "random.seed(1)\n",
    "from sklearn import preprocessing\n",
    "from imblearn.over_sampling import SMOTE\n",
    "\n",
    "direction = y_knn_train_ds\n",
    "# Cross validation\n",
    "Kmax = 50\n",
    "ErrCV = np.zeros((50, 10))\n",
    "f = 0\n",
    "for train_idx, test_idx in kf.split(x_knn_train_ds):\n",
    "    \n",
    "    #Split into pseudo training/test data\n",
    "    X_train_knn_ds, y_train_knn_ds = x_knn_train_ds.loc[train_idx, :], direction[train_idx]\n",
    "    X_test_knn_ds, y_test_knn_ds = x_knn_train_ds.loc[test_idx, :], direction[test_idx]\n",
    "    \n",
    "    #scale the pseudo train and test data\n",
    "    sc = StandardScaler()\n",
    "    X_train_knn_ds[numcol] = sc.fit_transform(X_train_knn_ds[numcol])\n",
    "    X_test_knn_ds[numcol] = sc.transform(X_test_knn_ds[numcol])\n",
    "    \n",
    "    for kk in range(1, Kmax+1):\n",
    "        kNN_ds = KNeighborsClassifier(n_neighbors=kk)\n",
    "        kNN_ds.fit(X_train_knn_ds,y_train_knn_ds)\n",
    "        y_pred_knn_ds = kNN_ds.predict(X_test_knn_ds)\n",
    "        ErrCV[kk-1, f] = (y_pred_knn_ds != y_test_knn_ds).mean()\n",
    "        \n",
    "    f += 1\n",
    "\n",
    "# Plot average CV error\n",
    "sns.lineplot(x = np.arange(1, Kmax+1), y = ErrCV.mean(axis = 1))\n",
    "plt.xlabel(\"No of neighbours\")\n",
    "plt.ylabel(\"ErrTe\")"
   ]
  },
  {
   "cell_type": "code",
   "execution_count": 463,
   "metadata": {},
   "outputs": [
    {
     "name": "stdout",
     "output_type": "stream",
     "text": [
      "No of neighbours: 9\n"
     ]
    }
   ],
   "source": [
    "print(\"No of neighbours:\", np.argmin(ErrCV.mean(axis = 1))+1)"
   ]
  },
  {
   "cell_type": "code",
   "execution_count": 465,
   "metadata": {},
   "outputs": [
    {
     "data": {
      "text/plain": [
       "array([[778,  12],\n",
       "       [100,  15]])"
      ]
     },
     "execution_count": 465,
     "metadata": {},
     "output_type": "execute_result"
    }
   ],
   "source": [
    "\n",
    "# Scaling the data\n",
    "sc = StandardScaler().fit(x_knn_train_ds[numcol])\n",
    "x_knn_train_ds[numcol] = sc.fit_transform(x_knn_train_ds[numcol])\n",
    "x_knn_test_ds[numcol] = sc.transform(x_knn_test_ds[numcol])\n",
    "\n",
    "columns=x_knn_train_ds.columns\n",
    "\n",
    "#fit the model to the whole dataset\n",
    "seed = 1\n",
    "kNN_sc_ds = KNeighborsClassifier(n_neighbors=9)\n",
    "kNN_sc_ds.fit(x_knn_train_ds, y_knn_train_ds)\n",
    "y_true_knn_ds, y_pred_knn_ds = y_knn_test_ds, kNN_sc_ds.predict(x_knn_test_ds)\n",
    "confusion_matrix(y_true_knn_ds, y_pred_knn_ds)"
   ]
  },
  {
   "cell_type": "code",
   "execution_count": 466,
   "metadata": {},
   "outputs": [
    {
     "name": "stdout",
     "output_type": "stream",
     "text": [
      "Detailed classification report\n",
      "              precision    recall  f1-score   support\n",
      "\n",
      "           0       0.89      0.98      0.93       790\n",
      "           1       0.56      0.13      0.21       115\n",
      "\n",
      "    accuracy                           0.88       905\n",
      "   macro avg       0.72      0.56      0.57       905\n",
      "weighted avg       0.84      0.88      0.84       905\n",
      "\n"
     ]
    }
   ],
   "source": [
    "print(\"Detailed classification report\")\n",
    "y_true_knn_ds, y_pred_knn_ds = y_knn_test_ds, kNN_sc_ds.predict(x_knn_test_ds)\n",
    "print(classification_report(y_true_knn_ds, y_pred_knn_ds))"
   ]
  },
  {
   "cell_type": "code",
   "execution_count": 467,
   "metadata": {},
   "outputs": [
    {
     "data": {
      "text/html": [
       "<div>\n",
       "<style scoped>\n",
       "    .dataframe tbody tr th:only-of-type {\n",
       "        vertical-align: middle;\n",
       "    }\n",
       "\n",
       "    .dataframe tbody tr th {\n",
       "        vertical-align: top;\n",
       "    }\n",
       "\n",
       "    .dataframe thead th {\n",
       "        text-align: right;\n",
       "    }\n",
       "</style>\n",
       "<table border=\"1\" class=\"dataframe\">\n",
       "  <thead>\n",
       "    <tr style=\"text-align: right;\">\n",
       "      <th>PREDICTION</th>\n",
       "      <th>0</th>\n",
       "      <th>1</th>\n",
       "      <th>Total</th>\n",
       "    </tr>\n",
       "    <tr>\n",
       "      <th>TRUE</th>\n",
       "      <th></th>\n",
       "      <th></th>\n",
       "      <th></th>\n",
       "    </tr>\n",
       "  </thead>\n",
       "  <tbody>\n",
       "    <tr>\n",
       "      <th>0</th>\n",
       "      <td>778</td>\n",
       "      <td>12</td>\n",
       "      <td>790</td>\n",
       "    </tr>\n",
       "    <tr>\n",
       "      <th>1</th>\n",
       "      <td>100</td>\n",
       "      <td>15</td>\n",
       "      <td>115</td>\n",
       "    </tr>\n",
       "    <tr>\n",
       "      <th>Total</th>\n",
       "      <td>878</td>\n",
       "      <td>27</td>\n",
       "      <td>905</td>\n",
       "    </tr>\n",
       "  </tbody>\n",
       "</table>\n",
       "</div>"
      ],
      "text/plain": [
       "PREDICTION    0   1  Total\n",
       "TRUE                      \n",
       "0           778  12    790\n",
       "1           100  15    115\n",
       "Total       878  27    905"
      ]
     },
     "execution_count": 467,
     "metadata": {},
     "output_type": "execute_result"
    }
   ],
   "source": [
    "#Evaluate the model\n",
    "metrics1.loc['accuracy','KNN (with dummy) with CV'] = accuracy_score(y_pred = y_pred_knn_ds, y_true = y_true_knn_ds)\n",
    "metrics1.loc['precision','KNN (with dummy) with CV'] = precision_score(y_pred = y_pred_knn_ds, y_true = y_true_knn_ds)\n",
    "metrics1.loc['recall','KNN (with dummy) with CV'] = recall_score(y_pred = y_pred_knn_ds, y_true = y_true_knn_ds)\n",
    "\n",
    "#Confusion Matrix\n",
    "CM = confusion_matrix(y_pred =  y_pred_knn_ds, y_true = y_true_knn_ds)\n",
    "CMatrix(CM)"
   ]
  },
  {
   "cell_type": "code",
   "execution_count": 468,
   "metadata": {},
   "outputs": [
    {
     "name": "stdout",
     "output_type": "stream",
     "text": [
      "Accuracy Rate: 0.876243093922652\n",
      "Misclassification Rate: 0.12375690607734802\n",
      "Precision Score: 0.5555555555555556\n",
      "Recall Score: 0.13043478260869565\n"
     ]
    },
    {
     "data": {
      "image/png": "[encoded data removed]",
      "text/plain": [
       "<Figure size 288x216 with 2 Axes>"
      ]
     },
     "metadata": {},
     "output_type": "display_data"
    }
   ],
   "source": [
    "plt.figure(figsize=(4,3))\n",
    "ConfMatrix = confusion_matrix(y_pred = y_pred_knn_ds, y_true = y_true_knn_ds)\n",
    "sns.heatmap(ConfMatrix,annot=True, cmap=\"Blues\", fmt=\"d\", \n",
    "            xticklabels = ['0', '1'], \n",
    "            yticklabels = ['0', '1'])\n",
    "plt.ylabel('True label')\n",
    "plt.xlabel('Predicted label')\n",
    "plt.title(\"Confusion Matrix - KNN (with dummy) with CV \");\n",
    "\n",
    "print('Accuracy Rate:', accuracy_score(y_pred = y_pred_knn_ds, y_true = y_true_knn_ds))\n",
    "print('Misclassification Rate:', 1-accuracy_score(y_pred = y_pred_knn_ds, y_true = y_true_knn_ds))\n",
    "print('Precision Score:', precision_score(y_pred = y_pred_knn_ds, y_true = y_true_knn_ds))\n",
    "print('Recall Score:', recall_score(y_pred = y_pred_knn_ds, y_true = y_true_knn_ds))"
   ]
  },
  {
   "cell_type": "code",
   "execution_count": 471,
   "metadata": {},
   "outputs": [
    {
     "data": {
      "image/png": "[encoded data removed]",
      "text/plain": [
       "<Figure size 432x288 with 1 Axes>"
      ]
     },
     "metadata": {},
     "output_type": "display_data"
    },
    {
     "data": {
      "text/plain": [
       "0.7957567418822236"
      ]
     },
     "execution_count": 471,
     "metadata": {},
     "output_type": "execute_result"
    }
   ],
   "source": [
    "y_pred_proba_ds = kNN_sc_ds.predict_proba(x_knn_test_ds)[:,1]\n",
    "fpr, tpr, thresholds = roc_curve(y_true_knn_ds, y_pred_proba_ds)\n",
    "\n",
    "plt.plot([0,1],[0,1],'k--')\n",
    "plt.plot(fpr,tpr, label='KNN with scaling and dummies')\n",
    "plt.xlabel('fpr')\n",
    "plt.ylabel('tpr')\n",
    "plt.title('Knn with scaling and dummies(n_neighbors=9) ROC curve')\n",
    "plt.show()\n",
    "\n",
    "#Area under ROC curve\n",
    "from sklearn.metrics import roc_auc_score\n",
    "roc_auc_score(y_true_knn_ds,y_pred_proba_ds)"
   ]
  },
  {
   "cell_type": "markdown",
   "metadata": {},
   "source": [
    "The AUC is highest at 79%. The accuracy rate is also highest at 87.6%. The precision is also high at 55.5% but a very low recall score at 13.04%."
   ]
  },
  {
   "cell_type": "code",
   "execution_count": 472,
   "metadata": {},
   "outputs": [
    {
     "data": {
      "text/html": [
       "<div>\n",
       "<style scoped>\n",
       "    .dataframe tbody tr th:only-of-type {\n",
       "        vertical-align: middle;\n",
       "    }\n",
       "\n",
       "    .dataframe tbody tr th {\n",
       "        vertical-align: top;\n",
       "    }\n",
       "\n",
       "    .dataframe thead th {\n",
       "        text-align: right;\n",
       "    }\n",
       "</style>\n",
       "<table border=\"1\" class=\"dataframe\">\n",
       "  <thead>\n",
       "    <tr style=\"text-align: right;\">\n",
       "      <th></th>\n",
       "      <th>SVM with polynomial kernel (with dummy) with CV</th>\n",
       "      <th>KNN (with dummy) with CV</th>\n",
       "    </tr>\n",
       "  </thead>\n",
       "  <tbody>\n",
       "    <tr>\n",
       "      <th>accuracy</th>\n",
       "      <td>0.881768</td>\n",
       "      <td>0.876243</td>\n",
       "    </tr>\n",
       "    <tr>\n",
       "      <th>precision</th>\n",
       "      <td>0.6</td>\n",
       "      <td>0.555556</td>\n",
       "    </tr>\n",
       "    <tr>\n",
       "      <th>recall</th>\n",
       "      <td>0.208696</td>\n",
       "      <td>0.130435</td>\n",
       "    </tr>\n",
       "  </tbody>\n",
       "</table>\n",
       "</div>"
      ],
      "text/plain": [
       "          SVM with polynomial kernel (with dummy) with CV  \\\n",
       "accuracy                                         0.881768   \n",
       "precision                                             0.6   \n",
       "recall                                           0.208696   \n",
       "\n",
       "           KNN (with dummy) with CV  \n",
       "accuracy                   0.876243  \n",
       "precision                  0.555556  \n",
       "recall                     0.130435  "
      ]
     },
     "execution_count": 472,
     "metadata": {},
     "output_type": "execute_result"
    }
   ],
   "source": [
    "metrics1"
   ]
  },
  {
   "cell_type": "code",
   "execution_count": 473,
   "metadata": {},
   "outputs": [
    {
     "data": {
      "image/png": "[encoded data removed]",
      "text/plain": [
       "<Figure size 864x432 with 1 Axes>"
      ]
     },
     "metadata": {},
     "output_type": "display_data"
    }
   ],
   "source": [
    "fig, ax = plt.subplots(figsize = (12,6))\n",
    "metrics1.plot(kind = 'barh', ax = ax)\n",
    "ax.grid()"
   ]
  },
  {
   "cell_type": "code",
   "execution_count": null,
   "metadata": {},
   "outputs": [],
   "source": []
  }
 ],
 "metadata": {
  "kernelspec": {
   "display_name": "Python 3",
   "language": "python",
   "name": "python3"
  },
  "language_info": {
   "codemirror_mode": {
    "name": "ipython",
    "version": 3
   },
   "file_extension": ".py",
   "mimetype": "text/x-python",
   "name": "python",
   "nbconvert_exporter": "python",
   "pygments_lexer": "ipython3",
   "version": "3.8.5"
  }
 },
 "nbformat": 4,
 "nbformat_minor": 4
}
